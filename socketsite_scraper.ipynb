{
 "cells": [
  {
   "cell_type": "code",
   "execution_count": 1,
   "metadata": {
    "collapsed": false
   },
   "outputs": [],
   "source": [
    "from urllib.request import urlopen\n",
    "from urllib.parse import quote\n",
    "from lxml import etree\n",
    "from urllib.error import HTTPError\n",
    "\n",
    "faulty_urls = list()\n",
    "\n",
    "import json\n",
    "import csv\n",
    "import pickle\n",
    "\n",
    "dir_ = r\"C:\\Users\\Broccoli\\Documents\\Bayes Hack\""
   ]
  },
  {
   "cell_type": "code",
   "execution_count": 2,
   "metadata": {
    "collapsed": true
   },
   "outputs": [],
   "source": [
    "def parse_search_page(address):\n",
    "    response = urlopen(\"http://www.socketsite.com/?s=\" + '+'.join(address.split(' ')))\n",
    "    htmlparser = etree.HTMLParser()\n",
    "    response = etree.parse(response, htmlparser)\n",
    "\n",
    "    links = response.xpath('//h3[@class=\"list-heading-tight\"]/a/@href')\n",
    "    titles = response.xpath('//h3[@class=\"list-heading-tight\"]/a/text()')\n",
    "    excerpts = response.xpath('//p[@class=\"excerpt\"]/text()')\n",
    "    \n",
    "    for i in range(0, len(links)):\n",
    "        article = {'link':links[i], 'title': titles[i], 'excerpt': excerpts[i]}\n",
    "        check_address = ''.join([s for s in address if not s.isdigit()]).strip()\n",
    "        if check_address in article['title'].lower() or check_address in article['excerpt'].lower():\n",
    "            yield article['link']"
   ]
  },
  {
   "cell_type": "code",
   "execution_count": 3,
   "metadata": {
    "collapsed": false
   },
   "outputs": [],
   "source": [
    "def parse_article_page(link):\n",
    "    response = urlopen(link)\n",
    "    htmlparser = etree.HTMLParser()\n",
    "    response = etree.parse(response, htmlparser)\n",
    "    \n",
    "    date = response.xpath('//small[@class=\"staff-subtitle muted\"]/text()')\n",
    "    article = ''.join(response.xpath('//div[@class=\"article_content\"]//text()')).strip()\n",
    "    comments = response.xpath('//div[@class=\"comment-content\"]/p/text()')\n",
    "\n",
    "    return {'date': date, 'article': article, 'comments': comments}"
   ]
  },
  {
   "cell_type": "code",
   "execution_count": 10,
   "metadata": {
    "collapsed": false
   },
   "outputs": [
    {
     "name": "stdout",
     "output_type": "stream",
     "text": [
      "ERROR! Unrecognized input\n"
     ]
    }
   ],
   "source": [
    "output = {}\n",
    "#start, stop = (1000,1500)\n",
    "\n",
    "development_pipeline_file = r'\\San_Francisco_Development_Pipeline_2014_Quarter_4.csv'\n",
    "housing_inventory_2014_file = r'\\housing_inventory_2014.csv'\n",
    "housing_inventory_2013_file = r'\\housing_inventory_2013.csv'\n",
    "housing_inventory_2012_file = r'\\housing_inventory_2012.csv'\n",
    "housing_inventory_2011_file = r'\\housing_inventory_2011.csv'\n",
    "\n",
    "with open(dir_ + housing_inventory_2011_file) as csvfile:\n",
    "    reader = csv.DictReader(csvfile)\n",
    "    row_range = range(start,stop); row_count = 0\n",
    "    \n",
    "    for row in reader:\n",
    "        row_count += 1\n",
    "#        if row_count < min(row_range): continue\n",
    "#        if row_count > max(row_range): break\n",
    "        if \"ST_NAME\" in row: address = ' '.join([row[\"ST_NUM\"], row[\"ST_NAME\"], row[\"ST_TYPE\"]]).lower()\n",
    "        elif \"NAMEADDR\" in row: address = row['NAMEADDR'].lower()\n",
    "        elif \"STDADDRESS\" in row: address = row[\"STDADDRESS\"].lower()\n",
    "        else: print('ERROR! Unrecognized input'); break\n",
    "        \n",
    "        articles = []\n",
    "        for link in parse_search_page(address):\n",
    "            articles.append(parse_article_page(link))\n",
    "        \n",
    "        output.update({address:articles})\n",
    "\n",
    "pickle.dump(output, open(dir_ + r\"\\housing_inventory_2011_comments.pkl\", \"wb\")) #%i_%i.pkl\" % (start, stop), \"wb\"))"
   ]
  }
 ],
 "metadata": {
  "kernelspec": {
   "display_name": "Python 3",
   "language": "python",
   "name": "python3"
  },
  "language_info": {
   "codemirror_mode": {
    "name": "ipython",
    "version": 3
   },
   "file_extension": ".py",
   "mimetype": "text/x-python",
   "name": "python",
   "nbconvert_exporter": "python",
   "pygments_lexer": "ipython3",
   "version": "3.5.1"
  }
 },
 "nbformat": 4,
 "nbformat_minor": 0
}
