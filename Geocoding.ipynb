{
 "cells": [
  {
   "cell_type": "code",
   "execution_count": null,
   "metadata": {
    "collapsed": false
   },
   "outputs": [],
   "source": [
    "import geocoder\n",
    "g = geocoder.google('San Francisco, CA')\n",
    "g.latlng"
   ]
  },
  {
   "cell_type": "code",
   "execution_count": null,
   "metadata": {
    "collapsed": false
   },
   "outputs": [],
   "source": [
    "import csv\n",
    "\n",
    "addresses = []\n",
    "with open('data/2012_Housing_Inventory.csv', 'r') as csvfile:\n",
    "    inventory = csv.reader(csvfile)\n",
    "    for row in inventory:\n",
    "        addresses.append(row[0])\n",
    "        \n",
    "addresses = addresses[1:]\n",
    "    \n",
    "print addresses[0] + \" San Francisco, CA\"\n",
    "\n",
    "for address in addresses[0:5]:\n",
    "    g = geocoder.google(address + \" San Francisco, CA\")\n",
    "    print address\n",
    "    print g.latlng"
   ]
  },
  {
   "cell_type": "code",
   "execution_count": null,
   "metadata": {
    "collapsed": false
   },
   "outputs": [],
   "source": [
    "import csv\n",
    "\n",
    "addresses = []\n",
    "with open('data/2012_Housing_Inventory.csv', 'r') as csvfile:\n",
    "    with open('test.csv', 'w') as csv_out:\n",
    "        writer = csv.writer(csv_out, lineterminator='\\n')\n",
    "        inventory = csv.reader(csvfile)\n",
    "        data = []\n",
    "        \n",
    "        # Append LAT_LNG column to CSV file\n",
    "        header = inventory.next()\n",
    "        header.append(\"LAT_LNG\")\n",
    "        data.append(header)\n",
    "        \n",
    "        # Look up lat,lng coordinates\n",
    "        for row in inventory:\n",
    "            address = row[0] + \" San Francisco, CA\"\n",
    "            g = geocoder.google(address)\n",
    "            print address\n",
    "            print g.latlng\n",
    "            row.append(g.latlng)\n",
    "            data.append(row)\n",
    "        \n",
    "        writer.writerows(data)"
   ]
  }
 ],
 "metadata": {
  "kernelspec": {
   "display_name": "Python 2",
   "language": "python",
   "name": "python2"
  },
  "language_info": {
   "codemirror_mode": {
    "name": "ipython",
    "version": 2
   },
   "file_extension": ".py",
   "mimetype": "text/x-python",
   "name": "python",
   "nbconvert_exporter": "python",
   "pygments_lexer": "ipython2",
   "version": "2.7.10"
  },
  "widgets": {
   "state": {},
   "version": "1.0.0"
  }
 },
 "nbformat": 4,
 "nbformat_minor": 0
}
