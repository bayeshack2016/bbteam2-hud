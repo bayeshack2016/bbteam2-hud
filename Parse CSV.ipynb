{
 "cells": [
  {
   "cell_type": "code",
   "execution_count": 3,
   "metadata": {
    "collapsed": false
   },
   "outputs": [
    {
     "name": "stdout",
     "output_type": "stream",
     "text": [
      "RE01506,127 CRESCENT AVE,SAN FRANCISCO,CA,9,03/26/1997,false,false,false,false,false,false,false,true,false,false,false,false,false,false,false,false,false,false,,false,,,,\"1 QNAN\n",
      "\n"
     ]
    }
   ],
   "source": [
    "import gzip\n",
    "with gzip.open('data/Eviction_Notices.csv.gz') as f:\n",
    "    file_content = f.readlines()\n",
    "print file_content[3]"
   ]
  }
 ],
 "metadata": {
  "kernelspec": {
   "display_name": "Python 2",
   "language": "python",
   "name": "python2"
  },
  "language_info": {
   "codemirror_mode": {
    "name": "ipython",
    "version": 2
   },
   "file_extension": ".py",
   "mimetype": "text/x-python",
   "name": "python",
   "nbconvert_exporter": "python",
   "pygments_lexer": "ipython2",
   "version": "2.7.10"
  }
 },
 "nbformat": 4,
 "nbformat_minor": 0
}
