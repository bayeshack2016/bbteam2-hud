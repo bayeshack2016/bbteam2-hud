{
 "cells": [
  {
   "cell_type": "code",
   "execution_count": null,
   "metadata": {
    "collapsed": false
   },
   "outputs": [],
   "source": [
    "%matplotlib inline\n",
    "import pandas\n",
    "import numpy as np\n",
    "import ipywidgets\n",
    "import matplotlib\n",
    "import matplotlib.pyplot as plt\n",
    "from matplotlib.colors import LinearSegmentedColormap\n",
    "from IPython.display import display\n",
    "\n",
    "from ipyleaflet import (\n",
    "    Map,\n",
    "    Marker,\n",
    "    TileLayer, ImageOverlay,\n",
    "    Polyline, Polygon, Rectangle, Circle, CircleMarker,\n",
    "    GeoJSON,\n",
    "    DrawControl\n",
    ")"
   ]
  },
  {
   "cell_type": "code",
   "execution_count": null,
   "metadata": {
    "collapsed": false
   },
   "outputs": [],
   "source": [
    "df2011 = pandas.read_csv('data/2011_Housing_Inventory_latlng_zip_zillow.csv')\n",
    "df2012 = pandas.read_csv('data/2012_Housing_Inventory_latlng_zip_zillow.csv')\n",
    "df2013 = pandas.read_csv('data/2013_Housing_Inventory_latlng_zip_zillow.csv')\n",
    "df2014 = pandas.read_csv('data/2014_Housing_Inventory_latlng_zip_zillow.csv')\n",
    "df_map = {2011: df2011, 2012: df2012, 2013: df2013, 2014: df2014}"
   ]
  },
  {
   "cell_type": "code",
   "execution_count": null,
   "metadata": {
    "collapsed": false
   },
   "outputs": [],
   "source": [
    "def normalize_netunits(df):\n",
    "    if 'STDADDRESS' in df:\n",
    "        grouped = df.groupby('STDADDRESS')\n",
    "    else:\n",
    "        grouped = df.groupby('STDADD')\n",
    "        \n",
    "    return grouped.aggregate({'NETUNITS': np.sum, 'LAT_LNG': lambda x: next(iter(x))})"
   ]
  },
  {
   "cell_type": "code",
   "execution_count": null,
   "metadata": {
    "collapsed": false
   },
   "outputs": [],
   "source": [
    "def create_circles_for_df(m, df):\n",
    "    circles = []\n",
    "    normalized_df = df#normalize_netunits(df)\n",
    "    \n",
    "    try:\n",
    "        target = normalized_df.AFF_TARGET\n",
    "    except AttributeError:\n",
    "        target = normalized_df.TARGET\n",
    "    \n",
    "    for netunit, latlng, affhsg, rent, size in zip(normalized_df.NETUNITS, normalized_df.LAT_LNG, target, normalized_df.RENT_ESTIMATE, normalized_df.HOUSE_SIZE):\n",
    "        if latlng == '[]' or netunit == 0:\n",
    "            continue\n",
    "        if np.isnan(rent) or np.isnan(size):\n",
    "            continue\n",
    "\n",
    "        latlng = latlng[1:-1].split(', ')\n",
    "        lat = float(latlng[0])\n",
    "        lng = float(latlng[1])\n",
    "\n",
    "        #if netunit < 0:\n",
    "        #    continue\n",
    "        #color = {\n",
    "        #    'VLI': '#0F0',\n",
    "        #    'LI': '#080',\n",
    "        #    'MOD': '#FF0',\n",
    "        #    'SEC': '#00F',\n",
    "        #}.get(affhsg, '#F00')\n",
    "        #fill_color = color\n",
    "        \n",
    "        #if netunit > 0:\n",
    "        #    g = max(255 - 5*netunit, 40)\n",
    "        #    color = \"#{:0>2x}{:0>2x}{:0>2x}\".format(0, g, 0)\n",
    "        #    fill_color = color\n",
    "        #else:\n",
    "        #    r = max(255 + 5*netunit, 40)\n",
    "        #    color = \"#{:0>2x}{:0>2x}{:0>2x}\".format(r, 0, 0)\n",
    "        #    fill_color = color\n",
    "        \n",
    "        num = rent / size\n",
    "        color = \"#{:0>2x}{:0>2x}{:0>2x}\".format(min(int(num * 50.), 255), 0, 0)\n",
    "        fill_color = color\n",
    "\n",
    "        c = Circle(location=(lat,lng), radius=50, color=color, fill_color=fill_color, opacity=1.0)\n",
    "        circles.append(c)\n",
    "        #m.add_layer(c)\n",
    "        \n",
    "    # add all circles at once. HACK!!\n",
    "    for layer in circles:\n",
    "        layer._map = m\n",
    "    m.layers = tuple([l for l in m.layers] + circles)\n",
    "    for layer in circles:\n",
    "        layer.visible = True\n",
    "        \n",
    "    return circles"
   ]
  },
  {
   "cell_type": "code",
   "execution_count": null,
   "metadata": {
    "collapsed": false
   },
   "outputs": [],
   "source": [
    "circles = []\n",
    "def on_slider_change(w):\n",
    "    global circles\n",
    "    m.layers = tuple([m.layers[0]])\n",
    "    circles = create_circles_for_df(m, df_map[w['new']])\n",
    "    \n",
    "slider = ipywidgets.IntSlider(max=2014, min=2011)\n",
    "slider.observe(on_slider_change, 'value')"
   ]
  },
  {
   "cell_type": "code",
   "execution_count": null,
   "metadata": {
    "collapsed": false
   },
   "outputs": [],
   "source": [
    "center = [37.76284413400416, -122.39490509033203]\n",
    "zoom = 12\n",
    "m = Map(default_tiles=TileLayer(opacity=1.0, url='https://tiles.wmflabs.org/bw-mapnik/{z}/{x}/{y}.png'), center=center, zoom=zoom)\n",
    "create_circles_for_df(m, df2011)\n",
    "display(m)\n",
    "display(slider)"
   ]
  },
  {
   "cell_type": "code",
   "execution_count": null,
   "metadata": {
    "collapsed": false
   },
   "outputs": [],
   "source": [
    "cdict2 = {'red':   ((0.0, 0.0, 0.0),\n",
    "                   (1.0, 1.0, 1.0)),\n",
    "         'green': ((0.0, 0.0, 0.0),\n",
    "                   (1.0, 0.0, 0.0)),\n",
    "         'blue':  ((0.0, 0.0, 0.0),\n",
    "                   (1.0, 0.0, 0.0))}\n",
    "\n",
    "blue_red2 = LinearSegmentedColormap('BlueRed2', cdict2)\n",
    "plt.imshow(np.array([[255/50., 0]]), cmap=blue_red2)\n",
    "plt.colorbar()"
   ]
  },
  {
   "cell_type": "code",
   "execution_count": null,
   "metadata": {
    "collapsed": true
   },
   "outputs": [],
   "source": []
  }
 ],
 "metadata": {
  "kernelspec": {
   "display_name": "Python 2",
   "language": "python",
   "name": "python2"
  },
  "language_info": {
   "codemirror_mode": {
    "name": "ipython",
    "version": 2
   },
   "file_extension": ".py",
   "mimetype": "text/x-python",
   "name": "python",
   "nbconvert_exporter": "python",
   "pygments_lexer": "ipython2",
   "version": "2.7.11"
  },
  "widgets": {
   "state": {
    "02552fc9ba0849dabf1f835b20166ada": {
     "views": []
    },
    "0379d27dd42e447aa95d3b978d18113f": {
     "views": []
    },
    "07b4b7741b13467aa2ea8c43d0b4adc8": {
     "views": []
    },
    "07d46b4f1652432da2d4b6426556fe21": {
     "views": []
    },
    "0991c83381d14d769eb02a01045cd554": {
     "views": []
    },
    "0b882dde0bf84086bc871034e110c2fb": {
     "views": []
    },
    "0ceec9d5fcf14cfea84e6a1f74dff5db": {
     "views": []
    },
    "0f837353a9144389bb4b1ce3de065f81": {
     "views": []
    },
    "12f7105c3efb4c0b90359eadb0427b91": {
     "views": []
    },
    "1734eb54cbbd40aeab818dea193597a3": {
     "views": []
    },
    "19f182be61bb4d1f895a5a23ce22c2d9": {
     "views": []
    },
    "1c384dd97f234530b90dc4291586e96d": {
     "views": []
    },
    "1cad38f60fe64c3a827dadf952a3bdc4": {
     "views": []
    },
    "1d81f993781f42db9951dcc2a6e7d3c7": {
     "views": []
    },
    "1dccdb29657e44068e03c2a67d82690e": {
     "views": []
    },
    "1df03f92a21d414aa6944939edbdbc63": {
     "views": []
    },
    "206beb6b436544e587a3a03f92caba86": {
     "views": []
    },
    "21a6984c6cb24fa58ed01580be0502bb": {
     "views": []
    },
    "22700d426d1d4baab1b899154758987a": {
     "views": []
    },
    "2278f7cfa1bf40b2950217dc15998712": {
     "views": []
    },
    "22cf95ebb1d9445cba12ed63f2a58516": {
     "views": []
    },
    "24af46236bd74deb94078268c6608d05": {
     "views": []
    },
    "26452bb65eac453380020a85e44e3c21": {
     "views": []
    },
    "26c33f3f8b3c41be8247fee568c23861": {
     "views": []
    },
    "2ca73c9042eb47ea8d17ed1444e84cb9": {
     "views": []
    },
    "2d51174ec8554e6582ac5dd49d5a7c77": {
     "views": []
    },
    "2eb566b59d964c78b2e21c99384241b4": {
     "views": []
    },
    "3060dd7bbc1047c4823ffbb431c2d126": {
     "views": []
    },
    "33114f21e07a4f15ab860e0f682d8f32": {
     "views": []
    },
    "33b9ffe6f736401f924073fcecb0e86f": {
     "views": []
    },
    "386e9f92baa6478980bf3891c0cc20d0": {
     "views": []
    },
    "39a980fd51d943a68ec811d485409263": {
     "views": []
    },
    "3e95cac4fc8b45c68cbddedaa9c9cc4f": {
     "views": [
      {
       "cell": {
        "cell_type": "code",
        "execution_count": null,
        "metadata": {
         "collapsed": false,
         "trusted": true
        },
        "outputs": [],
        "source": "center = [37.76284413400416, -122.39490509033203]\nzoom = 12\nm = Map(default_tiles=TileLayer(opacity=1.0, url='https://tiles.wmflabs.org/bw-mapnik/{z}/{x}/{y}.png'), center=center, zoom=zoom)\ncreate_circles_for_df(m, df2011)\ndisplay(m)\ndisplay(slider)"
       },
       "cell_index": 5,
       "root": true
      }
     ]
    },
    "4192430cf7324f6a945b0185aceed163": {
     "views": []
    },
    "433c84131d5d4d47a9d36cfc55062e8c": {
     "views": []
    },
    "44ef153d28244a2b98405bf769746fc6": {
     "views": []
    },
    "4c0625bba00345ec94e6b9d7e2bd359f": {
     "views": []
    },
    "4f0de6f986d6434888d5dab187e3dffe": {
     "views": []
    },
    "4f6193a1ee3e414186f9660291281788": {
     "views": []
    },
    "50beb8dbbe65451c8af12467a883f6ec": {
     "views": []
    },
    "51de02282cc941788b5d9b4d4197b8f8": {
     "views": []
    },
    "53aa96b0506a4d17be5b37793a89c017": {
     "views": []
    },
    "547581fe5a2d43afa2e2751b89ed0a0b": {
     "views": []
    },
    "569abd92de3e4c4197d4e428295a0bdd": {
     "views": []
    },
    "574af4d2342f46b988041479e914513e": {
     "views": []
    },
    "57770dba2279428e869a912a380f2cd9": {
     "views": []
    },
    "581abca817e7429a9603b033da44a5d1": {
     "views": []
    },
    "5879c1aab2fc41e5a8e70faec56bef3d": {
     "views": []
    },
    "58f5db333f8f4a1bb304e3056df1ff40": {
     "views": []
    },
    "5987d6b516a042afbea5868129f96db9": {
     "views": []
    },
    "5a5c7137c29f4f109587f064272aa454": {
     "views": []
    },
    "62581199a8744fdda0bcea9d3f4c60bc": {
     "views": []
    },
    "62d1fd9c43da422f8edb96a41f8e0c94": {
     "views": []
    },
    "64f687d75ed144ac8d85b40228e7154b": {
     "views": []
    },
    "6716711ce9fc426ab4977f8bcbb5d9bf": {
     "views": []
    },
    "692fc2842d3444fe8913ffb74955b77a": {
     "views": []
    },
    "6a9dfd911c1a411a8268ef1c199c08b9": {
     "views": []
    },
    "6f94d719b3b34e9e912eee58c32da000": {
     "views": []
    },
    "727b22bd823043438a172e4438a74d12": {
     "views": [
      {
       "cell": {
        "cell_type": "code",
        "execution_count": null,
        "metadata": {
         "collapsed": false,
         "trusted": true
        },
        "outputs": [],
        "source": "center = [37.76284413400416, -122.39490509033203]\nzoom = 12\nm = Map(default_tiles=TileLayer(opacity=1.0, url='https://tiles.wmflabs.org/bw-mapnik/{z}/{x}/{y}.png'), center=center, zoom=zoom)\ncreate_circles_for_df(m, df2011)\ndisplay(m)\ndisplay(slider)"
       },
       "cell_index": 5,
       "root": true
      }
     ]
    },
    "7316e1dec2c24aa0ba2212568fcfeb41": {
     "views": []
    },
    "7338fe03d75b4c62a3df3e405c9c35cc": {
     "views": []
    },
    "73db4dd62a304016ac79a4b3dda39e90": {
     "views": []
    },
    "76ff49e75f444511b9cb17ca7542fc5c": {
     "views": []
    },
    "7859a22079da413da8cb702fdfc25b6b": {
     "views": []
    },
    "7c15c0278b5b4f2fa810368c9ef658a5": {
     "views": []
    },
    "7d8ce70e3d8d4673b5171fecd9f0aa0a": {
     "views": []
    },
    "7fd80b83d67c4522abf9c6d6bc016750": {
     "views": []
    },
    "80a4e12602f94d749d33164f3183a84c": {
     "views": []
    },
    "8210602e0dd849f89e15bb2c85aa526f": {
     "views": []
    },
    "88212bd425384a489d0e690b09d61be0": {
     "views": []
    },
    "8f28dcaab7744df2b0eefd409544feaa": {
     "views": []
    },
    "923703ffbbe140678c67b465eed34ed6": {
     "views": []
    },
    "9651f06e94834ef9b7069672b44c2d07": {
     "views": []
    },
    "96dc7134f6b849feab914a2f6e65f4ed": {
     "views": []
    },
    "977ed550d2fe4c829e7675184d11e02f": {
     "views": []
    },
    "98a44a062ff2475dae92446c85dcb9c1": {
     "views": []
    },
    "9a7eb7dfd78c4b569ded9cf6144dcebe": {
     "views": []
    },
    "a0f8db3e5a6c4e45abc0f28c0696354a": {
     "views": []
    },
    "a16bccd45f3447e3a0a1727b8d242483": {
     "views": []
    },
    "a1e961ed9141419bad643a96dda28340": {
     "views": []
    },
    "a27d2b6af02e4b1c8ac7a3f717578d4c": {
     "views": []
    },
    "a7098dfa39b640a2a7fd7808b4c57639": {
     "views": []
    },
    "a7ab016ea0ea4826989d8d4ce397e7ee": {
     "views": []
    },
    "a907dd7b2f7d495aaf03677295b39ad2": {
     "views": []
    },
    "a92672aa523849f082badbf768e65b9f": {
     "views": []
    },
    "ab20353e287a4c04873319f88be61407": {
     "views": []
    },
    "afafd375fad54826bce56d5a9cb8a994": {
     "views": []
    },
    "b5661e3f80bd4e4c932f190e3641a2bb": {
     "views": []
    },
    "bac765646fd8414f98f982a43e7af9d5": {
     "views": []
    },
    "c17dd69ab49b4eaeae8d2a4b0249fffb": {
     "views": []
    },
    "c1a31fbb0cfa4e21907c23c43a6c2506": {
     "views": []
    },
    "c1e7ff4f81584c4f92cf6f90762bdb99": {
     "views": []
    },
    "c2cbba1adb08419a8e5bb91db561b3ed": {
     "views": []
    },
    "c87ac0c151ba437e87b3545702cb00f8": {
     "views": []
    },
    "cac8f26bce4f4dcf896804edd630663d": {
     "views": []
    },
    "cf4870b12a59473e9a091aa49ca48632": {
     "views": []
    },
    "cf6b711390094ffca37774f13841b166": {
     "views": []
    },
    "d1d23caa8b8e4dfe9d7881e41787a04c": {
     "views": []
    },
    "d24f4ac9c15a47629e7b0db5340c9b2f": {
     "views": []
    },
    "d26f1329366d4db3967780fee74fe564": {
     "views": []
    },
    "d2a6ba9a10c24b5e84d25844302c07e8": {
     "views": []
    },
    "d3d1df0730f648dc8e22ded2fc82b7ea": {
     "views": []
    },
    "dcae616ae87443afbfd6aa48d180f535": {
     "views": []
    },
    "de3ddac53b384d5ca88145c902d5ee93": {
     "views": []
    },
    "df051c3a6312475994ebcf559bba7902": {
     "views": []
    },
    "dfb92e26aafd4a99964bb1043ce9a978": {
     "views": []
    },
    "e423250126e745a3acd2813c4d964e23": {
     "views": []
    },
    "e6e061f7a13f4df6a48dca8b0140e3d9": {
     "views": []
    },
    "e6fd339fd4ed4457a5e9ea28c051d68c": {
     "views": []
    },
    "e803be71d845430689a411ab44ebff18": {
     "views": []
    },
    "ecdb765ba8b04b0b97050a3ff4bc3263": {
     "views": []
    },
    "efabf4cd5eda4547b067b3a4b91abb2b": {
     "views": []
    },
    "f0014deb93c8402f8deb542e4b276f1f": {
     "views": []
    },
    "f0bc66d131ee4280b394e852f9246ff9": {
     "views": []
    },
    "f0d6568eb79e4e16aec78cd887456ce8": {
     "views": []
    },
    "f50c01885f9142a49739772dd6d38e73": {
     "views": []
    },
    "f60e0eb6716244beab5380ddffe3d363": {
     "views": []
    },
    "f777b75f259c483997f14f4c149bfc58": {
     "views": []
    },
    "f7df1e4a3fba4d7693b306272f0ab79f": {
     "views": []
    },
    "fdfd9e18a94948fb81f4e721224c207d": {
     "views": []
    },
    "fdfea29acfd34759886ef0ace6d14384": {
     "views": []
    }
   },
   "version": "1.0.0"
  }
 },
 "nbformat": 4,
 "nbformat_minor": 0
}
