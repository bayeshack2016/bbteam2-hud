{
 "cells": [
  {
   "cell_type": "code",
   "execution_count": null,
   "metadata": {
    "collapsed": false
   },
   "outputs": [],
   "source": [
    "import pandas\n",
    "import numpy as np\n",
    "import ipywidgets\n",
    "import pickle\n",
    "from IPython.display import display\n",
    "from ipywidgets import VBox, HBox, Button\n",
    "\n",
    "from ipyleaflet import (\n",
    "    Map,\n",
    "    Marker,\n",
    "    TileLayer, ImageOverlay,\n",
    "    Polyline, Polygon, Rectangle, Circle, CircleMarker,\n",
    "    GeoJSON,\n",
    "    DrawControl\n",
    ")\n",
    "\n",
    "TOPICS = [\n",
    "    \"Crime\",\n",
    "    \"Parking\",\n",
    "    \"Transit\",\n",
    "    \"Homelessness\",\n",
    "    \"Schools\",\n",
    "    \"Environment\",\n",
    "    \"Affordability\",\n",
    "    \"Development\",\n",
    "    \"Density\",\n",
    "    \"Politics\",\n",
    "    \"Gentrification\",\n",
    "]"
   ]
  },
  {
   "cell_type": "code",
   "execution_count": null,
   "metadata": {
    "collapsed": false
   },
   "outputs": [],
   "source": [
    "df2011 = pandas.read_csv('data/2011_Housing_Inventory_latlng_zip.csv')\n",
    "df2012 = pandas.read_csv('data/2012_Housing_Inventory_latlng.csv')\n",
    "df2013 = pandas.read_csv('data/2013_Housing_Inventory_latlng.csv')\n",
    "df2014 = pandas.read_csv('data/2014_Housing_Inventory_latlng.csv')\n",
    "df_map = {2011: df2011, 2012: df2012, 2013: df2013, 2014: df2014}"
   ]
  },
  {
   "cell_type": "code",
   "execution_count": null,
   "metadata": {
    "collapsed": false
   },
   "outputs": [],
   "source": [
    "datasets = [(df2011, 'STRDADDRESS'), (df2012, 'STDADDRESS'), (df2013, 'STDADDRESS'), (df2014, 'STDADD')]\n",
    "latlon_lookup = dict()\n",
    "\n",
    "for dataset, addcol in datasets:\n",
    "    for addr, latlon in zip(dataset[addcol], dataset.LAT_LNG):\n",
    "        if latlon == '[]':\n",
    "            continue\n",
    "            \n",
    "        latlng = latlon[1:-1].split(', ')\n",
    "        lat = float(latlng[0])\n",
    "        lng = float(latlng[1])\n",
    "        latlon_lookup[addr.lower()] = (lat, lng)"
   ]
  },
  {
   "cell_type": "code",
   "execution_count": null,
   "metadata": {
    "collapsed": false
   },
   "outputs": [],
   "source": [
    "topics_data = pickle.load(open('data/topics_data.pkl', 'rb'))"
   ]
  },
  {
   "cell_type": "code",
   "execution_count": null,
   "metadata": {
    "collapsed": false
   },
   "outputs": [],
   "source": [
    "def create_circles_for_topic(m, data, topic):\n",
    "    circles = []\n",
    "    \n",
    "    for address, adddata in data.items():\n",
    "        if address.lower() not in latlon_lookup:\n",
    "            continue\n",
    "        if isinstance(adddata['topic'], int) and adddata['topic'] == 0:\n",
    "            continue\n",
    "            \n",
    "        lat, lon = latlon_lookup[address.lower()]\n",
    "        if sum(adddata['topic']) == 0:\n",
    "            topic_score = float(adddata['topic'][topic])\n",
    "        else:\n",
    "            topic_score = float(adddata['topic'][topic]) / sum(adddata['topic'])\n",
    "        \n",
    "        g = min(int(topic_score*255*5), 255)\n",
    "        color = \"#{:0>2x}{:0>2x}{:0>2x}\".format(g, g, 0)\n",
    "        fill_color = color\n",
    "\n",
    "        c = Circle(location=(lat,lon), radius=50, color=color, fill_color=fill_color, opacity=1.0)\n",
    "        circles.append(c)\n",
    "        \n",
    "    # add all circles at once. HACK!!\n",
    "    for layer in circles:\n",
    "        layer._map = m\n",
    "    m.layers = tuple([l for l in m.layers] + circles)\n",
    "    for layer in circles:\n",
    "        layer.visible = True\n",
    "        \n",
    "    return circles"
   ]
  },
  {
   "cell_type": "code",
   "execution_count": null,
   "metadata": {
    "collapsed": true
   },
   "outputs": [],
   "source": [
    "def on_slider_change(w, x):\n",
    "    print x\n",
    "    global circles\n",
    "    m.layers = tuple([m.layers[0]])\n",
    "    circles = create_circles_for_topic(m, topics_data, x)"
   ]
  },
  {
   "cell_type": "code",
   "execution_count": null,
   "metadata": {
    "collapsed": false
   },
   "outputs": [],
   "source": [
    "center = [37.76284413400416, -122.39490509033203]\n",
    "zoom = 12\n",
    "m = Map(default_tiles=TileLayer(opacity=1.0, url='https://tiles.wmflabs.org/bw-mapnik/{z}/{x}/{y}.png'), center=center, zoom=zoom)\n",
    "create_circles_for_topic(m, topics_data, 0)\n",
    "display(m)\n",
    "buttons = [Button(description=x) for x in TOPICS]\n",
    "indices = [range(len(buttons))]\n",
    "\n",
    "buttons[0].on_click(lambda x: on_slider_change(x, 0))\n",
    "buttons[1].on_click(lambda x: on_slider_change(x, 1))\n",
    "buttons[2].on_click(lambda x: on_slider_change(x, 2))\n",
    "buttons[3].on_click(lambda x: on_slider_change(x, 3))\n",
    "buttons[4].on_click(lambda x: on_slider_change(x, 4))\n",
    "buttons[5].on_click(lambda x: on_slider_change(x, 5))\n",
    "buttons[6].on_click(lambda x: on_slider_change(x, 6))\n",
    "buttons[7].on_click(lambda x: on_slider_change(x, 7))\n",
    "buttons[8].on_click(lambda x: on_slider_change(x, 8))\n",
    "buttons[9].on_click(lambda x: on_slider_change(x, 9))\n",
    "buttons[10].on_click(lambda x: on_slider_change(x, 10))\n",
    "\n",
    "VBox([HBox(buttons[:6]), HBox(buttons[6:])])"
   ]
  }
 ],
 "metadata": {
  "kernelspec": {
   "display_name": "Python 2",
   "language": "python",
   "name": "python2"
  },
  "language_info": {
   "codemirror_mode": {
    "name": "ipython",
    "version": 2
   },
   "file_extension": ".py",
   "mimetype": "text/x-python",
   "name": "python",
   "nbconvert_exporter": "python",
   "pygments_lexer": "ipython2",
   "version": "2.7.11"
  },
  "widgets": {
   "state": {
    "000f5db905a14dbebf052d03ad76e895": {
     "views": []
    },
    "0014268ee4f7480d9faa3965aba17f22": {
     "views": []
    },
    "0014df66c9d442d0be4d4fe2c7df3f9a": {
     "views": []
    },
    "0029a8eb0ecf446780a5ad432bd20ea1": {
     "views": []
    },
    "002a0a4903714adaa5d43cf17ded0861": {
     "views": []
    },
    "00361784380f4a9a87e16fd27e5f87e8": {
     "views": []
    },
    "007836e768174e1d830aa8280386d729": {
     "views": []
    },
    "009242dad21b454ea066bc0596709ebe": {
     "views": []
    },
    "009bb7da744b4f4293152559e39558c0": {
     "views": []
    },
    "00d9626097b743a3b4683b28d76ee19e": {
     "views": []
    },
    "00ec5d87e4bc4844ac58f2d1bf20f1bd": {
     "views": []
    },
    "00fc0d85ea4d409084f6755d1d13ebd8": {
     "views": []
    },
    "0118862702f84b8fa6a77d7d7ed58985": {
     "views": []
    },
    "011ea5a489f44052bf60eb6505aaa5dc": {
     "views": []
    },
    "01282705dca242a8a931e083adeca355": {
     "views": []
    },
    "016f3606f9f344c192d1f355bb7366df": {
     "views": []
    },
    "01877a193e8d463d9d7ed2bd05bd0ad2": {
     "views": []
    },
    "01a111b8306d489bb7098e23df11ed9c": {
     "views": []
    },
    "01a806aadd38405f9d66f18bcbc1c7d5": {
     "views": []
    },
    "01c67179e15a4f3f9d9943dcd4b22f1a": {
     "views": []
    },
    "01c77b5a69304d5c9f568296fcb87ef9": {
     "views": []
    },
    "01e74671f6d0408485a58da08741a638": {
     "views": []
    },
    "01ecd72941c14d168fd147dc42c43418": {
     "views": []
    },
    "01edee96f1094a738ab2d85326c84796": {
     "views": []
    },
    "01fbc8f16f44467ca70bd79b3c73878e": {
     "views": []
    },
    "020118fb77ff45eba68ccde06fa42da0": {
     "views": []
    },
    "020d7825fef34b0cb0c1daddb91f9211": {
     "views": []
    },
    "02285026c4b84f06bb01043765778d49": {
     "views": []
    },
    "023382735b9a455f8d40e91357719e87": {
     "views": []
    },
    "0239be078b0d4178980c1215d805b5cd": {
     "views": []
    },
    "025f1d64751241ed811a9b838e603dab": {
     "views": []
    },
    "0271c523049f466182a404fc39566f51": {
     "views": []
    },
    "0274649b0b8e483198e5ba2dc7d3a264": {
     "views": []
    },
    "0277d35e598845fd8677c4b5eccbf944": {
     "views": []
    },
    "027aabe58d5e47c1a45b25fe4afc8167": {
     "views": []
    },
    "02856d47962e4307b52bc768083d9a0d": {
     "views": []
    },
    "02997ae133a0430d8190f456d66f340e": {
     "views": []
    },
    "029aa669a0d64737b4e446566585a6f8": {
     "views": []
    },
    "02a5511614694748b93d06d0b5788f6f": {
     "views": []
    },
    "02abfab168314f79ac136d111ff5a941": {
     "views": []
    },
    "02b92224bc95442689e6d087f884e4df": {
     "views": []
    },
    "02bd8f6a123740a6828ddb413fd2e962": {
     "views": []
    },
    "02bdcf52c7f44ae3876e3a49b3eae9ce": {
     "views": []
    },
    "02bfe1f6c5b14980bf648339305fb6bd": {
     "views": []
    },
    "02c072616d9e4d139fade1e0a5f30a4a": {
     "views": []
    },
    "02ca6db509ff4c7bafd21a6a3ad64425": {
     "views": []
    },
    "02cbe68156654ca9818212c1a77464bf": {
     "views": []
    },
    "02cdf5257467409d98cc12a5efd712ad": {
     "views": []
    },
    "02d3a6a7220e4f5399b1578b0636568c": {
     "views": []
    },
    "03211faf753146babc7dcbdb084a56eb": {
     "views": []
    },
    "034747707a124245a6977f0c6e466a88": {
     "views": []
    },
    "035519d8ac904987a2e935aa729d8d47": {
     "views": []
    },
    "035542606c5a43029015497c323e14cb": {
     "views": []
    },
    "035e3789f7d04c1ca24f3af020c1ba4e": {
     "views": []
    },
    "035ebd76035e4123aef6e18956ceee13": {
     "views": []
    },
    "035f14c2567f480a835d66515b181f6f": {
     "views": []
    },
    "036f00da9ccb419d98b373088cc092bb": {
     "views": []
    },
    "0398808bd86d4939a6f780251c6032da": {
     "views": []
    },
    "03a197a3f33d41cf99fd7a9b7522feac": {
     "views": []
    },
    "03b1e2b15e6f414f9fededa2493d25fa": {
     "views": []
    },
    "03b669eff0224329849758f9057a00e7": {
     "views": []
    },
    "03b7a28738f4483c835056b969a2df0c": {
     "views": []
    },
    "03c282fe1d1a41eca6a5ca2391170031": {
     "views": []
    },
    "03c5ac8be1ef4bffb56edaf87fb3ffdf": {
     "views": []
    },
    "03e324f32bea4d43b2650191def0572a": {
     "views": []
    },
    "03ef81443f2f43d087b21c006dd388c3": {
     "views": []
    },
    "03f4608f620847108361f158c45b2b06": {
     "views": []
    },
    "041fc691c2e64ea2b7b3a99ecf6187c4": {
     "views": []
    },
    "04234d29aabc4a2ba3646208336bb29d": {
     "views": []
    },
    "043d55fa410a458bb2b5f21cc45753a9": {
     "views": []
    },
    "0452bf30bec740f8bbd78ca83356762f": {
     "views": []
    },
    "047b4ab0ac774bd184cabd000f459d4a": {
     "views": []
    },
    "04896b9d6507494b95b98998c0d94be0": {
     "views": []
    },
    "04896ca638964315825d8c7557ea045f": {
     "views": []
    },
    "04935b740aff425ab9e1bfa7cb5b4472": {
     "views": []
    },
    "0494c95177c34814a4432f3781063aa5": {
     "views": []
    },
    "049bfba223ef4aacac082ea89953011a": {
     "views": []
    },
    "049cbe6640544d6ba567d3a2c69f6bae": {
     "views": []
    },
    "04ad58b7f67149b494e098cddc4b3de2": {
     "views": []
    },
    "04b84c1cee864b9286c29484eddcbd61": {
     "views": []
    },
    "04c10779c8674ba293566b6b603f4a85": {
     "views": []
    },
    "04c2afc191f14b7da8e1668131a4a279": {
     "views": []
    },
    "04c681c541a241fdbeafd903805e3dd4": {
     "views": []
    },
    "04df1d0ede1c4ffca26005764f17b646": {
     "views": []
    },
    "04e13e6a38bc4b4bbb3d3c562c5c7895": {
     "views": []
    },
    "04ec7a9b817349a6b09eb4127730ddac": {
     "views": []
    },
    "04ef44d667d94e988ae15e93c422fcb4": {
     "views": []
    },
    "04f0874773214283bb268de88b2f6871": {
     "views": []
    },
    "04fbaaa857f24424b20765ec01fa7d2b": {
     "views": []
    },
    "0500b8e81d6643bbaee500ef103047c1": {
     "views": []
    },
    "050cb625a0ef42099f99ef0c063db1b8": {
     "views": []
    },
    "052e1ea7963b4e52b6e873e10387e351": {
     "views": []
    },
    "0530a317afb940eb9d1184d94b8a3302": {
     "views": []
    },
    "05446d9f81a74c77aff4023e73b2b442": {
     "views": []
    },
    "0554c49468f74f1eafd9c40048fff99b": {
     "views": []
    },
    "055b9b960004493081691b69c310709c": {
     "views": []
    },
    "05699a87b86a446a8df551877d9de755": {
     "views": []
    },
    "056c0267e3864872ba5b1495f3c6aaa8": {
     "views": []
    },
    "059274fecf9f4e52acff69fbbb68a8eb": {
     "views": []
    },
    "059c1570b6724d02a8622ef7d51de6f6": {
     "views": []
    },
    "05b190fd7516482fb7a3b7479c0522cb": {
     "views": []
    },
    "05b28188d0a54b5cac2e7c43bc7f658c": {
     "views": []
    },
    "05bcb22197e1462a8656d9202bdb6254": {
     "views": []
    },
    "05c8163c2e5f4443b4d222fe50f07ecc": {
     "views": []
    },
    "05cf7893886443c3be22db23388f2856": {
     "views": []
    },
    "05e92b4a65824b8ea3d85812b264f07e": {
     "views": []
    },
    "05f291100d7c4b5299fa509ef7f285f9": {
     "views": []
    },
    "0601661c2ce94a1b90fd12529abc83b4": {
     "views": []
    },
    "060f106230054e42ba9caa82e0095de2": {
     "views": []
    },
    "0622898275fc4d359a1c85574db9a3ee": {
     "views": []
    },
    "06254904ca084676bfff6d9b29cb948f": {
     "views": []
    },
    "064a01b8d5504cc6a301218b1b612560": {
     "views": []
    },
    "0658bbaaa5c542ecb976260f119630e1": {
     "views": []
    },
    "0689f37c0e7d4765aacb586a09ff8a21": {
     "views": []
    },
    "0695e8464ad34b7c8e65a8c91f1eefa2": {
     "views": []
    },
    "06a138a29e9d4c69aa5146eb5980cf58": {
     "views": []
    },
    "06a1f6c428944c44ace1ad2a525ab912": {
     "views": []
    },
    "06a85a367bd24195ac8ec122cb5d3088": {
     "views": []
    },
    "06aab25781a441a3a9fedb92fbe4edbb": {
     "views": []
    },
    "06b3880ee07546c69a9e82898e35759f": {
     "views": []
    },
    "06da682cb02a42679bc615f715faed6f": {
     "views": []
    },
    "06dbbbf56a21491daf09590286289d47": {
     "views": []
    },
    "06e6d3ef8cf740538a8ce997cc1d12a9": {
     "views": []
    },
    "06f713489a7d4060a61e9b08e56b99e2": {
     "views": []
    },
    "070887e0d3754545ad145ce8ba13c1c0": {
     "views": []
    },
    "070c892ef3174e62bf93ed304f40d294": {
     "views": []
    },
    "070e7ba536b740e59f3a6a20c87e5216": {
     "views": []
    },
    "071089a92c8241bca40b933b10c15157": {
     "views": []
    },
    "0714ce615647488d8c2699831061570f": {
     "views": []
    },
    "0727c812943f4abc8d7e6bca82d8dbae": {
     "views": []
    },
    "072bb0bb4b5d4bb78f8375c22f04f7d6": {
     "views": []
    },
    "07371b0b0407488ba058f7c51a1e8447": {
     "views": []
    },
    "073adf427ef04288995baba2ba366f2f": {
     "views": []
    },
    "073e08a556644cd4acac99bbbec660bf": {
     "views": []
    },
    "074a154d6eff4f75ab6999f57cb81c97": {
     "views": []
    },
    "075ab9a32e5541939b555b3657db54e4": {
     "views": []
    },
    "077e200d12d042f2ba1e1d042bd03638": {
     "views": []
    },
    "0784f45278054811801e5b2c707751e0": {
     "views": []
    },
    "0786568afff0463ab29664a0a08611e8": {
     "views": []
    },
    "07905aff4cc44c60a06855cb24dffc0b": {
     "views": []
    },
    "0790912f21ad4662aa20ce381380cf0d": {
     "views": []
    },
    "07a241b3e6f64409a95c24a88e80f8f6": {
     "views": []
    },
    "07b6eb2454f6445bb66ce1e97f23509d": {
     "views": []
    },
    "07dafed162604e4b9528a5afec73ccfe": {
     "views": []
    },
    "07e95562efeb41228a4d3a92c0193001": {
     "views": []
    },
    "07f04e9310af4a239901c8c6e8ccabd7": {
     "views": []
    },
    "07f6447785254a9799892809f541c9cb": {
     "views": []
    },
    "0820b1815be04bcdb94fa036b7665fcf": {
     "views": []
    },
    "084e3206d10b44ebbda054134f1e854e": {
     "views": []
    },
    "087120bfc5054f1591aaccfea815daac": {
     "views": []
    },
    "088488ff51e74d51a627422fc5589023": {
     "views": []
    },
    "0884c0de7573443cb55bfec5be83e5c4": {
     "views": []
    },
    "0888e895e3b844a9b52b3426c8c48984": {
     "views": []
    },
    "0896b5b0a7244c71b736212822d865fb": {
     "views": []
    },
    "08972914370c4f338ea6e4707aa46ebb": {
     "views": []
    },
    "08a90b0441b040fa918a6e436fb9d626": {
     "views": []
    },
    "08aeacf1d02049b2a84575244e3fba4c": {
     "views": []
    },
    "08c9ced849f04931a581ba77a123af52": {
     "views": []
    },
    "08d197ac84844f74846536beddd205a7": {
     "views": []
    },
    "08dace9b4e2a472cade33271e0a6b9bb": {
     "views": []
    },
    "08e23449ca1143e1bdf36a29221e7265": {
     "views": []
    },
    "0901b949fe944a2d8bf20314a105ad93": {
     "views": []
    },
    "092c4c07cc3f4ccfad1668346417472e": {
     "views": []
    },
    "093877a865744e1bbfd474562b672e81": {
     "views": []
    },
    "093c406bd96b4623b91f996ea3767de9": {
     "views": []
    },
    "09456154b9314137899370325628571d": {
     "views": []
    },
    "0949bd8dba7f4bc58442bf1905ec389a": {
     "views": []
    },
    "094b233341dc49fd96ba1b2d62680fd7": {
     "views": []
    },
    "094bb2d3d4d548cdb3e22b17d4470b78": {
     "views": []
    },
    "094d3887bd5046b99b5c390133bb935c": {
     "views": []
    },
    "0951c57632054eb4b0ff8ee0176b4584": {
     "views": []
    },
    "0956ffe825c349b9b969beb2c4ec7713": {
     "views": []
    },
    "0957e972706544a092985160cbcbec53": {
     "views": []
    },
    "097edb20bab740a0a351957ab6a7c207": {
     "views": []
    },
    "098513b519be4422a802c408c049437c": {
     "views": []
    },
    "0999d061698f4eb0bf946acbe9224583": {
     "views": []
    },
    "09a2d3e1b0ff4652bb30e9518cceb38d": {
     "views": []
    },
    "09a35d082b53402790b2604c250d6657": {
     "views": []
    },
    "09a8328a75e84aecaf2ea1059ab1dfd2": {
     "views": []
    },
    "09b651daaa8d46db808d7589fdd48761": {
     "views": []
    },
    "09b68895bf8d491193db024fcb5f3be2": {
     "views": []
    },
    "09bcd4eb3c8147fcbf954690b784f0c4": {
     "views": []
    },
    "09c2cbe981bd4a67b8589708a29d25c8": {
     "views": []
    },
    "09e9b1140a9648cf9ddf51f6c168aea8": {
     "views": []
    },
    "09fd532884c44256ae2387291d5c84af": {
     "views": []
    },
    "0a204c6d6c5143f08e11132ecac859db": {
     "views": []
    },
    "0a28ad3450044b39805c06ee641fdbc4": {
     "views": []
    },
    "0a54ad6825b24958a0b1ee53eafd63a0": {
     "views": []
    },
    "0a5ed6b70a794d16b56ccfd3831b4c20": {
     "views": []
    },
    "0a6d372f5fee45beaf1c4f1d898eab0c": {
     "views": []
    },
    "0a7e44ff4de74ba1b6456f817042c5c9": {
     "views": []
    },
    "0aa290eeeaa84ca48aa82b7a618cc70b": {
     "views": []
    },
    "0ac6c9b804f046dda7f34b8e3ff68d7b": {
     "views": []
    },
    "0ac7b6591e584fd8a85a2280d606f2de": {
     "views": []
    },
    "0ad50ef1b8ad451d9cca8a06167cf3c6": {
     "views": []
    },
    "0ad6cec579014b778ff0bbe201416b26": {
     "views": []
    },
    "0ad89756509649d08fb99b8c187fe147": {
     "views": []
    },
    "0aec2f8772ec47be9b504e8902c8bba6": {
     "views": []
    },
    "0af844f43fbb40b89207dbdd214f660c": {
     "views": []
    },
    "0b06ab8d9bfa4a84abe51a4c5f4ab68b": {
     "views": []
    },
    "0b23938fe4f54271afac4578885c88e4": {
     "views": []
    },
    "0b3af943e7914380b7b9de2f33aba9dc": {
     "views": []
    },
    "0b481c9ac5b943a3b0f582135ffa5355": {
     "views": []
    },
    "0b489688e54944209a2cf01767325587": {
     "views": []
    },
    "0b5182b296f7417992b7451e49c6c7ad": {
     "views": []
    },
    "0b68da973da9431da2e7d10f3fac6a42": {
     "views": []
    },
    "0b75c6d153aa43a997af1f7ad283cff9": {
     "views": []
    },
    "0b8035f5880c4c3ea44b43d1c8868a6d": {
     "views": []
    },
    "0b8375ac103745ea983cd5d406687411": {
     "views": []
    },
    "0b9dba4fcc7a41efb31dc9fbdcc353ad": {
     "views": []
    },
    "0baf012343fd410ebc55ceb5f4782902": {
     "views": []
    },
    "0bb6baf588cd4d04918b2991e84616dc": {
     "views": []
    },
    "0bcb7dfce380423ca02ccb019483bec6": {
     "views": []
    },
    "0bcede9281b54627a614d669d68b26c3": {
     "views": []
    },
    "0be7ee6b10b64adea3f8f44f9c4f0357": {
     "views": []
    },
    "0bf05ae8bdde42d6be8cd9cb88860e88": {
     "views": []
    },
    "0bfb67f1401a4821a38616bad7fea98e": {
     "views": []
    },
    "0c0237fbdd8447f592046162b220d171": {
     "views": []
    },
    "0c0243b9858749c8a7afeb49f9dc9f39": {
     "views": []
    },
    "0c1eeba724ba4e96b6a671b596caf2b6": {
     "views": []
    },
    "0c24ff3f053648b6bbe8a82d7ecc23aa": {
     "views": []
    },
    "0c2c4c12b7a64445aedd86cf32a850dc": {
     "views": []
    },
    "0c2d955dbfad48b482800682d238eba6": {
     "views": []
    },
    "0c3217e5a546461b924cb14ad4e0993a": {
     "views": []
    },
    "0c4af67ceadd48278b5cbaff1bbcc58e": {
     "views": []
    },
    "0c56cf9308614afcaff2eb7265a4f738": {
     "views": []
    },
    "0c5c2f37ddd044d381f44d2a625d2605": {
     "views": []
    },
    "0c6d01dd716b4a509120b05bb8a3f33b": {
     "views": []
    },
    "0c8150ecb1f646a39efbb0ed76a1bc1a": {
     "views": []
    },
    "0c8257a8386b43c7919e6efe4324029b": {
     "views": []
    },
    "0ce4177423b1403eb6cd0b997315a31a": {
     "views": []
    },
    "0cebd1e1909c4f37971c57ff23a5696f": {
     "views": []
    },
    "0d103c708739491590838acbbd316467": {
     "views": []
    },
    "0d10b76908ee46ba85fddafcc19c5fe4": {
     "views": []
    },
    "0d2dec2efe3c41699fd021b01095a9df": {
     "views": []
    },
    "0d36794e3ba741f9986769679ce1f5a5": {
     "views": []
    },
    "0d3fd9ab4e384a71b6cdf7a40e78e8b5": {
     "views": []
    },
    "0d55aa4365ab455b881aefced5a06707": {
     "views": []
    },
    "0d58c3cd91ae409a9a0c57aeddbaa7e1": {
     "views": []
    },
    "0d77dfc7108640d38db4c667949c852e": {
     "views": []
    },
    "0d791bb108c64e859b2a89523d73b83d": {
     "views": []
    },
    "0d7e3a64eb084015be8110f1e30474a8": {
     "views": []
    },
    "0d81e604af6c480eac543c72314e055c": {
     "views": []
    },
    "0d82d767693f475dbdb288bb40f591e2": {
     "views": []
    },
    "0d83ea3059f445818e3954bb4a47793a": {
     "views": []
    },
    "0d867ba1f036462fb5f729ac56dded44": {
     "views": []
    },
    "0d912663ee7d4ed9a325dcb4fb644338": {
     "views": []
    },
    "0daf712c72084098843592d44c8cc549": {
     "views": []
    },
    "0dd199b9ce1a4404ade66f7945ae00ae": {
     "views": []
    },
    "0e0e0f7793354bf0a770bff4222d92ff": {
     "views": []
    },
    "0e2d4accc50340ffa807a6712fd935e5": {
     "views": []
    },
    "0e33a124069741749bec60080e21fef6": {
     "views": []
    },
    "0e417695134f4e4ba64d2bb2948ac35d": {
     "views": []
    },
    "0e49e748502e4e4b9da683379a0e9274": {
     "views": []
    },
    "0e64f90400f44cddabcb5943bdc5bc7e": {
     "views": []
    },
    "0ea7e04c64ca4b0eb3f0489b2b7656a0": {
     "views": []
    },
    "0ea9708910374b08b4294c3124eb9449": {
     "views": []
    },
    "0eab2bf33780406ea8809820f2d5c4d8": {
     "views": []
    },
    "0eabf2d439c14bd28177311c85d92ad4": {
     "views": []
    },
    "0ed06b7f96f943d499f9e437c62d336a": {
     "views": []
    },
    "0ef207b99c9146aab87f514445394fdf": {
     "views": []
    },
    "0f0270646af44f35906d95f4d1cf8231": {
     "views": []
    },
    "0f02edf18c9a40b5b5d3c98a508c2901": {
     "views": []
    },
    "0f057bd59fce4f448372b0b2c662cc5b": {
     "views": []
    },
    "0f0591f7682d41689bdc7780a82b5938": {
     "views": []
    },
    "0f0977a6d30742caabf3c66bdd8b2955": {
     "views": []
    },
    "0f0ab101a9a443d0ae5b354f7d08e8c9": {
     "views": []
    },
    "0f11d8d510a74e71bfc708686f8ceffc": {
     "views": []
    },
    "0f12231b6dbe41e193ef074a3ed251b6": {
     "views": []
    },
    "0f20d1a79df34c03953708b88da2dfa8": {
     "views": []
    },
    "0f329004b69e4f64948b33e47b69a85e": {
     "views": []
    },
    "0f635cd521334475a5119e0b35e8a086": {
     "views": []
    },
    "0f65bee920544c4895162513ae14a9e5": {
     "views": []
    },
    "0f817adebf304e798dd7bdfdb0cadf14": {
     "views": []
    },
    "0f878cb37be64a14bcacd035a73eb8d3": {
     "views": []
    },
    "0fae16d8e27649509de34473d3bec63a": {
     "views": []
    },
    "0fdeacc529494398a55bfe63882f174b": {
     "views": []
    },
    "0fdec70cca6b47b5bfd21dbdc8871441": {
     "views": []
    },
    "0fee9547bc2a43d598f468f7bedb39b2": {
     "views": []
    },
    "0ff54b6db4b14c50a8e1add565a2a548": {
     "views": []
    },
    "10051833e46445aaafc41c0ecb9157ba": {
     "views": []
    },
    "101bab63294a47aea5786ac8931bb8e0": {
     "views": []
    },
    "1027a72338ea4bd2a5ac7ffa9b42075c": {
     "views": []
    },
    "102e619db92946b9a5c9efa0b8784654": {
     "views": []
    },
    "10372fb136884542949abb254ddd1fd8": {
     "views": []
    },
    "10563f8cb8ec42ffaa69055151dd835e": {
     "views": []
    },
    "10713c78f5d44f8fb6f445035517b1f7": {
     "views": []
    },
    "107d6beaed0047f4a44ea8a035284262": {
     "views": []
    },
    "10a93c32c32f4c15adfb4fa90f22d02c": {
     "views": []
    },
    "10adb3676ff44831b37e6362282523c0": {
     "views": []
    },
    "10b87f2057af4d6cb7df5e150e5d2c89": {
     "views": []
    },
    "10bfffabce5346b993f733a8a6be117f": {
     "views": []
    },
    "10d3987c32cf4016ae316793db99a8a4": {
     "views": []
    },
    "10e5cce4801d4da1879ff4bc4fed01b4": {
     "views": []
    },
    "10f500c7fb6743b9abcfeac2ef90df38": {
     "views": []
    },
    "112ba5eb5dc146ec8e656e1a3b11ee8a": {
     "views": []
    },
    "113786961b04403abb557440572936c5": {
     "views": []
    },
    "113cbce2968f46cd9c8d526d54e6b965": {
     "views": []
    },
    "11569d6136e94f3289bd11735b58f7cd": {
     "views": []
    },
    "115e702891334297bce7c3dbea863b60": {
     "views": []
    },
    "116c2b38c406439aae962b0e45b1fff1": {
     "views": []
    },
    "1187eec0b7d44713843af63d7a5dd0b5": {
     "views": []
    },
    "119e44b867c44c08b39fe1434493c490": {
     "views": []
    },
    "11ce69a52e8a4158a87c4c39832dcdb9": {
     "views": []
    },
    "11e4dfe46f9249d8a0124fd46705fcb1": {
     "views": []
    },
    "11f1a9bd7c68470aaf9cfd97acebae6e": {
     "views": []
    },
    "11f22def3bf84e82ba5a60f6abfbf593": {
     "views": []
    },
    "120b3b7e39bc4c3b9a92ea7468094347": {
     "views": []
    },
    "121fcbe27cca4748997ed7f7c2b0ce0a": {
     "views": []
    },
    "12370695c15a490bab2ef12dd9e16d26": {
     "views": []
    },
    "125d9ce39c334b359a2113ac9c822ebc": {
     "views": []
    },
    "1275a5c65ea6430eb49c8bfa1865e312": {
     "views": []
    },
    "127fedced60d4342b37ca918d2952736": {
     "views": []
    },
    "128e705cecac42a0907862efd48f483d": {
     "views": []
    },
    "128efcc03cff4fb49521ffdc3d287264": {
     "views": []
    },
    "12b733237a6c4b2b9bb9bf1ba6f6b795": {
     "views": []
    },
    "12c413aace0e49ba896f9f70c687c1d4": {
     "views": []
    },
    "12ca0c1c4dac4b5eb5b13b86738b02b6": {
     "views": []
    },
    "12cc4563f07243c4ae0637bafd207be3": {
     "views": []
    },
    "12e7cee62046476a9b659bdfa0f1368d": {
     "views": []
    },
    "12ece4889a3c4dae83d805915cb0a88f": {
     "views": []
    },
    "130b069c08b04d45af661b3766255671": {
     "views": []
    },
    "1311e10a8d8a49a89d81609cff1b4c31": {
     "views": []
    },
    "1318504a40174a95aee3e394542035c8": {
     "views": []
    },
    "1325766df3cb45248ce12ce10f11ddb8": {
     "views": []
    },
    "13374380071a4e2d9b6e575ad59e7719": {
     "views": []
    },
    "133d135a369843c1818f54872dab8fd0": {
     "views": []
    },
    "134423edf314404682cafa368b257f26": {
     "views": []
    },
    "13465a88596345f995ef7bcda4ba09f4": {
     "views": []
    },
    "1346f7e7703646cdb49043171c9c400c": {
     "views": []
    },
    "13470c684ccc4db9b5fd606859ac432f": {
     "views": []
    },
    "13484bf8330f40218b26135fc41759b1": {
     "views": []
    },
    "135c69f1e2094e60a8ca55449a91153a": {
     "views": []
    },
    "13606f7665e94d7992e12a821a9a63c7": {
     "views": []
    },
    "13611b3837554601990b8742fdd4723e": {
     "views": []
    },
    "1364d6bc4ba54ff9931abe3814746696": {
     "views": []
    },
    "138118ca3dd048e0af9c9972b1f5f33f": {
     "views": []
    },
    "13908d99507643eca3fbc930c3b7e9d2": {
     "views": []
    },
    "13919c35a69c42a7a693f9b7055ba6f5": {
     "views": []
    },
    "139ea7de94144c0383e50e7108ae7783": {
     "views": []
    },
    "13ac42dc86df4e58ac363fc7ed569807": {
     "views": []
    },
    "13de7d632af94f00b2b6ab25205d3057": {
     "views": []
    },
    "13eaa5a1bed8413eba990746a6277603": {
     "views": []
    },
    "13ebe20e248a49e794a342db39d5ef1c": {
     "views": []
    },
    "13f2faffe02a40d78f15fb60867a8028": {
     "views": []
    },
    "13f78b515c764b1787d74ade0d2842b3": {
     "views": []
    },
    "1406ca6148114a97a1621e3fa3496127": {
     "views": []
    },
    "14130e5509b9448aa7c259d7386ff368": {
     "views": []
    },
    "141abaeee040448bb7703e68fa6ce8d9": {
     "views": []
    },
    "141c4a31948f4a308c08281ba03f7c69": {
     "views": []
    },
    "141e00b7f0eb4759ad00536cfcfb35da": {
     "views": []
    },
    "14490a2bdbd240d1841ac344fc27b8fa": {
     "views": []
    },
    "14659297c6e94fd689d2f9ce1a4657b1": {
     "views": []
    },
    "1486d6749b5b4439b870a1a278394fae": {
     "views": []
    },
    "14923b7132b24e0bae5a9bfb7b80bb51": {
     "views": []
    },
    "14b5aa982ebf46b3bbb68dc534afaeaf": {
     "views": []
    },
    "14baf1931a644b1cbffb9bc0ae0dcf4e": {
     "views": []
    },
    "14bc8a3dd84a4d98bd7c57abde80edff": {
     "views": []
    },
    "14d966506bc148f9bdb5b2d1112e9c77": {
     "views": []
    },
    "14dd8dce041a434da4dd62ffcca0aaf1": {
     "views": []
    },
    "14f29553e512466d81717711243383e3": {
     "views": []
    },
    "14f9ba55e5e749d3b7671e06c0f0d616": {
     "views": []
    },
    "150092066df14e818770f36e1d72a070": {
     "views": []
    },
    "150330242fe0412a8f81215604b67914": {
     "views": []
    },
    "1516eeba24cb4895abbb417a2d75b97c": {
     "views": []
    },
    "151c2e35e95e4ae687b595df8acaab1f": {
     "views": []
    },
    "153970c1448441dcb2748e8cfe8f59df": {
     "views": []
    },
    "153c303b7c91460ea9d5cace985717a1": {
     "views": []
    },
    "1543035f9121418db5ff0734db311cfa": {
     "views": []
    },
    "154cf753e36c46d9be93ba136927733e": {
     "views": []
    },
    "155a95979b4740839bad74eb016999a2": {
     "views": []
    },
    "15636ee6470542e1862c6cf645a9f061": {
     "views": []
    },
    "1578594819fa425baae3ed27a9fa71c3": {
     "views": []
    },
    "157c88740db647288bf98c21de1990fb": {
     "views": []
    },
    "157f95cc4ac8462ebe2ca2796e6bc9b0": {
     "views": []
    },
    "1588de39694f41b98dfa68eade85eaf6": {
     "views": []
    },
    "158969214dc04672a1daa11165b81c3e": {
     "views": []
    },
    "158b1cf8ae444b349a953829684d5907": {
     "views": []
    },
    "15a84f44d934470ebb324cdaa4ecfd0c": {
     "views": []
    },
    "15b316f9d08a43908825fc7025afc1e8": {
     "views": []
    },
    "15b6880fa126441eb78e75d9b6c9a063": {
     "views": []
    },
    "15c6ed884ae344489bf8e0d729ba3bab": {
     "views": []
    },
    "15ce296625eb49e0b3f6ce9648f32f11": {
     "views": []
    },
    "15d18211e0fd42ea943ab17bb8863fec": {
     "views": []
    },
    "15d4762a36454c85ad8d5cf5a9e2e742": {
     "views": []
    },
    "15d5341f6ce7404189d015c4c282c66a": {
     "views": []
    },
    "15e0b539b2a9420c862063885d87eb96": {
     "views": []
    },
    "15e757d357a44d218d852f1e085417f3": {
     "views": []
    },
    "15f21d4595ed4dcf8d3a5fb6da6fa930": {
     "views": []
    },
    "15f900223a294ede8edac8a10303c3ea": {
     "views": []
    },
    "1611f367fad84a29b4ab13b213260a9d": {
     "views": []
    },
    "1616afef8e914449b624290c9e73b687": {
     "views": []
    },
    "1626935b1e9d4477b7179eb09461a23c": {
     "views": []
    },
    "164a2b8f897c44328294a15db4bb062a": {
     "views": []
    },
    "164c109a7f8f4854bc723e75d5f68eae": {
     "views": []
    },
    "164cec1e7685498d9fe3465a57e37d3a": {
     "views": []
    },
    "165e452c1dfb49838e3c940c6231504e": {
     "views": []
    },
    "166c01f3a62b42588381e52e320758f9": {
     "views": []
    },
    "167ca54ed4d64bfb97b39f35f7ef1227": {
     "views": []
    },
    "167e6594cf0240c3a684a7ac7bd4273e": {
     "views": []
    },
    "168088845b934351a07ba299421b49b4": {
     "views": []
    },
    "16a6759e899a47208573ac12e1642ef8": {
     "views": []
    },
    "16b14bd0f4564d5f84462ccd612825ba": {
     "views": []
    },
    "16e6ac2df624422e8030dadcc732157f": {
     "views": []
    },
    "16ed959094e6462998b6a6c66f1d0717": {
     "views": []
    },
    "1701ecdd5a9a4f47b5653eb2d72bc738": {
     "views": []
    },
    "1711e7edee694934ad00225d57e68bd7": {
     "views": []
    },
    "1723758eaa6346b494cf011bb6c3a7c7": {
     "views": []
    },
    "174dad0b4eed4e3ab94eabe841bf3c1e": {
     "views": []
    },
    "175a86b83c9c471589c29c35e9cb15f9": {
     "views": []
    },
    "176016e79d02490e9c73531166d9cd25": {
     "views": []
    },
    "176081744e184d7eb1d445f97141acfe": {
     "views": []
    },
    "1776f67dc6044350baf0f64986a2c359": {
     "views": []
    },
    "177af3df9da54289bed2e49463a86990": {
     "views": []
    },
    "17b7f3b1c39d44f2ba8e3d1eeb8256f4": {
     "views": []
    },
    "17bd9c7b9de1400b8bbfea5bb28fdc21": {
     "views": []
    },
    "17c0af8a0964475c88cdf58c9e6076b2": {
     "views": []
    },
    "17c68b58a03346e29f1b7be4cd4d7d29": {
     "views": []
    },
    "17cf2e300b2f4f4d8cc4baa089925a2f": {
     "views": []
    },
    "17d0ca207e7a4949bf9a357b519f73e7": {
     "views": []
    },
    "17d41b7e044c4c70bd523213dd357efa": {
     "views": []
    },
    "17e32c358516428b9f342b18e2f8b913": {
     "views": []
    },
    "17e789192ac14d21abc5c4acc32a2e56": {
     "views": []
    },
    "17f7a92ccda448058ea42a920de419fc": {
     "views": []
    },
    "1801bfe58d32465ebc67e4d1a44fba65": {
     "views": []
    },
    "180a9a30e40b4ae3a9b87a6c37d2d0cd": {
     "views": []
    },
    "188f0d62fc4c4c05bf7b8da8ac0ae276": {
     "views": []
    },
    "1899c0cbd67949948d4c43368b6745ca": {
     "views": []
    },
    "189cb7857494417d9d2903b890ee25a5": {
     "views": []
    },
    "18a2e59a83004734999eb02246937c33": {
     "views": []
    },
    "18ae54b58bd14bd8b6050b8652bcef26": {
     "views": []
    },
    "18b5a8bbc602459081e01e25bbaeb3a7": {
     "views": []
    },
    "18b70a540933403896076cbe5282fff0": {
     "views": []
    },
    "18c717dab5d04aa7bf5a59996a572720": {
     "views": []
    },
    "18d6fdec204a439aacb9e7619569ffd0": {
     "views": []
    },
    "18e4633b57af40a5b25b80e4334a512e": {
     "views": []
    },
    "18e7856039ec4ae2a39e20108379e8aa": {
     "views": []
    },
    "18ebc995f03449c0aacf8610eec0368f": {
     "views": []
    },
    "18f62fefae3949c0a80d47cd5c4ed4a7": {
     "views": []
    },
    "18fdd2f958f34e5fb3f7108e8aeae704": {
     "views": []
    },
    "1919da163c3e487eb85bf61bb219255c": {
     "views": []
    },
    "1938661725a148db8eaa154e85add6ce": {
     "views": []
    },
    "19518ffb92d44e77bcbbeffbb90b69bb": {
     "views": []
    },
    "196566de3f4549909501ba05377858d8": {
     "views": []
    },
    "196862974186474bac9111906a842839": {
     "views": []
    },
    "197fda0420d440aab5e72fb096cde702": {
     "views": []
    },
    "198ea362fcf645eab5ca85dfced8669f": {
     "views": []
    },
    "19b0163cc6024215921459e7b07c3aae": {
     "views": []
    },
    "19b4c09c998c44db83f8e1acc64a2642": {
     "views": []
    },
    "19b7ee2472df47f0a9e704df74177f1d": {
     "views": []
    },
    "19c96774b18d493581f024c2368bf20e": {
     "views": []
    },
    "19d80e9ca6c446478219ea85507ebbc0": {
     "views": []
    },
    "19dbbdf33a014f3ebefec8a6a27be0a9": {
     "views": []
    },
    "19de74b99b3d42cd83a57fb93c54a79f": {
     "views": []
    },
    "19f0bf5dfecb48a1b95ee2fcec7a84e2": {
     "views": []
    },
    "1a2162736aa34109a4d696a9d49d46e0": {
     "views": []
    },
    "1a2fb1b798124713911ec466f703c9dc": {
     "views": []
    },
    "1a375ec4a2114a1b8c8d4a149bba0802": {
     "views": []
    },
    "1a46dc02185b4c54871c8e8da463f641": {
     "views": []
    },
    "1a75d647b14d47319a3819d962bd9bf7": {
     "views": []
    },
    "1a84f366fa8f46faadef58516c113448": {
     "views": []
    },
    "1a85f4d72d0e49cda2d0a55872a4d308": {
     "views": []
    },
    "1a8b51f629b14df29eefb014550070e4": {
     "views": []
    },
    "1a9742848a0940c39c4d855d334808f0": {
     "views": []
    },
    "1aa78c97ca1c4abc861170b12e6c5a95": {
     "views": []
    },
    "1aabca7d7fac4bc1af6c6aed108c2db5": {
     "views": []
    },
    "1ab8fe6a1f9440e59a899b8022e6db08": {
     "views": []
    },
    "1ad9088c471740e4a35af8487eaf7271": {
     "views": []
    },
    "1ae1f94dfc6848039c2afcbff0d074c4": {
     "views": []
    },
    "1afde897e9c44154be581f71575338ba": {
     "views": []
    },
    "1b033dd076a648d09b87c63e6302ecb0": {
     "views": []
    },
    "1b0bfa4c7b424b29bda3ed9c5a4b2e1d": {
     "views": []
    },
    "1b17606f15cb43eba99c463129d160ed": {
     "views": []
    },
    "1b1dab9957344faf9e9945d22f905f9b": {
     "views": []
    },
    "1b2e031353904fc0a655e0740d1810e5": {
     "views": []
    },
    "1b2e5f9e470049e7805feeed3662401c": {
     "views": []
    },
    "1b32f757fae24a25ae61c82ec0286fc1": {
     "views": []
    },
    "1b52604067f1432290518a6ea0a2815b": {
     "views": []
    },
    "1b5e6ece51a445899ced338b9f6e76ac": {
     "views": []
    },
    "1b5f63af46a84e089a79db8efcc88495": {
     "views": []
    },
    "1b757d31ad164e85869420692dc97a13": {
     "views": []
    },
    "1ba98c3407e84134b8adb9750a3b93a6": {
     "views": []
    },
    "1baf17d7f9ad4c72b88042b87640ff46": {
     "views": []
    },
    "1bb1757916b348c4a75951065f3bf480": {
     "views": []
    },
    "1bbd1563b75548ee9f12d3984596678d": {
     "views": []
    },
    "1bc0297909554bcfb975441776c30213": {
     "views": []
    },
    "1bc488b63f9c4b8ea940eab5a8742fec": {
     "views": []
    },
    "1bd80b2b8f8a4963a58dd8feefe165af": {
     "views": []
    },
    "1bf12bd174e64b8b9592fbaa571c056b": {
     "views": []
    },
    "1bf1e0e6fc424cbfabaff95d9be6dcad": {
     "views": []
    },
    "1bf8fb37bad34a929914dd81bb80ac88": {
     "views": []
    },
    "1bff3e2d805649db91b88a9d1747029d": {
     "views": []
    },
    "1c00b1fa13704d07accfddbf785ae45e": {
     "views": []
    },
    "1c03fbe3b63b461c89391587ac68cfe6": {
     "views": []
    },
    "1c04bf63b1cf40368fe7c4eafe5c7781": {
     "views": []
    },
    "1c0ebdc00a6643a88ef5fab74e401b83": {
     "views": []
    },
    "1c13b6bad22f44719512a5255271cafd": {
     "views": []
    },
    "1c2090ac167f4d43bec2f38b1341d551": {
     "views": []
    },
    "1c23cdd6b6f445ca954d8eaea46d1488": {
     "views": []
    },
    "1c270f803498434ab65629b1bbdd692b": {
     "views": []
    },
    "1c34d89a2fb0441dbdc33c804f739a1b": {
     "views": []
    },
    "1c384e6043be47788808997b5d997f9c": {
     "views": []
    },
    "1c3cfbb39887448bae05c3ac7ed4c5de": {
     "views": []
    },
    "1c409e1d593b45dd934ccae7172849ef": {
     "views": []
    },
    "1c44cdbfed284c64b9d589ddc140068a": {
     "views": []
    },
    "1c4ded1095c643aead5429a388272378": {
     "views": []
    },
    "1c57e2b9b3504822ab16555d1d366c21": {
     "views": []
    },
    "1c5a7649fb3e42b99c41bcd4692940c8": {
     "views": []
    },
    "1c5f2215eed84ee1823e93a6efa8e34c": {
     "views": []
    },
    "1c6990ccc6b74165badeabe853ff84c7": {
     "views": []
    },
    "1c9a4108296a48dba3d968185190a519": {
     "views": []
    },
    "1ccc1bb5e3e6451c810e340f6e627141": {
     "views": []
    },
    "1cd3e0206c2f453aab2b98009339632a": {
     "views": []
    },
    "1ceddfbc44f1474d880c2c969b25acc0": {
     "views": []
    },
    "1cfc91c5c8874368b18cf3f3d253756a": {
     "views": []
    },
    "1d1464adcfb540bfb649b349b26fc599": {
     "views": []
    },
    "1d195cc26b7b41c297e845723897d7b9": {
     "views": []
    },
    "1d1d85682c5a429ca2b09d63d7d5392e": {
     "views": []
    },
    "1d1ec6628a374b1c8c6caf59fae0a1a7": {
     "views": []
    },
    "1d395fe1466f43d1abbad567b9b4544d": {
     "views": []
    },
    "1d423de7e7c24b9abec82605ab6aca7c": {
     "views": []
    },
    "1d4350f6d22a4b378c0071aa8f1e83d9": {
     "views": []
    },
    "1d48c4fcab3d4dc69bb68f39d97c0950": {
     "views": []
    },
    "1d57a7d649a34644b746386968753372": {
     "views": []
    },
    "1d681dc4d1d7430e9c53bc3b4cc6cc57": {
     "views": []
    },
    "1d775fb0e80c4b46ae46014c13404046": {
     "views": []
    },
    "1d79ba6b890e46cbad96ebc3ebc41ef6": {
     "views": []
    },
    "1d84f97a9fa64c439d586ec99c1bb3ef": {
     "views": []
    },
    "1d8990b14ca64ca3a563aae6d4521d79": {
     "views": []
    },
    "1d8aa699073e41859fdf85bd9fbb904d": {
     "views": []
    },
    "1d8feeff835340bc9ec76e980d772e70": {
     "views": []
    },
    "1d95c8432a3245899ce79b69464dae4c": {
     "views": []
    },
    "1da9f8c272574520807e351b369a7fa3": {
     "views": []
    },
    "1dbd49f215bb4419b0f6f615f0bded83": {
     "views": []
    },
    "1dbde3b0098946e99b49f44abc90c5ea": {
     "views": []
    },
    "1dca7598cc3047089fd246f94543e8e4": {
     "views": []
    },
    "1dd26fe1f9564f0c8786c05b29bb3e0e": {
     "views": []
    },
    "1e47cec748f94aacbdd051382c1e58ab": {
     "views": []
    },
    "1e49f677e95745b1ac9e1a1316fc7d1a": {
     "views": []
    },
    "1e697c8dd4914410801a7045d1516f05": {
     "views": []
    },
    "1e6d1f23445047149d71a192da0026df": {
     "views": []
    },
    "1e6d842573c7477abb4fd186da0b01b4": {
     "views": []
    },
    "1e7b09720ddd45719cd6d5617012fefd": {
     "views": []
    },
    "1e87279fe74a4dd0a2c2e55e71a343cd": {
     "views": []
    },
    "1e9a5bd21f0d477d9b23f161974562e3": {
     "views": []
    },
    "1eadcf5d01f048b283557bca0a9a6172": {
     "views": []
    },
    "1eb9cc9a910b457299db4f0f4d3c32ba": {
     "views": []
    },
    "1ec70d36e4a342a0b88ed82df9c40103": {
     "views": []
    },
    "1ecec2eae68b4c1e97e773e13209dd5b": {
     "views": []
    },
    "1ed78c51bc2b4b70a885e2a518d02635": {
     "views": []
    },
    "1edffe991b6d4152a4607b7198ead3bf": {
     "views": []
    },
    "1eed44d5eec248b088350ae2e7c2d415": {
     "views": []
    },
    "1ef60597be9846e78e9daed41ac1c737": {
     "views": []
    },
    "1f15834f65e24cbda54acf1f20aee00c": {
     "views": []
    },
    "1f316d481e8040768a07edcc82c3d157": {
     "views": []
    },
    "1f332529987b46bdba9868ea83248503": {
     "views": []
    },
    "1f3fb698e99549c6bb6b36ec0c9394f3": {
     "views": []
    },
    "1f517ebd54e24ede90e2df2b6a4790c6": {
     "views": []
    },
    "1f6e7f9555954ceab5bebaa4533b2a93": {
     "views": []
    },
    "1f787bb172164771ab81faa740846fd1": {
     "views": []
    },
    "1f7b393d217949418e5e6ac14831f23f": {
     "views": []
    },
    "1f8d63f0845e4b628687a9a69483e8a2": {
     "views": []
    },
    "1f8de4c5d95a416c89a475983ac069c8": {
     "views": []
    },
    "1fab30f6692c4771a68acfff6ed5c172": {
     "views": []
    },
    "1ffe3156abb44443b85ce0ad5c8fc163": {
     "views": []
    },
    "2025c24485774598a627cd6d1a348b63": {
     "views": []
    },
    "20499bada0d54b9ba405b6d4b23c4c1b": {
     "views": []
    },
    "2070d5df980a4c499bad227f6b0d1a08": {
     "views": []
    },
    "207c7827818f4f74a4cdb689cd21527b": {
     "views": []
    },
    "208d51758985464094182f7b42ed87e0": {
     "views": []
    },
    "208f267dd4b1478082b67f5a8b8b321a": {
     "views": []
    },
    "20b7840d373e450f8999eef1cb138019": {
     "views": []
    },
    "20b89b1a305f42f091a0fbde2e2ad031": {
     "views": []
    },
    "20c466ed62fd462d99ca333012f680ce": {
     "views": []
    },
    "20e43c36acf5433f866f988923f37da7": {
     "views": []
    },
    "20fe17f9822940439f1b423138ba02b6": {
     "views": []
    },
    "2105eb2fad3045bc859ebce1ab88c912": {
     "views": []
    },
    "210a6067edf24e4db6e399b3c249a0c7": {
     "views": []
    },
    "2113543d7e794c5eb5015bb95f4cbc23": {
     "views": []
    },
    "213c1f1ebaf84d699388927e7c44dca6": {
     "views": []
    },
    "213ef0be4d5944ffb9d5418001125b85": {
     "views": []
    },
    "214b1b160ff34b98bd207084d00ebf7f": {
     "views": []
    },
    "215832c486b84c17b446788bd40b52ff": {
     "views": []
    },
    "217b41e33ee141e5bc43357f87ace420": {
     "views": []
    },
    "2183d7ae424c464593c2a2c04cb115f7": {
     "views": []
    },
    "21a800e48a934eae90eedaa9545f4a3d": {
     "views": []
    },
    "21a92fecdfd6420aa05fe7b0f0e2d699": {
     "views": []
    },
    "21dd3062965b48f88fdfdfa6c305b71c": {
     "views": []
    },
    "21dd72295b1d40b285f580f01524b495": {
     "views": []
    },
    "21eabdd8caec4df8be4222e0b60986ce": {
     "views": []
    },
    "22066cc4b9c949e485b1f93545086e13": {
     "views": []
    },
    "22185253f8af47b88254f486218de70b": {
     "views": []
    },
    "222527ba1edb40959ba0a1bf49152ba2": {
     "views": []
    },
    "223a97ac85ba4482b11241553ff126e6": {
     "views": []
    },
    "223c3a1768fb45d8a66cd2dab02a2c38": {
     "views": []
    },
    "225f0d1456554c35a16ba62c70f1fe8e": {
     "views": []
    },
    "22622481fc0745dea07efa662dc65999": {
     "views": []
    },
    "22642e7c9ccb445788d8cfbaad5efb43": {
     "views": []
    },
    "227bb511cf304cc0ae0bf363481b6b4a": {
     "views": []
    },
    "228650fb3599433baa8cd3aa9c7e7e1d": {
     "views": []
    },
    "22ba20afd21440898363a10e9bbb25e9": {
     "views": []
    },
    "22c3ddb1f2724f389116ad247f40e7eb": {
     "views": []
    },
    "22e01a6c836a4c5bb03257df7220ddce": {
     "views": []
    },
    "22e4b9c56ad24ebda3dd96b20041730a": {
     "views": []
    },
    "22ffeaa7e0634e7c83fd5189f224a607": {
     "views": []
    },
    "2304b0a122e64aa39b05ccfd90bf92c6": {
     "views": []
    },
    "231a4585c46e4bc7959d6b924dd9488c": {
     "views": []
    },
    "232a12d1bd7f486bb7c7d0a83bfc03a0": {
     "views": []
    },
    "2334a5b8a3654288be62f8cfe12180ce": {
     "views": []
    },
    "2334c182817442e99309f73624c3495a": {
     "views": []
    },
    "233832bf52774572b39c90eafdef464e": {
     "views": []
    },
    "2340a997851a4506abe2e62492464134": {
     "views": []
    },
    "2344d231857941e682e3e9e906a5f77d": {
     "views": []
    },
    "23592067ea964047abc9ae203e87aa31": {
     "views": []
    },
    "2371692dfafd4cf9aeaab521ca8a9cdd": {
     "views": []
    },
    "23836eb8fbb0404e951dcf4ea7532dc0": {
     "views": []
    },
    "2386e0a1d8e143cf9acb5893bf9064a5": {
     "views": []
    },
    "239ca8acb6ac47d58f52193d1f496805": {
     "views": []
    },
    "239dfa24d995494ca09aa8d4ba09d7fe": {
     "views": []
    },
    "23b3112da5834813b3a009e46a178890": {
     "views": []
    },
    "23cfd31898c440f0a900f51baf963687": {
     "views": []
    },
    "23d2693d2b2f4a2d9c3ecdb203f595e4": {
     "views": []
    },
    "23f4200e9f6d45d1848444bf54c37c08": {
     "views": []
    },
    "24022fd733484a14b2e689ba4fc8fedb": {
     "views": []
    },
    "24033c6ff667485c8b5608a6b7d0f229": {
     "views": []
    },
    "242739708d2946dab586d70cb99005a3": {
     "views": []
    },
    "243a4214cdf646968ff17bdb4b944c08": {
     "views": []
    },
    "243e3f6fff08451fb8b2a7da537c0430": {
     "views": []
    },
    "244859dec5374abf90ec055d0ad6a32b": {
     "views": []
    },
    "244a4ff7560b4119a3b71da126b5cf4c": {
     "views": []
    },
    "245874d1499047468e9197724b93d308": {
     "views": []
    },
    "24835941792a4a84a0105354b8eebae5": {
     "views": []
    },
    "24a0805d946a4fc18ca2ee60c05fd6ae": {
     "views": []
    },
    "24a652da0fba44bea31a990654cdb1a1": {
     "views": []
    },
    "24b0cdd57fb94906869d800d4e18efec": {
     "views": []
    },
    "24b7484c8ce64f71b191d892d91880d7": {
     "views": []
    },
    "24bf52b5476f4feb88f2dcaac46ccb40": {
     "views": []
    },
    "24cd8bf9b6a044628ce8a497da8b91bf": {
     "views": []
    },
    "24d58b7ec5004796ac9a11c5c2490bde": {
     "views": []
    },
    "24f1bd0a37534dca9e59b09cff2d3fc0": {
     "views": []
    },
    "24f842af68e44d5fbaa551830342527e": {
     "views": []
    },
    "2504ccc0390e468cba92176d6b3ac8e1": {
     "views": []
    },
    "2505024d18af4ff485f81006918f3caf": {
     "views": []
    },
    "250d9c2b539443fa99d2b741497d2ce2": {
     "views": []
    },
    "2511cdb691584452968158a0e060d3c4": {
     "views": []
    },
    "252697f052c04dfdb833a03a2c6e51fe": {
     "views": []
    },
    "252c1d9bb033489c8334b1c390edcbac": {
     "views": []
    },
    "252eb712cff84b22aca7fc4398886b90": {
     "views": []
    },
    "2530ca0e9361471b81190f862cbdbcd2": {
     "views": []
    },
    "2547c37562f44718942884d11cd00fb1": {
     "views": []
    },
    "25519739e7e441b085ad22a18ee3609b": {
     "views": []
    },
    "255588f428bc4e4496b16098f7b30d9a": {
     "views": []
    },
    "2578dacff69247179b798876687689f1": {
     "views": []
    },
    "2582bae51273412cb930bdb591f22bd7": {
     "views": []
    },
    "25ba4b45a47b4a4cb53eee6a4293d8a6": {
     "views": []
    },
    "25bd006e9d804525a5980ab6bbb025da": {
     "views": []
    },
    "25d1427de4df456a878fc2617f180a5a": {
     "views": []
    },
    "260f4d7330b14892a1e84ddd077cd0ba": {
     "views": []
    },
    "26110140263342ab958fa5a1c74f8125": {
     "views": []
    },
    "2624bad8b63f474081b3537fe19c6b86": {
     "views": []
    },
    "2634bc09a3464688a790613b5076e220": {
     "views": []
    },
    "2637fecd795b401b9bfcb639f37a2673": {
     "views": []
    },
    "263c4fbe2bb74c46b8ece79083a1858b": {
     "views": []
    },
    "264f755286254a5dbba978e7b3271fc6": {
     "views": []
    },
    "26555adf98ba4b9e9c1211cdbf0cf6ea": {
     "views": []
    },
    "265b3a9103c948b18d4d1ea83b1689c8": {
     "views": []
    },
    "267740902e7b402c9861003f7a379192": {
     "views": []
    },
    "267ec336c4fa4450a7d4a42603267488": {
     "views": []
    },
    "2680376ea9974c50b3285b2698c0088a": {
     "views": []
    },
    "26856e1467a747a8b4aaf3bf6fa8c00c": {
     "views": []
    },
    "26980d085c524792b6cc978ff138dc8b": {
     "views": []
    },
    "26da8a9b43524ba491a5a0dc06e7d781": {
     "views": []
    },
    "26f2d28282d54d37addcc2c3fe913623": {
     "views": []
    },
    "27012df8fba54680931e699483496567": {
     "views": []
    },
    "27167474c96146f993d83020124facac": {
     "views": []
    },
    "271d1e2ffc9448b89f5f4e277d9cecfd": {
     "views": []
    },
    "271ea185314b4b508dbbf5e2ae60b867": {
     "views": []
    },
    "2735212c8cb243c0802b17e3d0b0e9da": {
     "views": []
    },
    "273d8541f2224fce96da9021b2d1079b": {
     "views": []
    },
    "274fccf17bcb45349e903cfc62cf016c": {
     "views": []
    },
    "274fff0118994728b745844309011c41": {
     "views": []
    },
    "27551feed6a84d2bb79bc170773ac61d": {
     "views": []
    },
    "2765ea34671c4e3ab06d050a51e45bb1": {
     "views": []
    },
    "277e9a615d154b5c8fafe132aae6f135": {
     "views": []
    },
    "2782f8f900e94c41acb162b3229c8d1f": {
     "views": []
    },
    "2791728abdf44a78b2e0dc5477436a4a": {
     "views": []
    },
    "27a926714cdf433c9f45d523b3ec0a72": {
     "views": []
    },
    "27ba059d04034972aca36f4a0c4a6e75": {
     "views": []
    },
    "27de53a3b23746b0ab8dece84dff6992": {
     "views": []
    },
    "27f3d3d5fb864a08bda6714446ae970b": {
     "views": []
    },
    "2804cec904e245b1b9396501644caa9e": {
     "views": []
    },
    "280b122897d0418cbcc75d041d111099": {
     "views": []
    },
    "28194808c6fe4a76a37a12879e7a3580": {
     "views": []
    },
    "282e048d9dba42e9af5c167687657cd9": {
     "views": []
    },
    "284071cc494b4e3fa654871227556725": {
     "views": []
    },
    "285289ddaa9b45f9979d9cb0ddfc57e5": {
     "views": []
    },
    "285c5e9bbd62445e8460101f7d411d0e": {
     "views": []
    },
    "2861d0a55b294f839f3c3e722c2e4c6e": {
     "views": []
    },
    "2862dd0f15bc4f36b5669fcea7c72f81": {
     "views": []
    },
    "287b05d047a144d084b0c94a45c85e96": {
     "views": []
    },
    "288bbf1934e44d52b2bd917798b7e57c": {
     "views": []
    },
    "28a5081a0b264683b683b2a599f0efb7": {
     "views": []
    },
    "28b254cd995d431088f827531d784292": {
     "views": []
    },
    "28b8c1567955486295ba8618d065524a": {
     "views": []
    },
    "28c007529fbe4ce9a6b7ff311d1c8e86": {
     "views": []
    },
    "28d42d02eb78472993234ba37aade799": {
     "views": []
    },
    "29065a2aa8b34674b96d7ecea170a424": {
     "views": []
    },
    "29067282e8824f01bcaa10fded4474ae": {
     "views": []
    },
    "290a5db2946d46fdb35ff64cd8601e28": {
     "views": []
    },
    "291232c2183d4a1db54aac3ac7e98800": {
     "views": []
    },
    "291dcee6f0c947168fef7e0c5f854fa0": {
     "views": []
    },
    "29405baa5be74bc389cfbbbc50b895cf": {
     "views": []
    },
    "29498392edc64f32a5915fd0611b55bc": {
     "views": []
    },
    "29561326248d498792736d2f2cc22a7a": {
     "views": []
    },
    "29642d47bf064308bd1fd7a19520f2a0": {
     "views": []
    },
    "296a459c09c047cebc09c76d41e3aa64": {
     "views": []
    },
    "2972065668bc4c7b91592eaac4844ea0": {
     "views": []
    },
    "2991aab26db2492f8f7942f0cb18f8a5": {
     "views": []
    },
    "2995c50d36594a438311d7062ee3a88f": {
     "views": []
    },
    "29a424e0140348fb81a544d0973849b1": {
     "views": []
    },
    "29ae94b4d1f247c2843be0c648fa5741": {
     "views": []
    },
    "29b808e0c62548e185002caed88f7132": {
     "views": []
    },
    "29ca2aa13dc445b4adf032ff1d82f397": {
     "views": []
    },
    "29d82af905a447c88f9a72442320758f": {
     "views": []
    },
    "29ed16cdfd32423e8ee61f0013a0d2d7": {
     "views": []
    },
    "29fca8f39d794af7916828b44d35b0d8": {
     "views": []
    },
    "2a163eb5932d45409ee8f6eb5190a39e": {
     "views": []
    },
    "2a276144b6d445d4860f311477568228": {
     "views": []
    },
    "2a35cbf7b1e746ee97aeb52cde3be7d5": {
     "views": []
    },
    "2a42e3ab60d347dab216180bc53592f9": {
     "views": []
    },
    "2a5b1daa1efd47a89ce50da2229c6da8": {
     "views": []
    },
    "2a5b3f1463b14d99997504a6c7177c07": {
     "views": []
    },
    "2a689d169f6f4538ae57da23e59d7ca8": {
     "views": []
    },
    "2a8cdc52a8b24dc2ab7017dd5ee7e4e9": {
     "views": []
    },
    "2ab0d93d25d64c9faf8c268e0ff5d347": {
     "views": []
    },
    "2ac1bbf7967e47bebbcd63a75b640722": {
     "views": []
    },
    "2acc368eff3b48bc8ab7ae27cda1812c": {
     "views": []
    },
    "2adc2ba3399f4c60b2bb48606d8cfdd7": {
     "views": []
    },
    "2afa3a91bc594201a1447cbdee67ceb8": {
     "views": []
    },
    "2b19b1640b894765b637639b5bc7c057": {
     "views": []
    },
    "2b2797abe4f148e5b9aa9479d83e650c": {
     "views": []
    },
    "2b298c2e004247969f76f0b515626272": {
     "views": []
    },
    "2b31d63996aa49889569cc5e967aadbc": {
     "views": []
    },
    "2b53e7968fbe4d039502161ee7e2c752": {
     "views": []
    },
    "2b670caf059542078d987c9a628f3c27": {
     "views": []
    },
    "2b7a274623254a939e8383d86ecd8b7d": {
     "views": []
    },
    "2b8cbac826ca45e2b63c66526b46a35b": {
     "views": []
    },
    "2b8e4cee08554cc0a8f639b205afb4fd": {
     "views": []
    },
    "2bab4aba08314048be846c29be53ae9e": {
     "views": []
    },
    "2bae3527a5b84e36aaf89f7840acfc1a": {
     "views": []
    },
    "2bc277871797468db60749449bebe03e": {
     "views": []
    },
    "2bc8c750955b4632bbd06dcff2c22d09": {
     "views": []
    },
    "2bf2132987ae49ce8fcade949927e75c": {
     "views": []
    },
    "2c06ef506ff74e8e810ee380b3287294": {
     "views": []
    },
    "2c081e4383d54eb7839c4dea89104c62": {
     "views": []
    },
    "2c08d9e18876480191be8b6d201fe729": {
     "views": []
    },
    "2c096966362c40b898660571e9bb8edd": {
     "views": []
    },
    "2c1a6b25dc204bc5a4050f270659fa27": {
     "views": []
    },
    "2c1b83e2e48a4575a110de2c671e43ab": {
     "views": []
    },
    "2c1c8be1ec9c465183e4be0e7640c503": {
     "views": []
    },
    "2c29635b2ebf4940bb567cb74376c13e": {
     "views": []
    },
    "2c348402098c44689eee2a1bc380bab5": {
     "views": []
    },
    "2c4068ed1c8b4dc6a1c5104ba46cd15b": {
     "views": []
    },
    "2c49fc04294f4f4cb4bb154a8cb10234": {
     "views": []
    },
    "2c59b3f1016941109c6b54a11108f3c6": {
     "views": []
    },
    "2c59c186e0b84c0a81b4078d33b9d5c8": {
     "views": []
    },
    "2c69d9a631fc4d8dab52b4d6900f5cc8": {
     "views": []
    },
    "2c733ac6cefa48f08a88dcf94f522c7d": {
     "views": []
    },
    "2c7ebeb4d05d44ca9d36e2e68d5ab903": {
     "views": []
    },
    "2c81252f33374faa931bcc208a76af8e": {
     "views": []
    },
    "2c8cf21578f44a5687f8df20f68720c2": {
     "views": []
    },
    "2ca735313ed5417ebf3a8d15e0c5b745": {
     "views": []
    },
    "2cab0628cb664b1085b511d11b1fd2d6": {
     "views": []
    },
    "2cbc3b2076b84a5581d045354426b470": {
     "views": []
    },
    "2cc0632b373247d9bcdf538e58347732": {
     "views": []
    },
    "2cc576a4969f4f74be5d3f959993d4c4": {
     "views": []
    },
    "2cc69bef34a0415d85a2572c19a0dd20": {
     "views": []
    },
    "2cd072b820a6457fabdc7ade780bc5fc": {
     "views": []
    },
    "2cf2554f1b654651a6a0d3cd7e8461c4": {
     "views": []
    },
    "2cf76bc207e6470d9b2cb89a131bd4c8": {
     "views": []
    },
    "2cf8259216c64f87954cce45cf83191c": {
     "views": []
    },
    "2cfa5b5c861947e2bba79c03986c148e": {
     "views": []
    },
    "2d1228a0225e48d4b394ebd5bdc39a31": {
     "views": []
    },
    "2d129a027f3b42d6a86b4b59c853fe49": {
     "views": []
    },
    "2d2094808426425e8fe76006cc7fccae": {
     "views": []
    },
    "2d3204d81ba549e187efa83ae0372eb3": {
     "views": []
    },
    "2d3b39ac9c064b628a44a4b412636f02": {
     "views": []
    },
    "2d3cd3acb1094becb29e36a911903a87": {
     "views": []
    },
    "2d45bf3d1ebc49bea1bd5cc1b8a3b877": {
     "views": []
    },
    "2d47613694ee46859f62a0ffd577de35": {
     "views": []
    },
    "2d4907d210d145ebad02cce61adc90c6": {
     "views": []
    },
    "2d526a2a5ce0488faa95be2c9c2328ee": {
     "views": []
    },
    "2d57bb5d306d4d50922f837c8fe8a775": {
     "views": []
    },
    "2d59c2d14871448ba7bd8c501bb3bfc6": {
     "views": []
    },
    "2d5c253b58fe49a49ee2f3cc2f3e6187": {
     "views": []
    },
    "2d5fdb8cfc6642aa8fdf88b408124ac4": {
     "views": []
    },
    "2d60b0d891b341b4bda8a2607b77d18e": {
     "views": []
    },
    "2d6663f80e444e48a0a027e12b9b89a7": {
     "views": []
    },
    "2d68f0b11f604cfcb1d0e5800b8bd886": {
     "views": []
    },
    "2d6d54e9c14c4c4ab507abf2c5b501ff": {
     "views": []
    },
    "2d91c9ba4c1841cd911504e1dac7572c": {
     "views": []
    },
    "2d98976231a941cea1bfd3578283fe53": {
     "views": []
    },
    "2d9b01cf18844121acb494d7e089f97a": {
     "views": []
    },
    "2db23b1b0e8040399ff7f42815e1c242": {
     "views": []
    },
    "2dcc53b48c0d4cc18d1bfd600a12977d": {
     "views": []
    },
    "2dd1102d54a24eafb66a315a9dc45c45": {
     "views": []
    },
    "2dd84821e4d64bcfb54898d0d7f7dea6": {
     "views": []
    },
    "2ded7da72f4149d18fd53695b93d2337": {
     "views": []
    },
    "2e0e221b62dd4ca1acb4dd1ccdb03493": {
     "views": []
    },
    "2e271789ceee43f887a9be86d59010e3": {
     "views": []
    },
    "2e286d4543cd4f7c80f961187b3dbefa": {
     "views": []
    },
    "2e3b4d19ca904fc88c45260d05c12ba4": {
     "views": []
    },
    "2e3e99428a0642e8884dd4becf8c9cec": {
     "views": []
    },
    "2e7581e40b5c45ffb594c5fe2034a8e0": {
     "views": []
    },
    "2e8a8ecb5d0b4664baceaa8de5cd7fb0": {
     "views": []
    },
    "2e8ae32ef7034d07a8c8ec52fd979aba": {
     "views": []
    },
    "2e9641948c3b48cc907f55dd1370812c": {
     "views": []
    },
    "2ea39ae9559240f9bbb06ac00a949aa9": {
     "views": []
    },
    "2ededdabf50b4adbb07847ed75bf80c5": {
     "views": []
    },
    "2ee084a9250149cab18d01dc73008b0f": {
     "views": []
    },
    "2ee7b16f128b41c3b6274db64eeb1c68": {
     "views": []
    },
    "2f09d452812849c0be60be8462b48367": {
     "views": []
    },
    "2f0fa28411074c1da1df60504c5973f2": {
     "views": []
    },
    "2f261e03d87c4b28ac1f19d24153fa81": {
     "views": []
    },
    "2f31d79d813d48ddade635c849bb565b": {
     "views": []
    },
    "2f378a1fc9684458b87aa6d104717c77": {
     "views": []
    },
    "2f3a0dee849e4ae0b2fe8a094f18321e": {
     "views": []
    },
    "2f49c06963574897bf97f265931cb522": {
     "views": []
    },
    "2f4a775773a24929b08d6f6d420e0f49": {
     "views": []
    },
    "2f4ede0bd78e4c48be14631c2beec4f9": {
     "views": []
    },
    "2f551b4dcca04cb6b88dfbd25ef23b45": {
     "views": []
    },
    "2f6f3f10c119494e8f03a6ee11b1e542": {
     "views": []
    },
    "2f7b62eef8c9482a9d8d1def14ffa413": {
     "views": []
    },
    "2f83c3e378cf41739f139f655617d7f8": {
     "views": []
    },
    "2f8499367a7e4e878aebfb113ee3d210": {
     "views": []
    },
    "2f940cf8aff946c3b2a317b110a252e0": {
     "views": []
    },
    "2f9683b821de476a8e2aa206f715316e": {
     "views": []
    },
    "2faec3038efa4e2b910f682e6eac0e61": {
     "views": []
    },
    "2fc29ccd83f542b5989621b6a1c6b314": {
     "views": []
    },
    "2fc9602f375147e08ed2938a031fec17": {
     "views": []
    },
    "2fd8262a98744d61bb69624cf47bc651": {
     "views": []
    },
    "2fdf20cd030e4340b7aaf8f7cd5961fe": {
     "views": []
    },
    "2ff3ee3474ef43d1896e0846100cc839": {
     "views": []
    },
    "3004379e1eb947738fc656c9da8c047f": {
     "views": []
    },
    "3012b04c5b6143d0b5ee9edb5d4b0c3f": {
     "views": []
    },
    "301851191cf54d459d5b134eba239077": {
     "views": []
    },
    "302f8e8e45cb4217b6309b57967ebc42": {
     "views": []
    },
    "304b25bf8e6f430bad1befa619ec1ec6": {
     "views": []
    },
    "305df8b6120e4c5b8e5da63cf295b2f1": {
     "views": []
    },
    "30655cb7ea7f4c2a8700bf5af2d4ff1c": {
     "views": []
    },
    "3087711ecde5406a996dfaec479e599b": {
     "views": []
    },
    "30a34f6886b345599ce2267c4a637797": {
     "views": []
    },
    "30b10e26098e4e6a81b908eb99cfd1ea": {
     "views": []
    },
    "30c62ed34039439ca6bcd3367654996d": {
     "views": []
    },
    "30ee0c431daf44918d383f349af42261": {
     "views": []
    },
    "30fc685437144cfdb36eddd49e76243c": {
     "views": []
    },
    "311533354ca24e8d8010b61806ca905d": {
     "views": []
    },
    "31169ce9b5544d8e8b7d272e5afe4895": {
     "views": []
    },
    "312be012dc78466d94a6fed8b532eaeb": {
     "views": []
    },
    "312c583c45ea4fec871c89b45073aedc": {
     "views": []
    },
    "3155e38caa4d4abb96e6230728db9f25": {
     "views": []
    },
    "315d79edb8444d9894aa46db013832eb": {
     "views": []
    },
    "3165479734cf427cb002931104864e89": {
     "views": []
    },
    "31658320fa0a4524ba71235191973581": {
     "views": []
    },
    "31824cf2d15f445296a933a803116c40": {
     "views": []
    },
    "31aa7fe373e84702895f6b61eba519f3": {
     "views": []
    },
    "31afd6bda8c64a509056c8b8bb541ed4": {
     "views": []
    },
    "31b6e4d8a8b94594b93c52a44a5bb3fc": {
     "views": []
    },
    "31bb40af10264fa29bddfdceb057c283": {
     "views": []
    },
    "31bb7201b40f481d9beb1258f8df2c77": {
     "views": []
    },
    "31c1d7f39f90433bb4ce980de0dd8408": {
     "views": []
    },
    "31c5717b80f54c6cac01d9d8713ef0de": {
     "views": []
    },
    "31e3243d662a4e889d9023d35bbde432": {
     "views": []
    },
    "31ebf4d5965e4adfa183bf396e646746": {
     "views": []
    },
    "31fc6220014c4aac922088fcfd87f69a": {
     "views": []
    },
    "31fcf794e0b84098bc07aa70c0bd72c8": {
     "views": []
    },
    "3205f6f705c04b7b9b8ec4564758c9d3": {
     "views": []
    },
    "3221c2c7122e4ff7bdacd081be036742": {
     "views": []
    },
    "322a51e189ec47248d22525fb43e5fd6": {
     "views": []
    },
    "3230832239604ca0bc73d292cc12fa99": {
     "views": []
    },
    "3236043ab0684a8197757ead35d5e29f": {
     "views": []
    },
    "32393e7159424896b6bfdeca52ac28f9": {
     "views": []
    },
    "3239de6eb17646f3b81a311a6e463ade": {
     "views": []
    },
    "3248892643834a2c91ac717faf2a244e": {
     "views": []
    },
    "326626786130421c80070ff166cfdb79": {
     "views": []
    },
    "328be33296574104a968cd6848eaa5de": {
     "views": []
    },
    "32a4800fc8764ff696d99d13dec2cc48": {
     "views": []
    },
    "32cec5853f794c4e824dff9310cb5c56": {
     "views": []
    },
    "32d65a1b8d1146dea9678696a21db345": {
     "views": []
    },
    "32e65423ae7c46a5864b0b2df5ccd1db": {
     "views": []
    },
    "32e88f98502d4ed684c3a941fe921a99": {
     "views": []
    },
    "330ffcdadafb413c9f2077996c4509ed": {
     "views": []
    },
    "33219e16d30d4533b82a47487b3a9531": {
     "views": []
    },
    "3333ff97c5924ca895bbff1fa7c736f2": {
     "views": []
    },
    "33349ed1362242dea03ee29b386568cb": {
     "views": []
    },
    "33395310c2244fbbbfc4e02dd4c65c7a": {
     "views": []
    },
    "333cc8fbef1b4bcbb67e12dd56e13813": {
     "views": []
    },
    "3346a2d560fd4605815f4194675ad6ae": {
     "views": []
    },
    "334bb358eada4edb8ae005f19a4b30e1": {
     "views": []
    },
    "3365a141b1e54dbf8145db0de1afb60e": {
     "views": []
    },
    "33690d921c7c4d52ac21c6870ad96afd": {
     "views": []
    },
    "3376f6d972f04a98a65c8f40adb0634f": {
     "views": []
    },
    "3397e1c1320d44609e7b74ab53614835": {
     "views": []
    },
    "339b024bb08f4f66adb091b553417abe": {
     "views": []
    },
    "339d1648b7ab4d36a6b02a3280c3623c": {
     "views": []
    },
    "33a5f9100d654627aa0088d0694218ca": {
     "views": []
    },
    "33ac0b6a0ca848c888e706d132350c6a": {
     "views": []
    },
    "33b3005629c94b94b009878347c73ddd": {
     "views": []
    },
    "33b97739abb04daf90b7e8692748076e": {
     "views": []
    },
    "33bef06ac9c84891925bd6e6eae55c37": {
     "views": []
    },
    "33c5dbc167cb42e3b604e8ae41d3d06c": {
     "views": []
    },
    "33d29cea8f95405fb6978da9b3653220": {
     "views": []
    },
    "33d5956931d943d28243ef6f0a0a6a2d": {
     "views": []
    },
    "33e3b98d9bdc432083ba94a8072c1b81": {
     "views": []
    },
    "33ebd2d92113426bb602944d7fb79a57": {
     "views": []
    },
    "33fb5f15187b49908b0e0d828fa1a7a6": {
     "views": []
    },
    "33fe673eb9e5417d9b263eda2cbba1df": {
     "views": []
    },
    "340c396d3c9a41b0a49b2267dd83296e": {
     "views": []
    },
    "341e5695a7004223abe5872d39ce0642": {
     "views": []
    },
    "343800dff1f74a0fae9c402631a2ec3e": {
     "views": []
    },
    "343c8abc06f346da8333e71a81d8fa9b": {
     "views": []
    },
    "3455b99da08c45708dd8db0445a7ac23": {
     "views": []
    },
    "3460db4e7a384dd68d32bb19ae7c380b": {
     "views": []
    },
    "34647f625f5b470cb1ab65c3ca586165": {
     "views": []
    },
    "346bbe1438fb46af9c47322cafd8ed13": {
     "views": []
    },
    "347d004c13ee4ca7bcc7370e3d8160c3": {
     "views": []
    },
    "347f4f84415c4f30b81ca4163a78ea53": {
     "views": []
    },
    "34d71d6c0536419584057138ccf3faa4": {
     "views": []
    },
    "34fdc3402f944d909d733007bf9aadce": {
     "views": []
    },
    "3516921342d441458d37cc1e8d0af8cc": {
     "views": []
    },
    "3519d79e777541d3bd7288da66bb1e4d": {
     "views": []
    },
    "352453315c5e43f183bae88bbcbdd06d": {
     "views": []
    },
    "352895628b9b41d2900926d02dccad5f": {
     "views": []
    },
    "354a4e03adb0495a84dcad1a68419ce6": {
     "views": []
    },
    "354d6e6258234f60ba919c5416940ae4": {
     "views": []
    },
    "356602d1cc2b49f7a4df9f1dd2e97ac1": {
     "views": []
    },
    "356a0316782744e68950fd1b46915bbd": {
     "views": []
    },
    "3583152a029c4028b977369033772e24": {
     "views": []
    },
    "3591f4006c6d4e5fa403e83e3b7fb34e": {
     "views": []
    },
    "3596a9ae94ab4330ae40a888a51508c9": {
     "views": []
    },
    "35aa2f15afb64c79a7322215185b7db9": {
     "views": []
    },
    "35bba8bede7c4e9e997d893cb392e3f8": {
     "views": []
    },
    "35c6275e906046b2a357918b476acc40": {
     "views": []
    },
    "35fdfe8d28514d5c8e5d241b7d5d88a5": {
     "views": []
    },
    "3606cbea168d41baaa6fe79cd7933617": {
     "views": []
    },
    "360be5a7e57148838d312594dafc087a": {
     "views": []
    },
    "36179bbf4af54b4fb7949ea0cf936a1e": {
     "views": []
    },
    "362305b4ad884f5ea4549af985492f6c": {
     "views": []
    },
    "36454b11f66f4cf2be4a4576a1cbd59d": {
     "views": []
    },
    "36461509ab1e437c80322031e808c61c": {
     "views": []
    },
    "3664cc2da29e4b0d9e55c4e4d074ffb2": {
     "views": []
    },
    "368451c2d6124dfcb7e465040c1e0064": {
     "views": []
    },
    "368cadcb79214e03857af0487d41080e": {
     "views": []
    },
    "3693a0bdb09541aab641be489259f112": {
     "views": []
    },
    "36e314243f35433199aae8d65f4d5fd3": {
     "views": []
    },
    "36e67da0bc6244698dd829b1cd9f8e1d": {
     "views": []
    },
    "36e6c3131792494389d2842c11b2f719": {
     "views": []
    },
    "36edb86ca372450c82374181682ddd86": {
     "views": []
    },
    "36fef62c2e0c4d58b6f62adb822d872d": {
     "views": []
    },
    "37101f87da3a4ba59876718dfcf19ce2": {
     "views": []
    },
    "375154c00a4a430dbfa7b70c91c43459": {
     "views": []
    },
    "375d9fa307a745de9053b7463bb27753": {
     "views": []
    },
    "37716e2422654f8bbc057f8ac5eaae93": {
     "views": []
    },
    "37730fc3d7f744c6b6afbde6bc0430ac": {
     "views": []
    },
    "37901c533daf40bda0d37554d781f3ee": {
     "views": []
    },
    "37959bcaa2c343b3b8c45808d1b9d8ab": {
     "views": []
    },
    "3795df180b734cc8b4aa79735daa3388": {
     "views": []
    },
    "37aed4bd0a314aad847407446879120e": {
     "views": []
    },
    "37b08e749c904c818f1ee2fb98063ab1": {
     "views": []
    },
    "37ca7076d436428ebb74021c35c917e4": {
     "views": []
    },
    "37e53035cc72410e8cd0b44e14889950": {
     "views": []
    },
    "3803d160fa154e8a827e928548a38508": {
     "views": []
    },
    "380b44c3b37a46cdba549a01d7e41522": {
     "views": []
    },
    "380dc23533284ab0b9083fed3a1eb2f4": {
     "views": []
    },
    "3816dffbcbe7485c9fcd5cb0c34b52ea": {
     "views": []
    },
    "3818fd6e850343a8ba761a1a6c990665": {
     "views": []
    },
    "381bbe01c1b740c5813ae0fae6b75715": {
     "views": []
    },
    "381f6bacbcdd4bf0a78adc6c23aedfa9": {
     "views": []
    },
    "383a4b7d41da405295f681614f3668ef": {
     "views": []
    },
    "383c35537a2e4b858cbefccbdaaeec0a": {
     "views": []
    },
    "385c341ae56a4e01b5d6ca87175f60dc": {
     "views": []
    },
    "3868b6fdb261456085509e4753b8531d": {
     "views": []
    },
    "3879109e67694ff6a81f6d8bc796ca21": {
     "views": []
    },
    "38844f9574214f54a77ff27a59a95f36": {
     "views": []
    },
    "38860951c8ea42a588ef8052b4e8bfec": {
     "views": []
    },
    "388c3c7fdbaf4951820803f68a491cb6": {
     "views": []
    },
    "388d98fad2724c84ae5235dca5a2b949": {
     "views": []
    },
    "3894b37b616b4c3eaf349c328bfce3b1": {
     "views": []
    },
    "389604486ba248d3ab0c93f8517d3f0a": {
     "views": []
    },
    "38a682adefae401995ab7cbc0eeefb1a": {
     "views": []
    },
    "38b794c8cf17429783ac3575db6ed77b": {
     "views": []
    },
    "38b8c619e7d74e1b8b3b83a599bdb85f": {
     "views": []
    },
    "38bb062e5a8f45eebce412213aa20491": {
     "views": []
    },
    "391de53c0cbc498884f894be4e7789fb": {
     "views": []
    },
    "391efd2b869f478b971ce29344b13c97": {
     "views": []
    },
    "392711077dda44bb8960a49a54385534": {
     "views": []
    },
    "398e5e9a5ce947749775b57f5bca0289": {
     "views": []
    },
    "39af69225f5a442889f25de25f6c22d7": {
     "views": []
    },
    "39b086d63aab4539bacded943425c3bc": {
     "views": []
    },
    "39bf6b9bb9ec440f906da50e7636a0a8": {
     "views": []
    },
    "39ca9e73f2144bc190da80dddeb766f5": {
     "views": []
    },
    "39ce823451ed427d9bda81d886b38a71": {
     "views": []
    },
    "39d2fa7dea2f4edd9530ff9efa7f546e": {
     "views": []
    },
    "39f1c3c17ee54b65bd9b67c639c0e44c": {
     "views": []
    },
    "39ffc20be2d1450697ffc158e583f848": {
     "views": []
    },
    "3a114554db8243b481f702b423ee23f3": {
     "views": []
    },
    "3a41bdd0429643c78fdd4999d6d42f13": {
     "views": []
    },
    "3a45a537ea0f433a976a1992ad1d1213": {
     "views": []
    },
    "3a50cf414edf42c28b6619c7a23cd5ee": {
     "views": []
    },
    "3a730b8453e6464f9c4d5f626df2ad37": {
     "views": []
    },
    "3a81d9c9ed46470fb575d73c218687b1": {
     "views": []
    },
    "3a83695b2b6d4cdd8bc6b13a8d3b520f": {
     "views": []
    },
    "3a8a3d69ce0845809ab545d1cbeec467": {
     "views": []
    },
    "3a97fbaa95724ab387c880fa351459ef": {
     "views": []
    },
    "3aa6b38b53a647169c93266dcd6de70d": {
     "views": []
    },
    "3ab7d2ddb9e74503a700f08348fb54e9": {
     "views": []
    },
    "3abf4d7a734a41238de1d63dfffea75f": {
     "views": []
    },
    "3ad339a2ec15425d974134b842cae6e1": {
     "views": []
    },
    "3ad994bf1a0a4e1e988fce45ef74e761": {
     "views": []
    },
    "3ae9efada4aa446292dbf5514a9f5a8c": {
     "views": []
    },
    "3afff2cc5b714182b969ad97606dd997": {
     "views": []
    },
    "3b03283cdcbf42e18268c8b13984f862": {
     "views": []
    },
    "3b1577ceaeb2476aa4865aa2f12bd65a": {
     "views": []
    },
    "3b1d06e686fe41bdb093c9c393c603a8": {
     "views": []
    },
    "3b2e51ca5fdc4863a3d1de73f507d030": {
     "views": []
    },
    "3b57a8e712614ca3bc1d02389b750fb0": {
     "views": []
    },
    "3b5a1c00248e479fbdc8dce9da9a7b5b": {
     "views": []
    },
    "3b6b29e4c7784ae2bec78fa9b5ebebe7": {
     "views": []
    },
    "3b7b8abd52a44235ba12ebeaa8dd6854": {
     "views": []
    },
    "3b8a8cebf99c4f378009dfe056bfb144": {
     "views": []
    },
    "3ba14708f396420b9c56ac8357580d22": {
     "views": []
    },
    "3ba51c6e8f254cadbac3a07f3129adb8": {
     "views": []
    },
    "3ba6df706fc440238c00e7102a10d09d": {
     "views": []
    },
    "3ba7d90035b4488889276f20831d6038": {
     "views": []
    },
    "3bb682d514b04bceb584505d1d3455fe": {
     "views": []
    },
    "3bdf023c2ff141d688da1497369e1ad7": {
     "views": []
    },
    "3be60db1a0d34140bead2c92281ad255": {
     "views": []
    },
    "3bf60f91e036490d9a4a7658d7996daf": {
     "views": []
    },
    "3c1419b2045746b69ef422a60ef58bb9": {
     "views": []
    },
    "3c3eee98198d4d37983da89cd50a99b3": {
     "views": []
    },
    "3c3f12fd6c2340679f055697c41d4a93": {
     "views": []
    },
    "3c401ce26252432d897395fa4c76ccb8": {
     "views": []
    },
    "3c4b4f8a9c7249a785624a805ede1bc2": {
     "views": []
    },
    "3c9f622738c3469e8b1a4d9c2fe8698b": {
     "views": []
    },
    "3caabfa632944956bef6ffdb43794db5": {
     "views": []
    },
    "3cd2a855e5994def9d71d89249a65c39": {
     "views": []
    },
    "3ce5ccad79ea478d827d54b4e36d7cb5": {
     "views": []
    },
    "3cf2f01602934b9e80c9b20633f63659": {
     "views": []
    },
    "3cf51584ff2e4a95a75aa5692da8ff81": {
     "views": []
    },
    "3cfd80cfbb534f98815e676e5be3bf09": {
     "views": []
    },
    "3d01beba436547a3bc163bad7f3a3292": {
     "views": []
    },
    "3d06c49b18b341a4b49c1986a37e27ea": {
     "views": []
    },
    "3d44271dcc0f4a128a6193e438df027e": {
     "views": []
    },
    "3d4fa815d2f04f71a69c3fc81f758134": {
     "views": []
    },
    "3d5acba571954facb5a37845a9b697b1": {
     "views": []
    },
    "3d6f40d657c74f2fb5ac819d09920f3c": {
     "views": []
    },
    "3d8c74b7e8c54ce388d9d73f6088c3b5": {
     "views": []
    },
    "3d96816d95604ada91f233d1c8ebffa5": {
     "views": []
    },
    "3d9e49ba45b34027868e4b31edc7547f": {
     "views": []
    },
    "3da4eaaa2e2d48d6877fcb4592f737bc": {
     "views": []
    },
    "3da68de28f1342a8b9edf05768ecf300": {
     "views": []
    },
    "3da876b4b70443318814c18af5350cc2": {
     "views": []
    },
    "3daa63b04a064436aeed14fd0204bb2b": {
     "views": []
    },
    "3db66e6fc095434cb0ddc4a48bdf3009": {
     "views": []
    },
    "3db72b53c1c2483c9c327a358f31b37b": {
     "views": []
    },
    "3e01881c134142d7b44a16b8d7155265": {
     "views": []
    },
    "3e1c148cdeff4cd1a8c65500f46fa222": {
     "views": []
    },
    "3e39b92fe2f940b5836c4a85e523ecf9": {
     "views": []
    },
    "3e3b648a0d064004ac3281b2fcc73cc5": {
     "views": []
    },
    "3e8a992d92da41ac91dea780f5cd3c2f": {
     "views": []
    },
    "3ea63860f7f04af78e68a39854ea7b30": {
     "views": []
    },
    "3eabf7be782448d69dbaa2c33195354a": {
     "views": []
    },
    "3eb18f70d4d84835b929d607ca3463c2": {
     "views": []
    },
    "3ec69244947046fbbe6371408c52a179": {
     "views": []
    },
    "3ece5ca942e4433194490af7a82c69a2": {
     "views": []
    },
    "3edb9ce0933243809bfc6fbb78cd3159": {
     "views": []
    },
    "3ee2187495d2468cb8b0a465dde61442": {
     "views": []
    },
    "3ee546e9decc491980a830705aab1e88": {
     "views": []
    },
    "3f142d1006974740b6eee7ee4cdc9527": {
     "views": []
    },
    "3f16067ff3964ea491c3bd9efc93024a": {
     "views": []
    },
    "3f22e03a3ca943dd87e6245d5c76af68": {
     "views": []
    },
    "3f2bb53578924625921bd056b126bb3a": {
     "views": []
    },
    "3f3d5ce9dd1d496aa276405a374f6445": {
     "views": []
    },
    "3f53301dab7a45189bfca54d2b1483a6": {
     "views": []
    },
    "3f5deaba6aa4405fb508cad020ef3821": {
     "views": []
    },
    "3f6ae0a4b9234ccd8bd7a9d1468df1ff": {
     "views": []
    },
    "3f83e8b2334941a68198ee943b80715f": {
     "views": []
    },
    "3f92349eab0e48aba9290e77aa8aaf56": {
     "views": []
    },
    "3fc29ec245dd4675bfb14477df2f2488": {
     "views": []
    },
    "3fd2bc62f8b64793afa32f8e08375818": {
     "views": []
    },
    "3fdeef3baa7a418aa43bd6665410a6f1": {
     "views": []
    },
    "3fe0f08d98a74f85ba195ccac25b7f49": {
     "views": []
    },
    "3ff2508f5c7c4b6fab24cf06e3b790ae": {
     "views": []
    },
    "3ff451a3e9234ac5bb48ef06519d974f": {
     "views": []
    },
    "3fff65241f4d4b8f8a6829c6bda0f6e5": {
     "views": [
      {
       "cell": {
        "cell_type": "code",
        "execution_count": 35,
        "metadata": {
         "collapsed": false,
         "trusted": true
        },
        "outputs": [
         {
          "name": "stdout",
          "output_type": "stream",
          "text": "['Crime', 'Parking', 'Transit', 'Homelessness', 'Schools', 'Environment', 'Affordability', 'Development', 'Density', 'Politics', 'Gentrification']\n"
         }
        ],
        "source": "center = [37.76284413400416, -122.39490509033203]\nzoom = 12\nm = Map(default_tiles=TileLayer(opacity=1.0, url='https://tiles.wmflabs.org/bw-mapnik/{z}/{x}/{y}.png'), center=center, zoom=zoom)\ncreate_circles_for_topic(m, topics_data, 0)\ndisplay(m)\nbuttons = [Button(description=x) for x in TOPICS]\nfor index, button in enumerate(buttons):\n    button.on_click(lambda _: )\nprint TOPICS\nHBox(buttons)"
       },
       "cell_index": 5,
       "root": true
      }
     ]
    },
    "40006d48971b41feb413979d207a812f": {
     "views": []
    },
    "400aa59b48864ccaa534b74e1843a873": {
     "views": []
    },
    "400e56d317a742adae47378059673b5e": {
     "views": []
    },
    "400ed188326f4b1890421b3014782743": {
     "views": []
    },
    "402466bd9ec7409c9990b2c7799d9b51": {
     "views": []
    },
    "402b28db369d492d97ca81f9a38f3a54": {
     "views": []
    },
    "402f1d2a7bd9471eb3301b07458ff985": {
     "views": []
    },
    "4040aebd3fcf4a79b691c7970e94e9ab": {
     "views": []
    },
    "4073d9d48c7f4f58a32927f94fbb72c4": {
     "views": []
    },
    "408e5236c4f841b18c7012a996aa02c0": {
     "views": []
    },
    "409d22606e6e4994bd10311885be3ac1": {
     "views": []
    },
    "40b494b15c9d46dc9a8eb084a3dce822": {
     "views": [
      {
       "cell": {
        "cell_type": "code",
        "execution_count": 35,
        "metadata": {
         "collapsed": false,
         "trusted": true
        },
        "outputs": [
         {
          "name": "stdout",
          "output_type": "stream",
          "text": "['Crime', 'Parking', 'Transit', 'Homelessness', 'Schools', 'Environment', 'Affordability', 'Development', 'Density', 'Politics', 'Gentrification']\n"
         }
        ],
        "source": "center = [37.76284413400416, -122.39490509033203]\nzoom = 12\nm = Map(default_tiles=TileLayer(opacity=1.0, url='https://tiles.wmflabs.org/bw-mapnik/{z}/{x}/{y}.png'), center=center, zoom=zoom)\ncreate_circles_for_topic(m, topics_data, 0)\ndisplay(m)\nbuttons = [Button(description=x) for x in TOPICS]\nfor index, button in enumerate(buttons):\n    button.on_click(lambda _: )\nprint TOPICS\nHBox(buttons)"
       },
       "cell_index": 5,
       "root": true
      }
     ]
    },
    "40c55901669d4e529e31f618c54b8873": {
     "views": []
    },
    "40c908fd1856421bb4d616dd02722394": {
     "views": []
    },
    "40d090ce905247a890078c020ba500ee": {
     "views": []
    },
    "40d517765648481ab531ea05b31ad690": {
     "views": []
    },
    "40e434abd7dd4edc8a5eb7205d78bf3f": {
     "views": []
    },
    "412659025da04ccb871fd015e5472034": {
     "views": []
    },
    "4129175f858e47ed80b461bef6320069": {
     "views": []
    },
    "412f2e18e7434bd4a9b415e335c960a5": {
     "views": []
    },
    "412f9a8df044416893251a6344799c75": {
     "views": []
    },
    "4135737a6ecf42cebbe612acc2c1a32b": {
     "views": []
    },
    "4144ec4106c245a4a537793a2bb9d44a": {
     "views": []
    },
    "4148506971cf48aba97097239e22744f": {
     "views": []
    },
    "415db5f26b8e4e318deb0f74e664991f": {
     "views": []
    },
    "415dfc3363964547b9b8643b7b9dfc1f": {
     "views": []
    },
    "4163f63bbe9b4b9ab1c23b7bd3f9ce25": {
     "views": []
    },
    "417dbbb9896a422eb36269c23495260d": {
     "views": []
    },
    "417e5a13c77f43d8bbb9c53a29652104": {
     "views": []
    },
    "41e38fbeff87490aa95669d9ea9b17bb": {
     "views": []
    },
    "41f863cae58346738c574c47a79dec49": {
     "views": []
    },
    "42048aafcd3d4cc2b6d72743d4a582ef": {
     "views": []
    },
    "4207cd878bf1405b934b0f61b0e32beb": {
     "views": []
    },
    "42249de7805c48bb90408491e0e018cf": {
     "views": []
    },
    "423310e4f76c4079b8f665398d2c34ce": {
     "views": []
    },
    "423adbaf48da4ab3aeee9335e4a3fdcd": {
     "views": []
    },
    "423fadcb3acf4cf787369de0dab84267": {
     "views": []
    },
    "4263cce9a92b4df7b7f9ca17de32840e": {
     "views": []
    },
    "42719e6e0e864a97ad031b7763a88dce": {
     "views": []
    },
    "428ecbc8223f4dda883f3e02110df44d": {
     "views": []
    },
    "42c6f13058a343d0a5eeb5b2a9b49dc9": {
     "views": []
    },
    "42c7ef7ebdc94d99888a11e4831eed5b": {
     "views": []
    },
    "42d09fe4b4584d478f507b451d4e838e": {
     "views": []
    },
    "42d2de459da74bf6b3d8d5372b19aba7": {
     "views": []
    },
    "42dbebb0111148d5b3fae3bd979d6d0b": {
     "views": []
    },
    "42e961982a0d4b00b24934d723a4b8c9": {
     "views": []
    },
    "42fbe528ab1e4828b92c49a5e3a3d22b": {
     "views": []
    },
    "430df0a846984481b9d82feb24db3271": {
     "views": []
    },
    "430fc55c055141f992a09217a0ddf2fb": {
     "views": []
    },
    "4336af6b1c0b415388002709db692a84": {
     "views": []
    },
    "433c40c96a4748828f5bf1a77e930002": {
     "views": []
    },
    "43488970095a4a20a91739261aecb5b3": {
     "views": []
    },
    "437a118a963e4c1fa0fe3a5e60fc38b8": {
     "views": []
    },
    "4393a9c735ad46b1975a26a1a7adaf4f": {
     "views": []
    },
    "43a449ef6ca14373bdf540477e32a3a5": {
     "views": []
    },
    "43a6bd013f204832854ab3d5896bd341": {
     "views": []
    },
    "43bf67d6b9254dcba8fc67be6f17b33a": {
     "views": []
    },
    "43d01990a6b947b48930df45113d9f7e": {
     "views": []
    },
    "43d61cafbcb7446d8ba0902233ff4168": {
     "views": []
    },
    "43dd93baf71d4b288b3cee9329cad403": {
     "views": []
    },
    "43e75e59a3ef442c8a1e8a108e14128d": {
     "views": []
    },
    "43f10be720704fd8bcfd8e696527d4ec": {
     "views": []
    },
    "43f95dc3a14e4b6baccf0bd13834f67c": {
     "views": []
    },
    "43f982569707463e836398428ffc9fd1": {
     "views": []
    },
    "440637e1627a4230850693157cd089ca": {
     "views": []
    },
    "4423eca476d54eb58a4601c61e9034b7": {
     "views": []
    },
    "44264afb313d49158db7c2a79438ff5e": {
     "views": []
    },
    "445b1b5e322e4a17b2f3d8d4d29822d9": {
     "views": []
    },
    "445bd3c2b5274f3f9f45dbbce3e07d9a": {
     "views": []
    },
    "447f1fad99bd4fa3849e261cbcef8a77": {
     "views": []
    },
    "44837bc0a8f94b08bd20cdeaacdcf912": {
     "views": []
    },
    "44a6951109b441e1940e481edadfecdc": {
     "views": []
    },
    "44aa797625f448a08d06d024d521cd95": {
     "views": []
    },
    "44d87f64d0e54269a417db29785c7206": {
     "views": []
    },
    "44db4c2ec8b24c899f0c2b5670c33a1d": {
     "views": []
    },
    "44e895f54dc04391be00ad3dc1a316df": {
     "views": []
    },
    "44f746cd48924f619df9e0dae0d69d9f": {
     "views": []
    },
    "450de2014e334723b12b10b6f4f66b78": {
     "views": []
    },
    "4514f7c33d704d9c8599e0119bbed7a4": {
     "views": []
    },
    "4519cee610b843709f30568c4049bc0e": {
     "views": []
    },
    "451b1159852546618380755e9403f4bf": {
     "views": []
    },
    "45234720b54e463aa5023ffbc951d240": {
     "views": []
    },
    "45421130319141068d5e07e0a6723fed": {
     "views": []
    },
    "45476728489247e9b16a605a19ea714b": {
     "views": []
    },
    "454aee436029472e85c76e3e07ed3ea6": {
     "views": []
    },
    "4555ba63d1ac4598920b222461ef1f36": {
     "views": []
    },
    "4558db0ffd5c4672acb8af84be34d41c": {
     "views": []
    },
    "4560ea2fbc5a46c9bc044739e6c684d4": {
     "views": []
    },
    "456c11f7cc1d423187f4990d77558597": {
     "views": []
    },
    "4570a9076bc543bc8fbf8775b924b3dc": {
     "views": []
    },
    "457eb73a41834ea492126991b004c39f": {
     "views": []
    },
    "4588d00348144526b726cb4726de8b6a": {
     "views": []
    },
    "45a6b9d4b224451d9c423395ffdb61b6": {
     "views": []
    },
    "45aa6e816a1e48c2affecfe42c68f6e3": {
     "views": []
    },
    "45b4ac5b440845f8b078453336ef6d68": {
     "views": []
    },
    "45c74ec14b014d6d9d3fc197d53f7fef": {
     "views": []
    },
    "45d16e6cc14841f4b46c2e48ea3a2fd5": {
     "views": []
    },
    "45d42e99b76b405fa3b95b54dc90c591": {
     "views": []
    },
    "45d480e841c946cea28897a90b3b9bae": {
     "views": []
    },
    "45da8ff581ec42a08adba14755f42421": {
     "views": []
    },
    "45f8ec9b31f74d04a76092217f1113a1": {
     "views": []
    },
    "460e715a070b46d984c1914a3dde01ec": {
     "views": []
    },
    "461b38b67fb34b1da12436e9e2f85313": {
     "views": []
    },
    "4620380007cd408abf83f2df966f771d": {
     "views": []
    },
    "46276a7a133f4dcd835561120d780ce5": {
     "views": []
    },
    "466682ce8cfa4f92a2fa0b8d66ff417f": {
     "views": []
    },
    "467034947ea7498184e26055ce9fcd5a": {
     "views": []
    },
    "46805293f3a24b82ac922f11174832a6": {
     "views": []
    },
    "468a52c61a1b40a688001b64325ef528": {
     "views": []
    },
    "4695f30152a94d05966be2d576e6176b": {
     "views": []
    },
    "46a0e7742db5443894d18497ef17c985": {
     "views": []
    },
    "46b505af7bed45f099584673cc340408": {
     "views": []
    },
    "46e8a289ae514c1282f8346337137d54": {
     "views": []
    },
    "46e9e19ce83f4cdcba1ccb83236b4cf0": {
     "views": []
    },
    "46f523c015d744f3be64f816028985f8": {
     "views": []
    },
    "470b45a7c5394c39af775ce5432ce9c4": {
     "views": []
    },
    "471fe9518232446ea0176f6a01e558cc": {
     "views": []
    },
    "4725cbe6828f4aae8b0202b1087ed970": {
     "views": []
    },
    "472bdc5043154f2d9cecfd36f76e5b32": {
     "views": []
    },
    "472c87c5d28e4bba9b20290d046420c9": {
     "views": []
    },
    "473dbd5d037c4370aa2a5303b831facf": {
     "views": []
    },
    "474c276314c94bc9a034c11b3a53c601": {
     "views": []
    },
    "47579e7b021a4dafbf20be39e9fa0150": {
     "views": []
    },
    "4763f923e0a2463ab8740a3c9ac0eb8d": {
     "views": []
    },
    "4771af92ba6245379b2d5db670d4544d": {
     "views": []
    },
    "479ae436e7664d2b89353dc2710600cd": {
     "views": []
    },
    "479d463ec2a544c49950975f99b12cfc": {
     "views": []
    },
    "47a0ed8edae84a62ae01adb0cddee925": {
     "views": []
    },
    "47a1e0042c244a6ca3a7488229606ab1": {
     "views": []
    },
    "47b6fb3f45a441a98388817cadd89ab9": {
     "views": []
    },
    "47c1b13aef004b94af745c2524f34af1": {
     "views": []
    },
    "47d34d3c155c48a4b395b2dc0c4cf3c3": {
     "views": []
    },
    "47d5b91f77224ec2abcdaa64f4fedc44": {
     "views": []
    },
    "47e438ae577b403e9d24a0ec951c4c13": {
     "views": []
    },
    "47ff2eb26de148a99e01b7bbb68562fe": {
     "views": []
    },
    "48050c82503948e89ffe109e728c842e": {
     "views": []
    },
    "486733fd68924db3b50957efe20dcd3b": {
     "views": []
    },
    "486cbcb240ad4e8db813b6b6c7349969": {
     "views": []
    },
    "48716d2a894e4d89a7bd9809e78fa2e0": {
     "views": []
    },
    "488cba51c4624bc196f39312ccdbf16d": {
     "views": []
    },
    "4892375081974aa08c01b3bbab197307": {
     "views": []
    },
    "48b189eae3fa4ccabcda8f2d3ea8d6a7": {
     "views": []
    },
    "48d066512fda4208b4bc12c5191c4341": {
     "views": []
    },
    "48d8010a3a4a48618e3369faa8a73021": {
     "views": []
    },
    "48dee4c3207c44e990f2aa9669b9130c": {
     "views": []
    },
    "48fde82ddc504504871938af4c7c5363": {
     "views": []
    },
    "490018498f2940d8988e93a6920bef97": {
     "views": []
    },
    "49094b91795d4b4cbf3f64fe7f9f1e41": {
     "views": []
    },
    "49155379a9ec491dbf9ea4089f2c0c2d": {
     "views": []
    },
    "49159d3d78a24f69844cea2ec03e6a8f": {
     "views": []
    },
    "49210ded97a74f33a67ac084fe3aceb3": {
     "views": []
    },
    "49473c1f690d4b35a7346f112af76681": {
     "views": []
    },
    "4949dd1fcfa547da8a3aa2f2f6e99f63": {
     "views": []
    },
    "494fc2ced66e40508d3df8433c7370de": {
     "views": []
    },
    "49518ecf8160449581becae45185826e": {
     "views": []
    },
    "49721271d07745e3b7f87d0ffc6f4a76": {
     "views": []
    },
    "49733030a558493d9e51ade5e07ff766": {
     "views": []
    },
    "49840c26effc4824b677ed794fb9f772": {
     "views": []
    },
    "4988289fb95348b282b3d430886fefc9": {
     "views": []
    },
    "498c78173435415f8162a1a5ad8be7bb": {
     "views": []
    },
    "498fd4741ce8488da5cfda0fe127f246": {
     "views": []
    },
    "49ae006cec9e4502b15a7d34898c5a28": {
     "views": []
    },
    "49cc78b384cf4a33a099e01e22338347": {
     "views": []
    },
    "49e20015f5b74c62a9a8c27773feedf4": {
     "views": []
    },
    "49f5d876f3154937900c7f09556d5cb2": {
     "views": []
    },
    "49fa197beef5460b80ccd2bfe420466d": {
     "views": []
    },
    "4a01f3fcb5f84af2b0c0441fd2004a17": {
     "views": []
    },
    "4a229e98c3b745dbbeddf276ef5078f4": {
     "views": []
    },
    "4a4ef700d28c4fa6850cac1d652a0a2f": {
     "views": []
    },
    "4a7b82f5300940ecb3518d05700ba22d": {
     "views": []
    },
    "4a7d061b923d449ca1d552ef3b639ade": {
     "views": []
    },
    "4a7e99620376422986fefcf61cb09a75": {
     "views": []
    },
    "4a87c28e4b40445eb34246fdac0e5fbf": {
     "views": []
    },
    "4a91b33b3fad47178b65451f385e929b": {
     "views": []
    },
    "4a964ac8ada744419e331ccf4c0b0186": {
     "views": []
    },
    "4a9a7780d785427abb5d14bcdaee167e": {
     "views": []
    },
    "4aa29ced99a7417b9ab202d888eef18a": {
     "views": []
    },
    "4ab2a954e3384f3ba930ca928f773b43": {
     "views": []
    },
    "4ab3f6ced2704fd7be0d1730430a4964": {
     "views": []
    },
    "4abfb098aad649e5a20dadaf9d8f9c0a": {
     "views": []
    },
    "4ae3c30b90514a42a417a473a945d9f1": {
     "views": []
    },
    "4b0d6952e21d4a23832882bf5faa6656": {
     "views": []
    },
    "4b1a8a32a3864f26a06495b156066137": {
     "views": []
    },
    "4b2fbc50bb18470a9f89e2d4637bb99b": {
     "views": []
    },
    "4b4ba49c7ac94149b2a24c4acbcd5b4a": {
     "views": []
    },
    "4b543be38455481caacf29b32d6bf899": {
     "views": []
    },
    "4b7f5b21932142c5a5e0b3f737f3c781": {
     "views": []
    },
    "4b862a2e611c49589588742270d82da6": {
     "views": []
    },
    "4b8df4429e5e4736bc098512c775c54b": {
     "views": []
    },
    "4b9f11faf9634ae7a620c8a6db4372c1": {
     "views": []
    },
    "4ba98b0b6815404c8de163a84b556cfa": {
     "views": []
    },
    "4bba9c40eed645d6b5e3b260ad5c905b": {
     "views": []
    },
    "4bc18a425edd454fb90b0416b9a403df": {
     "views": []
    },
    "4bc356d58d6f4b21ad115e92b8da679c": {
     "views": []
    },
    "4bc656146f954354840c85bc5975b7fb": {
     "views": []
    },
    "4bc8838dbbd34e628855239e0a8eb057": {
     "views": []
    },
    "4bef42c367c1431dac848a9886ac95b0": {
     "views": []
    },
    "4bf5bfead42d4dab98cba200b6dbaff1": {
     "views": []
    },
    "4c038ff3c8204ee487d617c5c04dfa65": {
     "views": []
    },
    "4c03e50638ed4172a199565ffc94b7df": {
     "views": []
    },
    "4c1e27b0452d411794a417fd0178964a": {
     "views": []
    },
    "4c2ba333ca14489e9705c5d1232f57f0": {
     "views": []
    },
    "4c38035b5e8146a9bc2bd92416048914": {
     "views": []
    },
    "4c3f91bbd1d34a07a26e1e35ac96d2a6": {
     "views": []
    },
    "4c58b60badd0492398245879d85aa135": {
     "views": []
    },
    "4c6c78f2c6da444ebe85b415da4f0898": {
     "views": []
    },
    "4c8988eccab74c30b76784baf0af6cca": {
     "views": []
    },
    "4c9e7454b513485a8d7f0a1da37186d0": {
     "views": []
    },
    "4ca29275c82c4ec6a2285b6c3f185e28": {
     "views": []
    },
    "4cad7364b995445c91ce9581e695fdb2": {
     "views": []
    },
    "4cbe0ee69bb2428db91237d868cfc02a": {
     "views": []
    },
    "4cc312f5eb0e4a77979eb61be821dccd": {
     "views": []
    },
    "4cc7538481c2473e91569c3140d5feaa": {
     "views": []
    },
    "4cc7e1c971154df5bba54652a3132c7c": {
     "views": []
    },
    "4cd2853f31614202b49ed6af989ba2f5": {
     "views": []
    },
    "4ce53904fbbe4ea285174d50a8f73976": {
     "views": []
    },
    "4ce5cddd35f4426fb7ea71d8c9136a06": {
     "views": []
    },
    "4ceb77f4100b40f0ac55829af52578eb": {
     "views": []
    },
    "4cec4444e60c452d89aa478471f5846f": {
     "views": []
    },
    "4cf03554896a499dba98c29015e2aa64": {
     "views": []
    },
    "4cfe2dc878f14d73a56abcf16bf193db": {
     "views": []
    },
    "4d08969fd88447a18e2b07d8383582b9": {
     "views": []
    },
    "4d0958cb35574180b1724fed4e6eb96a": {
     "views": []
    },
    "4d313eaa210e4b4590fb21ee14c336df": {
     "views": []
    },
    "4d4774ceea91440b8b536bec1941cea9": {
     "views": []
    },
    "4d509b6b77134c948d44394ca37f3032": {
     "views": []
    },
    "4d595464f4e3489f855f19c3196dd648": {
     "views": []
    },
    "4d61cb52e05047a084603d36018a0e0d": {
     "views": []
    },
    "4d6f392715204bd6a2966de1a8bc597d": {
     "views": []
    },
    "4d7298a41aa24d93902aff6726201819": {
     "views": []
    },
    "4d746fc3fde04362b1eaba074cf6a5fc": {
     "views": []
    },
    "4d86ebf1e42c40ef9fd11aecc0610fb5": {
     "views": []
    },
    "4d93487fe78842b390cd445bdbb46ea3": {
     "views": []
    },
    "4d9bab07f069443082e05955a2bc1103": {
     "views": []
    },
    "4da47e0fdcb848cfafc3f845aafa4cdf": {
     "views": []
    },
    "4dab8fe229fa429191e8909be6f61f2f": {
     "views": []
    },
    "4db5dadcb07d44acba9c8fa3b340bbe6": {
     "views": []
    },
    "4db77451443c486c89fdfcd0205c156a": {
     "views": []
    },
    "4dbbd27cab854818bed13e313baf2a15": {
     "views": []
    },
    "4dcfcc561f5f491f981f3ccb7f9a3416": {
     "views": []
    },
    "4de208a28d7b4e47af0bdcf937625fc4": {
     "views": []
    },
    "4dfba8686d9d4fbf8960b55f2493792a": {
     "views": []
    },
    "4e05066992794d21808936c7c0c9e1af": {
     "views": []
    },
    "4e107a5794554d65a858a761eea73595": {
     "views": []
    },
    "4e16cb045e584def904eb2be97fa59dc": {
     "views": []
    },
    "4e2766ec3ce04526bcf5da1499ec731e": {
     "views": []
    },
    "4e2f7b44989644798cbf3aea0beeb5be": {
     "views": []
    },
    "4e2fd7c0029b490c97a5249e247a8dad": {
     "views": []
    },
    "4e442d8a09ff4a00bf326fb75d1cc853": {
     "views": []
    },
    "4e62dfc097f14cd7af88038a7981353f": {
     "views": []
    },
    "4e8ee58a10144406929177dd24cc5783": {
     "views": []
    },
    "4e9c38f8b6ac4f68a032b25237aede30": {
     "views": []
    },
    "4ea1e9d7d7e84e1494b4abc34a771858": {
     "views": []
    },
    "4ec355efe4b94269ad9a3c0e7e480099": {
     "views": []
    },
    "4ec560ce1b454bc3820bc5ab8e71fdc2": {
     "views": []
    },
    "4f00b9c5d33c450ebca5c952f9351e5b": {
     "views": []
    },
    "4f4a812d9af843dda65c170966b60923": {
     "views": []
    },
    "4f597ea94d764a5d8fcf89f8f24d3854": {
     "views": []
    },
    "4f5d8927ee7447e59ac6a1334f172f8e": {
     "views": []
    },
    "4f78e4fffeee47398d335b184afbc264": {
     "views": []
    },
    "4f790b353fc74dbbbe7c30eeb8261e14": {
     "views": []
    },
    "4f81227198a84886aa813bcb32e7b5cc": {
     "views": []
    },
    "4f846c2f230344318b8ab1e0d93beb38": {
     "views": []
    },
    "4fb34203c80f4e4383a230eb0cb4afb6": {
     "views": []
    },
    "4fb790b0131e428f8fdbaa70141beefd": {
     "views": []
    },
    "4fc3fd3ee46e4c7f9c024df665b717ce": {
     "views": []
    },
    "4feb867ccb4448a4a916b363723b45bb": {
     "views": []
    },
    "4fef4a79a530483d8cdebfe8f36cfc61": {
     "views": []
    },
    "4ffba523832c4db2b1aa31c479f1eea7": {
     "views": []
    },
    "500ebe5ba85045bd8ddfebeda1cdd2a3": {
     "views": []
    },
    "5017f3a80e8a415f9e9e2f8ca0be8e12": {
     "views": []
    },
    "501fb72644024a988d677a8d6c09f599": {
     "views": []
    },
    "502a37a8efb6466b9c251582029f5d3b": {
     "views": []
    },
    "505a6c8d06104fdea4265973db9971b0": {
     "views": []
    },
    "50628c36c4f4475486bfd50e22027698": {
     "views": []
    },
    "5063c20ce26d4f69b082cabb20330960": {
     "views": []
    },
    "5068d67afb7a4ec5b7954be7bc562e6d": {
     "views": []
    },
    "50728327ad7a457fbd66ceed95a80584": {
     "views": []
    },
    "5079cf933097413f889dcb234c1ea2a2": {
     "views": []
    },
    "507dd58cb7124186bf8b8acadbd69e33": {
     "views": []
    },
    "507f51b2b02d41c781ca6949d5cb58fc": {
     "views": []
    },
    "508354d483f94c5c995964690575faf4": {
     "views": []
    },
    "509a69e95cee4c5083a6e769dfb72df1": {
     "views": []
    },
    "50c1bf3c594c443688e53874c16e6e3e": {
     "views": []
    },
    "50c9c5da45c04d76bb24ff62a7452c05": {
     "views": []
    },
    "50d20af09a4a488eb40b3783550c9a77": {
     "views": []
    },
    "50db335ce1c1464e9325aed680e7270e": {
     "views": []
    },
    "50f7fc0a89d44b188dabab38c92b055d": {
     "views": []
    },
    "5114d23f27604289af2d3e858d3c3ec6": {
     "views": []
    },
    "51184d86b12b44cfa240f326eba18adf": {
     "views": []
    },
    "51356fbb8629473c8b0d69f2abc3668f": {
     "views": []
    },
    "515c1b949c5c4248a6286877d02534c2": {
     "views": []
    },
    "516162609ca04fbabddc5f69d2b13f2f": {
     "views": []
    },
    "51651b808177416eb54ccc94a4a9e734": {
     "views": []
    },
    "516cc838904240a2b1db123dc5d9cb16": {
     "views": []
    },
    "518f63114fb5465da2e180e4eff09598": {
     "views": []
    },
    "51c31d005f884a70b5b6e9ef979678b0": {
     "views": []
    },
    "51d1820baf184f3c86e251fddd417ee7": {
     "views": []
    },
    "51d4747e033d486f89534d2394dfc989": {
     "views": []
    },
    "51d709f1e4d745e0aabac3d088f82e34": {
     "views": []
    },
    "51f1e28ffb444ac89b7ffb86ca3e7093": {
     "views": []
    },
    "51fb90f972e144de880bead1e848c64a": {
     "views": []
    },
    "52057f04d1e4492eb8bda611f3f2794a": {
     "views": []
    },
    "521ce28ed23a4b6f8221de664ae9a9c7": {
     "views": []
    },
    "522b02c904504e35a03ec900869a542b": {
     "views": []
    },
    "523fa5b6d59548fea7a9b79935f2957d": {
     "views": []
    },
    "525e3d1244a6417d880f40c42ac4edbb": {
     "views": []
    },
    "5266d8003597414b8026c0cc8c23c155": {
     "views": []
    },
    "5267c94c10944967ac8ae71d56772843": {
     "views": []
    },
    "52760febaf234ad9a61ff3b63a726d24": {
     "views": []
    },
    "5278489de40b469eb202294f5afbea59": {
     "views": []
    },
    "5288cbc8f749433d983664bd315a4131": {
     "views": []
    },
    "5289bc06e65c4b538501378097bd0c90": {
     "views": []
    },
    "5297afd3e9a34dd0b1d6e48270b8efd7": {
     "views": []
    },
    "52a8b29243394b15b87e45edf1bada79": {
     "views": []
    },
    "52b684dddbb24eda9a5e9358fef21e53": {
     "views": []
    },
    "52bfc9c40c44497a91908b5cc31ead2a": {
     "views": []
    },
    "52c4c9fed1144200af135bf4f3677f72": {
     "views": []
    },
    "52cd7885f9cf4cc8bdc1b28e936a3e69": {
     "views": []
    },
    "52d1a7a68d694df5b2429a33e06d856d": {
     "views": []
    },
    "530482e7a6a84923aa857e9b54b6a5ac": {
     "views": []
    },
    "531d6c16f6524fcdaee2a08f9faea2bb": {
     "views": []
    },
    "53204d45f35e4ab69665928d34eda7c9": {
     "views": []
    },
    "53425e321c9e42b9b0db7f2c84b5805f": {
     "views": []
    },
    "53650147418f40de9c460bdabfd4fe09": {
     "views": []
    },
    "537e0c58f96c4020adee0bc195871270": {
     "views": []
    },
    "539a3d4461b24b79b1ebd99599dba042": {
     "views": []
    },
    "53b0aede695b4946b7959a9f397c70f9": {
     "views": []
    },
    "53c8d9ead51449089a29ea02df6346c0": {
     "views": []
    },
    "53e115479e28413ba46403c06aac3b40": {
     "views": []
    },
    "53e3e48f57db44f7afe70ac1b64c734a": {
     "views": []
    },
    "53efaf4f85064239ae2ac49fd28e3044": {
     "views": []
    },
    "540d1e059e154967ae83c7ef2085d521": {
     "views": []
    },
    "543622d8783643539452198c3aaeea86": {
     "views": []
    },
    "543e0097c5ec451b87d8de7bb9ba43fc": {
     "views": []
    },
    "54434efcde374cd2a6049a3b30bcdeb8": {
     "views": []
    },
    "549453158eba468c9808a6955994babb": {
     "views": []
    },
    "54ae46fd1d7d4799b2f5b91aaafd2d2d": {
     "views": []
    },
    "54bd8a2f57574b95b056194ca4d64f1a": {
     "views": []
    },
    "54be7803fbd14852b6c9ca0984487de9": {
     "views": []
    },
    "54db4caf31b9482e87085c16ebed4005": {
     "views": []
    },
    "54f7ea60aea94bc49aead5473dfccacc": {
     "views": []
    },
    "54fba94944db462ea0a7104946e45fd5": {
     "views": []
    },
    "551cd84cb0f046ecbf269548e4ae8bbe": {
     "views": []
    },
    "55218e363c264cdd99fd1e5d4b423acf": {
     "views": []
    },
    "552c727cbcf9487fab6dd94c5a357166": {
     "views": []
    },
    "5536a058617e42f3ae66465f87770816": {
     "views": []
    },
    "5543d80e522c45a194ff93d4625116fc": {
     "views": []
    },
    "5558395208af457a8481b44b432f7d5f": {
     "views": []
    },
    "556713ea2ffe40d8b9cc084e70e64dd9": {
     "views": []
    },
    "558f69bb43394e30bc1e3377402f750a": {
     "views": []
    },
    "55a3854f9963434bb80e32bc41cddeb5": {
     "views": []
    },
    "55af03d9f4e84d2d89698dc2c31a088f": {
     "views": []
    },
    "55b9ccd329e149c38a55696e5cfcbf34": {
     "views": []
    },
    "55bc5cbf4768486db7033486f9cef35d": {
     "views": []
    },
    "55c1c09498ab4f50b64870d039448d93": {
     "views": []
    },
    "55cd3481830e4b86bb082f490409f6cf": {
     "views": []
    },
    "55d6ad7371084388a735f24d7d1bc203": {
     "views": []
    },
    "55d97d54557d48d39f7fe209ffd45f38": {
     "views": []
    },
    "55e29661c00a4b9c8e9d9abb6e6cb43f": {
     "views": []
    },
    "55eb485e65d14301b034c3e0886ccd9e": {
     "views": []
    },
    "55f314b6111e4cbfb38c45e2d2ea1212": {
     "views": []
    },
    "55f3d805cf304ba5a1ef2bde6f81f0c9": {
     "views": []
    },
    "560a95bb89774adaa8fc90bf5fb7e87d": {
     "views": []
    },
    "5615a187e55b42cabe9be44bab6b062e": {
     "views": []
    },
    "56594183be684e27862446204e6361a0": {
     "views": []
    },
    "5664fc31d9a8420d8698ef7ecb9e2580": {
     "views": []
    },
    "567628cd7ddd4b578f1fb5f3a2636674": {
     "views": []
    },
    "568407f76b254fa5aae6b801559a1f4f": {
     "views": []
    },
    "568a08f0b06542f9b0793de7486cce88": {
     "views": []
    },
    "569772e9d90b4085950664fb701749de": {
     "views": []
    },
    "569e64dd4e314a73b79feebbe12fb670": {
     "views": []
    },
    "56aa4d1348ef43aeadd19dbe9ee46976": {
     "views": []
    },
    "56b8393025e04d0392d12dd65b62de3e": {
     "views": []
    },
    "56e4189dd98b47eabb8a2c0552ae6cff": {
     "views": []
    },
    "57015ec91a1d4d7db6337453fdde8b5e": {
     "views": []
    },
    "5706bca27e524c5e835dc5dbc2d5e3da": {
     "views": []
    },
    "570f385cd9474c0e9167315d43384f83": {
     "views": []
    },
    "571214fdb4ca4b2b8ce6808029970d4f": {
     "views": []
    },
    "5714a7129eb9457f852c283b2f19590d": {
     "views": []
    },
    "5716fbd6d4b744aeb28ce6e9722f4e00": {
     "views": []
    },
    "57174cbbe3f2422cb5aca3b506325c73": {
     "views": []
    },
    "571901d7a19345028efab48d5ebdf615": {
     "views": []
    },
    "5747197bfd52424d80379156c275d594": {
     "views": []
    },
    "5750d97011c44598924446a1beba8c69": {
     "views": []
    },
    "5767a2fef7e5493b8ef18037c22610b7": {
     "views": []
    },
    "579b713c979a474c81af24c99708b1f0": {
     "views": []
    },
    "57b8de1795a14a269f6ea206013fa014": {
     "views": []
    },
    "57c527b4b20744fdb1335ddf39a98a29": {
     "views": []
    },
    "57f39b8fe7404e04a6157ee28d885732": {
     "views": [
      {
       "cell": {
        "cell_type": "code",
        "execution_count": 35,
        "metadata": {
         "collapsed": false,
         "trusted": true
        },
        "outputs": [
         {
          "name": "stdout",
          "output_type": "stream",
          "text": "['Crime', 'Parking', 'Transit', 'Homelessness', 'Schools', 'Environment', 'Affordability', 'Development', 'Density', 'Politics', 'Gentrification']\n"
         }
        ],
        "source": "center = [37.76284413400416, -122.39490509033203]\nzoom = 12\nm = Map(default_tiles=TileLayer(opacity=1.0, url='https://tiles.wmflabs.org/bw-mapnik/{z}/{x}/{y}.png'), center=center, zoom=zoom)\ncreate_circles_for_topic(m, topics_data, 0)\ndisplay(m)\nbuttons = [Button(description=x) for x in TOPICS]\nfor index, button in enumerate(buttons):\n    button.on_click(lambda _: )\nprint TOPICS\nHBox(buttons)"
       },
       "cell_index": 5,
       "root": true
      }
     ]
    },
    "5808c8660dc9465aa63350d5c3630703": {
     "views": []
    },
    "5811dcc8f4a94b4c8e2263bc5a47a138": {
     "views": []
    },
    "582c2bdcce484a70b19122e93aaffc27": {
     "views": []
    },
    "582e99dc88f94f14923a341076505fd9": {
     "views": []
    },
    "5841c64defb24633893f352c760dc6c6": {
     "views": []
    },
    "584e17292c5a40b5ab7a5fbc111c35a6": {
     "views": []
    },
    "586c7f4d546c46c5a409cc4069caf0e9": {
     "views": []
    },
    "5873124e919e4c578b7f5f381f3d04bb": {
     "views": []
    },
    "587fa46f6ead4241aa990f51aa145416": {
     "views": []
    },
    "588464c5d7a84f62a0acf364ff25e747": {
     "views": []
    },
    "588609fe5fcd43b9b4c6f6574fae68ef": {
     "views": []
    },
    "5893149d12a4438ca5e462f913a9ca6e": {
     "views": []
    },
    "589d746d2f1e4c4a927f46c873e41b0b": {
     "views": []
    },
    "589e86c4b3fb4303b62b9de56edb8f83": {
     "views": []
    },
    "58e2666626e241caba876d127165c9cb": {
     "views": []
    },
    "58e5426381aa410aadb195afb0aa475c": {
     "views": []
    },
    "58f807c5685448a299b3e418bdf246a3": {
     "views": []
    },
    "5900e59b3cc74a1ba216dbeec7d15fd6": {
     "views": []
    },
    "5908eadef5c048a58d49bb5d2da5db3c": {
     "views": []
    },
    "591c6d50f7a142c38cf1520ae677aa5b": {
     "views": []
    },
    "5934dbbbc3214ce5af73a2bf665080f5": {
     "views": []
    },
    "5938841850e04900b96b4e28f5f4a3d0": {
     "views": []
    },
    "5941eeb504e640249f5843899f422c0d": {
     "views": []
    },
    "594888338b594b81a609e2bfd7878674": {
     "views": []
    },
    "5958b258bf0445d2808fae173019b85c": {
     "views": []
    },
    "5972d42406e4473da66bf3e9f696e821": {
     "views": []
    },
    "59836ac8129c484cbc79fb9d92921fa7": {
     "views": []
    },
    "598f072b19204f858e0b1e858a96051c": {
     "views": []
    },
    "5991a02c5cce4f369e65c504ccab19d1": {
     "views": []
    },
    "59933755b00a4e49bf95b2ad1fda5492": {
     "views": []
    },
    "599a2b7f2998475aa07eb60690b3c4ec": {
     "views": []
    },
    "599c4077f66341769bbae5ec4a2b3ea1": {
     "views": []
    },
    "59a70767bbf5466cbe543d78d5c0c06d": {
     "views": []
    },
    "59b2041191de423fa7725cd4b2502bc9": {
     "views": []
    },
    "59bb9acaaf434f7bb767ce8513d25ff6": {
     "views": []
    },
    "59bcde7a9c144c278c855f50402a73e3": {
     "views": []
    },
    "59c35931f77a45708ea2ebecb059eba4": {
     "views": []
    },
    "59ca14c3e1744dfc83190493db2b181f": {
     "views": []
    },
    "59f6c0e401974875bae904ed0e0c419e": {
     "views": []
    },
    "59fa1f0122f843e8a61a21d6ca5fef7c": {
     "views": []
    },
    "59fc564dfaf14a03abc3a2f64fac8a54": {
     "views": []
    },
    "5a0912e6414841cd93be2b3d6d47fb32": {
     "views": []
    },
    "5a1f5030410e4618aba98b207df5e8f1": {
     "views": []
    },
    "5a314eef20a74a639b6a22e180d48be5": {
     "views": []
    },
    "5a42cfd95ff94ffc8aca840df71d4740": {
     "views": []
    },
    "5a4fc6f5489c457ab273a3ae20dac13d": {
     "views": []
    },
    "5a573b0ee00249909a965081115c8dd1": {
     "views": []
    },
    "5a5b9071b71142c498c60bdde2def4bc": {
     "views": []
    },
    "5a658cb6ac074d2da7c521d91eadbded": {
     "views": []
    },
    "5a6773c1e14146e1b96e74640677c0a5": {
     "views": []
    },
    "5a7d7a890aa145a1af09fce665c961c2": {
     "views": []
    },
    "5a84b1b80cf04d3baf8c75e439e77fb3": {
     "views": []
    },
    "5a89716c203446fbabae1500bae0163e": {
     "views": []
    },
    "5aa854aa5f5a4b2991824af6504b0dd0": {
     "views": []
    },
    "5addfb5fe9fb4ef7bf54b84974b06bc9": {
     "views": []
    },
    "5b186c635ee1406b9503efc979bc1c95": {
     "views": []
    },
    "5b1c834660d34443be60118f79c1fdfb": {
     "views": []
    },
    "5b1de7789c9b4a14bd3c45cd2b431ca9": {
     "views": []
    },
    "5b546cfcb46f4b919484ce0743c0e5ac": {
     "views": []
    },
    "5b69ee6dc5fc49a8b108125dab7d58f3": {
     "views": []
    },
    "5b722b5a0d0e4568b6426fb4855ddec7": {
     "views": []
    },
    "5b73034f85fc45bcab024d0c11a7314b": {
     "views": []
    },
    "5b7a748927c34c98a26f5337205ccd62": {
     "views": []
    },
    "5b8599cd7b13432dbeaf053857f3361f": {
     "views": []
    },
    "5b93bebdc0ac4f068c5fd3d09dd5d03f": {
     "views": []
    },
    "5b9f10088adc4ac0bcdbd8e42e7b4c39": {
     "views": []
    },
    "5bc76b25a4d74778a2513dc45d59426a": {
     "views": []
    },
    "5bd48471a5974e23bb88f2b653d018c2": {
     "views": []
    },
    "5be725eee2fe45ec9928fb8f92c44981": {
     "views": []
    },
    "5be85322ec19408e8afc9b69ac4b4b4a": {
     "views": []
    },
    "5becaecc4cff466da5fa488d1eaf524d": {
     "views": []
    },
    "5bee2a2d2232449ba9bb37124d0eb960": {
     "views": []
    },
    "5bfa3fac2a074aa1914ace019a9cd239": {
     "views": []
    },
    "5bfd87f35631479ea3fc6eab71f5d24c": {
     "views": []
    },
    "5c12a599435c40bf937ac1b5d828b291": {
     "views": []
    },
    "5c20b9fbaf7340a8928dddf6d8ae4fb6": {
     "views": []
    },
    "5c2cef544f8e41f69a71c12939ff671a": {
     "views": []
    },
    "5c30e84523c24896a2c6987e657c0932": {
     "views": []
    },
    "5c4aad9d1e374f6fac0cc0d019847669": {
     "views": []
    },
    "5c51dd05d88b45f99449043d49849cba": {
     "views": []
    },
    "5c59d13f582c4f84a90f309c5f66bb25": {
     "views": []
    },
    "5c5d2cebfc9a4c7aa4ac729bd8231c7d": {
     "views": []
    },
    "5c98ea89648d4e49bf238596d1791f22": {
     "views": []
    },
    "5ca84cd66a2d4cbb9c0471642484386c": {
     "views": []
    },
    "5cad01bc22eb44558af54c14f00abfd9": {
     "views": []
    },
    "5cc1cd0f835a416ca4d4c3cc9ff35a2d": {
     "views": []
    },
    "5cd2bc4b95ed4380833d06ea93392881": {
     "views": []
    },
    "5cd42711d05a4bdf9c6e31f50cc9a6e6": {
     "views": []
    },
    "5d0a720073dc4cebaf4f2a6192577d14": {
     "views": []
    },
    "5d11cd829a934e23a88b38a206f7dcac": {
     "views": []
    },
    "5d162ada6132471483a3794dc20e8832": {
     "views": []
    },
    "5d16fd1725394c8bbabd9b94ad163f91": {
     "views": []
    },
    "5d1e56c5a3484d9aa7cc5429e265081f": {
     "views": []
    },
    "5d34d82dade047ea85b27925a4afbd57": {
     "views": []
    },
    "5d3e813fab194390a171c2d1d2bfdcde": {
     "views": []
    },
    "5d4071ca11de48048367c22b4e191559": {
     "views": []
    },
    "5d40acecb13f4ceab811b9f2df7cfba1": {
     "views": []
    },
    "5d44d010f4ea42798ec18e98e4429ca9": {
     "views": []
    },
    "5d5e03a6fe554b1ca0522f7277fb2b73": {
     "views": []
    },
    "5d77d627c89442ae9fb9ac96a0eb04c1": {
     "views": []
    },
    "5d814652d7fc4eefa9b81c5f70299695": {
     "views": []
    },
    "5d875ce0e5f74c73926bdcd9af3c990f": {
     "views": []
    },
    "5da5893e50db49eeaa4638d56f932589": {
     "views": []
    },
    "5dc91e3d5b664a3dad2a3ada8a2b2fca": {
     "views": []
    },
    "5dce79d4d18a4a0384c46d441b2194b2": {
     "views": []
    },
    "5de5e2f871474b2db5bbf76294c93487": {
     "views": []
    },
    "5df99237afe84e9cbcf4f1f3172b37d1": {
     "views": []
    },
    "5dfdff36d9044541b82889e598888bc9": {
     "views": []
    },
    "5e0c67e46ec943bbbfa8e3eb14ceb2fb": {
     "views": []
    },
    "5e1cfaa5d4744afda65193d7bb4f13d4": {
     "views": []
    },
    "5e276922089a4a20944963ee4fc944e8": {
     "views": []
    },
    "5e29479ca4be42bda5fdba259fcf59fd": {
     "views": []
    },
    "5e2fd9802b63402c8541c50dc741e221": {
     "views": []
    },
    "5e5b3c49946543118760b86e6af239ff": {
     "views": []
    },
    "5e724c8360264055837228e71830ca22": {
     "views": []
    },
    "5e73db30a1154c7795a49bbea0664e98": {
     "views": []
    },
    "5e7eed678e4944f28794a626bfa6854a": {
     "views": []
    },
    "5e810056624d4a8785fa10ed969f3f5b": {
     "views": []
    },
    "5e8178d164cf4b98b6f1fa7dac144f90": {
     "views": []
    },
    "5e9a1cc13b33404c8667e7141f0eb65b": {
     "views": []
    },
    "5ead37be04bf44d5a3676e35b69daf7a": {
     "views": []
    },
    "5eaf2a9b614749479755fc63e2b19db4": {
     "views": []
    },
    "5eb1a75d89ff4c7581a12a1978fc4190": {
     "views": []
    },
    "5eb28087851f4f788b5f24a251aadecd": {
     "views": []
    },
    "5ebd3c4b26954326947ca78b3643db33": {
     "views": []
    },
    "5ed6755c1abc4c0aab13e8b6381e061b": {
     "views": []
    },
    "5edd462623214860b46d07d023989669": {
     "views": []
    },
    "5ef63004d35d4471821558410472b415": {
     "views": []
    },
    "5f1dba6c81a7434180bc94ba71eb2c08": {
     "views": []
    },
    "5f245a1e95df4b0da0cc1f35b50bf419": {
     "views": []
    },
    "5f4e3d3035d74bf5910b01345ba791f5": {
     "views": []
    },
    "5f58aa8a45f14c3f8cf7583f03f3a80c": {
     "views": []
    },
    "5f5db49f89bb43f9b62c60abc778b22d": {
     "views": []
    },
    "5f601fcf4c564fae8a7f21262885b823": {
     "views": []
    },
    "5f63f0b3648544c3b664853e3401289c": {
     "views": []
    },
    "5f667b312bf647e2a7986e517cff19e2": {
     "views": []
    },
    "5f697f9becd942cfba6fb50c4b266009": {
     "views": []
    },
    "5f6e20d8db9844a6a8792608471e7e80": {
     "views": []
    },
    "5fc542bfd808495691e5986b827bd4df": {
     "views": []
    },
    "5fc93b53a4ea4e5db0c4898bf11d2b83": {
     "views": []
    },
    "5fcf81f570a74b8c9e0995483a35bf6f": {
     "views": []
    },
    "5fd09a38baa74f04bf62fccd9a46edf3": {
     "views": []
    },
    "5fe30bb281404a1c995cfbed70d72a9f": {
     "views": []
    },
    "5fe362c8efb445568fcb81ec1e910389": {
     "views": []
    },
    "5ffd5edb995c4f6ca4d9d9614339db8f": {
     "views": []
    },
    "6022109a15d347b1b2717c1394ab13e7": {
     "views": []
    },
    "60261eb056264fcb9ac2716c805f86ea": {
     "views": []
    },
    "6042ae3fb4b1413aa188f2bff7f24b60": {
     "views": []
    },
    "60490aba7e444e33b71af5daef23b3d7": {
     "views": []
    },
    "60519b9885854711968d50aa30627e23": {
     "views": []
    },
    "605755fa6e274114a0c7f32b5f9d7d7e": {
     "views": []
    },
    "605f8fd0c7f84f9394aa5551833d46e3": {
     "views": []
    },
    "6076233846f2487ba1fe8f72d8a4e081": {
     "views": []
    },
    "607de1143d5046cda41cc9ac2095cf03": {
     "views": []
    },
    "609cb28252ae4338a0679f0c5d0639f4": {
     "views": []
    },
    "60ad38b251244d32bbd217fe58f50b2c": {
     "views": []
    },
    "60ba5bcf31b44fd5a5ce9780d3185305": {
     "views": []
    },
    "60c4564a14a840bda63aae5aa67cfe66": {
     "views": []
    },
    "60cb8460202541d38d82d105369221d0": {
     "views": []
    },
    "60cdd088f64840aab181e9654f872e81": {
     "views": []
    },
    "60de5cb018ec452fa540d79af52c50b0": {
     "views": []
    },
    "60e9c92e77cb40b9b2bc9c317d855aaa": {
     "views": []
    },
    "60f6617393194babbbe58402b72c265c": {
     "views": []
    },
    "6101c0a8ccdf4906ac899de4beaed5a4": {
     "views": []
    },
    "6111d386da9146578da8a7d307e4fc82": {
     "views": []
    },
    "611583345fd2414486733c646fd2eb7d": {
     "views": []
    },
    "611976f35e9640098157fd130410a526": {
     "views": []
    },
    "612459df8cbb4c2d83cabe753a285ac1": {
     "views": []
    },
    "61343880a4ad43a0b14abb5e1655ee42": {
     "views": []
    },
    "6151bce767854c2381826e5ec0af0135": {
     "views": []
    },
    "6165ff65f70a45a0bfb70aa997cfcc21": {
     "views": []
    },
    "617468b5500344daac9256eb1034a387": {
     "views": []
    },
    "619928de4da24d8f80492a01f76fd002": {
     "views": []
    },
    "61992f9d7dcd458e89601fc78ad5cef1": {
     "views": []
    },
    "619bb218a0df450bb0ea7c6126144d70": {
     "views": []
    },
    "619bb4ae61a34380938004f4cf3487d6": {
     "views": []
    },
    "61a4fd04d4f04887bf014be2c428309a": {
     "views": []
    },
    "61aabbb0909647ca9a5d7c44d285f5e7": {
     "views": []
    },
    "61b23ff98a434407a4095843b5d9268e": {
     "views": []
    },
    "61c30c7fcc604624a75a6b415e975b93": {
     "views": []
    },
    "61c9565a12f44f8abba4702adff1c3d3": {
     "views": []
    },
    "61cbb0fb1e794605a67e6df57cdafb9c": {
     "views": []
    },
    "61d793c57ed2444bbdd472a0fe98f834": {
     "views": []
    },
    "61e641c3a4ca445caab312886307df16": {
     "views": []
    },
    "61f56e1990a74ba9a31c2801809fb639": {
     "views": []
    },
    "61f5791425cd42a48386bcdf7dbf6681": {
     "views": []
    },
    "620bfed0d15947b7a6b59bc97fd66198": {
     "views": []
    },
    "624d42be52714fd89290963dc95baab4": {
     "views": []
    },
    "625ce932688f41bf9ccd44f142ec234d": {
     "views": []
    },
    "62656e5a9bda4b24b2dda36f1a9fb5eb": {
     "views": []
    },
    "6275565fb7e1412a80300ccc9b778e77": {
     "views": []
    },
    "627b08fbdffd47be90f6eed887cc988b": {
     "views": []
    },
    "627db2b9ec99469eadbbaffbc400ecb5": {
     "views": []
    },
    "62a77ff8415b43d99b65e920b6a7c2cd": {
     "views": []
    },
    "6304321ad30d4f25815d87e312fd2ec0": {
     "views": []
    },
    "63050cd16a504f2eb150f388fbe08c6d": {
     "views": []
    },
    "632619837b6c43d3b4b8866725c457ad": {
     "views": []
    },
    "63314f9f6d744ce79f95739a3126042c": {
     "views": []
    },
    "6342199d3363469fb870417aa1745b5c": {
     "views": []
    },
    "63481a2128534b3990b9f9eaa2e973f9": {
     "views": []
    },
    "635e36dd35df4a388b7445037a831b66": {
     "views": []
    },
    "638401a187bb40899ff859752b524017": {
     "views": []
    },
    "638cb60e502140dfaeab822968029954": {
     "views": []
    },
    "63935cc16e6e4de1bc5833acb135fac2": {
     "views": []
    },
    "63b1ad9e29fd45bb9a804106cc4c7bac": {
     "views": []
    },
    "63b6a051affa4a06abab8f660e79870c": {
     "views": []
    },
    "63bf3dc549f644fcbe1561b8ec1062d6": {
     "views": []
    },
    "63c06191c2244da28f7bd5d8d12ffa05": {
     "views": []
    },
    "63ca4957def448d9ac339f0e6ff9734f": {
     "views": []
    },
    "63d91d9b1d89493684cd9caf7f01b946": {
     "views": []
    },
    "63daa5c0fa494fddb046c36a0fc06c56": {
     "views": []
    },
    "63eb0fa9755b47e18ee93fbc803aef9a": {
     "views": []
    },
    "640185ecdc0449c89caa3958bf750084": {
     "views": []
    },
    "64045363bfda43d1854f05d9fce07555": {
     "views": []
    },
    "642b3b6e8dea436795032e8484ad3533": {
     "views": []
    },
    "64344abb18914b9293744db3ee59c927": {
     "views": []
    },
    "64386f362f924084b977880808e34b96": {
     "views": []
    },
    "64516fbbf3904bb7bd64e63bae5af891": {
     "views": []
    },
    "6453124b0b784f1190266d8903a5b657": {
     "views": []
    },
    "64555dbf2e38479a84ed9d461d130dd5": {
     "views": []
    },
    "646bada38761470eaf4e631f554c2496": {
     "views": []
    },
    "646d4c947bf045b1946b53657bb8863b": {
     "views": []
    },
    "647d2f32cf0a4d5e882f7d97e3cc1b6b": {
     "views": []
    },
    "648d9b55216644bb9be739da749fe7f7": {
     "views": []
    },
    "64a04956052d426597c5fcc6bae3abc1": {
     "views": []
    },
    "64c96bac26c341769a8e22d21966efeb": {
     "views": []
    },
    "64ca7d747f09415ca3aa2784bf1fa15e": {
     "views": []
    },
    "64d138a8de04482d94fd6a5114364f17": {
     "views": []
    },
    "64f04584a0e64d0eb4ed2c828544c9a3": {
     "views": []
    },
    "6506a363b567423e81737bea633cee79": {
     "views": []
    },
    "65129949ede1432da7c3afd9034fe476": {
     "views": []
    },
    "651b88dd656c4d9bbe7a23aefc3ec1c2": {
     "views": []
    },
    "651bbb687c7249498b4f2263f4e7b408": {
     "views": []
    },
    "6534ae1ec0e44deaabe46e367b2dc6d3": {
     "views": []
    },
    "6543a7f547ae49a29c59a1a2097dbaa3": {
     "views": []
    },
    "65639ad48f3043278f6cbf3f99cc49ca": {
     "views": []
    },
    "6582ee0f37ab4114881795af8ece6602": {
     "views": []
    },
    "65939387b69d4605bb0fb7b1778dbfae": {
     "views": []
    },
    "65a848b4cbec4b01b5bed650cce8ac11": {
     "views": []
    },
    "65b8def47dd14cd280420a9f78b9bab1": {
     "views": []
    },
    "65c54e22afeb4ced818eed8a776cd838": {
     "views": []
    },
    "65c96445c4c348cb82e165a05cf29792": {
     "views": []
    },
    "65ead6312a4c463bb2150b1ac9859f86": {
     "views": []
    },
    "65f0ff583e4543fcb3494e96eaa03f95": {
     "views": []
    },
    "66002cc2525d426c8d29b95901a37512": {
     "views": []
    },
    "6609b8b1b2cf4bd6a72c3d68ef25b419": {
     "views": []
    },
    "660c7cf3c5ef44d3afeddcf5715bb754": {
     "views": []
    },
    "661a057962cd4bcc9e724249b9a1ac6f": {
     "views": []
    },
    "6621bfda27a14021ba0db25fd54be635": {
     "views": []
    },
    "6641861fb9dc40c388a9f6c9b992338d": {
     "views": []
    },
    "66477626f9164ed7b7f0fb2814deae6b": {
     "views": []
    },
    "66540194528b472c8c7e39a95b296ac6": {
     "views": []
    },
    "6656550980cb46d997bcc7276a761671": {
     "views": []
    },
    "665768f2430d465d9e7d8e0772b67cbb": {
     "views": []
    },
    "6685319d1bec4831858e9c240fbdb61d": {
     "views": []
    },
    "6689fd2462814a9bb52d6690ea81d768": {
     "views": []
    },
    "6696208802e943bc9c9f9312dd1faa33": {
     "views": []
    },
    "66aafbde5d3445f8a3a77592422bf0d9": {
     "views": []
    },
    "66b12e1b23ee4146a446903dd59c11a5": {
     "views": []
    },
    "66b333b632af4d3e8738338b0fd38799": {
     "views": []
    },
    "66b8876dba97446b86b3f155e4983172": {
     "views": []
    },
    "66b89897132143068caca67dfb086717": {
     "views": []
    },
    "66d4daf9db454ac4b69b3f9e7a8cdf26": {
     "views": []
    },
    "66de8de45fdc4388a6e62bbcebc41f34": {
     "views": []
    },
    "66e3a154530e427889010e514397cfcf": {
     "views": []
    },
    "66f0db3647764a65b29ea773ae52b729": {
     "views": []
    },
    "66f3beee21c34864884ef8887fcb3058": {
     "views": []
    },
    "66fa8cc64f2b4c8dac5da9de893dd34e": {
     "views": []
    },
    "67206b9de41c4551865a4c50fd434dee": {
     "views": []
    },
    "6748c7f84d4546e4b6cdf944ec6642ab": {
     "views": []
    },
    "6752bffef1cd42149005d9a3ab65f4ae": {
     "views": []
    },
    "678494836f45403bb39761bd71c5d761": {
     "views": []
    },
    "67872d5b2de24a4bb125996a54739f67": {
     "views": []
    },
    "678e37dd65d54576a3421ac888965280": {
     "views": []
    },
    "67aa5574323c4b8483c9886386fa18b8": {
     "views": []
    },
    "67aab29f1ac34c179e53e3ebd5ea8f95": {
     "views": []
    },
    "67c53da9fc3341e68e0ef102429936a5": {
     "views": []
    },
    "67d48c98b8ae498da12cc640062151ee": {
     "views": []
    },
    "67dd7010e26243b4bdad96692b688bce": {
     "views": []
    },
    "67dd967e79904a339b6cc4c3734ca222": {
     "views": []
    },
    "67eeac2afd204b4bb0199d85b8390c9b": {
     "views": []
    },
    "68377451782c41fcad3b77ebca136343": {
     "views": []
    },
    "6837bf038a7b48ec9e577c72e3fc2b9e": {
     "views": []
    },
    "6838b8a7a0c3449d9e49082a4569affe": {
     "views": []
    },
    "683b6ba8a8094e0fbaa6f9c072e4ea1b": {
     "views": []
    },
    "684c5fc1b88b4051af6da79c167d6b57": {
     "views": []
    },
    "684ff57390b44ca0a514bda8c3c2ee84": {
     "views": []
    },
    "686d334d4abe4b1097ae71a76b7909f7": {
     "views": []
    },
    "687de93f3a204d1789767fc26af06067": {
     "views": []
    },
    "6892b3b6b8474edd81a8d61445545c3e": {
     "views": []
    },
    "68b9f2891d8b4b088a8ec71fe3690ac1": {
     "views": []
    },
    "68ccf6320eba4778b6f7ea264b39aa18": {
     "views": []
    },
    "68d6175aaf67450ab67bc54b0b1f5109": {
     "views": []
    },
    "68d951335daa4c0ca873228c444efc50": {
     "views": []
    },
    "68e5daef51554657ab5b2e05d9f07df1": {
     "views": []
    },
    "68fcad3591374e2d8358a9568af77498": {
     "views": []
    },
    "690963c0927342dfaac1719dec090e94": {
     "views": []
    },
    "69254f3cca5d4c289fd65d5690f7da19": {
     "views": []
    },
    "6943cae30ace475496892666f50d0495": {
     "views": []
    },
    "69530fb8b817449fa6b65fb56fec51e3": {
     "views": []
    },
    "696a4a0b423e4bbead85b55fcca800ce": {
     "views": []
    },
    "69a32449f4bc400c924da6f8e4e4e8cb": {
     "views": []
    },
    "69a5646fc4c542bd971b9d18bbb24f91": {
     "views": []
    },
    "69a7ce042bc24f6783752b421727f64f": {
     "views": []
    },
    "69b22516156f42fc909264c449c673fd": {
     "views": []
    },
    "69b3046c29cb4a2ab978c1848622891b": {
     "views": []
    },
    "69b8138415a241d79de0407ae884695b": {
     "views": []
    },
    "69c5787701874f60be00f5d312dda756": {
     "views": []
    },
    "69e18c60f2a44232b1dedb7ce22a3116": {
     "views": []
    },
    "6a003be5902c4074aef27fff70d03c18": {
     "views": []
    },
    "6a1f1f8f87a84ecaafd9a133f67918e1": {
     "views": []
    },
    "6a207cdfcd964087a5568c9deb808e0b": {
     "views": []
    },
    "6a228daa01964a87ae4fd55c641730b4": {
     "views": []
    },
    "6a338c2b76b14d4ead70fd51953131af": {
     "views": []
    },
    "6a5e97bfeae24efca134657b3cb6459f": {
     "views": []
    },
    "6a600d9b3c5e462f9c8f73b8ecbf0c99": {
     "views": []
    },
    "6a7d391c0f334764b5f8996ad4dcc9e2": {
     "views": []
    },
    "6a81ba315542478095c2aa85af6626a8": {
     "views": []
    },
    "6aba646acf3d446a98a7ac3babd99a1b": {
     "views": []
    },
    "6ac3208ca0374533968b5bfa82961788": {
     "views": []
    },
    "6af6ad48d302462db9f1ed3debd0738e": {
     "views": []
    },
    "6afb594e61ce4a8282622bdddca5b6be": {
     "views": []
    },
    "6b09321f06954017a99b129661b483cb": {
     "views": []
    },
    "6b09d7345b844724ac3e7bf3e2b0614e": {
     "views": []
    },
    "6b22883ae4c94835910615b128a97131": {
     "views": []
    },
    "6b417f6a3bd94b19b5631daec1261676": {
     "views": []
    },
    "6b6fe5ded172495cbf95419f34ec7b45": {
     "views": []
    },
    "6b83de966b9d41109967dda11133f033": {
     "views": []
    },
    "6b87b61a7cbc4df8b1c53e5c27807c02": {
     "views": []
    },
    "6b9e424dad1e4c40a08b566b511d2cb4": {
     "views": []
    },
    "6bafbae3fb6846f2aa75eba465d67514": {
     "views": []
    },
    "6bc9153af49f4e71946123a56a11bf97": {
     "views": []
    },
    "6bdd28cc69944ffba14d4761905050f4": {
     "views": []
    },
    "6bf360d7d18a4ee68b3a0960b4c77ac6": {
     "views": []
    },
    "6c04e762d7254606ae2bba658803bc1a": {
     "views": []
    },
    "6c0b17c4bc474161947d72eb047acd87": {
     "views": []
    },
    "6c28cbc153ca43518e06dd50d6944d57": {
     "views": []
    },
    "6c388ec9aba341eca7d3ce80cc735c34": {
     "views": []
    },
    "6c490183fd7d4a92931c7835b48da154": {
     "views": []
    },
    "6c499c5c45414756ac7be9bb3c3a708b": {
     "views": []
    },
    "6c4a7beaf3fd430d9cc7be371614e87a": {
     "views": []
    },
    "6c65e5d46b024f6caa3265a8c0adff8b": {
     "views": []
    },
    "6c769235d3da4e129418dbca991fc3b4": {
     "views": []
    },
    "6cab1857a61740bcaec1589323266df9": {
     "views": []
    },
    "6cbc34ea6b6c45bcba2f2f4957949767": {
     "views": []
    },
    "6cc3f36d76644d5ba6178a9f65401c8a": {
     "views": []
    },
    "6cd49950afdc4bac8db3566ac87721d7": {
     "views": []
    },
    "6ce1140a6324488c8fbbca80dbd63606": {
     "views": []
    },
    "6d0afe99e13048c391a4ddef9eb6378e": {
     "views": []
    },
    "6d11ad823c7e403eb2e300444a10644c": {
     "views": []
    },
    "6d2325513bb840ebbac4c42b1ca1a88e": {
     "views": []
    },
    "6d397f3761514988901d552f295492ec": {
     "views": []
    },
    "6d3fc6f9ea364de5a0d083b15cb77e63": {
     "views": []
    },
    "6d52d8f495fe452d85a7df5401fd72cf": {
     "views": []
    },
    "6d6f68dba9d94ff0a2521f0d4d97a6af": {
     "views": []
    },
    "6d7c0bbd82f8462d85744c4e8c06cd28": {
     "views": []
    },
    "6d7e5652c521460faa85150df4256a38": {
     "views": []
    },
    "6da69cbf450d48deba72575490d74a9b": {
     "views": []
    },
    "6dba03325f3347fa955ffc1f24e46420": {
     "views": []
    },
    "6de68f87c13c43bfb5a2394b4875229f": {
     "views": []
    },
    "6deae0f9d68c4db0b982ed0f42aa1a51": {
     "views": []
    },
    "6df1414695c8451e9101c862321c7418": {
     "views": []
    },
    "6df9cc823c374808b6dc416f96f6172d": {
     "views": []
    },
    "6dff20acd03a4ba38d2d08d1711683fe": {
     "views": []
    },
    "6e091d2106a64c728a0d5c0a067bf67f": {
     "views": []
    },
    "6e0c7a42acc847c0b8b2e71bb5fda67b": {
     "views": []
    },
    "6e2354727f0a4bc3a660afd4d1170f96": {
     "views": []
    },
    "6e253eb60fc34e638ea05203895bb31d": {
     "views": []
    },
    "6e4a592d054d4eb1a5c80846c4996bc1": {
     "views": []
    },
    "6e8342df0b8e44a2965c9b862aaf8900": {
     "views": []
    },
    "6e9a84a747214aa99f369bca8c8f3cb4": {
     "views": []
    },
    "6ea053f15a31443fad5059aab9f8a31c": {
     "views": []
    },
    "6ea3b5e2d0cc452dbe6caa4ead220b7d": {
     "views": []
    },
    "6eb710bf52e04ba093bfdf005e4657a8": {
     "views": []
    },
    "6ebd5cd5681b4c1692d2c858b8c49eb3": {
     "views": []
    },
    "6ecd923a40fc4e9c9906ed0eec466536": {
     "views": []
    },
    "6ecef9558ede4bf79a33f6b1b98e0c42": {
     "views": []
    },
    "6ed53380ce824bd5b4726353ac2ae05b": {
     "views": []
    },
    "6ed660267a5d4fbab88d02a00066f901": {
     "views": []
    },
    "6ed772811c2545589fe3807f07a55ac9": {
     "views": []
    },
    "6edd9bf3f88948419873a36894eeb45f": {
     "views": []
    },
    "6ee93c30aaab429fab745d6592fc698f": {
     "views": []
    },
    "6ef5f31dcedd4ae59216f006c9998783": {
     "views": []
    },
    "6f01d71ffe9b4fcfa3ef715585a50c4d": {
     "views": []
    },
    "6f0271f8648d47cb867d01e4e54891dd": {
     "views": []
    },
    "6f0325f44fb245a7b27dd30a52bb2663": {
     "views": []
    },
    "6f12d6ba169441a8a42e3529b8b81623": {
     "views": []
    },
    "6f216c8f138345e5bafc363d632641dd": {
     "views": []
    },
    "6f2ea5ba1bdc49c384049bf9de4767bb": {
     "views": []
    },
    "6f2efdce99624a6eb03f4aafff247d95": {
     "views": []
    },
    "6f513318e59f49589c5afa2db888ac6f": {
     "views": []
    },
    "6f95ba9928bf4df9ab5996cd1288188e": {
     "views": []
    },
    "6f9f55ecd6bc48899316d840d407eec9": {
     "views": []
    },
    "6faed59a783c4a5aa11b7c72c0d7642d": {
     "views": []
    },
    "6fb28b438d5c4f71ace85da7598b09f7": {
     "views": []
    },
    "6fc0a468c7ca41119acff354a34c6ea8": {
     "views": []
    },
    "6ff2719c9d544f62b993a45283420914": {
     "views": []
    },
    "6ff345bdf71748b39266ae3dbfc9ec30": {
     "views": []
    },
    "6ffa99ba8a95455a867da07bd9db703c": {
     "views": []
    },
    "70184ff3a30a42d395c77d5d069e813c": {
     "views": []
    },
    "701d79cd4f914e6496ba151e795df326": {
     "views": []
    },
    "701f2630f85f4373b1fe6bb60487e638": {
     "views": []
    },
    "7035ebeb8bdb447db3e5e989653ac042": {
     "views": []
    },
    "703638ac83d4404e95d2a977fea040c2": {
     "views": []
    },
    "70472c86e9bd42a190ef3ae36bce9485": {
     "views": []
    },
    "705dfebb6d8546869ed14b049dfddb0b": {
     "views": []
    },
    "706b5c52636945cc8bb862b49bf37297": {
     "views": []
    },
    "7075fd90edbf4319ba22a6e939632487": {
     "views": []
    },
    "70818a11d0a14b2ea76b1b745c247b94": {
     "views": []
    },
    "70998bef161d40d69128195cd81fac77": {
     "views": []
    },
    "70a0a2c1c45342ee8dfc62dc95b25625": {
     "views": []
    },
    "70b4e95374e04a588ea5585fa566c44a": {
     "views": []
    },
    "70b6b32c89754e2c863e7a2bb6e220b3": {
     "views": []
    },
    "70b78ddee3aa4a8faf7105482c077b43": {
     "views": []
    },
    "70bb5453e8314d55b0311839811c6bae": {
     "views": []
    },
    "70ca93a0ae094deaaa3f62ce1204a375": {
     "views": []
    },
    "70d2aff6309447bfb9548360badb17cf": {
     "views": []
    },
    "70dfec52dd3746719482fff21bdfb612": {
     "views": []
    },
    "70e2cb327d1d404391e6266a3763241a": {
     "views": []
    },
    "70e4fb73807d4ed4b87ec1e899e1a073": {
     "views": []
    },
    "70e86b654ec143ddb7bde2f01a65352b": {
     "views": []
    },
    "70f2ec43f37d4e83a6ff8e434040bee9": {
     "views": []
    },
    "710a3df28f644430a52b7c762b91a5cd": {
     "views": []
    },
    "711342f93bde45418d0404247abc118c": {
     "views": []
    },
    "71189cadf5ba4f788ea142af986df600": {
     "views": []
    },
    "712a80e9bf414e07b4e627aa6e8c88c9": {
     "views": []
    },
    "712b4480c3f34fb68669af4213fc7d0d": {
     "views": []
    },
    "7148a09adf8f4e8f95ae7b02ada95330": {
     "views": []
    },
    "7152be6f3af14bf0b2c1e13832072d1e": {
     "views": []
    },
    "7179be41b13e4dc8bcffe6d29d4d64ff": {
     "views": []
    },
    "717e18499ed343719ba4d2a8c3ef0c84": {
     "views": []
    },
    "719b5558411644cf9ebb8694cc946584": {
     "views": []
    },
    "71c4a6a563be454fbfc59c51136c0ad2": {
     "views": []
    },
    "71c7abf7ec29473d9550e1e8e1519a68": {
     "views": []
    },
    "71d77222c43c4ff79c5b24aa23bc1d19": {
     "views": []
    },
    "71e034721ed0427ea2a1079a2c523c73": {
     "views": []
    },
    "71f8ffc3477c428f8daec268e4556d91": {
     "views": []
    },
    "7204b6a227564371972cf2646369b14e": {
     "views": []
    },
    "720f5844422742aeba1aa9e02cece073": {
     "views": []
    },
    "721d8f43e0404d788bfdcfc69a97a1a6": {
     "views": []
    },
    "721e2c7a12594165acd6cdd5844bed6d": {
     "views": []
    },
    "722e9b6dc33a44208e9e68ad636042e1": {
     "views": []
    },
    "724c1027924241b4a835503067fa46c0": {
     "views": []
    },
    "72637a8449bd4b6fa130237f6aa0046b": {
     "views": []
    },
    "727c778649c8408f91e58e6a5f29a712": {
     "views": []
    },
    "728a77bde072472db811af3a37fa0f4d": {
     "views": []
    },
    "7293be1d17234dcba679cf8571b775a8": {
     "views": []
    },
    "72b8635c8f67498da82cffaf73c36e64": {
     "views": []
    },
    "72c1eaac8b5d44ca81f2d0001f139757": {
     "views": []
    },
    "72c585780d0248038513980193eef0aa": {
     "views": []
    },
    "72c93dc470b049e6b331e37eb181e7c0": {
     "views": []
    },
    "72daf25979e2428e98b65c2e53016365": {
     "views": []
    },
    "72db13bb753b4f8ba537f31cd6fec437": {
     "views": []
    },
    "72f8cd58518a475abc5fb426d0ab66e4": {
     "views": []
    },
    "72fbcb68ac0a4241b03fdbd8ff2590ec": {
     "views": []
    },
    "73055fff04cf4dc6a825c90de8a7e864": {
     "views": []
    },
    "730ac554b16444ef894c4fec9d05fa92": {
     "views": []
    },
    "73199bc99df8466d82b349816513fa74": {
     "views": []
    },
    "73329b67564e4c1e935c034d627a3a13": {
     "views": []
    },
    "733d412cbb0e45139e9f6739b61f25b0": {
     "views": []
    },
    "734bcacece91425c820d0d1ba237c2ed": {
     "views": []
    },
    "7356d6fb52dd4622ac5b04aebae327d9": {
     "views": []
    },
    "7367cac3f385400aa8de63a4674f66db": {
     "views": []
    },
    "736b604e10244400aa400efe95dabd76": {
     "views": []
    },
    "73758dd3b4f14499b27543f2996dc527": {
     "views": []
    },
    "73983d91617e4384882ba21ac5c898dd": {
     "views": []
    },
    "7398944d44fe48af82a91ed46a74f00a": {
     "views": []
    },
    "739d6a44adb347409aaeef81c917a7f1": {
     "views": []
    },
    "73aa960a56f6495eab72c439b504af44": {
     "views": []
    },
    "73b9e7149cd749388367d826db479c7f": {
     "views": []
    },
    "73bf13b3002e47dd9a7eec0ec4f3cc8e": {
     "views": []
    },
    "73d120ceb93c40bbb72ee959003d38ef": {
     "views": []
    },
    "73e0ef11d6b342f6b6a830b834f71ad5": {
     "views": []
    },
    "73ef4236ee5248fd9512a0d7fdf22222": {
     "views": []
    },
    "73f208f5cf784510b7ad752c699310ed": {
     "views": []
    },
    "740d539ff05247b6857337e7f096af3e": {
     "views": []
    },
    "740d71865e9946499798a732c19d8f19": {
     "views": []
    },
    "742969e22e7b407f8bcfb4886ed25046": {
     "views": []
    },
    "74368490ac354e8a9b3d6032c1e3141b": {
     "views": []
    },
    "743dc30570c047abba7008419002c74b": {
     "views": []
    },
    "743e9acabefe46829e3e34b75a6eb0c8": {
     "views": []
    },
    "744a4c2604804af7af87cb04534b9c11": {
     "views": []
    },
    "748c4121ea42460dbf73ed66c686000e": {
     "views": []
    },
    "749540126f6c4ea8bf79abe4e0f61758": {
     "views": []
    },
    "7496d39f3c564742abff85f4010cf407": {
     "views": []
    },
    "74a910e41bde44eb8c429cc384f293d8": {
     "views": []
    },
    "74e5700d2914419592f4913fede1211d": {
     "views": []
    },
    "752eaa09e15242f4a95658ca8687b09f": {
     "views": []
    },
    "753f85ae3eb749cabfcd96d20e38c49f": {
     "views": []
    },
    "756e1a6e96d3443ab9f46ae3f6f75a21": {
     "views": []
    },
    "7579e83fae5e4ed88c29a7c8638f1820": {
     "views": []
    },
    "75848b2e62414ff7bd4076f13c596c68": {
     "views": []
    },
    "75d0ab4659104192b41724e2f9e3f331": {
     "views": []
    },
    "7607b50fb81c43a6a61114b692f8cec2": {
     "views": []
    },
    "76285b6481914d47a94689b820840fcc": {
     "views": []
    },
    "762882388abf47f09c265caf34b416b1": {
     "views": []
    },
    "763df38402af4407bcd85ac5af9e4d2e": {
     "views": []
    },
    "763ed024cef84194abda4373889fc4ae": {
     "views": []
    },
    "764a33de1d854939a6b20f480a859b5d": {
     "views": []
    },
    "76560051de864c6aa54d53b9d00c7dc3": {
     "views": []
    },
    "7682a6c82df347859940c1669a70fe01": {
     "views": []
    },
    "7686b66a164d4569b05e5350c83da606": {
     "views": []
    },
    "7688185792c24b45a1914c07f68fd8bf": {
     "views": []
    },
    "76906357947e4d1eba44f0e13bc1b292": {
     "views": []
    },
    "76a122c72bf54033aa241bb24b7f1996": {
     "views": []
    },
    "76b44e18e6924594b58c2f3a172cb1d9": {
     "views": []
    },
    "76b7362b8b81467b9e67f5399f34488e": {
     "views": []
    },
    "76ba3dc211e54b21bc15ccd4a2956a97": {
     "views": []
    },
    "76c910176fbb445296b3dd49c5d19fe8": {
     "views": []
    },
    "76d5c3fe4efa4d049c078735687cf4b4": {
     "views": []
    },
    "76ee00cfc496406393942c37f5c8f5f0": {
     "views": []
    },
    "76ef960deb3b4806b7125e74a8545cf3": {
     "views": []
    },
    "76f6a3b12edc4b5dbc998c513c3b2432": {
     "views": []
    },
    "77214b80e1b64f80b6961093215ea381": {
     "views": []
    },
    "7733712c4baa4704a4ac9e33e19340a2": {
     "views": []
    },
    "773c1af856c4483196fc085efe03ff39": {
     "views": []
    },
    "7755a44371354c2e8afac119b01a4d15": {
     "views": []
    },
    "776733921990424e95e10d2620a5e29a": {
     "views": []
    },
    "777c9a255577478996caca726d619a67": {
     "views": []
    },
    "777f51227c0647fb8e4067361023bacb": {
     "views": []
    },
    "778d025180e54f14af5d781567043ff5": {
     "views": []
    },
    "778d6988e7544f2588c41110807dc043": {
     "views": []
    },
    "77925af4f2e34cdcbaabdf1aa61b67dc": {
     "views": []
    },
    "77959184cc784051a1075544f39ed5c5": {
     "views": []
    },
    "7798b953f0204e0f97aac34107353ff1": {
     "views": []
    },
    "7798f2bdefbc4b6cb7ee9b406e389b3a": {
     "views": []
    },
    "77b5caa7d6984bbba1ee121aba1049fd": {
     "views": []
    },
    "77cdd1bbaf61422fb9efff0c8d3100c8": {
     "views": []
    },
    "77f0f8f5a0994b828e414ef801f6d673": {
     "views": []
    },
    "7801f1c965c347798c5722775761c59f": {
     "views": []
    },
    "780a11230a6d42cf91a139d48e468e8a": {
     "views": []
    },
    "781cfe5e945346b2ac36cbf160728da1": {
     "views": []
    },
    "7826a6fc5a534f4aa0fbd41d06cd7625": {
     "views": []
    },
    "782942227d1a484d834d376dbdbc1e7d": {
     "views": []
    },
    "783352247c55433cbac56c4c3bc95bbb": {
     "views": []
    },
    "7839f60dac8e4daea40d1fe898028188": {
     "views": []
    },
    "784d62cbc7d440c99bad451e8780f818": {
     "views": []
    },
    "785b529ede304ffa8c771611c1569fe3": {
     "views": []
    },
    "7865ac157d4b4e96b67c82d4bfda113e": {
     "views": []
    },
    "786603bd41534765836ffd50eb2c24fc": {
     "views": []
    },
    "7867dd7bd5bd458fbfc241dd2dfdd19d": {
     "views": []
    },
    "786de60e22cc4403a379285649bbb065": {
     "views": []
    },
    "786fcf91656e4cad8743a8debe481488": {
     "views": []
    },
    "788cc81dd95b4dcb808be569ef23e26d": {
     "views": []
    },
    "78967e8389cf408a8b59f9fb4b8539c6": {
     "views": []
    },
    "78a39d048b564967b1409b7a676d10d3": {
     "views": []
    },
    "78a91f46c8d34036b76ab7edfcd3e8eb": {
     "views": []
    },
    "78a9d102b374466ab5e0775ffdfcfd17": {
     "views": []
    },
    "78b1a2ef13ac4e488223063d7ecb48ad": {
     "views": []
    },
    "78be0e976b4f4179ac041d086c00ea4d": {
     "views": []
    },
    "78d9ab88d67f4d189a27930b211a7f95": {
     "views": []
    },
    "78ea01e003514e7aab101073d151c754": {
     "views": []
    },
    "7951f96640c145c09e6bca4a0e8532ab": {
     "views": []
    },
    "795bd76987bb4356928d2bf2e92345f1": {
     "views": []
    },
    "796875281a0149ffaf85cd03615c6aa5": {
     "views": []
    },
    "7971d20d550542c5a81f3d5eeecf0b38": {
     "views": []
    },
    "798ab2a1b3274cd7a478d009f34f5d3e": {
     "views": []
    },
    "79e9ef068d204af4863c476244fb965b": {
     "views": []
    },
    "79f00f74072f41678dd0c9b34c645081": {
     "views": []
    },
    "79f62a77ad604205ae0f20a0bd306fdd": {
     "views": []
    },
    "79fbb8fd15ee4909a4fd1e7ce931dcec": {
     "views": []
    },
    "79fe79e0ff4841e78ee76d93505993b0": {
     "views": []
    },
    "7a1d755a83184ec7bc5799b35a61ed5d": {
     "views": []
    },
    "7a2a1493735840679ec0495a9c165757": {
     "views": []
    },
    "7a5366246b4f4480adf6ebe0ab5b8f4b": {
     "views": []
    },
    "7a56419bb6054a36891911fd22e3a325": {
     "views": []
    },
    "7a680beb64e14e4ca574f22ac6e488ec": {
     "views": []
    },
    "7a83630c667a477dbdae0f1f84688cf2": {
     "views": []
    },
    "7a9830fc87bf4bf2b6dc1c2d0e7124ad": {
     "views": []
    },
    "7a98b2483d1c4311b592eb60b07f7aae": {
     "views": []
    },
    "7aa275158f4640b98a77685cb28f18b2": {
     "views": []
    },
    "7ac01f51b76343d199960b7d5fd70871": {
     "views": []
    },
    "7acf96c4bad148b7b48f686fd1f7d60f": {
     "views": []
    },
    "7adfe44afda649cc8c336d02f2635dea": {
     "views": []
    },
    "7ae2901349cd43898796e8f65d6a4050": {
     "views": []
    },
    "7ae37282f1f14069b2d25a666dc03a56": {
     "views": []
    },
    "7aee4fa1dbfd435a92c750dbd86dfea3": {
     "views": []
    },
    "7af76cf9d61f49b292e438324a658649": {
     "views": []
    },
    "7b21004704d640fcb0b40a20de4fac31": {
     "views": []
    },
    "7b2dd894c1ce4cad881aea160475c7f5": {
     "views": []
    },
    "7b5971cdd608449394f041540528f283": {
     "views": []
    },
    "7b5d8b9b64a341cb9d72ba093db89c19": {
     "views": []
    },
    "7b889e85dd4942f5be636c9ef5727eef": {
     "views": []
    },
    "7b8e9300c05d435ba98e445e2f8a0ef3": {
     "views": []
    },
    "7ba27e6ab3844970bfea96c462853c2a": {
     "views": []
    },
    "7ba4c94f1d8e4429935bb58b7c6fc6b2": {
     "views": []
    },
    "7ba590afa9994ee8b8a1844d046c32f6": {
     "views": []
    },
    "7bd4800ffa9d4579ad25234b981f9a9b": {
     "views": []
    },
    "7bd92b50f2aa49e2908345e8ae735732": {
     "views": []
    },
    "7bee8ab759dd408f80e82e9fb67022d7": {
     "views": []
    },
    "7bf9659bb22443b796bd639bb81441b3": {
     "views": []
    },
    "7c0230d8f8154e46a67041afaddf4f1e": {
     "views": []
    },
    "7c06b37e2c7a40438444edf8c7e8de6b": {
     "views": []
    },
    "7c1598b0fa6f4d9696ec9ac3892627df": {
     "views": []
    },
    "7c28e13b38164ee6bed9f88d79f40d20": {
     "views": []
    },
    "7c2b64d23e3c40b7a3b43226ec64ec13": {
     "views": []
    },
    "7c3d9ce4a6e94707a1fb673d0c794505": {
     "views": []
    },
    "7c3f732b9d004425af8c5bbbc1569e1d": {
     "views": []
    },
    "7c7f1cb64f804adf86f244c44c6022a2": {
     "views": []
    },
    "7c9aff8e41e74e448b82b4f728025d75": {
     "views": []
    },
    "7cb0b51d62a5463eb9f98a4af5258def": {
     "views": []
    },
    "7cbc94e61cda4e788d57eac25ecced63": {
     "views": []
    },
    "7cd290ae327f441488ced4ccd7a0c879": {
     "views": []
    },
    "7cd562dffe884678aca7f45107b6142b": {
     "views": []
    },
    "7cf6c211635b4a94ac62469dfcfa6e73": {
     "views": []
    },
    "7d04d221ae1443fcb102ceb6d096e8c6": {
     "views": []
    },
    "7d4825231a5342e6b0ac1eff54ec93c1": {
     "views": []
    },
    "7d51bb274ea94ab5a9e56ff6f8b3dbc3": {
     "views": []
    },
    "7d5765d0e33f4a4ba688401a329d25cf": {
     "views": []
    },
    "7d6eeacc69954f0690506925c37f904e": {
     "views": []
    },
    "7d7d24dabba343d38fe3a0b387a05706": {
     "views": []
    },
    "7d8c9e32d6784648aa3a8fa4e9d931b4": {
     "views": []
    },
    "7d8f4c0399774c2a899305b88dde10e4": {
     "views": []
    },
    "7d9723156bed4676b4dcb9d1554f6a3b": {
     "views": []
    },
    "7d99604cd82b4d40a72dbdf0a92a98e5": {
     "views": []
    },
    "7dabd2c29ac14fb5959a8fe53b7c3c7f": {
     "views": []
    },
    "7dac15659b954ce4a103acf9f35187c3": {
     "views": []
    },
    "7dadc51c4493438d86b92d28f9250cfa": {
     "views": []
    },
    "7db0bbc5b4a74d8b9dc861f10f014da5": {
     "views": []
    },
    "7db5b7e0e9d34b07b3ba6050265b4e67": {
     "views": []
    },
    "7db715577bbe4ab49ea834ad42c4a515": {
     "views": []
    },
    "7dba97235df34d438037c9adcf95a122": {
     "views": []
    },
    "7dc23c9163ac429bad15a7c4d819e05e": {
     "views": []
    },
    "7ddfb2a17c5c4c35b32876d64cc930b9": {
     "views": []
    },
    "7de167da1b824b97914e5e8d79215147": {
     "views": []
    },
    "7de54491b4bf45cba3bea781aace3cce": {
     "views": []
    },
    "7de6470ef5e64ea1b4a76c50bc45b96b": {
     "views": []
    },
    "7de70639d76b40158113c7b90e2a2f73": {
     "views": []
    },
    "7dfd7e713cd34065bd3d2f8d9a43d154": {
     "views": []
    },
    "7dfea9f53fb94d67be8340867fee8b98": {
     "views": []
    },
    "7e062f28004648c4bee0598a8ff26c44": {
     "views": []
    },
    "7e09e6ad8cd54b00874bbbfc23f2ae4b": {
     "views": []
    },
    "7e2427aa8f3049ef88a3784297239e15": {
     "views": []
    },
    "7e400b8d2bbb43dc8c305f50492c8dc3": {
     "views": []
    },
    "7e4056277c1344af974a8e7cec32394b": {
     "views": []
    },
    "7e4cc1b5a00e4eb6bda48d24db2a52d7": {
     "views": []
    },
    "7e5c89e54cc34c4f9cadc2721b8305d9": {
     "views": []
    },
    "7e695cc11815476582e78021569a48b8": {
     "views": []
    },
    "7e7dbf99f9444babba90d4865b785bb0": {
     "views": []
    },
    "7e8457064d7b4153bd3945248011c2d8": {
     "views": []
    },
    "7e87728115d04bf9946dcc8b133429d2": {
     "views": []
    },
    "7e9fab35cc534a8e96bceab437794c98": {
     "views": []
    },
    "7eb1d03ec6e242d381725730259f9dea": {
     "views": []
    },
    "7ed600106c2e4f208e47241a1b568cec": {
     "views": []
    },
    "7ee1b838b39345d6a58b92580096e91a": {
     "views": []
    },
    "7ee5ac1f1d784a0d81dc657fced9f80c": {
     "views": []
    },
    "7eefa9a7364b41a9b9db32b1899c554c": {
     "views": []
    },
    "7ef27cb81ba0479d9a7b70aa1e39c3f0": {
     "views": []
    },
    "7ef2d99c428e4cb680fb5a78ecdeb0bf": {
     "views": []
    },
    "7f04b4615e4b4fceaf11cb04480f2b7b": {
     "views": []
    },
    "7f114df8e8aa480dbfa9e97052a95693": {
     "views": []
    },
    "7f1e33abf783451ab6cfa3672766e5ac": {
     "views": []
    },
    "7f2d609cc63348cb95175be3239c4f1c": {
     "views": []
    },
    "7f3a52e3477d44a1ac34380a0ca2b59a": {
     "views": []
    },
    "7f4dbf67e356468292b9945f3eef6e34": {
     "views": []
    },
    "7f583960d80b4c3a88e20b1ea36822da": {
     "views": []
    },
    "7f62d9f088304e4b9e4fe0990f5f6b0b": {
     "views": []
    },
    "7f811e4407374cbbaeb87e08f9a3a182": {
     "views": []
    },
    "7fa1f9ca2fbb4da4bb22073b7eaf53d1": {
     "views": []
    },
    "7faa3ed3606f403e9b5b58ae0e81b77d": {
     "views": []
    },
    "7faab2ed63564800a829e1e4aa1437e0": {
     "views": []
    },
    "7fbadf1e0f734d01ba27aacaf4fef528": {
     "views": []
    },
    "7fc0960f87e0487ca86cd2a87b28c891": {
     "views": []
    },
    "7fc6d017c20048d28313a989149fbea5": {
     "views": []
    },
    "7fca01e7754d44ac80420f0cb3de6348": {
     "views": []
    },
    "7fd7fc4c060243bfbdb0bb9c53bef354": {
     "views": []
    },
    "802242cea2c1469c9a9d679bd50ae61a": {
     "views": []
    },
    "802cccc0eaa142cfae7ce7187ffbc8be": {
     "views": []
    },
    "802efbdf66584a93b258af30cca878dd": {
     "views": []
    },
    "8063159a8a284db3be2d70394d2f34d1": {
     "views": []
    },
    "80712ad65f1f46d9811f46aa8aacab11": {
     "views": []
    },
    "8084650e615649b4bace8662dd1709ee": {
     "views": []
    },
    "80a8c0ef36d047939b7851076df9b1a0": {
     "views": []
    },
    "80bbd5ad74874ec3b262cc85f4e64358": {
     "views": []
    },
    "80c22e6527734cda997b0f99cd8b6a04": {
     "views": []
    },
    "80c8a058084e4ae3bdfdd20168d2e394": {
     "views": []
    },
    "80cc9f46cbf94c2eb4c961eb0c4a8a95": {
     "views": []
    },
    "80ceeaf5c1b14494af455d718d7186de": {
     "views": []
    },
    "80cf5b5d34f640c1b729f588b7d4854e": {
     "views": []
    },
    "80d6730dc3c84e0cae8e7bcbce6b5241": {
     "views": []
    },
    "80e0e4f5d70b41d2a44e18dad16347e6": {
     "views": []
    },
    "80e187246b554ca79f7a6dcd05b4f6c3": {
     "views": []
    },
    "80ed6789a26349ab95a3ea950dafbdbb": {
     "views": []
    },
    "80ee6e70f2b5433ab5f266323319e071": {
     "views": []
    },
    "80f8baa539cb48088b6a483a8c24c17d": {
     "views": []
    },
    "81033f0df0c142eaa19f11bfcdf6f477": {
     "views": []
    },
    "8106048045f54cfeb59ccba9fc4762c3": {
     "views": []
    },
    "8113e534bdaa4d74927756f1934dc00e": {
     "views": []
    },
    "8147d6909df34e7a8f5644d740175fc3": {
     "views": []
    },
    "8155c077b2db4cac92ce11312c2a3dc6": {
     "views": []
    },
    "81624d5c4c794e3f86b6e3bbdd62a219": {
     "views": []
    },
    "8184c1205a4a49249c7fcc229784d3d3": {
     "views": []
    },
    "818a1b6f680f414288f8a0096a509b25": {
     "views": []
    },
    "8199a8c7e19943c3bd2a9f25de3ff840": {
     "views": []
    },
    "819ac1a4a4804a37b090d9ee16761315": {
     "views": []
    },
    "81acb6a0055841e1a415999ac1d0d911": {
     "views": []
    },
    "81db80aa159947afab2e75be26c74bf4": {
     "views": []
    },
    "81e2646d5ea3430ab48ab3d5f464acd6": {
     "views": []
    },
    "81e60750f74d48ddbfeff0f319ca9b32": {
     "views": []
    },
    "81e702d9473140f98ee6123ecd2d9007": {
     "views": []
    },
    "821b8ea109d747f6b0f9eb59fc6d55ba": {
     "views": []
    },
    "821d50eed24046cf8035262cf5ff5611": {
     "views": []
    },
    "8224cee678e24c059512a1cab4b0f0e4": {
     "views": []
    },
    "823722ed717b4118a98ba04676cb0e14": {
     "views": []
    },
    "8251c7c2e827466a9b0a902ee2bad918": {
     "views": []
    },
    "82539eb0fa0d42108751aed4536e222e": {
     "views": []
    },
    "825b0430e37648c687c2d9751006c673": {
     "views": []
    },
    "826954de687647409b608b06043fc9fd": {
     "views": []
    },
    "826c2faef8094bafa000af58051dc6c0": {
     "views": []
    },
    "82801b97725e4c3b83fd873de4ee0ef5": {
     "views": []
    },
    "82826f20f8c448ba9e78732258726023": {
     "views": []
    },
    "8283870b1e624e29851b3e82c757e17e": {
     "views": []
    },
    "828704b0ad2a49fe8268091cb4e4446d": {
     "views": []
    },
    "829a24d864274e66894535f900a48546": {
     "views": []
    },
    "829e1cd58c744e7aa6b1c34283563da1": {
     "views": []
    },
    "82ade18344e44f6f81b4874469174acc": {
     "views": []
    },
    "82c1756d34d948a89846cbff5062144c": {
     "views": []
    },
    "82cb8b16935344fa95f253d0dea65643": {
     "views": []
    },
    "82ddbc0e1dc4449ebf65328e2a41c693": {
     "views": []
    },
    "82e0d2f571c4480eaf0fe68d836ab01d": {
     "views": []
    },
    "82e1825a3be849a8967ba806efdde1b4": {
     "views": []
    },
    "82f0c191d34749609715adedd3369590": {
     "views": []
    },
    "82f6437aeab0467fb29661acb861b7b9": {
     "views": []
    },
    "8313e673da064663bc5c5ac39a3e5239": {
     "views": []
    },
    "8328dbfeb3cf4d349b69178f92ef8434": {
     "views": []
    },
    "8360da242ce442c9912db3bb9221ae50": {
     "views": []
    },
    "83689d51a8294a3ba53656ae552500cd": {
     "views": []
    },
    "837c7b9b5fab4701b2ca78192e1c7503": {
     "views": []
    },
    "837f4eb4de7548d690157f4d25da4a5b": {
     "views": []
    },
    "8380b47cf32a46308c0f615930244f63": {
     "views": []
    },
    "8384a1e243c34cdaad13f778ba3e348b": {
     "views": []
    },
    "8389961a877b48288228b6649737d5e8": {
     "views": []
    },
    "838a8324ce4b47e2a57b7ba73d9af442": {
     "views": []
    },
    "8395a37a9c8347fc834ac7215a64e67d": {
     "views": []
    },
    "8398ccf7e27d4f2a80a58e478df2f6ab": {
     "views": []
    },
    "839f219cb13b4ff3974029dfe09dabda": {
     "views": []
    },
    "83a15530a1df48809b879c3babf428d6": {
     "views": []
    },
    "83a77ecacf4141cfa2062c21b84dd4fe": {
     "views": []
    },
    "83b9e83882544f2790eb3287cee57b40": {
     "views": []
    },
    "83bafd76cdf043e1abf109afe089ff2e": {
     "views": []
    },
    "83c40f9115944babae6224f259425a12": {
     "views": []
    },
    "83db40bee7c84c90ad71af2a115c63fb": {
     "views": []
    },
    "83e16becccd94e1a8b7584c667c6bd4e": {
     "views": []
    },
    "83e873591baf4719994e5bf9e65348fe": {
     "views": []
    },
    "83eeceaad9ce4dc0968b8962ab923a02": {
     "views": []
    },
    "83f4d8ece89f4188aa183c4621d28223": {
     "views": []
    },
    "83f5a0def2724193b6ff19962c71c650": {
     "views": []
    },
    "84020e226f3044db8010ab4732d9ef72": {
     "views": []
    },
    "842e3cd8a0a7482b9e082cbb1a017876": {
     "views": []
    },
    "84345066afbc48908a1ddd2c1bc7643e": {
     "views": []
    },
    "84458b5d5431400ba468f5aa296588bb": {
     "views": []
    },
    "84488de9758641fbabbea0fef6c0feee": {
     "views": []
    },
    "844bb793c1a44e549f54334334536e2e": {
     "views": []
    },
    "845998a29fa345b49201b4644264cb1c": {
     "views": []
    },
    "845c53e7d23242d098d0c49efe9c7e94": {
     "views": []
    },
    "846bc4efaa5948ca9d72d6eb7776f539": {
     "views": []
    },
    "84760fecd1bc45d2a2d2938e5aa69025": {
     "views": []
    },
    "8476ae45367f451dbd8ae15f17f097dd": {
     "views": []
    },
    "8479ddb37400488babb5aa45b18ca831": {
     "views": []
    },
    "847d71ce260143e2ad058580e7eb8ec0": {
     "views": []
    },
    "84810d257fde43abb52ff839d95f8126": {
     "views": []
    },
    "84a4b45238be4adab92172d94d2a5855": {
     "views": []
    },
    "84a6046213584e37b8f39ac3d8002556": {
     "views": []
    },
    "84b3b59de1e44d6c9e6705b6b5cc85e1": {
     "views": []
    },
    "84b7410da0b14c898041ee463c09667b": {
     "views": []
    },
    "84bd8b964a94405087f6a3a7c7f2689c": {
     "views": []
    },
    "84c1490ada904f64acf483ae4b92f6c5": {
     "views": []
    },
    "84dfd4ed07744d539ee2631f1e627e83": {
     "views": []
    },
    "84e2e809f51c4c4f80f365a41fac9caf": {
     "views": []
    },
    "850ff5ba63234880b014724b556461ce": {
     "views": []
    },
    "8510da50fa4d4ffca1a434422843903d": {
     "views": []
    },
    "8528cf26937447178f93fa2682cc85b2": {
     "views": []
    },
    "852b7fd3ccaf4478aa5b3484b3121478": {
     "views": []
    },
    "8532afecbc3a43be915d76d46816007b": {
     "views": []
    },
    "853e0435527547938331b9b5768240ae": {
     "views": []
    },
    "854efbbabfb84df7a3e3bc316fe8f180": {
     "views": []
    },
    "85590292d15441cb8108e7466012434d": {
     "views": []
    },
    "855ee3d224764a57b1bac2bb4d6b45c3": {
     "views": []
    },
    "8560689f71ca459dafd947d260318ad4": {
     "views": []
    },
    "856fdda6a2814563b3ca86062a77538d": {
     "views": []
    },
    "8571481d810a4d46b54ae0c55c599f92": {
     "views": []
    },
    "857d9a8d16064e3a89504c40d92ed1a3": {
     "views": []
    },
    "8589371cafc440ac88d422f963a05d38": {
     "views": []
    },
    "858d00f2b3c544abb9d4df9671642769": {
     "views": []
    },
    "8590f9e2e1e8439ba727aac2875dc345": {
     "views": []
    },
    "85a65fc20baf48b8a65af745dbd2762a": {
     "views": []
    },
    "85ba8e6778b9467c9742081e519fa446": {
     "views": []
    },
    "85c28615799f476fb81b3593ed9c0701": {
     "views": []
    },
    "85cd88b3e596467da118a06ec335f5ea": {
     "views": []
    },
    "85e0a4bf76354150a999c6e3cd11adf2": {
     "views": []
    },
    "85f7e133ba0044e980c0e0e9a05885d3": {
     "views": []
    },
    "8620816e7c3044d9a4a44332aade4065": {
     "views": []
    },
    "862115232419440ea3019cdab69e89e7": {
     "views": []
    },
    "8625e53e249148f1a20b9c4df623f062": {
     "views": []
    },
    "863d592911b34650840a0de37a0f963d": {
     "views": []
    },
    "864321c3acd74487933f5ccefa359c47": {
     "views": []
    },
    "8651658ac2ac497089ee4957b7b41353": {
     "views": []
    },
    "8656c0f1132a484a9d8c3d659bf9fc83": {
     "views": []
    },
    "8664248bb8e241ae98863b8b349743d3": {
     "views": []
    },
    "86922c383e07403495ba4f9bd737a7f5": {
     "views": []
    },
    "86c62ef6d31b4001bba7925b85bc3d23": {
     "views": []
    },
    "86c9c75f60a54b93aa4c543fe85bd5e8": {
     "views": []
    },
    "86d5b2a81b03436cb44b75a958a0627a": {
     "views": []
    },
    "86dd7d6b62824748bc9da566190c4e83": {
     "views": []
    },
    "86f7cba0ba4f4a74939c249f7aa8b0da": {
     "views": []
    },
    "870229f4b7ec4294a40517bcd2984480": {
     "views": []
    },
    "8705e2fc1ba0466c870993d73172a3ce": {
     "views": []
    },
    "870c70b8a9da4b91af0c269b01ed6bd3": {
     "views": []
    },
    "8713fdb795274e5fbb1c05f63c3cde4a": {
     "views": []
    },
    "873699ad17864f8ebdccec50499e4c74": {
     "views": []
    },
    "874eb5391472447b93e91c371cbfa8e4": {
     "views": []
    },
    "876dffa008434dcc98256695dede0d6f": {
     "views": []
    },
    "876f32dfaf174b2caf90f62c6ff1f9c0": {
     "views": []
    },
    "876f68b907b74c2eba5cc2cc6fbb313c": {
     "views": []
    },
    "877f2fe87f494e5c98c7824f0b4e762a": {
     "views": []
    },
    "878a18da05244696b132c1ededc772b0": {
     "views": []
    },
    "8792c79159ef4e4f8804f7e18b674faa": {
     "views": []
    },
    "8794094b9a8443d581f2019d23059995": {
     "views": []
    },
    "87a0132bb5ce4eac9fe645b1ab138d93": {
     "views": []
    },
    "87a6c7796597497c8ea5ee578ccf5138": {
     "views": []
    },
    "87b74abc04b547c3bd1905412d82b9ae": {
     "views": []
    },
    "87cf308a90614a31a973031a7a8d1764": {
     "views": []
    },
    "87d08c5939024124b29c435a7e8ff861": {
     "views": []
    },
    "87e36e85f1d2403090de501923c60dba": {
     "views": []
    },
    "87e89d77d0cb40829f2c047245dfb4d8": {
     "views": []
    },
    "88257841030c4363983df164553dff12": {
     "views": []
    },
    "8827d4f099cb49398e9febe491ef9573": {
     "views": []
    },
    "882c0669e9a84aee8ee811cfc90be3a7": {
     "views": []
    },
    "88523743afff4d73aa14529fac1d0ed4": {
     "views": []
    },
    "886468eae0f54ec7992b1ff467fb7a56": {
     "views": []
    },
    "8868797c7b4143b19c98eb67b890798f": {
     "views": []
    },
    "888945a3207a4fa4ad8b0fe5533f28e2": {
     "views": []
    },
    "8896dbb4f5574f57805b081c5e715e80": {
     "views": []
    },
    "88a2200b99324649997fb30086698eff": {
     "views": []
    },
    "88a63e5080f249ca9e1a04d8f66d5bf3": {
     "views": []
    },
    "88c1afbc3e794bde8acb8cc6e74596b0": {
     "views": []
    },
    "88e4b180623b472ab2382370a63ec41b": {
     "views": []
    },
    "88fbed77511b4722973f8b9f46cb4afd": {
     "views": []
    },
    "89009c49cb2b471eb51e3d4c1c1a97f8": {
     "views": []
    },
    "890ca1ab6557457c8dc959dcb4f2c5fd": {
     "views": []
    },
    "890ca86690ca4acd80fb2435616889be": {
     "views": []
    },
    "8928687ab4f3433d8834113c1b5d47a1": {
     "views": []
    },
    "8929a9a8912f42efa0631c37ea05de67": {
     "views": []
    },
    "894728d2b7394cbb8313219c6dcf2f06": {
     "views": []
    },
    "89538b9468c047d6ab8daa3419fadc57": {
     "views": []
    },
    "896684fa181e466cb09cbadfb9e00839": {
     "views": []
    },
    "8999a360bf2e46daa271b399c715a18b": {
     "views": []
    },
    "89b2a3c0a5fe4910a6b6e1d32d84d0e8": {
     "views": []
    },
    "89bc588ccd4f4f1a8a5f8cadcf61af07": {
     "views": []
    },
    "89cbf6d01e3d477492996d02f4903e15": {
     "views": []
    },
    "89d5fe2afcc94b12ad93625ea5b77a88": {
     "views": []
    },
    "89f26486985a46a2b75ef166cc0c74d0": {
     "views": []
    },
    "89fa21b3b6934bacb6902c60fd4e1ad3": {
     "views": []
    },
    "89fae791b2734f5d853ca3e0c3996846": {
     "views": []
    },
    "8a026bcb8fe8418c84af67d144473844": {
     "views": []
    },
    "8a1003f6894a4b86bea709783df464ce": {
     "views": []
    },
    "8a18bae02d4e4a31996b1a146301c571": {
     "views": []
    },
    "8a2d6d8ff06147c48b82878f23fcede2": {
     "views": []
    },
    "8a353696fbf34ba9ad08bed7a40f2caf": {
     "views": []
    },
    "8a3765e114f741708eba713c3d0cb9f7": {
     "views": []
    },
    "8a4309030b1647db99b786d11dd19451": {
     "views": []
    },
    "8a475a90ebe04a92a6006ad6d9e4c242": {
     "views": []
    },
    "8a7414e8b87a48e791e233d3cffc7e6a": {
     "views": []
    },
    "8a81f1dbffaa473e88654d068d59fdca": {
     "views": []
    },
    "8a8a0bb98a1e454787d8a81018da9296": {
     "views": []
    },
    "8a9163be152a478cbb757e1957316943": {
     "views": []
    },
    "8a9ed96a77c1478d81b69dfd3d78df0f": {
     "views": []
    },
    "8aa6391330c74b768119785bb4759c1f": {
     "views": []
    },
    "8ac8b74f343944879f5b8a761a01e58c": {
     "views": []
    },
    "8acd6faece964fa393c672911bb252b6": {
     "views": []
    },
    "8afdb8d4adf94a2d94222ebe4ed3fc1e": {
     "views": []
    },
    "8b206189022644e0960ab5530684be44": {
     "views": []
    },
    "8b2a9edf92844f29beaf6305cee96eae": {
     "views": []
    },
    "8b336aaa249641f0a5876a471e9319b1": {
     "views": []
    },
    "8b34e785ad1d4923b1caed688663b6ed": {
     "views": []
    },
    "8b399d5a338641ceb25cc26816973c46": {
     "views": []
    },
    "8b449aa9cd034ada9d131ca952a829bc": {
     "views": []
    },
    "8b591d7f6af74d09a429e79289159c74": {
     "views": []
    },
    "8b61c9459d494ea78956c0c71d0b4b76": {
     "views": []
    },
    "8b64da9bea4849789a640a0b8826aea2": {
     "views": []
    },
    "8b6a00a32ec64551a406d34953da3641": {
     "views": []
    },
    "8b6e98766ca64005b57865cdbd9e875b": {
     "views": []
    },
    "8b954e2014f04868afff247ee5ee36c6": {
     "views": []
    },
    "8b9fcc91ba224dd09112638cf2e44922": {
     "views": []
    },
    "8ba79c81aedf4052ac6fb61e43333f06": {
     "views": []
    },
    "8bba08ccef9c42e4b652cbefb1918f0e": {
     "views": []
    },
    "8bba791a496a4302a3013e2d7b02ac9c": {
     "views": []
    },
    "8bcf5ab61bb448258d9db7df79a6a2b6": {
     "views": []
    },
    "8bec1617a6334cc0b9ff5d1edec3d32c": {
     "views": []
    },
    "8bfee8a44c9945619a7ea7e694c5ca58": {
     "views": []
    },
    "8c0a924e8fb242f8b34dd09bb955c341": {
     "views": []
    },
    "8c0d982660d44697a5236bb0f2f38db1": {
     "views": []
    },
    "8c1ca6e9583a4bc6959e692c22a92235": {
     "views": []
    },
    "8c1d10adcc39428da5ef8b22cba27e48": {
     "views": []
    },
    "8c279d3ac6f44cf1b7799c4a95a884cb": {
     "views": []
    },
    "8c32b4e09fc6418f89cad9992b905737": {
     "views": []
    },
    "8c3f8deb637b4ff582fea0381e75c9a7": {
     "views": []
    },
    "8c43d40730984f2eb43b0de0852bc1bb": {
     "views": []
    },
    "8c484fbb275b4315a9b1447481977a0f": {
     "views": []
    },
    "8c5764c9dbda489ba9cc92bf9d05c310": {
     "views": []
    },
    "8c6cb21650954ba5a46e118dd152da89": {
     "views": []
    },
    "8c731a7d65d640a79b574e81668b655b": {
     "views": []
    },
    "8c79f170b0e1407b90eda53b3d2ffdd4": {
     "views": []
    },
    "8c7cdd74732b4048939296fa13c93b79": {
     "views": []
    },
    "8c871e7f9125458288016f40e17b7799": {
     "views": []
    },
    "8c9029fd3d3f4c41b53d454a2169f94b": {
     "views": []
    },
    "8cb07fd0c9c94e92b1cc92521c85441a": {
     "views": []
    },
    "8cbb54bb5560474e9417d7a85e5ca161": {
     "views": []
    },
    "8cbe9cbfc8b44839b7527a40e74750c8": {
     "views": []
    },
    "8cc9715be2f64aa881df321fcea938c0": {
     "views": []
    },
    "8cd583bb75544d5fac38a14ee27f32e5": {
     "views": []
    },
    "8cdbe133c8194069bce50b616d929c16": {
     "views": []
    },
    "8ce08227510446718cad0d799d1c317f": {
     "views": []
    },
    "8cf9fa32bacc4305973795b96c8bc90d": {
     "views": []
    },
    "8d058ebeeb05471b99cd43d460185f33": {
     "views": []
    },
    "8d130c751eab44809e3cd38faa30b7a8": {
     "views": []
    },
    "8d1762d185b342c19621967abf10d11b": {
     "views": []
    },
    "8d202be17fb3474797a34f6935d58dac": {
     "views": []
    },
    "8d2357d95d1340368de5e79af996c06a": {
     "views": []
    },
    "8d2404c84f194116a046e7b69f2b615a": {
     "views": []
    },
    "8d2a7d5c43c74552a2d3e7e62faf8e3c": {
     "views": []
    },
    "8d4c2584ce9d4493ac607d7cd463c9f7": {
     "views": []
    },
    "8d59e90922c64a1a994e6406bc69c5fa": {
     "views": []
    },
    "8d5c79eb95404ee7b18b8373752c4ed9": {
     "views": []
    },
    "8d6c1c7fb995460b893081c9fba519ab": {
     "views": []
    },
    "8d83b736751b417db62ba82f8929ff30": {
     "views": []
    },
    "8d880ad13ead479bbf209b1c4a7a0c96": {
     "views": []
    },
    "8d8996f729094904a1bbba36657ee257": {
     "views": []
    },
    "8dbcb8e9cd2e432a98019fa4728d9e92": {
     "views": []
    },
    "8dcf694dc4c64dc1a6a0d999f7d527e1": {
     "views": []
    },
    "8def373c88894449afdbc80e11dbf5f7": {
     "views": []
    },
    "8df964c508f34cf5ba29a049c3f1ff05": {
     "views": []
    },
    "8e105ce2ba9045e9834d45b428414ac4": {
     "views": []
    },
    "8e1092bdec804996adc99bfb74643e7f": {
     "views": []
    },
    "8e168fa3ecc140feae4ce25e896e4888": {
     "views": []
    },
    "8e1a6382d01c4668888aafae1fe9561c": {
     "views": []
    },
    "8e22d4646be04c0bb69e3eebe7ac8fc7": {
     "views": []
    },
    "8e49ac25132a42fb9dfe2018ee852b59": {
     "views": []
    },
    "8e4d5012ae154075b19b66306ecf8342": {
     "views": []
    },
    "8e4f5cd034264d0b88f7ede326df4dd8": {
     "views": []
    },
    "8e756cdf3185422d84ebad9da29a2874": {
     "views": []
    },
    "8e87c91a36e340d383c81d8240bbe318": {
     "views": []
    },
    "8e9883686f174b9db5174ecd0da48a7e": {
     "views": []
    },
    "8ea138f368264d03936daea9cec178a3": {
     "views": []
    },
    "8ea6e8cdaca140b79d8ae75a7e67f03e": {
     "views": []
    },
    "8eb61de90c5f49a19b9c3c480100f46b": {
     "views": []
    },
    "8ec6067e017e4725b32360d5f1332e28": {
     "views": []
    },
    "8ec901a4b1354d99aeee60ef05d018b8": {
     "views": []
    },
    "8ed8542c016d448e9872cf6d74574f18": {
     "views": []
    },
    "8edace427e7e4325985df101b126617a": {
     "views": []
    },
    "8ee9cd524bfc465e8cf4e3c6a446b5d2": {
     "views": []
    },
    "8f29b2d1080540f1ad84f62e855f7703": {
     "views": []
    },
    "8f3a98fa7fcd42f59e795799c84a574c": {
     "views": []
    },
    "8f480828f1eb41d7aca279a51cc45496": {
     "views": []
    },
    "8f49203e38534961bcdbc95e7e071494": {
     "views": []
    },
    "8f648f530fa14267bd726c6fa67d920e": {
     "views": []
    },
    "8f6b2cf5a6554256a618048f3e975f5f": {
     "views": []
    },
    "8f7010e8bcf14a7db705500cae316471": {
     "views": []
    },
    "8f82d5c3d8ae459693bb8f4e49ab5739": {
     "views": []
    },
    "8f84dd703d754b7fbe3fec8a00322cdc": {
     "views": []
    },
    "8f944e4396e042b7802907c259a5d2c3": {
     "views": []
    },
    "8f98323e764f4daab8eba54230c403ec": {
     "views": []
    },
    "8fa46fe4442c45d1bbc7745e57b68ef3": {
     "views": []
    },
    "8fa54e0f29ac44ef84d76f3300b19974": {
     "views": []
    },
    "8fa8afe6c2584888bdb403837930fcaa": {
     "views": []
    },
    "8fb9211a1eba41138256fdeedeac51f9": {
     "views": []
    },
    "8fbade75b2794cc886f6e19da66aec45": {
     "views": []
    },
    "8fd9d23245154c268eb7652278b78340": {
     "views": []
    },
    "8fddecfcd6fc44d29e4b1a1eb4e4df34": {
     "views": []
    },
    "8fe8cbfeda694f86abeb265b7cafb063": {
     "views": []
    },
    "9000153413f64cf2ba604d033eb011db": {
     "views": []
    },
    "900fcec672614efd9e5e62fdab8d1dfa": {
     "views": []
    },
    "903429cb33f549e2861cb15565b607c8": {
     "views": []
    },
    "903605c7df9044b4a079b3cf53332cf1": {
     "views": []
    },
    "903f8be461a34aa8959a9ac1529affca": {
     "views": []
    },
    "903f8c022a6342e1b51a53e41522e221": {
     "views": []
    },
    "9040c640de954609aa3f1f9d55b910c8": {
     "views": []
    },
    "906627de6207448f9a2e3aab45ca242a": {
     "views": []
    },
    "90752a5ffe67416793d67dfc8a5435bc": {
     "views": []
    },
    "907b19fb224d4154a83dc842d4f357df": {
     "views": []
    },
    "90869b21b859493dace2197f30a7e79a": {
     "views": []
    },
    "908de44d91ac4d03873b4e9d980231ba": {
     "views": []
    },
    "90ac793802cb4d69b9c8867d6a593474": {
     "views": []
    },
    "90bd39aa034646c2bfeb95c158d9f44a": {
     "views": []
    },
    "90d161c410d34fe6abb178b779fe0c47": {
     "views": []
    },
    "90e64326ec4e4917bbb0191015c60694": {
     "views": []
    },
    "910371583b6f4f1093072b7c621dd114": {
     "views": []
    },
    "9112320f0bda4d4ea1734dc2e57d3f17": {
     "views": []
    },
    "91376f9ab0a14a3a877f15c983146367": {
     "views": []
    },
    "91402d21df70412a83884ca7885e00f1": {
     "views": []
    },
    "916d3e8889a448079b38310b855238c9": {
     "views": []
    },
    "916d620b05d84f849550e510506102f0": {
     "views": []
    },
    "916daf109cf64c139bdcb20da281430a": {
     "views": []
    },
    "917430159c404b399789ece8852eda86": {
     "views": []
    },
    "91843d67692642ddab7f5b1cb0545e9f": {
     "views": []
    },
    "9195da0c4c774cc79f150516368695c4": {
     "views": []
    },
    "91b90393de8640e1a16ce9da2e7edb9e": {
     "views": []
    },
    "91bbe76377c04dd2898918c3a7df1073": {
     "views": []
    },
    "91cae51f60f9444c87e062302738d822": {
     "views": []
    },
    "91d527d366e742a4a723e23fb087ac07": {
     "views": []
    },
    "91d83f706b5240c1bd04725a0afe9913": {
     "views": []
    },
    "91dd63c973fa491fa4cae97a181f5481": {
     "views": []
    },
    "91deb170514045189a2ef092d40a410b": {
     "views": []
    },
    "91e2714f4bbe416ca08182e00991aaa6": {
     "views": []
    },
    "91f23f446a314840a1fa26209fd3f4c4": {
     "views": []
    },
    "91fd032509434402a46d2352904407fb": {
     "views": []
    },
    "9210a37e787842fa9a46e499000195f0": {
     "views": []
    },
    "9219cf407fd9417fad395aa41c5e581a": {
     "views": []
    },
    "921dfc00b0c448bb8e206a1a863d7a57": {
     "views": []
    },
    "9220620b3d644e55bb478c1c82e0681b": {
     "views": []
    },
    "923ad4f6874e486ab49d01254ae022d2": {
     "views": []
    },
    "927b2c91ca8c4cec987f08a808301a34": {
     "views": []
    },
    "927f9c14c021484d83c98740e6ea1262": {
     "views": []
    },
    "9284b6eb789d437e9d09cbbfa6526f41": {
     "views": []
    },
    "9289c0c12ef84711b342cebeb90029b4": {
     "views": []
    },
    "92a61133938c4d2d91e74d4e80b7bcb6": {
     "views": []
    },
    "92ac764f8abb498cb7b41fbbaf60152e": {
     "views": []
    },
    "92b9a283a8ac4202a90fb5c19b71e8b2": {
     "views": []
    },
    "92bdd56aebdf476abaf112dcdff6217a": {
     "views": []
    },
    "92c558e896524aa593163d455f767786": {
     "views": []
    },
    "92ce50f322d54a8191aeb70bc2d689ad": {
     "views": []
    },
    "92d4bcd13a4540d08ca087402f2c0c2b": {
     "views": []
    },
    "92d563b8a9024002890c40409d932da8": {
     "views": []
    },
    "92d83fef6a2145aca645ac3695002154": {
     "views": []
    },
    "92fb96f6be3e45f8bb6e63f6e7100ce0": {
     "views": []
    },
    "9300c1be198f4f3589db951140c96c7c": {
     "views": []
    },
    "9306ccec965f47a893e3e98d6ac07f17": {
     "views": []
    },
    "9310578f68e544d6a80036b76e16a731": {
     "views": []
    },
    "9318958e5c3c4e9e8ab326a85e24a702": {
     "views": []
    },
    "931ca24f6cd24d6cb333d984fddd8142": {
     "views": []
    },
    "9326bc7a45814c08bf747cff8de3f6ef": {
     "views": []
    },
    "9331b5f70d6641e38346ec61c478ac3d": {
     "views": []
    },
    "933c13e9eb62433cac817a77916cced9": {
     "views": []
    },
    "93420b69b6d3475d91b12162892baecf": {
     "views": []
    },
    "9350ec77b45b41b58ae18dc742235ef2": {
     "views": []
    },
    "9361a5af5ce14033a576d9aca2e16694": {
     "views": []
    },
    "9369ab1a8f914419b6073984106d1b4b": {
     "views": []
    },
    "936d75e71fb9499fac8747e1d92c74b9": {
     "views": []
    },
    "93710e7bc3aa42fe9b9ec68d4d06939b": {
     "views": []
    },
    "937e38bd5e7e490e883417177335ee4c": {
     "views": []
    },
    "93c18725b221474fa65c74fc5a0b624a": {
     "views": []
    },
    "93c5155edd0841adb9cd2ec173605509": {
     "views": []
    },
    "93d24c06720e47ea9d59d0cbcbd89c4d": {
     "views": []
    },
    "93e0305706a44f119c1393de97993944": {
     "views": []
    },
    "93eb4b357e3146d8bf853c2a5c3c7bf0": {
     "views": []
    },
    "93eced9cc85444d9ba306b311b539a29": {
     "views": []
    },
    "9408954849ea45c682aaa3d8e7224d98": {
     "views": []
    },
    "941b3d86540c4f55ae9e12c5fd3b49d6": {
     "views": []
    },
    "944c2b66cb674301a0fccb9fa1a16d33": {
     "views": []
    },
    "944ce28a19df4c31b13bee559f724e99": {
     "views": []
    },
    "9452d107765f498cb44c722d3434ae97": {
     "views": []
    },
    "947ac4c2dcdf41c2a561263573ee11ab": {
     "views": []
    },
    "94af006cd89d451595dff5547c78c9a5": {
     "views": []
    },
    "94b06516dcd949a3abc51879932fd7e3": {
     "views": []
    },
    "94cd500aab604a3aa1c84431339f0997": {
     "views": []
    },
    "94db940829904ecea63fbdbae659a0b8": {
     "views": []
    },
    "94dd945a27124183a53f73ff312c2875": {
     "views": []
    },
    "94e9479ab0774a49a119e719df3e2655": {
     "views": []
    },
    "9517eb3bcfca4167969376354669d8bb": {
     "views": []
    },
    "951bd5b2fb3440bcb8c74a29568e370a": {
     "views": []
    },
    "95248d53d95545129c8433ec6e779cfc": {
     "views": []
    },
    "9530fb0a5a7e4eae893faa29caa09cd8": {
     "views": []
    },
    "9539db31697b40c38aebdf3595bb6839": {
     "views": []
    },
    "9544d597167b45a7a95cb4e50d588149": {
     "views": []
    },
    "95605e195dcd498b823af1103c666cd4": {
     "views": []
    },
    "95897c32416c44bcb6f2ee6aceee8101": {
     "views": []
    },
    "959597c5fb374fe08affb23ff6f50101": {
     "views": []
    },
    "95b645c88d2247a1bd63fdaf995b9faa": {
     "views": []
    },
    "95c3aa129dca48bdaa894f931285ea7c": {
     "views": []
    },
    "95cb94822a6141d89b0024c661941766": {
     "views": []
    },
    "95cf767d6fc44f34946a5869d4133bec": {
     "views": []
    },
    "95d4af7da2c44cbeb37d0c421ca6c035": {
     "views": []
    },
    "95d4f52506e04a87a4dcfe468b0cbad2": {
     "views": []
    },
    "95e7c973d35845e8bafe25a3b1aa18f9": {
     "views": []
    },
    "95ff8aee5ee94854901e7911c77f6782": {
     "views": []
    },
    "9602cb95a4e147fd8e8f50e5221a601d": {
     "views": []
    },
    "961d34c86d7d464f95da3da09d802a67": {
     "views": []
    },
    "9631e296a7544df1a477a4f455377001": {
     "views": []
    },
    "9637c965858f41b8a465c59d9d7ca57c": {
     "views": []
    },
    "96434232c9a44726aa4a9ea3fd12b884": {
     "views": []
    },
    "96695e9756a0432da57d2bb1fc0e121a": {
     "views": []
    },
    "9669db6910d04045be87263a9f75537a": {
     "views": []
    },
    "9672b665cd3b4f1687f31d0580098da1": {
     "views": []
    },
    "96861ed600c8433a91342980bf372eee": {
     "views": []
    },
    "96913e6c2a154e96aff74da36cde2e8b": {
     "views": []
    },
    "969be91ca7954301b01caa32e7facfc9": {
     "views": []
    },
    "96a4b5af15c54013a846f1337ccec676": {
     "views": []
    },
    "96ab637912fa470c927fab9669f2d39f": {
     "views": []
    },
    "96b64154ed8543318c0d4cc285127a03": {
     "views": []
    },
    "96bb0de21d974dbeb4721d55f0dce81a": {
     "views": []
    },
    "96be14b8587a4fb6b6a7a5c184703675": {
     "views": []
    },
    "96de84bc3e134ad3b14bf7136a8f4fe0": {
     "views": []
    },
    "96f46a66b0d8452bb361158b4533d07e": {
     "views": []
    },
    "96f5390dfd9749b3be1116fa63634116": {
     "views": []
    },
    "970a36e6117843118272ed96715e4f0a": {
     "views": []
    },
    "971341e83f8c416dafe24a82fdbf5aaa": {
     "views": []
    },
    "9726db2e7c0c47859f79e3f0be13bfe2": {
     "views": []
    },
    "97399a8adcc3407b91c74ecb81b9d412": {
     "views": []
    },
    "974a11a8bab44a0f9b07eccf1a7939d5": {
     "views": []
    },
    "976c9cd6b6384c40bfe88a48a06edeb4": {
     "views": []
    },
    "97a05a65e2054c559ecc4eb9c9d0772e": {
     "views": []
    },
    "97a6d3d06e844a1f9341b63c8ad796c5": {
     "views": []
    },
    "97af75aec51142efa6373032e368a992": {
     "views": []
    },
    "97bbce31fdbf4ff8986cb14e45e3ffd3": {
     "views": []
    },
    "97c0f4a66d9247b1b02f8fdfe7c1ee9f": {
     "views": []
    },
    "97d1acb9bbf348669722305e7adae1ec": {
     "views": []
    },
    "97d83e4a601d4ec796176c2916532a60": {
     "views": []
    },
    "97da5d29bee74f9ea2c405da583431b8": {
     "views": []
    },
    "97e0692b84fc4f2db4a1346b5dfb4612": {
     "views": []
    },
    "97f088b1a761430ca015f47462d71ece": {
     "views": []
    },
    "97f4ad1d4855446ba784b2b2766f0cb7": {
     "views": []
    },
    "980cfbcfb53d492cace162496875b490": {
     "views": []
    },
    "981a08656c5f4298b6744092ee2caaeb": {
     "views": []
    },
    "9827ac2c96544be7ad709be4d9746286": {
     "views": []
    },
    "982b12cdc91d4acdaada540c21e82f99": {
     "views": []
    },
    "983609268dcb4914b394f6030f19ba00": {
     "views": []
    },
    "983628290048463282367612eef2283b": {
     "views": []
    },
    "9837098be10e48599afb59bf952b333f": {
     "views": []
    },
    "983f01fc013b4804b7028e3b53f1651f": {
     "views": []
    },
    "9843b1088868490eaca7c736ade95472": {
     "views": []
    },
    "98450798b356452abe6f9a81e87f04c7": {
     "views": []
    },
    "9848f8927a8a481e8c6858293fd726ba": {
     "views": []
    },
    "9854d1eb8bef453cb70a2f87ec66bed1": {
     "views": []
    },
    "985740d4997746738ddbff2a00ab2954": {
     "views": []
    },
    "986f6cc613c646748696e13741576d23": {
     "views": []
    },
    "989388de76f74e49b2d684c82e15f3b4": {
     "views": []
    },
    "9896aae2a4664474894fe1f9b619d1fb": {
     "views": []
    },
    "989a58b5afaa4db8a6a88298c5b72b34": {
     "views": []
    },
    "98a5a5ba347b4bb28bfbea7da3d25e92": {
     "views": []
    },
    "98a6fe53ae57446a8fcb98594966c17f": {
     "views": []
    },
    "98e5028c16584e338aae20fcf923d128": {
     "views": []
    },
    "98f70bfc9f12402c92187da5f3c5a55b": {
     "views": []
    },
    "98fc5ec553a54cf79a89e60b2879643b": {
     "views": []
    },
    "99181fa1dc95490bb9a8129b55e6308f": {
     "views": []
    },
    "991da4d4d31a4cc3ad74eef9aee88dd2": {
     "views": []
    },
    "991fd3331b7342458b2a5747f508705a": {
     "views": []
    },
    "992d9289eb6642eeb0b531652b6c7087": {
     "views": []
    },
    "992e44cf3b4b404aa31d44d895380df8": {
     "views": []
    },
    "9943274da792408bbf32786b31056a8f": {
     "views": []
    },
    "994db2323e31403ba519b0b8485dce73": {
     "views": []
    },
    "9950c7ea240346d9840a515f078fa40d": {
     "views": []
    },
    "9956ccea6bed455cb138a68c6d5d24ea": {
     "views": []
    },
    "995be5169e27423b859f637793a1836a": {
     "views": []
    },
    "995f8ed0cabe477a8a3178fcbd3c8a3f": {
     "views": []
    },
    "99632ce58f2b4254a3e175ea28718cce": {
     "views": []
    },
    "996d7c9ebab64b00b7c577cc4e416e59": {
     "views": []
    },
    "9970bc6cae6d4b1aa7a15a2bfec0b45a": {
     "views": []
    },
    "9974abbb34034acdaac6bda7806aadab": {
     "views": []
    },
    "9982979155c445d986a1dd2e6c1c294c": {
     "views": []
    },
    "999196a5e3f541fa9ff02c943565f2c4": {
     "views": []
    },
    "999a12755e9d44a9aabd3e8e4b9edd76": {
     "views": []
    },
    "999d6483a41947d5a3262da02e0537fa": {
     "views": []
    },
    "99a06c75ccbb43f8ac3d104d1542809d": {
     "views": []
    },
    "99b0de450e0c4a4ab1f5fb48d53c8e64": {
     "views": []
    },
    "99c32decf4db49c1b60bfcbea77fff13": {
     "views": []
    },
    "99c71ac26180418980101ce0b256237b": {
     "views": []
    },
    "99cc99759f9c4d2c9dc9e8b1307a344c": {
     "views": []
    },
    "99d33f186bd14903975899fa91c7534b": {
     "views": []
    },
    "9a05690dcb76486793a74b8d255f1f59": {
     "views": []
    },
    "9a07fb49d1c94bf1b323eb628905fa56": {
     "views": []
    },
    "9a0b52d74c42485c983c8df1ca962b61": {
     "views": []
    },
    "9a0b5e2cfe9a4d9bb3977dff42b3801e": {
     "views": []
    },
    "9a0ee9bf677a44fcae6d4833d26b7b4e": {
     "views": []
    },
    "9a17faeb9c334be184a7250c71ceb0d3": {
     "views": []
    },
    "9a20817d16904ce5a72cf027f66475ba": {
     "views": []
    },
    "9a354d123eb14e3f92695f6f8fd2a779": {
     "views": []
    },
    "9a3b4c8757ad4a718996a41c97c2b5c3": {
     "views": []
    },
    "9a3c7b57a74e4c49be5e40bc5af5473b": {
     "views": []
    },
    "9a574ed545c9401785ede72a5d58f6ea": {
     "views": []
    },
    "9a604186c89e44458c4c623e6e8711a5": {
     "views": []
    },
    "9a811f0843db4464a4d5e761eab95dc0": {
     "views": []
    },
    "9a8be861d97541b081fa8da8969c0bfc": {
     "views": []
    },
    "9aae075534a94b7ca45d0eeda6218f7a": {
     "views": []
    },
    "9ab48dced5ef4cbba38281e4d17949e8": {
     "views": []
    },
    "9ad8952959be45ec960e7791ee3726b7": {
     "views": []
    },
    "9ae16f7daad84a5ab60fc67a181479b6": {
     "views": []
    },
    "9ae2f1c9b359458eb20d93e2b54c932c": {
     "views": []
    },
    "9af5a417516149a1a3e9215c9105108b": {
     "views": []
    },
    "9b11764e284d44b7bb4b71d6eab02d6f": {
     "views": []
    },
    "9b23b926cd6447ed959fa0b0a2043c59": {
     "views": []
    },
    "9b287d474d554e98af7f37404c5dede5": {
     "views": []
    },
    "9b4c0871b55b46a3a0c82a3b70c9480a": {
     "views": []
    },
    "9b4e78ec627f4d8cbcf8c9937ad7ed50": {
     "views": []
    },
    "9b590b948016408cbd39e8b4040cc329": {
     "views": []
    },
    "9b5ab6b5c95d4ec1bc42f960bb00bfbb": {
     "views": []
    },
    "9b636e8ce3e24486aaaf9034551d3955": {
     "views": []
    },
    "9b65eb0a4d85494c8cfad94f69efa69c": {
     "views": []
    },
    "9b6a294bbaf440f6b2e06b989a675a42": {
     "views": []
    },
    "9b6cc37f4b9e4db8ae7a5815d8575444": {
     "views": []
    },
    "9b76d3f38cfe41f0afa1d924d6b51ff6": {
     "views": []
    },
    "9b855aa0458a4e27bf10ee207547aa98": {
     "views": []
    },
    "9b8c50943cd84d4f93243c6a4563ed0c": {
     "views": []
    },
    "9ba1265d267049c39b6ff1fcfcdee4b9": {
     "views": []
    },
    "9ba3f26c1a3b42689897a00414e28d93": {
     "views": []
    },
    "9bb72dcd5c02425bbfb585a6f74a4f86": {
     "views": []
    },
    "9bc759b38dfd4f75a29f819b3e8cb0a1": {
     "views": []
    },
    "9bce7a3e96954ef1a770400ca1c5a1c0": {
     "views": []
    },
    "9bdca592a0e749cba58dcf906399622c": {
     "views": []
    },
    "9beaca265f1f44c0b580bd9f20581242": {
     "views": []
    },
    "9c133aeb060f438e99835cb62793aab1": {
     "views": []
    },
    "9c190739c973458390708389b0b0431c": {
     "views": []
    },
    "9c2a44bce2514ce99903e182aee9686d": {
     "views": []
    },
    "9c32acdb21c64ae3ac216b75d97d4c5f": {
     "views": []
    },
    "9c3c069074da48ef8deb14e9ddba986a": {
     "views": []
    },
    "9c6c00d6dc694f20a15a250c5112655a": {
     "views": []
    },
    "9c708866916a44c7b0c6cc87dfb8eb83": {
     "views": []
    },
    "9c7486c48035410da46befd0b9b22199": {
     "views": []
    },
    "9c7519e35a8e4f4aac82b4b5b3e88b72": {
     "views": []
    },
    "9c788c38cde94e08864abfaf1428cd3b": {
     "views": []
    },
    "9c7a3d78512349e780722544f78eaf30": {
     "views": []
    },
    "9c80613afa4745a48ac7d4078d1154ed": {
     "views": []
    },
    "9c8349f7b0884d3b94d08e5b191740ba": {
     "views": []
    },
    "9c8a2aa4be9541f9a2b5758673be2c7e": {
     "views": []
    },
    "9c9e21f7107a43de86c654ad94155f88": {
     "views": []
    },
    "9cc5f5d7797347e0ab74e11b614cbd38": {
     "views": []
    },
    "9cde745a69b54f34a8a5166e0af65ecb": {
     "views": []
    },
    "9cf4c82d0ab54dcf9f87eb140d9272fd": {
     "views": []
    },
    "9cf7f2a3c75946afa374c879b3f24664": {
     "views": []
    },
    "9d14aed8900b4544ba99fd53716288d1": {
     "views": []
    },
    "9d169afb7aaa46afbff06b8bfe524c58": {
     "views": []
    },
    "9d31b823f8794337bb57c554f0724b19": {
     "views": []
    },
    "9d3f7c1c8a774df398a1ad2d3dcd6b9c": {
     "views": []
    },
    "9d4b64aaeda84289821808c2b1347692": {
     "views": []
    },
    "9d54c68ecb2945c4adef3d5f51638958": {
     "views": []
    },
    "9d68e7a5124847c180149849877af221": {
     "views": []
    },
    "9d6e389ed8ed43bf9add8dc669a20e5e": {
     "views": []
    },
    "9d7c1e4d7dae4e9f89cd5cafe031fba9": {
     "views": []
    },
    "9d992d0a22ea425988769329d07108e1": {
     "views": []
    },
    "9d9d33f25f944a7eb49cd1951cf9bb8d": {
     "views": []
    },
    "9d9fcf5bc5c1415782484cf714fc7b3e": {
     "views": []
    },
    "9ddf81ee68464d07bdc221cb0b4b63fc": {
     "views": []
    },
    "9e0d03502bcd4113a732c04ae2c8aa5f": {
     "views": []
    },
    "9e256c5e9dcd484e8cb27399904a58ea": {
     "views": []
    },
    "9e29a721f7b9425fab84cfb9ebaec73b": {
     "views": []
    },
    "9e370048f1c6443496d9fad8ddd67a7b": {
     "views": []
    },
    "9e3951297ce24afaadf123008e592386": {
     "views": []
    },
    "9e396fc2d6da4f08aef42e6c05a7f484": {
     "views": []
    },
    "9e4bfe348bc942188095faa3910ae213": {
     "views": []
    },
    "9e4debf40ce64222b160cb3f3a086e73": {
     "views": []
    },
    "9e56739cfa834881b7c72fa01164c7ed": {
     "views": []
    },
    "9e5846a3d6ba4ac5a1c23b7c82305116": {
     "views": []
    },
    "9e59e87df11a487cb2724b3ef78433f5": {
     "views": []
    },
    "9e6164821acc4361b22bf86fbe53f126": {
     "views": []
    },
    "9e66fec158eb40e896fc713a2d75732b": {
     "views": []
    },
    "9e736dc74b2d4df59c00dc88354a2ca3": {
     "views": []
    },
    "9e934bf9f5dd40038544a8e387a45b6e": {
     "views": []
    },
    "9e9a31a3b85244b1a529fa98bd24e798": {
     "views": []
    },
    "9ea496826b4d4cee8e306412e4269993": {
     "views": []
    },
    "9eaa945de5b543a688b33897749cdcb5": {
     "views": []
    },
    "9ebc42e92f704168aa75a4452bbc67dc": {
     "views": []
    },
    "9ebd954de9374cacb1f7eb1811d1058b": {
     "views": []
    },
    "9ec37a2149de450b91405e82a50e05d1": {
     "views": []
    },
    "9ec6be81373b4baab7696a7bcb829bbc": {
     "views": []
    },
    "9f062d97b909430fa0144d8193875de7": {
     "views": []
    },
    "9f176ddd9698467bb9e993c031067a96": {
     "views": []
    },
    "9f1d1daab95846a88a3e6bfa3f52d26a": {
     "views": []
    },
    "9f3f0ecaf94c4ce89ca9728fc45fd2b2": {
     "views": []
    },
    "9f5e25f64a5a4632ac194ba5291f8e76": {
     "views": []
    },
    "9f805e3ad21f466e8a20d60b51e84892": {
     "views": []
    },
    "9f8a88f3c48e4f68b7da5a248200c61e": {
     "views": []
    },
    "9f8f8945d84e45868ffefd2854d5dcc7": {
     "views": []
    },
    "9f9792a5de8e413f8e5fa28696e16b1f": {
     "views": []
    },
    "9fbe943233404b74a7808994718b2282": {
     "views": []
    },
    "9fc3e7ed3ef2433bba2a827e94956038": {
     "views": []
    },
    "9fcf83ec356d43eeb5eb4c35d669bb68": {
     "views": []
    },
    "9fe1c16ae7cd4daaac6e9d83c1050f16": {
     "views": []
    },
    "a01095f56dad45368e0b78370ae52754": {
     "views": []
    },
    "a010fea008864db3a2ba8c5f76a45f5c": {
     "views": []
    },
    "a01399eb123149e78cbf43475ad0cce5": {
     "views": []
    },
    "a03e84b259744f2b8b4754624b2911b6": {
     "views": []
    },
    "a0577f94f5314995a31cd46fe426d371": {
     "views": []
    },
    "a0613e2f2b9d4ae99d52bccd5deb4842": {
     "views": []
    },
    "a06244daf39e43d8910dd65d1f4f941b": {
     "views": []
    },
    "a07374cd2d494d488c3ef22e5751251e": {
     "views": []
    },
    "a078c882e5ef44d48cbc69665f3b900e": {
     "views": []
    },
    "a080d2ce100c4afebcba5269d45b0dbb": {
     "views": []
    },
    "a087b41f07fb4ef7837253be0c3d2fd0": {
     "views": []
    },
    "a09866e79e454bfc985647e242f26757": {
     "views": []
    },
    "a0a75c534f784122845b36a32b1e317c": {
     "views": []
    },
    "a0ad713886b7411582a3fd680f42774a": {
     "views": []
    },
    "a0bb48cc23a944319e820e4e51ea9771": {
     "views": []
    },
    "a0c4bb82c500417d810716c1f961e9c4": {
     "views": []
    },
    "a0e46c1882774fc399c877136c2b1e9f": {
     "views": []
    },
    "a0e84ff99a704abb839ffabc89b9d90e": {
     "views": []
    },
    "a0eaabb5167a49d4a7dc57bf5e451eff": {
     "views": []
    },
    "a0f35c277921453fbf9ae0db466aea3f": {
     "views": []
    },
    "a0fe5ef7de804bf480b67b106b172a08": {
     "views": []
    },
    "a116889dc89d4197a8894e031f8183f9": {
     "views": []
    },
    "a11f9b4ec9d64981afe102cfdfb23ea9": {
     "views": []
    },
    "a13622e9894e497398b18aebdd675d52": {
     "views": []
    },
    "a1501848b87a46e593cf048fcd2fb651": {
     "views": []
    },
    "a17068d327f74535a2984a8f50ca3d55": {
     "views": []
    },
    "a174e2c362a34c19a3d00ef8756c1b29": {
     "views": []
    },
    "a17ca5862ce7454dbf84ae6b64eb0b8e": {
     "views": []
    },
    "a18c1707dec2423a9759788ae33d7a80": {
     "views": []
    },
    "a18fa867257e40169766f2811315a63c": {
     "views": []
    },
    "a1b2a1b0ece6431ab202406f2b1fb6c2": {
     "views": []
    },
    "a1b2cb0fe97c4ce5846dc3d5da243857": {
     "views": []
    },
    "a1b3ced9b2d64920b7ecddfb0fca55b2": {
     "views": []
    },
    "a1d394cc48234fbeb02047b0db6ba856": {
     "views": []
    },
    "a1d8128778cd4c64ad4feb39c62dd593": {
     "views": []
    },
    "a1da7020fd7f4592804c52261cdc2b50": {
     "views": []
    },
    "a1eb89df70a54d3886690e65a6877836": {
     "views": []
    },
    "a209f8d277a74b7184bc747650078cb3": {
     "views": []
    },
    "a20bf2dba69d454f81a51874140f00eb": {
     "views": []
    },
    "a20d5717542c45cf995054b9c6ddde5d": {
     "views": []
    },
    "a22377ee72d84630986dcdee227c4bfe": {
     "views": []
    },
    "a230d584372845849cc4f5945296d252": {
     "views": []
    },
    "a23298961f4640ce98c223c2f319e700": {
     "views": []
    },
    "a23be96168fc42169b9a54aa0249538a": {
     "views": []
    },
    "a240447e7bf04bca9ff1cdf0b1a0e68f": {
     "views": []
    },
    "a249e13ffb6047f198589d1ec51310b8": {
     "views": []
    },
    "a25caa701b524b3788c13fdf17a8d983": {
     "views": []
    },
    "a274b6512f184bd18d4603ecb91ec2c7": {
     "views": []
    },
    "a28fa4bfe47e420cb37efbdb9f932e86": {
     "views": []
    },
    "a29794c29a9043c680f600810483f315": {
     "views": []
    },
    "a2a5f96fce2e4aebbea905ac74d1d2c2": {
     "views": []
    },
    "a2ae4d106e6049789dba8e233c15a8fb": {
     "views": []
    },
    "a2b01d42f8304a039e8c6c2963db4d6c": {
     "views": []
    },
    "a2ba2cf467de4d109b958dcb26b5a98e": {
     "views": []
    },
    "a2c5decf855e4ca49c966fbe2a9a4991": {
     "views": []
    },
    "a2d96589847b4bad901a7e503174ed58": {
     "views": []
    },
    "a2db7f5ea39b42dc89ddf96794d72abf": {
     "views": []
    },
    "a2ea7f7dbc524e2295fd8494b82b9756": {
     "views": []
    },
    "a2f2ef1bc6b04526b84392e2e7c7d582": {
     "views": []
    },
    "a2ff1d58b75d412ab23424c9cd7ddd88": {
     "views": []
    },
    "a313ed71428845c4aadf412932a03b6e": {
     "views": []
    },
    "a3185ce1eae34d4a9bf577e18fcb90c8": {
     "views": []
    },
    "a3252027cda84f2eb7e84f39aa5896e7": {
     "views": []
    },
    "a329c3dafdcb49589c0b98e55ef1a38f": {
     "views": []
    },
    "a341832e7a464966b38ef8e211477264": {
     "views": []
    },
    "a34c50e4149c408ca8b11ea4dbbf8b17": {
     "views": []
    },
    "a3550a1c0ea74ac896d4e430e11b3082": {
     "views": []
    },
    "a35dd97351124b53b60f9f2779cd05cc": {
     "views": []
    },
    "a36cf9088fe948bcb993afe52f76f336": {
     "views": []
    },
    "a3a65af577c143dfa9f814d1d5b305d2": {
     "views": []
    },
    "a3c946261a7f4e91815e9a5451648d6f": {
     "views": []
    },
    "a3d6dcb66bfe407f82b5911a33b9fe2b": {
     "views": []
    },
    "a3dcdeb8ee9e4ce688d6f98e22e6f760": {
     "views": []
    },
    "a3ebfbcaabf44fffabf987d8c94509d7": {
     "views": []
    },
    "a3eea17269354bae98b7729d1b1907d7": {
     "views": []
    },
    "a41ff48ddd6f4184a09e8a3a16edfe5d": {
     "views": []
    },
    "a421dfe0c3a848b58cf125ecfc46c967": {
     "views": []
    },
    "a424acc36a4a436399ddf828e1f184ff": {
     "views": []
    },
    "a433d97af65d4802b634fdb67b3d58c4": {
     "views": []
    },
    "a4446fd4c7fc40cdb9a00f9e365b1285": {
     "views": []
    },
    "a4718c73134d478582fdece12be8166e": {
     "views": []
    },
    "a488fa95b58c433b8e1d787032283108": {
     "views": []
    },
    "a48d97b21f8b4c93b64e80c14d5f1219": {
     "views": []
    },
    "a4a89c1a300b4595ac1239b579f7b71e": {
     "views": []
    },
    "a4bac504464e4327822fcc23a3ddd580": {
     "views": []
    },
    "a4d27e35435f40f48b3e78809d4a6b18": {
     "views": []
    },
    "a4de63f948f64d8db8dd02deabff2629": {
     "views": []
    },
    "a4e296e03fbc4c43aa79275db2e83131": {
     "views": []
    },
    "a4ea57f00c1e45e4b9e33cc296161429": {
     "views": []
    },
    "a4efc2c5c7fe47c28d18b8d0f8a81355": {
     "views": []
    },
    "a4f0a4506d2948f495db7950e0e27041": {
     "views": []
    },
    "a4f81bbed4764441913b7da934f148b5": {
     "views": []
    },
    "a501bf7728bd431280cffd24b37dfe2b": {
     "views": []
    },
    "a53933f4ea86404aa562fe7952b0c8d7": {
     "views": []
    },
    "a54429478f394f3eb32ebddfa3d3a8e1": {
     "views": []
    },
    "a555efe2fffe438d89f58db76217868a": {
     "views": []
    },
    "a55cea309b384fc3b0bb0ec3552d06d9": {
     "views": []
    },
    "a55e9b7e87ca497c859846d5ea859c2e": {
     "views": []
    },
    "a567d9539e754296ab3004e329bc4faf": {
     "views": []
    },
    "a5745b046a7c484fbc0f303575bd062e": {
     "views": []
    },
    "a5ad3ce28deb4225b3947605a4cbaf0d": {
     "views": []
    },
    "a5b52e5581b6401388e47c5c2709b2a5": {
     "views": []
    },
    "a5d271a4d3e44ed4ad9ec038c99d8a20": {
     "views": []
    },
    "a5d6e8cafdc04e699d98d1d89a122d91": {
     "views": []
    },
    "a5dea2524e174b12ab89280aed409ad7": {
     "views": []
    },
    "a5fb393fb05342918e5bf11b66e24f03": {
     "views": []
    },
    "a5fd888536974940acefd1342ab76fd6": {
     "views": []
    },
    "a611defedccb44748478bba4764e9384": {
     "views": []
    },
    "a61b5280819546338e9e4133893dc7d4": {
     "views": []
    },
    "a61f184d3e1b461c95492a6a61f74a09": {
     "views": []
    },
    "a638ceab1fe74991886f20f59c96e255": {
     "views": []
    },
    "a647bfe4b36d4954b85b63733a881a97": {
     "views": []
    },
    "a65d8320c397412eb5156a9cf358d4c0": {
     "views": []
    },
    "a66848170a5c4730931f0a406c0cfcc8": {
     "views": []
    },
    "a67dedb296f6436ba268b392e8185c79": {
     "views": []
    },
    "a68570b03a944d47833aace4901874b0": {
     "views": []
    },
    "a6a5a92316e8449da02ca17a68d13052": {
     "views": []
    },
    "a6a881423fca44daa4d69ed34de55b58": {
     "views": []
    },
    "a6afe85b6747496781570d807a533a5f": {
     "views": []
    },
    "a6c1cfcc9a5841b7a69a239f170a98f8": {
     "views": []
    },
    "a6ed8312e3e246989fad88b5d95cbfb0": {
     "views": []
    },
    "a6f75b0ddce24d81bc79b8f339f842ac": {
     "views": []
    },
    "a704e45fa09a4f1da8f79ec54ee86167": {
     "views": []
    },
    "a708e91169a742f386ad09526706a1ac": {
     "views": []
    },
    "a7126ca429b54830bfd0913540e49629": {
     "views": []
    },
    "a717e63f159a445a896930646e349750": {
     "views": []
    },
    "a7351080209d40209d0b77a1ea634a92": {
     "views": []
    },
    "a7368ec360d344b78270fc3e4b3c6ef2": {
     "views": []
    },
    "a73912501130426f835894cea5703f1b": {
     "views": []
    },
    "a73b1584a13c474c8f20083f32dee85c": {
     "views": []
    },
    "a77e8f65273445a39ecd0a100db593d9": {
     "views": []
    },
    "a783ad0d6aa341e0a1413b46d6760c2b": {
     "views": []
    },
    "a7b52d5dbc224733bf4d6aa44ead1505": {
     "views": []
    },
    "a7dda5c719d241b5a97dae27297ae18f": {
     "views": []
    },
    "a7de74631cb04dbcb80e30a556653f84": {
     "views": []
    },
    "a7e8c4b929e740a595f57a5632b4172a": {
     "views": []
    },
    "a7f14f37769342b8a9b6fb6a8e01a1c5": {
     "views": []
    },
    "a7f91029f63b45128074a2287cfb6109": {
     "views": []
    },
    "a80bd714463d47dea6bf506a39a2de99": {
     "views": []
    },
    "a848c7f54b474cf6a899846df136f0e0": {
     "views": []
    },
    "a854bad8c4794d669b2082f7ba69ab16": {
     "views": []
    },
    "a86ac548babf4f1e91b455ca51e3b539": {
     "views": []
    },
    "a87d3938ce86423bae96cef60bca15e2": {
     "views": []
    },
    "a8866901c8ee4570af3f40871817ce0f": {
     "views": []
    },
    "a8a7d2f6e9d744beba7ea541be88fbd9": {
     "views": []
    },
    "a8b90a5d09544d089119c2cefe0fee36": {
     "views": []
    },
    "a8b931700a4f4e4a833ed6995bd7d81b": {
     "views": []
    },
    "a8bf8cf8aeaa4602b5e9b11c13cfb2a5": {
     "views": []
    },
    "a8c96df237224c7ba916ab7a20196afb": {
     "views": []
    },
    "a8cf4bdbb1d549ce9972dc3b258aaa2e": {
     "views": []
    },
    "a8fffb82dbb54070aa825e058278d68c": {
     "views": []
    },
    "a918e33152e3484eb272245d78cabc8a": {
     "views": []
    },
    "a91ea2f0cfbf400fbca552603cad80df": {
     "views": []
    },
    "a937e4d26265482589fd499f79dc046b": {
     "views": []
    },
    "a9492489eca142a18e411d4cf242b6fe": {
     "views": []
    },
    "a94a657120ea407db8e82019cedb148f": {
     "views": []
    },
    "a94a9f4edc264d78beff071fb98d1bc5": {
     "views": []
    },
    "a95656a6dbbc42b28406a1ab4056d621": {
     "views": []
    },
    "a96092edaebb49a585443dbbf062b9a2": {
     "views": []
    },
    "a96365ed310149fdac2c28f645492336": {
     "views": []
    },
    "a965d761201a48019927ed4ca67c5e73": {
     "views": []
    },
    "a977e186542942c9a111bd930a43334f": {
     "views": []
    },
    "a98677ea13304a688fc9d125ac4ba74f": {
     "views": []
    },
    "a98a70ff476a43499ccbe97cb9731b2d": {
     "views": []
    },
    "a9a63d52b35b4b28ad97d097d9bb027a": {
     "views": []
    },
    "a9a8a1038c53483a91d1fa6c9ca65617": {
     "views": []
    },
    "a9b41cb5314f49a19ba1388ba3787c5d": {
     "views": []
    },
    "a9b7b919a5cf4a18ac59899916f31cec": {
     "views": []
    },
    "a9c14ebdedce409c8727f05349ab6955": {
     "views": []
    },
    "a9c548d035d1403fadac84c966b0c8b8": {
     "views": []
    },
    "a9d38a67a08b4ad5b418c90033db6d53": {
     "views": []
    },
    "a9e581eb1f4048dcba11ace7668f4721": {
     "views": []
    },
    "a9e912f58f5f4a3c923bdab26dcfcdf3": {
     "views": []
    },
    "a9ede6d2501d45349ead36c0e0be376e": {
     "views": []
    },
    "aa15fa8e7337469396c92918e04593e9": {
     "views": []
    },
    "aa1fff66e7dc41bd9f10a961e6307a38": {
     "views": []
    },
    "aa31c2463f594f31b51cc15e20f693eb": {
     "views": []
    },
    "aa46bb75dbca4fce95b48fdb5cbc6791": {
     "views": []
    },
    "aa4c7c83ce314bfea60461fa9c1d5e64": {
     "views": []
    },
    "aa5936c06b0a4a96b9a0ceb1b13534d6": {
     "views": []
    },
    "aa5c3625972a48d09edba9600e59dd76": {
     "views": []
    },
    "aa8193f3861a44f8821880462bb1168e": {
     "views": []
    },
    "aa8c1c81351d47fcbcfcbf2cda4df50e": {
     "views": []
    },
    "aa8d876a9cf440aab267670359e181b6": {
     "views": []
    },
    "aa974155660a41b093293d91b710e3f3": {
     "views": []
    },
    "aa981ea44afd4d028f9df03a58fa30e4": {
     "views": []
    },
    "aaa69ebdca4841b5a84f65d690992e75": {
     "views": []
    },
    "aad1a12c764943619636a7c1bfaedfc1": {
     "views": []
    },
    "ab027a2ef5c1408cbd968962a4f9e60b": {
     "views": []
    },
    "ab0461fca96a4c1b90412459881a593d": {
     "views": []
    },
    "ab251265bbad48149cf43e9cc5fc215b": {
     "views": []
    },
    "ab286ee6f0ef40608955bcc49bc6b7ec": {
     "views": []
    },
    "ab296318175e48c388cc9b59c3a1a102": {
     "views": []
    },
    "ab2f175e41f148869045ac7759b37c2c": {
     "views": []
    },
    "ab30467c65a44b1a83b523e939c3d812": {
     "views": []
    },
    "ab3ba53365ae405998eae55dd8fbebdc": {
     "views": []
    },
    "ab509e718f11492791508289e8e65290": {
     "views": []
    },
    "ab57452dc99d4544a62222a8556410d7": {
     "views": []
    },
    "ab58c5c01ac140dda92e17d4e7a0c3af": {
     "views": []
    },
    "ab6cd740dfd0459997eba7dfe770a6f1": {
     "views": []
    },
    "ab7a378f18fe4f29b10b66d9d40a0e03": {
     "views": []
    },
    "ab7b5be72310498da1beb85809c15e59": {
     "views": []
    },
    "ab8fa045c7c948b0a243dc4d5a96ff60": {
     "views": []
    },
    "ab90576dc34842e0800c4527e12f0765": {
     "views": []
    },
    "abab52be85474688b8ca1cf3eb6871c4": {
     "views": []
    },
    "abace53bc84c444bb165993fa4f429b7": {
     "views": []
    },
    "abb5270eca4848f88f62e03f97079f1a": {
     "views": []
    },
    "abb8e847dbb8467f9713d87abd2888cf": {
     "views": []
    },
    "abcf16da467d40d4a8c938ddab7fceb7": {
     "views": []
    },
    "ac050e9483d04d5ea5d0c8ebfed65332": {
     "views": []
    },
    "ac1ee2d5fb0c40ea90c1aaef9ea29d7d": {
     "views": []
    },
    "ac2bb46e6a5d4caeba95346ae60409c3": {
     "views": []
    },
    "ac485d9e9d44444cb2f360622acb0927": {
     "views": []
    },
    "ac5789d5bf104ac298325b7979596b6b": {
     "views": []
    },
    "ac5e3d323fc044b6800023e549c0990a": {
     "views": []
    },
    "ac611fb66c6640a8be1299c04c6179b4": {
     "views": []
    },
    "ac65a5a0a14d499ca01469352f239ac5": {
     "views": []
    },
    "ac9b39075e544d18a000b32c5ecde498": {
     "views": []
    },
    "ac9c08381d3342a296bd11467c7302a7": {
     "views": []
    },
    "acc5f7b53acb45a39f2729f5c25dba81": {
     "views": []
    },
    "acd8cd184c554afa86b98e440ff3186b": {
     "views": []
    },
    "acdb1ece41544df39dd9baa570dadbb6": {
     "views": []
    },
    "acdbf361a9464deab31e3844aec2ed2e": {
     "views": []
    },
    "aced9c7591154e9ca49acb2093c4eacc": {
     "views": []
    },
    "acf62929a0254bb1834e73c1bc856be7": {
     "views": []
    },
    "acff6c7c4d074d168b627cc417f12e00": {
     "views": []
    },
    "ad352e6b602941fc8028ecb242246114": {
     "views": []
    },
    "ad3b19fe426a4c9eb16e4ad75de958b1": {
     "views": []
    },
    "ad47fd68ba72432dafa442e6559bcf62": {
     "views": []
    },
    "ad54e8050e2e4ea79aa10337e4f8a15a": {
     "views": []
    },
    "ad6d238fa7f646728ed41285b315881d": {
     "views": []
    },
    "ad7306a1821d49999ce9dfe3ee5df5c8": {
     "views": []
    },
    "ad7f3745bd1442c583451277a5c6608b": {
     "views": []
    },
    "ad81b91808f94208a789a55493d25d91": {
     "views": []
    },
    "ad8cad15e2444cf887d2af47380db7b0": {
     "views": []
    },
    "ad9cb30b073d49cfbb1681530c140e98": {
     "views": []
    },
    "ada0c308a7bb4002a41feb7f1723ea7b": {
     "views": []
    },
    "adae664f32f24728ba99a683c1db0bcf": {
     "views": []
    },
    "adc859d3ea524ea5a8b446b08dd0330a": {
     "views": []
    },
    "adcaa93188bc4d1d8a545da8ba9d0f5c": {
     "views": []
    },
    "add12703c6da4f85b7cc8b358fc24f46": {
     "views": []
    },
    "adf051c3347242d49d4b34bf92546ccd": {
     "views": []
    },
    "adf98e43ba0443aca1e35e291fb3dd93": {
     "views": []
    },
    "ae06e6bfae0b4343ad405c1a4cd4ad6d": {
     "views": []
    },
    "ae15233a69f4419dbe66814a0dffb49b": {
     "views": []
    },
    "ae22e94b685845f4ac822d9f88efbbca": {
     "views": []
    },
    "ae34df6f4f20444e95c1fe7d886f99b4": {
     "views": []
    },
    "ae3831b05874461191692c8e2480608a": {
     "views": []
    },
    "ae465f4c8ca0466583976f7c43cebbe4": {
     "views": []
    },
    "ae7232e1534247b8937a6934f1e7350f": {
     "views": []
    },
    "ae7673a3eac04a06928576f82fce8aff": {
     "views": []
    },
    "ae78783bda6b4e03b642ab430e7faaf2": {
     "views": []
    },
    "ae79fb3c8dba44668623a9ce83deb7e3": {
     "views": []
    },
    "ae935423b362450fae47a822a66233d6": {
     "views": []
    },
    "aea3d70e97b84be88e80ebc147728a36": {
     "views": []
    },
    "aeb9de6660294b968f09673139dc0381": {
     "views": []
    },
    "aee3560e25b542858b25311610486ae3": {
     "views": []
    },
    "af17d9bd76144c44a61bdaa0e35ba2b7": {
     "views": []
    },
    "af65f19b767947d580b7ddf69c78730d": {
     "views": []
    },
    "af6b2a9d0e6641d88246b1a58c5e9be3": {
     "views": []
    },
    "af8379fa849e458abfcbd00fab75bfbe": {
     "views": []
    },
    "af845039eb9f4418bee77a1955d82ca5": {
     "views": []
    },
    "af8d7bfd41cb45b6b2435a69af7fc174": {
     "views": []
    },
    "afb3686bde9f4627ab53953d9cc56087": {
     "views": []
    },
    "afb8fe2aa204435da325979e5deb5bca": {
     "views": []
    },
    "afd1a145859142359936345057322fd3": {
     "views": []
    },
    "b03d71194a1e4d38a7e3cff89b91a4f4": {
     "views": []
    },
    "b04f24a45b69484aad1b30eabb1b5768": {
     "views": []
    },
    "b061d695ddef4dada8575ad8deac3bbf": {
     "views": []
    },
    "b067b4e3e36a463e84640037c93ba1f4": {
     "views": []
    },
    "b070bb420cec451ba3c124e46678c2c6": {
     "views": []
    },
    "b070bca94df141ddaa83e4cf516f8863": {
     "views": []
    },
    "b098175d7cac4b5eba26e5b10c3591ee": {
     "views": []
    },
    "b0a2124b5cb648b5abc569c16945cfe1": {
     "views": []
    },
    "b0bd75e1460642d9b6c9b5e67637c7ab": {
     "views": []
    },
    "b0c9e38fda8b4c5c867200e4df51a502": {
     "views": []
    },
    "b0ce89bbfe634d4fb2470c07ffba0b04": {
     "views": []
    },
    "b0ee41b4f343437cb286444b9e8b6ae8": {
     "views": []
    },
    "b0f61abdbabe48fca2a7ac90ac2af7f1": {
     "views": []
    },
    "b0f8c28c25874c6a8637d46f3724b6e0": {
     "views": []
    },
    "b0fd732398f1427f8725d6afd6b4bf3a": {
     "views": []
    },
    "b10ff787f72c43259b71f6229c222d11": {
     "views": []
    },
    "b14ba1373ef4425b9d8f0b6f73b1c970": {
     "views": []
    },
    "b15af1d7b90944daaa62d7e5a9d59b7b": {
     "views": []
    },
    "b15e929f89574a62ad3910b3f8728d7b": {
     "views": []
    },
    "b1637a01ce78429a812567ec1c8952a5": {
     "views": []
    },
    "b16b95417d19497b82e7bb01fc1fbaef": {
     "views": []
    },
    "b170b23c051843809dd2e2fc82c931fb": {
     "views": []
    },
    "b175cf3b7f234866b1685f2643229ab6": {
     "views": []
    },
    "b175ead598794869b18d3dbc4f49bfdd": {
     "views": []
    },
    "b18dfeaf470747baaca5c058f69143ff": {
     "views": []
    },
    "b18e83408eee40af9d2bd84e8f7548b0": {
     "views": []
    },
    "b1a1b2f364d245b1ae91eac821efe2ba": {
     "views": []
    },
    "b1adf239eb104f60998987af945dca4a": {
     "views": []
    },
    "b1b91ac0efc44e7ca43e2b6ed7c30019": {
     "views": []
    },
    "b1bb67d713c44da7bdb1e64d17afcebf": {
     "views": []
    },
    "b1c8cd08a4814e4c80ef90dcdab0eb00": {
     "views": []
    },
    "b1e2de5cedd24a6cae5feac89e8a59cd": {
     "views": []
    },
    "b1f74f4d326b42eb94251d05a6a804ba": {
     "views": []
    },
    "b22a81752f194091ba474f800a6bf2aa": {
     "views": []
    },
    "b238e914dc2f4c1aa0498c395ed2b422": {
     "views": []
    },
    "b241c9457bc14b2086dbe98c70652a6b": {
     "views": []
    },
    "b25fbbf19a764828ad42c65c33083010": {
     "views": []
    },
    "b2968d81fdda460aa5e00d401465c55f": {
     "views": []
    },
    "b2a306a9f08b4c37b263da91149ff70e": {
     "views": []
    },
    "b2a4e037111c4e3ca59f02944bbd7025": {
     "views": []
    },
    "b2aa03d85ba2424683f7172afc39e983": {
     "views": []
    },
    "b2aa409581244226b3e92634ac22060d": {
     "views": []
    },
    "b2af019e66294d0bb6ccd9f5700b951e": {
     "views": []
    },
    "b2c43b5a4eb5409fbcdc2917cb74bce9": {
     "views": []
    },
    "b2f049f838b44b9387d0e6f2ebfd054e": {
     "views": []
    },
    "b2f4762bc2d44cb9ba4da58a69f94815": {
     "views": []
    },
    "b312ce95ed6a4d23aeb4ec1d90a6b0e7": {
     "views": []
    },
    "b31da5e99b694aa680fae57d5e9f98ea": {
     "views": []
    },
    "b3282bb1af374d519942063d158e5641": {
     "views": []
    },
    "b331c2682e9e433c849ba0b8cdcf5cb5": {
     "views": []
    },
    "b338f4f06e5b41a1adb9d3fe76c8e261": {
     "views": []
    },
    "b34acaa26d844f33b4c5591dc9a4636f": {
     "views": []
    },
    "b369624166b54a5f89d3f4c3725b85c5": {
     "views": []
    },
    "b372ebe782a94c478df3bf4a890ff5b5": {
     "views": []
    },
    "b3993800c0d64e6c96af0b09bd96bbad": {
     "views": []
    },
    "b3bf5740073942cdb5c9f391f8df89fd": {
     "views": []
    },
    "b3c6d905147848d8aa26d0882dbef32e": {
     "views": []
    },
    "b3c8734d29624c9e8246f55beaceab86": {
     "views": []
    },
    "b3e4e9ea71d04f7d822faa6190371304": {
     "views": []
    },
    "b409759e4b154e548d7ddf2c8f7b5221": {
     "views": []
    },
    "b419084bfa984ba18c9183a14177b621": {
     "views": []
    },
    "b423010cd42c4eee8a8f99b2a19a88cf": {
     "views": []
    },
    "b43e00bc700c454a98d8274003294b40": {
     "views": []
    },
    "b457d59f59514cb996ab3d0df37b4519": {
     "views": []
    },
    "b46bf02812904dff9bb328f0ca191289": {
     "views": []
    },
    "b473ea3e4ef34e8c89b989f8bf789b68": {
     "views": []
    },
    "b47cc48bc9714800bb4828e35444d49a": {
     "views": []
    },
    "b47f5cb21aa24b19a028a4e3dca3b214": {
     "views": []
    },
    "b481e3faf4fc41ec818d5ca7dbeb4c1a": {
     "views": []
    },
    "b48ca24fe4784af3bb22f2a0a0333bdb": {
     "views": []
    },
    "b48cea4565ba4668b8d521672515ea18": {
     "views": []
    },
    "b496ee96e5544d77aa4bc546258decb9": {
     "views": []
    },
    "b4ac03d88a4243e8a085dc30e49623fd": {
     "views": []
    },
    "b4b08867b96548b89f749f9f63c8a9ae": {
     "views": []
    },
    "b4c8c270c18443c3ada8c619cc325557": {
     "views": []
    },
    "b4d54711a17a43ed86ac88b14c72a93d": {
     "views": []
    },
    "b4e5bdc8bc614dada8e11260aaf1a10e": {
     "views": []
    },
    "b4e76ff510e64c36a47eeeb192c96630": {
     "views": []
    },
    "b50a3ea43674456c9f7fcc60270ef706": {
     "views": []
    },
    "b50c011bfec54806821a535e494d853c": {
     "views": []
    },
    "b50d414379ba4488b4cd11bd63b3fa54": {
     "views": []
    },
    "b50d57349b7f403aa4b1ea57bcd90a6e": {
     "views": []
    },
    "b50f51caa16b46aba5ce51074471cf3b": {
     "views": []
    },
    "b50f77fdc84f41cbae60d9c058f5a4e3": {
     "views": []
    },
    "b51af865b85942b38ec65a4c55e6213e": {
     "views": []
    },
    "b540ef1e95844ed2b1f0f182dfb58dce": {
     "views": []
    },
    "b547e43d94cf4bb983e247334145c74b": {
     "views": []
    },
    "b550b361e67645f7beab508d89738a2f": {
     "views": []
    },
    "b55869885e764695a6ab55db0d40503b": {
     "views": []
    },
    "b55aad25464b4894b65edbae577d1532": {
     "views": []
    },
    "b561908052ef4aab8e4e43b108244de1": {
     "views": []
    },
    "b5640123e9cc46f1967509ff0c07c17a": {
     "views": [
      {
       "cell": {
        "cell_type": "code",
        "execution_count": 35,
        "metadata": {
         "collapsed": false,
         "trusted": true
        },
        "outputs": [
         {
          "name": "stdout",
          "output_type": "stream",
          "text": "['Crime', 'Parking', 'Transit', 'Homelessness', 'Schools', 'Environment', 'Affordability', 'Development', 'Density', 'Politics', 'Gentrification']\n"
         }
        ],
        "source": "center = [37.76284413400416, -122.39490509033203]\nzoom = 12\nm = Map(default_tiles=TileLayer(opacity=1.0, url='https://tiles.wmflabs.org/bw-mapnik/{z}/{x}/{y}.png'), center=center, zoom=zoom)\ncreate_circles_for_topic(m, topics_data, 0)\ndisplay(m)\nbuttons = [Button(description=x) for x in TOPICS]\nfor index, button in enumerate(buttons):\n    button.on_click(lambda _: )\nprint TOPICS\nHBox(buttons)"
       },
       "cell_index": 5,
       "root": true
      }
     ]
    },
    "b5a52eb5c7974a16a30fb16935583c7d": {
     "views": []
    },
    "b5c565b8d0564aabbd007b7f8a31530f": {
     "views": []
    },
    "b5cb3545448943a08347b5c2ffd90554": {
     "views": []
    },
    "b5cc7393e1d94d25821c3e0b464d52fc": {
     "views": []
    },
    "b5ceefdf80854d36b0e4e18f0463465b": {
     "views": []
    },
    "b5df94ee875d49408ddc72260ecf4bc4": {
     "views": []
    },
    "b5f2193eb150496c8e6f43a2cfbe452a": {
     "views": []
    },
    "b609ac6273804a8d9efc9c3fc51f9fa4": {
     "views": []
    },
    "b60ad20d943f4304b1ddad9bc59425d4": {
     "views": []
    },
    "b6269faf1e0849e8a116e1fefb7c0269": {
     "views": []
    },
    "b65c01f716044428949a30017fdbce54": {
     "views": []
    },
    "b661f69b25b24c439a0aec47de41ac38": {
     "views": []
    },
    "b6658910741e4423b7cb28893ded6930": {
     "views": []
    },
    "b67ce29a5a194ad18e2eb82a9860d517": {
     "views": []
    },
    "b67e1d1aa2fd427cae75a93f31fcf4eb": {
     "views": []
    },
    "b67e68bcc07f4e21a7b112f4e4276f85": {
     "views": []
    },
    "b69a49ef5151427cb826e569ac54aecb": {
     "views": []
    },
    "b6a79e62b42644cc89daecb510447fe4": {
     "views": []
    },
    "b6b9d70e923d4ab181621ce5504bc6d6": {
     "views": []
    },
    "b6bbb14108764a88be42959e16e09396": {
     "views": []
    },
    "b6bda4ae40c24c90a103b3c8953a44c2": {
     "views": []
    },
    "b6d2085440ef416b8e7381dba989b377": {
     "views": []
    },
    "b6d556e59e7a46da92da3aa597480af9": {
     "views": []
    },
    "b715437e9a014d97a0b9c3650326d242": {
     "views": []
    },
    "b71b38c29f6f4f00961d711649c5ff40": {
     "views": []
    },
    "b722cc3be3a743bcbd3594e44b682956": {
     "views": []
    },
    "b72af35c7fb94ba380df9da5715451bd": {
     "views": []
    },
    "b7304f474b304fabace6aa9ac1b58ad2": {
     "views": []
    },
    "b74740f3190c47b9887c4dceff61e854": {
     "views": []
    },
    "b74a4846fd2b4d829e28f383d7f70cbb": {
     "views": []
    },
    "b750ef8e36164dd4806565e45c5c6905": {
     "views": []
    },
    "b791490335e0453587cb4a92690a9684": {
     "views": []
    },
    "b7de097bd3754e76b9b6cf621a833471": {
     "views": []
    },
    "b7e0311821884d10a28779654a9d58d4": {
     "views": []
    },
    "b7e2e02d54cf4cc9bcafe15094ae942a": {
     "views": []
    },
    "b7f01a2cdeff4a28bc988f2e4daced9a": {
     "views": []
    },
    "b830bc5ec205430e920235f7a5f245c1": {
     "views": []
    },
    "b83d524555c74d17a3c806f17f204c42": {
     "views": [
      {
       "cell": {
        "cell_type": "code",
        "execution_count": 35,
        "metadata": {
         "collapsed": false,
         "trusted": true
        },
        "outputs": [
         {
          "name": "stdout",
          "output_type": "stream",
          "text": "['Crime', 'Parking', 'Transit', 'Homelessness', 'Schools', 'Environment', 'Affordability', 'Development', 'Density', 'Politics', 'Gentrification']\n"
         }
        ],
        "source": "center = [37.76284413400416, -122.39490509033203]\nzoom = 12\nm = Map(default_tiles=TileLayer(opacity=1.0, url='https://tiles.wmflabs.org/bw-mapnik/{z}/{x}/{y}.png'), center=center, zoom=zoom)\ncreate_circles_for_topic(m, topics_data, 0)\ndisplay(m)\nbuttons = [Button(description=x) for x in TOPICS]\nfor index, button in enumerate(buttons):\n    button.on_click(lambda _: )\nprint TOPICS\nHBox(buttons)"
       },
       "cell_index": 5,
       "root": true
      }
     ]
    },
    "b84230c918ca49efac71f3274e1ef951": {
     "views": []
    },
    "b86805becdd54cf8b4a15d589c13946f": {
     "views": []
    },
    "b86eb224873d46eeba39f9967c8ba3f0": {
     "views": []
    },
    "b8738001b9b7481e8e8a7dd02ac698ae": {
     "views": []
    },
    "b8808737380c47fcb4d735dcdd8f8591": {
     "views": []
    },
    "b88638e129b44d7dabf97eced28a40a4": {
     "views": []
    },
    "b898b2ec12b94d6ba6871bf264b8655b": {
     "views": []
    },
    "b89c0ad2bf4646a998009cd19f015d67": {
     "views": []
    },
    "b8c5ddc9614540ac979dc0df79570376": {
     "views": []
    },
    "b8d9c2d9aaff466c8ff0008f2f46012b": {
     "views": []
    },
    "b8e180b141324344890b7b25b2e198f2": {
     "views": []
    },
    "b8e6fe02c63649659733cdfeb8234434": {
     "views": []
    },
    "b8ff5cabfaa44d36921cad7cec46aa67": {
     "views": []
    },
    "b8ff6a52ccbf41bb99ff2eefe2d60465": {
     "views": []
    },
    "b908c3f047f548298da4032f5a6e0606": {
     "views": []
    },
    "b91447ab9b354a768d548254fe153e08": {
     "views": []
    },
    "b91bba68fe4b42a29d4e8099fc5a5cd3": {
     "views": []
    },
    "b91f7a49d24140529ea355af40c7081d": {
     "views": []
    },
    "b9241e3c95a74970bb83ec6eaf5f4389": {
     "views": []
    },
    "b936c59bc78f4e1da0fb12698ac0267e": {
     "views": []
    },
    "b964f5302b934f708e3d26cc04179380": {
     "views": []
    },
    "b97b50c1385444ecaefedf791b8ae878": {
     "views": []
    },
    "b987c6b0a16a47fba254117e5ce3d4e3": {
     "views": []
    },
    "b98de8c1a4194ac9b9fc8d2fbd2bbd4d": {
     "views": []
    },
    "b98e64f591b248968057446a30be5c8c": {
     "views": []
    },
    "b9b22d4d404f46cab0fa0f764e5d67a5": {
     "views": []
    },
    "b9b7da6c3c294f079fc6c316d868c14c": {
     "views": []
    },
    "b9d387c205e64efe98ce66c201eb0a73": {
     "views": []
    },
    "b9df37d9e074499babdbb02e15eb6546": {
     "views": []
    },
    "b9e419fd8dcf44d29edb692c590c4613": {
     "views": []
    },
    "b9ef074f5289459f946fb94d70d7ea2c": {
     "views": []
    },
    "ba235b8055a34a0a8bab482089bddcd3": {
     "views": []
    },
    "ba2a2ebd2e5542609139c1e21f657c9f": {
     "views": []
    },
    "ba2d36bd9f1d4bf6835e4fab305b5900": {
     "views": []
    },
    "ba33ea59ae0a424ea142bb429432112f": {
     "views": []
    },
    "ba3de275a52c4edc8b66c45e7b3796bc": {
     "views": []
    },
    "ba45f4b8c16844df84d09ab0fcf6858b": {
     "views": []
    },
    "ba48b4bc60ee497f980bdbc2c6f60079": {
     "views": []
    },
    "ba5281ba374d41c99ee219bcc1ae8617": {
     "views": []
    },
    "ba52d7afa8aa409991055714ce54fe73": {
     "views": []
    },
    "ba7e81f861d944de94411ce07af010b3": {
     "views": []
    },
    "babb3c730a6540a7adf13ce996e7fa8a": {
     "views": []
    },
    "bac631ad1fe3410eb42006cb75ebd076": {
     "views": []
    },
    "bacfd00f3ee6433690a52085a562a505": {
     "views": []
    },
    "bae18d1aab7e4b7982070687d617d25e": {
     "views": []
    },
    "bae2ed131fbf4d8da18ec63ed7521895": {
     "views": []
    },
    "baf1fa4c89dd4c258de24ec568079aef": {
     "views": []
    },
    "bb0b30b2d76a4399b3efa5acc92082e9": {
     "views": []
    },
    "bb1abaed1f4a4020a85ab17c9f85bc8b": {
     "views": []
    },
    "bb31fc295e6c44069e26031100f44445": {
     "views": []
    },
    "bb3221f0861a4effba329f57601a7247": {
     "views": []
    },
    "bb4cecf5cf8943eab57864ee7a987249": {
     "views": []
    },
    "bb4f932d7fa34a408462e7cf47007ccc": {
     "views": []
    },
    "bb59377bf60a4c4483efe294e443acc1": {
     "views": []
    },
    "bb822a89a0eb4c4d9ad6b731867c5525": {
     "views": []
    },
    "bb9409e6fea34c4fb2701681c332a862": {
     "views": []
    },
    "bb9ff5759347472195b5deeb910383cc": {
     "views": []
    },
    "bbca65966c7f44f18fa6c5b3334cc4b3": {
     "views": []
    },
    "bbcdfb1daee6426a8c8ad7850c5d1782": {
     "views": []
    },
    "bbe6ff14d3ee488bbf049d5e060973fb": {
     "views": []
    },
    "bbea67291942400483adab12d556ae2e": {
     "views": []
    },
    "bbf3cf95ee3f49b9aee474bd31b2e133": {
     "views": []
    },
    "bc0a49af417a47bc8925469f8ccb603b": {
     "views": []
    },
    "bc0d4be97cff459aa1c444d2ce6dfb29": {
     "views": []
    },
    "bc0d7ef6034d4351bf5ac508bc8bc051": {
     "views": []
    },
    "bc15e127a74d46eb9532c8631e37f804": {
     "views": []
    },
    "bc34d449803e4f46ad5371e32a2f449d": {
     "views": []
    },
    "bc3d07a7f36b4bc591f1b585b041afee": {
     "views": []
    },
    "bc4eb51f5ac74f60baeb61a2f2853a81": {
     "views": []
    },
    "bc6dfd36d2dd446a845a58bace93ae87": {
     "views": []
    },
    "bc826b730d514df4b65b5bbebe12e87d": {
     "views": []
    },
    "bc8cc1f41a954595a33a0185ca30a065": {
     "views": []
    },
    "bc8e27b7475e4f028a4df9dba58ce1b0": {
     "views": []
    },
    "bc944bb06b8c459db5348d86082d6605": {
     "views": []
    },
    "bcb5c4945e5441d0882ff7593af3c179": {
     "views": []
    },
    "bcbdda4d31f1481e9186c1c7471a4078": {
     "views": []
    },
    "bcbff053a8594af2b9730f25cb7d4cdf": {
     "views": []
    },
    "bcc35e255cd44d2ab89aa5177587a361": {
     "views": []
    },
    "bcd574c4ddc14bffbb7a8c179cc66849": {
     "views": []
    },
    "bceefb7ca2fa4f3b92d1cd09727e6568": {
     "views": []
    },
    "bcfb7a43a3a94b929f553cb3b05b5541": {
     "views": []
    },
    "bcff43dd86784270b7a86042867cd826": {
     "views": []
    },
    "bd052cd2697d42b2afa7f09b9c66b79b": {
     "views": []
    },
    "bd34c826fab54fe5ad46c85a8204be41": {
     "views": []
    },
    "bd436726117241228cadbf345f7a6a61": {
     "views": []
    },
    "bd498ab97b97453983839ec68ece08d1": {
     "views": []
    },
    "bd540d8d3d7f48339d5a1c9cffa4180d": {
     "views": []
    },
    "bd5ad19df5754924adf7a28ace805376": {
     "views": []
    },
    "bd646e306a1d494e948fb0d426b4c0db": {
     "views": []
    },
    "bd90be93c9004b5aa2c874d4aeccca7b": {
     "views": []
    },
    "bd92ede08ee5418584bf071263d31d16": {
     "views": []
    },
    "bdd6f774aad24432846694ca6eef5a6e": {
     "views": []
    },
    "bdd79930c39545cf850662ddc5bf4345": {
     "views": []
    },
    "bdeacccf99cc4394b798d28a5b4158c6": {
     "views": []
    },
    "bdf5a8e29c7844c4b86b6a2b67385a5e": {
     "views": []
    },
    "bdf637193623458bac9ea74c5eeef7ba": {
     "views": []
    },
    "bdfb1f9cc2e548ba8ec5dc2fa24e8c64": {
     "views": []
    },
    "be124092e7024a17810b9ee5b716cca7": {
     "views": []
    },
    "be13fe69246542efbc54139d6f06bbf4": {
     "views": []
    },
    "be14f0f9160f4632af81b62bdebf6562": {
     "views": []
    },
    "be5b1283163741bfa2ff62dda39b42b1": {
     "views": []
    },
    "be5c5708dcb1437bb2f6801fc3d28784": {
     "views": []
    },
    "be5d70556643424bb209db6c72a76815": {
     "views": []
    },
    "be89179d1b1649a996b82eb9af0c91ca": {
     "views": []
    },
    "be908618cdb1458198f8d6d5730c716d": {
     "views": []
    },
    "be9106acdd984f208ba6b79030b10e42": {
     "views": []
    },
    "be95fff2e67442819503400842cc0dec": {
     "views": []
    },
    "be99049e126b4ed8a7480ea22d6d0a3c": {
     "views": []
    },
    "bea93626eab142b297e5916d7f9722a8": {
     "views": []
    },
    "beaba8bc273e4bc69987a461eaeb7c24": {
     "views": []
    },
    "bee501bfeeef4156b7349e2516de7472": {
     "views": []
    },
    "bee5bb9318e44e5791c0d7cc11a7f7e5": {
     "views": []
    },
    "bee71ef7fedf465bab97b51291119d6e": {
     "views": []
    },
    "beebcfb573ba4adea6249c9051fe7057": {
     "views": []
    },
    "bef01c74cc104643bf2f6b7aa12acd3a": {
     "views": []
    },
    "bef92bb49b2e42239f6aeb704e80aff6": {
     "views": []
    },
    "befa5a7665bd4dec9d5c8c9571e75876": {
     "views": []
    },
    "bf01d525a7ba419b884c5f37f2c74223": {
     "views": []
    },
    "bf3e013a69d049169531b5594e1f6f5a": {
     "views": []
    },
    "bf40831fe09a4a78a5bf3999553da9a0": {
     "views": []
    },
    "bf417b04474c4b0bb5e24991438dbbfd": {
     "views": []
    },
    "bf4884f5705547068af32b3b01f10a8d": {
     "views": []
    },
    "bf4c3c34c4d84852bf64db7f090bd1a4": {
     "views": []
    },
    "bf5fcd9b3da74369b03e9c776de1d440": {
     "views": []
    },
    "bf7d1298fe084cb391b805364b772655": {
     "views": []
    },
    "bf7e9c09c0424bc9b71756ff6c739ec0": {
     "views": []
    },
    "bf80e75c2df44293b31660bfc1e947a0": {
     "views": []
    },
    "bf8988f8d19345138dd389cc76693542": {
     "views": []
    },
    "bf96dcbb8259473ba1e3bded3f608abd": {
     "views": []
    },
    "bfc131a53dbe4cc5afc4436e5ab1e99e": {
     "views": []
    },
    "bfcf368675d049b29e2f535bb6535bc3": {
     "views": []
    },
    "bfda2c245ee6485dbc9476a1bbd54d8f": {
     "views": []
    },
    "bff5a6aa919840d89b912bbaebceb0d8": {
     "views": []
    },
    "bfff4078b70b4cba90dce737ea644aca": {
     "views": []
    },
    "bfff8dc0e22a48a1b08df0a16c5d5a54": {
     "views": []
    },
    "c00194fe41484c418ae863c6d928e128": {
     "views": []
    },
    "c001ac23a83144c380f6e3959475ef2e": {
     "views": []
    },
    "c0187514daad4c03908149dbb1e80241": {
     "views": []
    },
    "c01e2258396d4de391060a786bb9043a": {
     "views": []
    },
    "c03278c29d394321aaf89e46bd6498be": {
     "views": []
    },
    "c03b7752828245429e5cd5205a871a77": {
     "views": []
    },
    "c06223362a5e49b2ad85a442782effe4": {
     "views": []
    },
    "c06e86ffd8f641c8a49255d4d02a1c3d": {
     "views": []
    },
    "c073d68155694bb89573b454e029f9d8": {
     "views": []
    },
    "c073e032955f417f9647c72f6968967e": {
     "views": []
    },
    "c09514d840b74e24a4273d0ee3efc192": {
     "views": []
    },
    "c0986ff294c04537b32ea8c59e4359b9": {
     "views": []
    },
    "c0a551bf66614fa9b970a761e1d0bf20": {
     "views": []
    },
    "c0bbea3b0621438b992f2522d8c4e510": {
     "views": []
    },
    "c0cf81a1c49a4a8ab02652bee016a31d": {
     "views": []
    },
    "c0d232cea56b42d9bc849b008823fccd": {
     "views": []
    },
    "c0e592443ab94ca69d55022a49e35e85": {
     "views": []
    },
    "c0ec9b80477e4af9b865873950b129bd": {
     "views": []
    },
    "c0f0530b8acd477b9f9b98a60db66091": {
     "views": []
    },
    "c0f9127ad9724d968bfa0f85c9603d0c": {
     "views": []
    },
    "c118557bad8f4c2b9c03244e6ecebec3": {
     "views": []
    },
    "c128f6e2442642b289dc48d8db0de1f3": {
     "views": []
    },
    "c136784bd8e84f3fb4599cfe8d402dfa": {
     "views": []
    },
    "c149c3f037eb4118ae44dc3f55a10da4": {
     "views": []
    },
    "c166085b420c40b3b975e34a87775770": {
     "views": []
    },
    "c1694896d1aa45f18c191f2bd355b3e8": {
     "views": []
    },
    "c175dd23e2d34badab02b33d083d0410": {
     "views": []
    },
    "c18378b89e864ede86cfcb48998256f6": {
     "views": []
    },
    "c18bcd5413324d2ebe3f0c26cc3b1846": {
     "views": []
    },
    "c19fc8db8ef64c25923d150f39af281f": {
     "views": []
    },
    "c1a7d300aef9448081d41baac0b8284b": {
     "views": []
    },
    "c1c00a6361de401e930b729d414b37c7": {
     "views": []
    },
    "c1cdaac223bf4d698b1065ab7f9ac468": {
     "views": []
    },
    "c1f3c6fe153b4a07a5496d0e8569a0a7": {
     "views": []
    },
    "c1fc1b82ca5d4c539c1f44ea3c62dc38": {
     "views": []
    },
    "c213fcb4711e40deaa69428ac2515bf0": {
     "views": []
    },
    "c2199eb7511c4b55b2372c1786694736": {
     "views": []
    },
    "c239992e941c41db8cd6d21ce9bc1e86": {
     "views": []
    },
    "c247d3013c954490a475835843d71af6": {
     "views": []
    },
    "c25518955fa34534951be20ce666152f": {
     "views": []
    },
    "c27ad0d86e7247ef8a48432b718f1dfe": {
     "views": []
    },
    "c27e9a0b42bc47c5b13dbfd63cce369f": {
     "views": []
    },
    "c281477c40124665965c782b10a9e3ef": {
     "views": []
    },
    "c28e0ffc1e944e5ebad567002f3164c3": {
     "views": []
    },
    "c299f03df69d41a78f859f3a7b2bf117": {
     "views": []
    },
    "c2a6f30a0afd4e988649a10c9362eb58": {
     "views": []
    },
    "c2cd43e443fa4396a71c21a99da518b3": {
     "views": []
    },
    "c2d5cdd5504a4c7da82ddd72550c6549": {
     "views": []
    },
    "c2e3aabb1db74ffb81377e71f1b6f30a": {
     "views": []
    },
    "c2f953bb75aa40dca5246506c3d94af4": {
     "views": []
    },
    "c304295a280a438b8ea5fa158fd05cba": {
     "views": []
    },
    "c30b6ab41c4e476abdb0d9b3b92d65d1": {
     "views": []
    },
    "c30e0574fa1d40528d3e4e57637d72a9": {
     "views": []
    },
    "c3114fcd1ba04ac0bd07bd48450f2ba2": {
     "views": []
    },
    "c32226f1c48046798ee49a65dcd59162": {
     "views": []
    },
    "c3246ebd4ad442e0a7577decf464e2e2": {
     "views": []
    },
    "c34df183fffc448abef9769750f88b5c": {
     "views": []
    },
    "c35797d238d84b0187a7aa3cc31ebde7": {
     "views": []
    },
    "c37bf0df71e344af88b2d7ebef62b79d": {
     "views": []
    },
    "c38bde473d744fa7bcaa71db364c8f80": {
     "views": []
    },
    "c392c22447c24918b0f67b59bc7327c5": {
     "views": []
    },
    "c3a1afe5f8224342a5ada1551c0a01ae": {
     "views": []
    },
    "c3a7bbad18a04589bcd4751feca91db0": {
     "views": []
    },
    "c3b3a7bfa303495391d3982a9949bd81": {
     "views": []
    },
    "c3b4b2c415334f29b1243937f449eca3": {
     "views": []
    },
    "c3c763f3d9a5447994b7c6cc8ef5a0b9": {
     "views": []
    },
    "c3d73ab951c345b48e4434ed1ddea6eb": {
     "views": []
    },
    "c3d9335d428e4ddbb7c0d68fec68a377": {
     "views": []
    },
    "c3f5503dcb9d4e328aaad116c58e1d76": {
     "views": []
    },
    "c3feaa6b39d6417087630343757bf388": {
     "views": []
    },
    "c4053f9613ff4442b81ed7c9ccd6ee71": {
     "views": []
    },
    "c406710518bf4cdab9b5ced056ff7691": {
     "views": []
    },
    "c4161d6550c24cbf840844340104ffcb": {
     "views": []
    },
    "c41a62c626e84e5eb5912f3d8469fc5e": {
     "views": []
    },
    "c41f6e51d6c148c4b0ab2a4a099bfc96": {
     "views": []
    },
    "c426f293c58a4c0aa17eec5117f2575a": {
     "views": []
    },
    "c44299526b114e759b9436278196061b": {
     "views": []
    },
    "c4464c7ca09147bc905a5c836e3b71f8": {
     "views": []
    },
    "c455b64006ff4dffa4cb646c89a1bb1b": {
     "views": []
    },
    "c45784390b9541dcb65bf707813f3610": {
     "views": []
    },
    "c4584211e66b48f1af637d891944bcfd": {
     "views": []
    },
    "c46c321517364ef3b5e4ce45c8fa5958": {
     "views": []
    },
    "c47c4e9953604f648233b7a511d5aa0b": {
     "views": []
    },
    "c47ebf8183644585acb687c1069c0a70": {
     "views": []
    },
    "c49ae770086a4b7c930e3c51de6dd5d4": {
     "views": []
    },
    "c49c043080f44eeb94a4a30a077c6b08": {
     "views": []
    },
    "c4a798a88a4043d0bb81c6bd5d157829": {
     "views": []
    },
    "c4afb938bdd74b4ea1509975f0780521": {
     "views": []
    },
    "c4cf8d4fd13440d481afce167f6b47b3": {
     "views": []
    },
    "c4fd0a87eeeb463b9413a499a699810e": {
     "views": []
    },
    "c508c1e8d5804a2285114b4e5f2433dd": {
     "views": []
    },
    "c50bc91d16f3432c987e6884c055449c": {
     "views": []
    },
    "c50f094c53d14d41ad1a63762d2df397": {
     "views": []
    },
    "c515548383a448f3bad7f0cc4c0af83a": {
     "views": []
    },
    "c5182e94524f4783acb645e2bf2e500e": {
     "views": []
    },
    "c5465f50643f4eb2877a8e45205a9772": {
     "views": []
    },
    "c54a7e11965c464c9b1ab64d269ee518": {
     "views": []
    },
    "c564e911ba2f469c8d34cf0fddb22322": {
     "views": []
    },
    "c56879a585964724b486145e8c708a4e": {
     "views": []
    },
    "c584e169d4ab4da5acc8952830d99f8e": {
     "views": []
    },
    "c5a419837171443faab39d074e491753": {
     "views": []
    },
    "c5c62cebdb6144bb9a68b825e07047af": {
     "views": []
    },
    "c5cc16f37185490297f01ea3bd30e359": {
     "views": []
    },
    "c5ff630c6db4473abf8b978a62b0a03d": {
     "views": []
    },
    "c5ffea50d2074797a4c8c566467ecbf9": {
     "views": []
    },
    "c61030a572294709bed4ab548c1c992b": {
     "views": []
    },
    "c6290277838046d9a20798876f766255": {
     "views": []
    },
    "c665ed835ca54659919f12cf436f1bc1": {
     "views": []
    },
    "c67eb36153cb4de68e27463027c6706d": {
     "views": []
    },
    "c684e78df1fc48f0926bf308fa0c1af9": {
     "views": []
    },
    "c6aa563eb0784a2f9a54cf0e4d6d5205": {
     "views": []
    },
    "c6ab84232e074ab4b4b6b24157fdb178": {
     "views": []
    },
    "c6b9b67eb6ad4d45b799c6186b02ec2e": {
     "views": []
    },
    "c6bdcebe839b4cc39f95cb73b400298a": {
     "views": []
    },
    "c6be9ed2fe5245e5b5a5e5888c1d0d11": {
     "views": []
    },
    "c6d2d560fe3046cebb626a7b51b995f0": {
     "views": []
    },
    "c6faeb21720b4fc79851e55184192d07": {
     "views": []
    },
    "c6fe6bed147b43e180198f9f4f739a43": {
     "views": []
    },
    "c7287d6d7ef34f808c86482cae7637d9": {
     "views": []
    },
    "c73334172bb2490d85515136532cd756": {
     "views": []
    },
    "c777afaf9d824db1a1399773a1bc5ca2": {
     "views": []
    },
    "c77dfa02dd584d07b8c81fc72e606836": {
     "views": []
    },
    "c78a2f60c55a43af82b30d7f7aa44582": {
     "views": []
    },
    "c78cf88940cb4027842257cfe96d11f6": {
     "views": []
    },
    "c78d7b47cc70494b87ce7b3009164e3b": {
     "views": []
    },
    "c7912bf769284fbc87b0ce84f4dd9ab2": {
     "views": []
    },
    "c793484b74644bfa9da5d2e779a32170": {
     "views": []
    },
    "c79663c946c94eccb02a1b1c1107a87b": {
     "views": []
    },
    "c79c88e2b25f4e1ea071e5ace53fb331": {
     "views": []
    },
    "c7a14907bfc7462d9d3c2baefd212eb0": {
     "views": []
    },
    "c7b2070faa714f08a9532ce03d8b7670": {
     "views": []
    },
    "c7c0467a5a414762b17445fd91b52410": {
     "views": []
    },
    "c7c89bf2d73c4d4da1f2da3523ff692d": {
     "views": []
    },
    "c7d1a1067fd54a3283b86fd58df21c1b": {
     "views": []
    },
    "c7e231d556f44c3e925292e335a41a30": {
     "views": []
    },
    "c7f1ee43c1df4ae88f478196a6b54398": {
     "views": []
    },
    "c7f50deb0e574430ab85d997640775ec": {
     "views": []
    },
    "c7fdefbff55240059e086973c8925843": {
     "views": []
    },
    "c805377f6c614637b64933dba85cbf31": {
     "views": []
    },
    "c80afeed05ea4ffa9f8a663af1524466": {
     "views": []
    },
    "c82125afe01a4a7fba4a33e7b3a31ad3": {
     "views": []
    },
    "c823ea5d77b049d09b90bf644bfd1f22": {
     "views": []
    },
    "c847dfe1c9124e28abb0ccd62d53b24d": {
     "views": []
    },
    "c84a1ae658494b74aa2126409df2783d": {
     "views": []
    },
    "c84aa01c251048b5b5361be086b5cb3d": {
     "views": []
    },
    "c84d031fc69446c995c96956f3e55397": {
     "views": []
    },
    "c84e90a97e764545af48eb2baf37fe24": {
     "views": []
    },
    "c8778aad45c3443bae7693cedfb111eb": {
     "views": []
    },
    "c88bd700520641bebd313dbd54c958dc": {
     "views": []
    },
    "c8a3f30b761541c4ae68a1fef12d678b": {
     "views": []
    },
    "c8ad498f3556428396b107ad7e1e6601": {
     "views": []
    },
    "c8dc0ce50370482381a291b314638139": {
     "views": []
    },
    "c8e27bdc279d44e287ab0025535e7b9c": {
     "views": []
    },
    "c8ef295497b74948a7a45ed02f83eaa8": {
     "views": []
    },
    "c9091357fded4a828fdc7e17e42ba4e1": {
     "views": []
    },
    "c90c9cfde6e2409fb59414c960d1549f": {
     "views": []
    },
    "c95372d2b88744608cb8b405164924ba": {
     "views": []
    },
    "c97dc9c661304c04905215a771cfe894": {
     "views": []
    },
    "c9839d14dcae43708cd1536fdfd1f3b8": {
     "views": []
    },
    "c9939521afb54b29ae67b2968671bc26": {
     "views": []
    },
    "c996bb10bd734089a27e77a8d81a2536": {
     "views": []
    },
    "c997840d2e47439d85855c39b1bb7aa9": {
     "views": []
    },
    "c99db4e0d8bc47cdb6de55a54922bea5": {
     "views": []
    },
    "c9a236c13a8b44f6b4a0363b1effb632": {
     "views": []
    },
    "c9af10054a5c403cbb6d2afe8aba83de": {
     "views": []
    },
    "c9c216bebd32408db9b9fa0be8f53425": {
     "views": []
    },
    "c9c8069d4fe04ed0806ff1ae01258e06": {
     "views": []
    },
    "c9d571a0982543ddbe078e9df6ae4727": {
     "views": []
    },
    "c9ed6150978948d496bec10828a014da": {
     "views": []
    },
    "c9f7425e22664ea0a6179fae42bae157": {
     "views": []
    },
    "ca1410a6c7f44edd8bf299c747655dc6": {
     "views": []
    },
    "ca18d47cae604679b8a7874699966d22": {
     "views": []
    },
    "ca202fc7496f47ca9db1bc4831911786": {
     "views": []
    },
    "ca24249125424b26b1bfe16ba933ab06": {
     "views": []
    },
    "caa20b1d6b874c938ddd0cb067d81658": {
     "views": []
    },
    "caa37522c1c04f7bafaafa1ad3799f5d": {
     "views": []
    },
    "caa56b34c62a408383bb5636d1654f18": {
     "views": []
    },
    "cac5e8a6102a4d67a611dadd0057d7d4": {
     "views": []
    },
    "cadd1c911093407e89ca04c68bca7e64": {
     "views": []
    },
    "cae26fb0bdd74045bc6948cfc56b5de8": {
     "views": []
    },
    "cae3f573f5b94b4dbccbf6e83697119b": {
     "views": []
    },
    "cae61cbff62648b9b05e483646f56a77": {
     "views": []
    },
    "caf1d0d26808468382e5ce6957f6c333": {
     "views": []
    },
    "caf388e727704c0891865692f0bad08e": {
     "views": []
    },
    "caf96916427145c0bbf57c2eb1f2951a": {
     "views": []
    },
    "cb02ec7048494c44a2e6d276306c436e": {
     "views": []
    },
    "cb042b78b54148ea99c1605aabb64f9f": {
     "views": []
    },
    "cb25622e55f046d48adf46a0bd03607e": {
     "views": []
    },
    "cb396be547534f8382a22cfad9e9ff02": {
     "views": []
    },
    "cb40130402ac48c1b6257e28eefac6f4": {
     "views": []
    },
    "cb426a8d769642cf963d2fc874f7c72d": {
     "views": []
    },
    "cb480afdd8c443c4ad6254a5a1b4e17d": {
     "views": []
    },
    "cb4ee2e76cfe4991aad33a71639d967f": {
     "views": []
    },
    "cb4fad61cb2e46e7a43cf8438e4d941d": {
     "views": []
    },
    "cb66c345a85c4c07a1980df8fc87cbe1": {
     "views": []
    },
    "cb69549882c8459381244fc6e7b297b7": {
     "views": []
    },
    "cb81150bea9244098217a367c9fa9ff4": {
     "views": []
    },
    "cb85d725894040d9a3442e0d72c64995": {
     "views": []
    },
    "cb9cd37d37c84f3698d3fd24383d273d": {
     "views": []
    },
    "cba60e66fdde4994850e602728743858": {
     "views": []
    },
    "cbd45cafebb34b13b313ab9f425b2cfa": {
     "views": []
    },
    "cbf2876623b043478895cff05a3a0987": {
     "views": []
    },
    "cbfcfd0ca5d049beb8994cd02b8ebf00": {
     "views": []
    },
    "cc0b474177054bef9539f9f0b1cb7502": {
     "views": []
    },
    "cc25a7e62e594213979d3222e82f0204": {
     "views": []
    },
    "cc37c0b74bdf491c942c7525d7559778": {
     "views": []
    },
    "cc447cd57f9d42eda3cc3145c00a88a2": {
     "views": []
    },
    "cc5970ac5748493e8a91f2fa0d26744f": {
     "views": []
    },
    "cc636b71f9174a1491ed624e93c98bf6": {
     "views": []
    },
    "cc6bb75a86e447218050ee5dfc5863fd": {
     "views": []
    },
    "cc80197d01d14d60a04c73156b956870": {
     "views": []
    },
    "cc93253fe15249a99eef127bac1ff231": {
     "views": []
    },
    "ccb7df5af66e48eda34131932dd902a2": {
     "views": []
    },
    "ccbb0ff0a0534609a294c6e54f7c407b": {
     "views": []
    },
    "ccc789fdacf14c138ad71245824b54d0": {
     "views": []
    },
    "cccdd2c9e4184b3da89ba5ac3dd849d4": {
     "views": []
    },
    "ccef79e35a1f4e6fad004dde148506f3": {
     "views": []
    },
    "ccf4493d0fcd40b18365ee138d656834": {
     "views": []
    },
    "cd084a17dc2145b8b984924b470a5a4f": {
     "views": []
    },
    "cd0b7c6a3054446e9ee7e443f47ffde2": {
     "views": []
    },
    "cd0dabbb956646d79f7178f95b26a9e9": {
     "views": []
    },
    "cd0dcf626102430e8fd8df36f90c4bad": {
     "views": []
    },
    "cd1c4aa61ecc4891b08e34ba50043ab7": {
     "views": []
    },
    "cd1e9e3f1ea34ed6972724c1fbd20883": {
     "views": []
    },
    "cd39467eb2824a7883345855a7ce1668": {
     "views": []
    },
    "cd39652e34984cda8ab827ce54bd48e2": {
     "views": []
    },
    "cd3f0cebd6b24ad8b605f04d77d6580c": {
     "views": []
    },
    "cd614e0c5dde4664825f90629f2a2aca": {
     "views": []
    },
    "cd65a3bfbcb74749b6f7b9011af9ce23": {
     "views": []
    },
    "cd717453cc014599940495ab9cb852eb": {
     "views": []
    },
    "cd80c70708c84cae817453dbe11bcef1": {
     "views": []
    },
    "cd918b121c164c38b77b0c20a607383e": {
     "views": []
    },
    "cd96f9e4d1b94a6a970bc7040b829d2f": {
     "views": []
    },
    "cd9f88291a6b4cb6a99fa33b70011b73": {
     "views": []
    },
    "cda77375cc034ee38919e0070dcc5213": {
     "views": []
    },
    "cdb0eb169bb44fd5aa8c7f31fa010451": {
     "views": []
    },
    "cdb71c053fdd4aa6bc6899f0243c597c": {
     "views": []
    },
    "cde8d63cf1164f1b9979ae347c7218ee": {
     "views": []
    },
    "cdedafa545344514b717bee9ba41c100": {
     "views": []
    },
    "cdee0c55401940998e1083480f52f137": {
     "views": []
    },
    "cdfb79f99d1e4e2fb2b6854b0b3a139d": {
     "views": []
    },
    "ce059a4076404fc78893555437258b1f": {
     "views": []
    },
    "ce110ffbc07647f4b6f6ebcca6c51a54": {
     "views": []
    },
    "ce1d907f3fef4e2da9dcbb76196c3f6c": {
     "views": []
    },
    "ce2bf4639d004d30bc1113ff788dba96": {
     "views": []
    },
    "ce37cb80c1bb46d7974beaba6de400a9": {
     "views": []
    },
    "ce44eb07cf8047c0a5f6d48b6d9a972d": {
     "views": []
    },
    "ce57c3b4d324408dbdbfa98514485a4a": {
     "views": []
    },
    "ce5f4a315ac5433cb89e6bb28b6a72e1": {
     "views": []
    },
    "ce62b4fa8c6b4f56aae9662c6c3dd7e3": {
     "views": []
    },
    "ce7bcf17d1814c3db4d593c5edae34cf": {
     "views": []
    },
    "ce8a98979ce14370a7518915fd3ec1e1": {
     "views": []
    },
    "ce908627237a499693177f11f9be4811": {
     "views": []
    },
    "ce972c6b106347dfaf7390f2fe7cfbb6": {
     "views": []
    },
    "ce9b8c805a7c4f9f9bc970df9cfc7557": {
     "views": []
    },
    "ceaf1ba527a34818b2774c098dd42d3f": {
     "views": []
    },
    "ceb1ab744fee4132a77dee593020f2b4": {
     "views": []
    },
    "cec27664199949379764381e461bd90d": {
     "views": []
    },
    "ced58d88b2f54dc68ac43ed328eb95a0": {
     "views": []
    },
    "ced7d0ea05cf4322bb6d63f737e847dc": {
     "views": []
    },
    "cf0dddb62c2e41cb84f86d73b347345f": {
     "views": []
    },
    "cf24264b963740fa8f4c1ffa4a40d892": {
     "views": []
    },
    "cf2f7535f7cf4d7fbef009be530755b9": {
     "views": []
    },
    "cf2fdb6afa7c44b29d1c39e345e6f3c2": {
     "views": []
    },
    "cf34cb112033435b93ecb44b95227e7f": {
     "views": []
    },
    "cf35d161563943158367e767bbb7a981": {
     "views": []
    },
    "cf3e3418c4ca418a9f22e5f5b83a91c4": {
     "views": []
    },
    "cf52c4e695c0494f89ceb2fa6cf5a34b": {
     "views": []
    },
    "cf583dbbcf82468d93a68f6d8c9f66dc": {
     "views": []
    },
    "cf6d0e40bda947b4b5fcd52a76b85a2f": {
     "views": []
    },
    "cf879c584cb141928ec8e744f2de05ae": {
     "views": []
    },
    "cf9d2ea80f14458c813a31f75e3e38cf": {
     "views": []
    },
    "cfa922d1f1c14ca7ab050a93555cbfec": {
     "views": []
    },
    "cfadaf41b1a946208d5845fa853e60a9": {
     "views": []
    },
    "cfb6b4b1b4e0479da33d31fcd7f7a7fc": {
     "views": []
    },
    "cfcad000ac5842fc835b3b0a11ec26c0": {
     "views": []
    },
    "cfd0f897ccb643419e64e9b632a18c54": {
     "views": []
    },
    "cfd8296b9633450ea96bcbdfa16d453b": {
     "views": []
    },
    "cfdcc1133a1c43f7be7b8040cc264e94": {
     "views": []
    },
    "cfefadc895424337b4c210087ef796e6": {
     "views": []
    },
    "cff05ef72af84234bcb65c8256b2a704": {
     "views": []
    },
    "cff1fa79f36844658d1d83e0353018a8": {
     "views": []
    },
    "cff436114e9f48e6ac5e7aa3f5ab1710": {
     "views": []
    },
    "d0087bceed464418b6a4c8776e0a3662": {
     "views": []
    },
    "d009d7703c7b46039af698b51cc9bc4d": {
     "views": []
    },
    "d010f9b5cb66417e8e5f76b9fbaee86f": {
     "views": []
    },
    "d02c4bbfb7224fb2866d76d5d4f9f419": {
     "views": []
    },
    "d03300930fc64eb7bf71d622aaac6f05": {
     "views": []
    },
    "d0570cf2c30e423c90e79bef0f6d6be3": {
     "views": []
    },
    "d05b3f395f2143d2ab476b66b0b6014a": {
     "views": []
    },
    "d06424fda2c44628888a23bc535a3bde": {
     "views": []
    },
    "d069dcc742f944249cbbc842647db10f": {
     "views": []
    },
    "d0716289b5f24c38a2066a7315ef2d3e": {
     "views": []
    },
    "d07fa19c14744379b94f478b790e6869": {
     "views": []
    },
    "d084ad8daa0a4a49bf63ab2deac55cc9": {
     "views": []
    },
    "d091ba2962564af5b90ca9d146b92031": {
     "views": []
    },
    "d093d4bb7faa40af8dfbfa18bda4f70c": {
     "views": []
    },
    "d097d8f86f4a43a99429dbbb80d78448": {
     "views": []
    },
    "d09f8dd8afbb47e1acd38bb04f18143b": {
     "views": []
    },
    "d0bbbaa8503d461cb27d7c63f16bee32": {
     "views": []
    },
    "d0d6353967e6490785d65ee0be745300": {
     "views": []
    },
    "d0e3475f9cc14d7dac5dbb0633a88dab": {
     "views": []
    },
    "d104862ca04f41ddb1f3abe2e6590a49": {
     "views": []
    },
    "d10b6a168be147249965da67fd9e420e": {
     "views": []
    },
    "d117246d99ef4b29903c1f35a7cfb1c1": {
     "views": []
    },
    "d117d2de082d44f1ab6a5aa6fdcc1ad9": {
     "views": []
    },
    "d13f4072e4b24b708871aa8539eafd05": {
     "views": []
    },
    "d140b6b09d9f499fa17e928a052c9a00": {
     "views": []
    },
    "d146a91082c643909a4bc7bdbd80d266": {
     "views": []
    },
    "d14f831137bf4722a1d8991fdbb981d0": {
     "views": []
    },
    "d160baeecbf34ebd8aa17f734d5b66ea": {
     "views": []
    },
    "d191afe576374d18acfcf9a6636c1992": {
     "views": []
    },
    "d19534bb5e7d4d7a8bafb93a5241513e": {
     "views": []
    },
    "d1a4609fe18247409c56420f1f46f92b": {
     "views": []
    },
    "d1c472d2838442b2b30b29afef54f437": {
     "views": []
    },
    "d1e673bcd59f42d9a2ccf97ba202230d": {
     "views": []
    },
    "d1e9778acbac4a0d8bca0fdb292e9f78": {
     "views": []
    },
    "d1f27c38256e464c8c7567bc54cd7176": {
     "views": []
    },
    "d209e44388334a98b9a2ebd9da3e067c": {
     "views": []
    },
    "d220280cee4046669114519e2250d8e4": {
     "views": []
    },
    "d2329109e85343a4b0efad46cd9d2bbe": {
     "views": []
    },
    "d23ef4b8216b439980d2a4f7fcc7eb06": {
     "views": []
    },
    "d2437079f8a24bb9875ca52d20ab45ec": {
     "views": []
    },
    "d2439236f4cd47d2a3d6625d0e0afabc": {
     "views": []
    },
    "d2469656d2334b998d2b984e65b3c63b": {
     "views": []
    },
    "d24f7b3570a046b283aa7aafbfa710e8": {
     "views": []
    },
    "d2592458b639417ebb038c040346e329": {
     "views": []
    },
    "d2639e2781cc4cf0b016effd907fdef2": {
     "views": []
    },
    "d275b57c6b6848cf8c7e7750862a2911": {
     "views": []
    },
    "d286a27ab2ac4f8c88b76fdb4633649d": {
     "views": []
    },
    "d29e8d90533a469697b2198ae660bdc4": {
     "views": []
    },
    "d2aaa66ef6054f97af80b9ed55b5ede2": {
     "views": []
    },
    "d2aaf06a18324a849a5e3a0405ad14a2": {
     "views": []
    },
    "d2b9b5cb9b5a4112a08f80cef8ab6462": {
     "views": []
    },
    "d2d970da3faa453494c0eaa81fdb95d8": {
     "views": []
    },
    "d2e4b4e4018845f98826acc005d54c58": {
     "views": []
    },
    "d2fac59a19f34faaaa09090b4496df61": {
     "views": []
    },
    "d30d146cca974d90b3ee2333c7a8009f": {
     "views": []
    },
    "d30fb14b80774604bc1c146dae7db6a3": {
     "views": []
    },
    "d322f90c96164245abcabe702c40ebe3": {
     "views": []
    },
    "d32d060f1a3645a697c8c4c449f24a5c": {
     "views": []
    },
    "d34b55fbaedf4825881f4eec604dc13e": {
     "views": []
    },
    "d34d4e9cd8f84242918f9974cc362d95": {
     "views": []
    },
    "d34fd6c0a51d42a8a657d230eee37ad7": {
     "views": []
    },
    "d37cdece097145cb9590cbd9ee993a3d": {
     "views": []
    },
    "d3902a08b30d4c2f9d602978466ec148": {
     "views": []
    },
    "d39a2f35d4fe4379b236adfcf0ed6095": {
     "views": []
    },
    "d39d75e19fe4428bb3db8cbfaec012cd": {
     "views": []
    },
    "d3a9b233fd1741f0bf9082570e6b7f95": {
     "views": []
    },
    "d3b959823fe14fd8a46b931ff795bd8e": {
     "views": []
    },
    "d3c46de7dde345b493553eb693ed5dee": {
     "views": []
    },
    "d3d434519ce54857bb807b7e1c5edb28": {
     "views": []
    },
    "d403bb9872454cedb11ae07572e584c3": {
     "views": []
    },
    "d406820fe4b34efe8197e519eaae2303": {
     "views": []
    },
    "d414922d3e6645c89493c5515b74d55e": {
     "views": []
    },
    "d46882d95ffb41969546a09b44e58d2e": {
     "views": []
    },
    "d46c29dd539c4fe4b16569dcba2fca50": {
     "views": []
    },
    "d47a7db0448f4f04940c70b34ab8ae9a": {
     "views": []
    },
    "d48768df1bf14278a7dae89f89a48154": {
     "views": []
    },
    "d49262b5cc2549dc9e7ff996cd50e916": {
     "views": []
    },
    "d4dfab7f0bce4a389a8251d71b22daeb": {
     "views": []
    },
    "d4e4e9833d534a279e0729fe3089738b": {
     "views": []
    },
    "d4f1d68bb1f84ac1955a0093bb658b7e": {
     "views": []
    },
    "d4fc6a13d72c4a55946bf79c36524b24": {
     "views": []
    },
    "d504a653c8944b12bc62d1a92757245e": {
     "views": []
    },
    "d544184c17134d57b9adb60c0d082981": {
     "views": []
    },
    "d5453a3e016d45b3b712454adc893f76": {
     "views": []
    },
    "d54902de07f24c51bc8cac2e1fe68fc6": {
     "views": []
    },
    "d54dbfbc3d114ad1b4e0b7364533f33b": {
     "views": []
    },
    "d568da981beb4e77969c436caef0db86": {
     "views": []
    },
    "d579f36dd01d49febfe6b2b43721db28": {
     "views": []
    },
    "d5a6deb8e2cb42bbac4735307b7dd1e5": {
     "views": []
    },
    "d5b8abdd1da94ffe8de754f8d5f413a5": {
     "views": []
    },
    "d5bb79346c39492c85e5fd9ac5eef685": {
     "views": []
    },
    "d5bf7e67dd644ab489596daf3484d3d6": {
     "views": []
    },
    "d5c2a8be04e64aacbb83e23ed4d5e06a": {
     "views": []
    },
    "d5daa1caf4c04bb8b6662b7adf6d2370": {
     "views": []
    },
    "d5e32d95349e4c158610b06728ff7194": {
     "views": []
    },
    "d5fbf5b5fcc941de9789a42d2fc7a5b3": {
     "views": []
    },
    "d6272661c0be4754bb125fccfa68e7dc": {
     "views": []
    },
    "d638fa5fa9824be6b540cd5dd32d8955": {
     "views": []
    },
    "d653da53ba6b4e379d21b123329e5cc0": {
     "views": []
    },
    "d659c7fa26ac43cf9d8f8499137d46d9": {
     "views": []
    },
    "d6a9d15d27084ca79eb9a9c6969e92b7": {
     "views": []
    },
    "d6b8a2e97a7343968a8f0f8a4520651c": {
     "views": []
    },
    "d6ec734676a9476c88b6e2ce9590026f": {
     "views": []
    },
    "d6ed52f70369421695332da46e26ab7e": {
     "views": []
    },
    "d6fa56bea2e546649e854f594e77048c": {
     "views": []
    },
    "d6fe7a8333fb4baeabde10d22470aa8d": {
     "views": []
    },
    "d72cfb2c4b664e17b9db89e27b52d824": {
     "views": []
    },
    "d7480b4555aa4903a5673e08163d6302": {
     "views": []
    },
    "d75333edd4df47348e96b2fe8f854ec4": {
     "views": []
    },
    "d755adcb419c429ab98f848b30a590c6": {
     "views": []
    },
    "d78a3230726c4c8382434e6f1e53515d": {
     "views": []
    },
    "d7962dd719694ac8911cfb5e577a5110": {
     "views": []
    },
    "d79672e589e84bd6a7a8a40e48745381": {
     "views": []
    },
    "d7a46c5769094465a060dd39577789d3": {
     "views": []
    },
    "d7b0c46ca198432cbb2c95bd0f06d9c3": {
     "views": []
    },
    "d7c31852471e42c3a9ac50d09ca4e07b": {
     "views": []
    },
    "d7e24c8d46a945d19cbf663a831809e4": {
     "views": []
    },
    "d7f58d56f7304a45847ccc099ea46fa4": {
     "views": []
    },
    "d7ffc863d3ca4b288df36c22c7eebcf4": {
     "views": []
    },
    "d80ba3b858eb4d8cb3368a4e253bb54a": {
     "views": []
    },
    "d814b2992e9c4b4883b1ad4504d8fb53": {
     "views": []
    },
    "d815f6c33ef949d188b7ebc8cc5d4225": {
     "views": []
    },
    "d820456f08e345a2bb15952b89e6b4f7": {
     "views": []
    },
    "d861efa5ce374d5aa39c2e52d5e95bfe": {
     "views": []
    },
    "d88f5877738f41a28b29a1e64a58e616": {
     "views": []
    },
    "d893c9d1cfbd41bc834f71c9d21f5fb1": {
     "views": []
    },
    "d8ad90793d274f9d9a2aa3301302bccb": {
     "views": []
    },
    "d8d8b84c82f6425dbe595e351de327cb": {
     "views": []
    },
    "d8effb8ebb564453a4b826099259e789": {
     "views": []
    },
    "d8f8bd626fa84352a515e73ca0808067": {
     "views": []
    },
    "d8f9b74a84e44d278c0b9d93ac89647b": {
     "views": []
    },
    "d8fb79d36e874f6ba7cf4e0322399b1a": {
     "views": []
    },
    "d91129ca61394aa0a1ed789b56c6c0bf": {
     "views": []
    },
    "d913d70f9bc94a9f8ff3ea54bc98a889": {
     "views": []
    },
    "d933bb46b0b74732be6666dd3fe1bd0a": {
     "views": []
    },
    "d93c00048d95410298553da100736c37": {
     "views": []
    },
    "d945dce376d64796907c85f1449ca43c": {
     "views": []
    },
    "d94bef2395874cacb8f357ce73bc0f55": {
     "views": []
    },
    "d955eb3d310d4d1caf4603e6eb937dd5": {
     "views": []
    },
    "d96e31206b754210a0cc46b508c4c2a7": {
     "views": []
    },
    "d9744514ae204f1ea1eaf95b55c5b6fd": {
     "views": []
    },
    "d99849044fd149e4ba9b79cf19988cd7": {
     "views": []
    },
    "d99cc43b450644709ac8773ee21c2f4d": {
     "views": []
    },
    "d99ef8321dc545c3a01e77958c872a7f": {
     "views": []
    },
    "d9b0acd63db849f6a4ed62d60200e528": {
     "views": []
    },
    "d9c9f6b71e934bf38ba269d0424ad523": {
     "views": []
    },
    "d9f45dda3f694d19ad28f3644a0bcb14": {
     "views": []
    },
    "d9f8ab9976db40b2ae12e1365bbdca89": {
     "views": []
    },
    "da0fa5e6c73f47edbe46c7be3d7e29be": {
     "views": []
    },
    "da250033498748658bd5f3a0a267c503": {
     "views": []
    },
    "da2e25f1feff4f71a014a58de1134176": {
     "views": []
    },
    "da32fbae2b024816bb98b40ad3a2d895": {
     "views": []
    },
    "da3c6afe89d94acfbbcc7ffaa3c13c28": {
     "views": []
    },
    "da57e94b55194b17899725dbfec90799": {
     "views": []
    },
    "da62a20e336b492b999dd1bb367f2d52": {
     "views": []
    },
    "da680eb300d64d1d85bab7e005a72f44": {
     "views": []
    },
    "da758421014847e0bb73243d842e82a0": {
     "views": []
    },
    "da842ff433024aa3a9b22dc73250cbc1": {
     "views": []
    },
    "da84336027ab4bfaa1f1515d3eb6b522": {
     "views": []
    },
    "da8c21d284114cffb5501faea26eac11": {
     "views": []
    },
    "da93b712315d479fbcd7565a7cda866f": {
     "views": []
    },
    "da9a02a612104c25a9e960ec467dc7ff": {
     "views": []
    },
    "da9cde7af7c246d0b8feaf5fbdc8a0b5": {
     "views": []
    },
    "daaae0d572e54bfe8cad8c251e9dba96": {
     "views": []
    },
    "daeccc2423b0405baf327635762ec2a2": {
     "views": []
    },
    "db182b03c18c46879c4cdc5de29cb8c9": {
     "views": []
    },
    "db1b0a638b6449d2a6f054b83d60ccfb": {
     "views": []
    },
    "db2e5f5f1ce44c328fe4f9f98ffbbfa8": {
     "views": []
    },
    "db330bfa36ad4a5f9f7f70c8c41d3ea5": {
     "views": []
    },
    "db3f72a164984201b13c137eec88a144": {
     "views": []
    },
    "db4c601513b4447cb555f4e69b3c0c07": {
     "views": []
    },
    "db70215305c74a59b4741e9166993931": {
     "views": []
    },
    "db7ac356b21742d4ab4c582a464e936d": {
     "views": []
    },
    "db8282dfdeb54a84bfa2d9a55f944c8e": {
     "views": []
    },
    "dbc3ae858b4442619b396a62bc9697b9": {
     "views": []
    },
    "dbe7c9ca890641c289c185cc2f085a75": {
     "views": []
    },
    "dbef5036e63b44008e1e7f28026ae3fc": {
     "views": []
    },
    "dbf699b2ba684716977cf2d89b95aa5f": {
     "views": []
    },
    "dbfa8b02dd5d461986397430af6d97cd": {
     "views": []
    },
    "dc13cdd5d87648b2b070e86453640294": {
     "views": []
    },
    "dc1a1574064742d693496b36c557f7b4": {
     "views": []
    },
    "dc36e2973aad451088a3623960931c97": {
     "views": []
    },
    "dc3f1febc66b4349b250ef38f2b282a1": {
     "views": []
    },
    "dc4c3a8158b342069def4f32b3693cda": {
     "views": []
    },
    "dc535f0a8c664ef4be0d4a2ee0cea6cb": {
     "views": []
    },
    "dc5518afc7c54eaeac5b838925c8183d": {
     "views": []
    },
    "dc6bf6d3dfc0414abe5c7c7249e6b970": {
     "views": []
    },
    "dc7c9e671cd942cdaa06d65665336545": {
     "views": []
    },
    "dc899c2996fa4f23a4dcc99060b3b953": {
     "views": []
    },
    "dc8ca76cfd5b42569fa1900db63a5b55": {
     "views": []
    },
    "dc9a59fab277412380b3614cfb0c6bc0": {
     "views": []
    },
    "dca4ad4035674ceabf60482fada680c6": {
     "views": []
    },
    "dcaf823e92ef4a8486f68df579243da9": {
     "views": []
    },
    "dcb01342088841c7ac1bd7778270de9c": {
     "views": []
    },
    "dcbf77c85259424a819dd755c390cf0f": {
     "views": []
    },
    "dcfbf511363b41a5b4ffa0e36ca7bfa1": {
     "views": []
    },
    "dd1025fc57ff45c885ee2f28b89abb50": {
     "views": []
    },
    "dd1bae4e116c415cad6a5f47a31a1377": {
     "views": []
    },
    "dd260e32e9654c298442e749cf470cbc": {
     "views": []
    },
    "dd29bb1fc3cb4a7cb03cbaf8e057a4e4": {
     "views": []
    },
    "dd35de5e06f4430e8c8bd52fddc6f05d": {
     "views": []
    },
    "dd54e21ad8d04c7282c1493ced9098da": {
     "views": []
    },
    "dd6949cd65f843eea6b3f25d1cecb524": {
     "views": []
    },
    "dd6d9e84b445414abab206c4be261879": {
     "views": []
    },
    "dd7276a716bf4a899babf3d98d4b4b43": {
     "views": []
    },
    "dd7dd7a966e948ddbaacf7e8533a2e39": {
     "views": []
    },
    "dd969635152e4f5ab1981d5db7031699": {
     "views": []
    },
    "dd96999426e447ce9fcd0339360bccc7": {
     "views": []
    },
    "dd9da989d9e74d44907f813f2d98a61a": {
     "views": []
    },
    "ddaaf034897b4837b33b5d83037621b3": {
     "views": []
    },
    "ddaf8ed8f1bf46e3ba5e329f6cb5db11": {
     "views": []
    },
    "ddb16c3eb7224ad1b71c0ebd8978beca": {
     "views": []
    },
    "ddb4cb4a53d94e77b41df973b992d9b6": {
     "views": []
    },
    "ddb8301cbcb942369c840c16cc4e88a7": {
     "views": []
    },
    "dde0de26ec9d41569cfbb1f7c2c8b42c": {
     "views": []
    },
    "ddf8589a2bfc48abb5dccf8c77d30444": {
     "views": []
    },
    "ddf8af2af8504d92ae9f18e4e61fb2d5": {
     "views": []
    },
    "de092483f15a4f799026f82c915f34a4": {
     "views": []
    },
    "de24f3be24074ba180e6acc584185814": {
     "views": []
    },
    "de29ad7d37624c5a9a86f30a6843afe6": {
     "views": []
    },
    "de3d45a2e27e49e994345d3b02f2e530": {
     "views": []
    },
    "de4a8c3d17fd49578d3871c358782a2f": {
     "views": []
    },
    "de5c07fe00374308baf801dc1a49eb36": {
     "views": []
    },
    "de5cc4036be34bd19bf427b0a33fa9d7": {
     "views": []
    },
    "de60abb1879a4921bf6c73f96cf38e72": {
     "views": []
    },
    "de651af7d5504db2a9f86fd76994681a": {
     "views": []
    },
    "de80256b58214f56931b0902a02642d0": {
     "views": []
    },
    "dea78a084f4748f29b33438cf9bd6264": {
     "views": []
    },
    "deae2700bd2042fd8a90f4630b12a593": {
     "views": []
    },
    "deb3abb8fd174aecb5b332823744d5f4": {
     "views": []
    },
    "deb614cce4624204b1249725a02444b6": {
     "views": []
    },
    "dec5fedb7ca748fbb262c094c304b46d": {
     "views": []
    },
    "decaf0a35bf94f8b960b6fb7055128ef": {
     "views": []
    },
    "ded9b6cb835e43ae9f4f72d1c2e766a6": {
     "views": []
    },
    "dee83be84d40479e8cb994bc8d63bce1": {
     "views": []
    },
    "df037d0aa8654600a44af26297601c81": {
     "views": []
    },
    "df236c59799e4e8e89342893553ba129": {
     "views": []
    },
    "df23c3e5fe8448b59cca35439d207123": {
     "views": []
    },
    "df34fef4992a4ff0966e036b464eee06": {
     "views": []
    },
    "df418f65c8b646c3bc39e5949cefccd8": {
     "views": []
    },
    "df43a7eb5c174dc9af203f7fceb9d932": {
     "views": []
    },
    "df52c12e8d1b4441b37d472d3aee5ae7": {
     "views": []
    },
    "df548f146c7f4f0aae785d35039ebcd5": {
     "views": []
    },
    "df55e15bac0647b3ac047a57395da033": {
     "views": []
    },
    "df59fbed5b8f4a618147c9b7337acd6c": {
     "views": []
    },
    "df5b2bf4f89842aca3f8f63ab1021c54": {
     "views": []
    },
    "df6b534de6a749daba4deda27391ea51": {
     "views": []
    },
    "df85fb7681ef438a9f64b11aa0151f45": {
     "views": []
    },
    "df8ad83a176c4f859bd41f3d24cee5ed": {
     "views": []
    },
    "df979e351de84b91b219f9ce1915d4cc": {
     "views": []
    },
    "df9a1def7f10466f9a27374f282b3826": {
     "views": []
    },
    "df9ca81292474ebbb5c26cf2297e079f": {
     "views": []
    },
    "dfa6049f3f4e44fba0c02ee9a7e71b15": {
     "views": []
    },
    "dfae3aa73e5c4e7f87a8fde2bd9d8ae9": {
     "views": []
    },
    "dfbfc3713df44244a9b02119d35d60a0": {
     "views": []
    },
    "dfe9816a978544e9a6f113972776f4cb": {
     "views": []
    },
    "dfeda1a6bb724044af5f3cf8de6084c4": {
     "views": []
    },
    "dff3abfd0a344ca3b33d7ce14650daef": {
     "views": []
    },
    "dff82bb70319470c92996ac3994d645a": {
     "views": []
    },
    "e00d860133134efda2c381c653d24e18": {
     "views": []
    },
    "e00e9402e1f344a8b664c658a74ec425": {
     "views": []
    },
    "e019e21fb90f49458f997a845fa2ea72": {
     "views": []
    },
    "e01a68a8bbba4769a8625b50f36a3b81": {
     "views": []
    },
    "e027f139d0524c8499fb605a74e57e79": {
     "views": []
    },
    "e03328d3b9084505a1fe281a912cc139": {
     "views": []
    },
    "e049a92e18974afea1d999966adbe4f9": {
     "views": []
    },
    "e058bf358a7f44e7a2d8245b8f4cc643": {
     "views": []
    },
    "e05db9a15ae64fe48965f2879fc81998": {
     "views": []
    },
    "e08305067a134d5fb0edd2d7e8d7d0f4": {
     "views": []
    },
    "e0b37eec3883471aa6a862e05c778222": {
     "views": []
    },
    "e0cade927375470da6f1c0385e66abe5": {
     "views": []
    },
    "e0f22d584cc04df8ba6599be31261615": {
     "views": []
    },
    "e0ff05a5f1894c40823e7f60b02539bf": {
     "views": []
    },
    "e10bf961d67045b3a32d1db8becadb5c": {
     "views": []
    },
    "e1100299cbdc4861b10eec33aa6d7b26": {
     "views": []
    },
    "e1179db116ec40cab7c142cc160ee097": {
     "views": []
    },
    "e1296d9306944495a29e9ae763d10613": {
     "views": []
    },
    "e135bbe7076f4bc9bb89ac3d52cc6e64": {
     "views": []
    },
    "e148d41d41484c2b89064361f6698896": {
     "views": []
    },
    "e14cc00549ce4d879f7f0e46551cf592": {
     "views": []
    },
    "e15c2af33e3d40c2b2449129415c248a": {
     "views": []
    },
    "e163213cc3f2462f9e955d81cc284a7f": {
     "views": []
    },
    "e17efc94098c45dc91ba96c65773bd09": {
     "views": []
    },
    "e18887a50d4945feaf05b5f60feb56fb": {
     "views": []
    },
    "e1a0069f2e4e4f2c8510b4682ff28386": {
     "views": []
    },
    "e1aeced767bc4f309a9744422b33b04a": {
     "views": []
    },
    "e1af0ed9c080485896c91d702cda1b53": {
     "views": []
    },
    "e1ba0bff13f74538ae4421d76ce10b7b": {
     "views": []
    },
    "e1ce9046bfd34e66891139f0d847226a": {
     "views": []
    },
    "e1d71993320d43fc9a000a141b5a9aa8": {
     "views": []
    },
    "e1faea7cf93c48c084ca90731c80a685": {
     "views": []
    },
    "e2103e14e07945ec805b5866be88b5af": {
     "views": []
    },
    "e215f5dd5bf74e36b848ffea6292311b": {
     "views": []
    },
    "e248c96b729b4c34a283ef082403f523": {
     "views": []
    },
    "e2564fc3ee3f4838bec7b4a5bdde4201": {
     "views": []
    },
    "e27cf7b2109648899b6c3a01dca895c9": {
     "views": []
    },
    "e28f3d3f8bae4470a3d203aaeb1c9cf1": {
     "views": []
    },
    "e29b0fc7159c4fc4a80461b757300a2f": {
     "views": []
    },
    "e2b13409f3bc47eabf41a5a8a0f2e72f": {
     "views": []
    },
    "e2bf056020b84cb484911631a7444c96": {
     "views": []
    },
    "e2c56e17d8914aeab5c55edbbceaee9c": {
     "views": []
    },
    "e2c9b4eb8081479d93e1ea9b15326a8d": {
     "views": []
    },
    "e2ca3b883fab424b806ecab6bec57119": {
     "views": []
    },
    "e2cb3d276e40415f9e30c2368244950e": {
     "views": []
    },
    "e2e7191300d34216b525073c49c08c29": {
     "views": []
    },
    "e31349121ace425d8fbb44c294d4f142": {
     "views": []
    },
    "e3227117d5784246830d33332b013715": {
     "views": []
    },
    "e323634c107b4e8fb0a6335c6b278f9d": {
     "views": []
    },
    "e32f481588de44c1ae9c9af5884804b9": {
     "views": []
    },
    "e33861fd49dc45ad8334da6d17f27fa4": {
     "views": []
    },
    "e3481a9111eb40d383eb55499f48016b": {
     "views": []
    },
    "e3498bcb150240f8b6e9bcd0a7473309": {
     "views": []
    },
    "e350c32b03c143308a9f1b17983678ba": {
     "views": []
    },
    "e367b774b62d4aeab58e22d41fef1e17": {
     "views": []
    },
    "e36e0d93fc5a4cb3bf6287558951e98f": {
     "views": []
    },
    "e37e93f2ff334a7395952a15256f3a53": {
     "views": []
    },
    "e3a365def944478c86162d51319d1a44": {
     "views": []
    },
    "e3a3721845ce46bd8fcad0b56c1c27d1": {
     "views": []
    },
    "e3ce363e99da41298436ff5d74e16b0d": {
     "views": []
    },
    "e3e170d7134844b9ae892a26433c1e36": {
     "views": []
    },
    "e3e4c3ffe6b64b2283072f92b2d7d444": {
     "views": []
    },
    "e3ec0ace756a4bc29c0e6bd77dde2faf": {
     "views": []
    },
    "e3f636704e154d84a256674add166bb5": {
     "views": []
    },
    "e424f920388549bb9f2cf452f0826c79": {
     "views": []
    },
    "e42d663277dd4cfaafad7c71fe430c8a": {
     "views": []
    },
    "e45212ed3582451a8f554c86695d4ca9": {
     "views": []
    },
    "e45b821c6402482cbe4363d35b26cd00": {
     "views": []
    },
    "e463dd7e95ae4167922d4dc9a7a967cd": {
     "views": []
    },
    "e46658f4fe824e5f9dfa1b6a139bc22e": {
     "views": []
    },
    "e47cbf029f084b2ab55297550858b9bf": {
     "views": []
    },
    "e49c2e903b7944f98969511c19dd46d5": {
     "views": []
    },
    "e4a869a107634c5db0de0272a3a34eca": {
     "views": []
    },
    "e4be4804434d4580a9231e0e81283731": {
     "views": []
    },
    "e4ced6ce98824c3392d617805e4c83ae": {
     "views": []
    },
    "e50d47fca76e40db9e0a5d0c1311d2da": {
     "views": []
    },
    "e51734563a964bb89379928b09fe5741": {
     "views": []
    },
    "e5344ee36e144b3c899c94be5ea6decf": {
     "views": []
    },
    "e537a39a6815408d8144f154fe083f81": {
     "views": []
    },
    "e53bae43367f47a5993bcb3290342217": {
     "views": []
    },
    "e53e241c1ac640aab868dafa3812b1c7": {
     "views": []
    },
    "e54e27a7817d4c8eb04d0c8a50101df0": {
     "views": []
    },
    "e5582dbd1a964211b1fbfd09b01c60e5": {
     "views": []
    },
    "e5584f932fa445938216aeb932016290": {
     "views": []
    },
    "e58e22ccfddd4ef2ad36a4c2a2387f9c": {
     "views": []
    },
    "e5b3d1f881624383abe71715c2697685": {
     "views": []
    },
    "e5b8e558bc064880aaaac1f374cd6d96": {
     "views": []
    },
    "e5bce1b64341428b861e317083301527": {
     "views": []
    },
    "e5c15daa910144dd84e6c5e67e988eff": {
     "views": []
    },
    "e5c4e8bf1e2349948e7d947be0378479": {
     "views": []
    },
    "e5c6cad71468433b95b36da6b3b99131": {
     "views": []
    },
    "e5c94dd8a34d4577bde8730c0ba287cf": {
     "views": []
    },
    "e5d5ccc7e03140319965dd7a71254331": {
     "views": []
    },
    "e5d73b8f59264065a0715dc38aaca381": {
     "views": []
    },
    "e5ea2fc8528d46c3b953ab8e9e9ded73": {
     "views": []
    },
    "e60ffcab452047e691477d55d6d77ff7": {
     "views": []
    },
    "e623868fb6284c8885abedce529582ec": {
     "views": []
    },
    "e628551c566149edbcdbb5009b0cbf03": {
     "views": []
    },
    "e636b2ba45154069aad30de067392311": {
     "views": []
    },
    "e63cc692beb94a738e7f027732f17fe3": {
     "views": []
    },
    "e654047020ac4a30805b4964fb3e1bd4": {
     "views": []
    },
    "e65b0b26a87d4065aea6d156dd74543b": {
     "views": []
    },
    "e66aeaf7beb944fb9b2e718f5ca1ca8d": {
     "views": []
    },
    "e673ce7e4b454f528a9d766335cf23f3": {
     "views": []
    },
    "e680b73252ea45248d3a486e1c31889e": {
     "views": []
    },
    "e6c4dfc2a32c4249867349c097bd3309": {
     "views": []
    },
    "e6d1df7ee9894741b0026ccda66c7b67": {
     "views": []
    },
    "e6e8f5f4cc474f40a1fe6b5535857524": {
     "views": []
    },
    "e6f33a55b40a4592a36f76e1d647d1bc": {
     "views": []
    },
    "e70c8995ab394adaa4c4add0f258bb76": {
     "views": []
    },
    "e714989ec199479f93247b8f8d607a7e": {
     "views": []
    },
    "e72d44ec5864436e992e7e87ddef6701": {
     "views": []
    },
    "e747edd9dd064afdaa4b197463abcf63": {
     "views": []
    },
    "e74aa2eca2a74de2ab0660cb59b8ba70": {
     "views": []
    },
    "e759c8489eed4b26993e1d5b74492683": {
     "views": []
    },
    "e76d7cc0d48b4fefb87275a44ca36270": {
     "views": []
    },
    "e78dc457c9f847efa73dd242dec48be7": {
     "views": []
    },
    "e79bf38fd87348e4978914afd31f7903": {
     "views": []
    },
    "e7a079f9718f49fb80e2d7792088218e": {
     "views": []
    },
    "e7ad1fd9ce9448298299faa6a2f8f456": {
     "views": []
    },
    "e7c006ef0d4a421b8abfee6fc9fc5d49": {
     "views": []
    },
    "e7c3b3e1b28f42308e18eb3aee4d0730": {
     "views": []
    },
    "e7c7b45a467e49079a679e0bfb7121e7": {
     "views": []
    },
    "e7d72d78c72c40d381007228664275cf": {
     "views": []
    },
    "e7d772deb2af40df823a11c221aab18e": {
     "views": []
    },
    "e7e00ddd0c064a1480d056e0db0526d9": {
     "views": []
    },
    "e7e7934474ae4413886faa320befa79e": {
     "views": []
    },
    "e7eaffa58c064a22bd52adf160bc10a3": {
     "views": []
    },
    "e8095e699cb34f83a597073d12a39fd7": {
     "views": []
    },
    "e80f806168ff4e24a02f11d1fbb0d6da": {
     "views": []
    },
    "e829a9e4005e47fbaf919cc2d246e5eb": {
     "views": []
    },
    "e84a79cba3be43c89b1c3e22121b0c3f": {
     "views": []
    },
    "e854d9f45f0b47c7aaef8a61d8159be7": {
     "views": []
    },
    "e8745f284cec41098d2b2b13e782ba74": {
     "views": []
    },
    "e8777c00751a4049ae5e322148f8c18a": {
     "views": []
    },
    "e8845909c4244b37920b09214d6d471e": {
     "views": []
    },
    "e892aa39ee1845e3861a376525be1335": {
     "views": []
    },
    "e89d7a5f40a0427b81f7c7841a8f601b": {
     "views": []
    },
    "e8b73bdb47104ef49f0cfa47acdad734": {
     "views": []
    },
    "e8c60f6175e64ebdae6bb1647af1fd98": {
     "views": []
    },
    "e8cb906bd4b74cc88dee3403f8ee29eb": {
     "views": []
    },
    "e8d532648db34d11a2a83791ee8feb71": {
     "views": []
    },
    "e8dfd40b07ca44f881a8bf3abc7ad9f1": {
     "views": []
    },
    "e8e2f4c31cbc4bd3af0f3596e5542239": {
     "views": []
    },
    "e8f9b574f7af43438d2f1798553a181a": {
     "views": []
    },
    "e91b86ccd803486a9fe2e1c1f725d6af": {
     "views": []
    },
    "e91e89705c9f4f94a240e1e0bbce1a46": {
     "views": []
    },
    "e92305ff66b040768bd4bfd0fa345f72": {
     "views": []
    },
    "e9411a4be623438199ede354ab47998d": {
     "views": []
    },
    "e95cb4ba37354ea38c3d435412135eac": {
     "views": []
    },
    "e96ff3a4db444355ba50a2b6f7ca967b": {
     "views": []
    },
    "e97b38d09fcb4468bd4ab98912088ba1": {
     "views": []
    },
    "e97c24b9080c429a9635b609e49022b4": {
     "views": []
    },
    "e9a13a6ef46c4fb493476f1d6fb58bdd": {
     "views": []
    },
    "e9cafe16fb314c12894339b1f556093b": {
     "views": []
    },
    "e9f5d25088f14f2ba2a10ad3d0d10810": {
     "views": []
    },
    "e9fb93b455e54c4c84d7e1a68068f522": {
     "views": []
    },
    "e9fde22474f04c318a410532b52bc063": {
     "views": []
    },
    "ea0b12e6607345949ed9489214cde027": {
     "views": []
    },
    "ea23da9050804c42865dbdb85ffd52ec": {
     "views": []
    },
    "ea2646cf953b42209e4a1378546f122a": {
     "views": []
    },
    "ea28db83cdf04199ba1f81e5fe37fca4": {
     "views": []
    },
    "ea3c4c5e203e4de999cfb6933383451f": {
     "views": []
    },
    "ea3f5e88b79549d8b10e35b0e6beedb0": {
     "views": []
    },
    "ea5a464c53c241a2b423c7373daedd06": {
     "views": []
    },
    "ea5e996964dc4e7db89bfbb7c0236423": {
     "views": []
    },
    "ea63d77f7a024a459d3c4277932dcf67": {
     "views": []
    },
    "ea69cd650b724ff5abacf9680ab36fec": {
     "views": []
    },
    "ea7791ca5be142fbb8d13a7aa9d0ef61": {
     "views": []
    },
    "ea8fa80341c344debfcebe57de9f8fc0": {
     "views": []
    },
    "eaa72df1cf044e318c2be47f9cebd0ce": {
     "views": []
    },
    "eaad292e1548438d83811e62fd87fcfe": {
     "views": []
    },
    "eabd96a1185343e1acc395b712e8e11c": {
     "views": []
    },
    "eabf6a1294c647bc924e8662465f01d3": {
     "views": []
    },
    "eada5345ee2541cabc5f43f822c93b4b": {
     "views": []
    },
    "eada689820914bbda3e052371b954560": {
     "views": []
    },
    "eaff25549f144a57b262ef7ea9f5451c": {
     "views": []
    },
    "eb0590c263864d12bc7bedc2bde25222": {
     "views": []
    },
    "eb1c085e2cd24e8f97aaec39e7843059": {
     "views": []
    },
    "eb5bea8d27e04a07888cb4317f85cc41": {
     "views": []
    },
    "eb947498af0847cda3ca297e35138ffb": {
     "views": []
    },
    "eb97f4d3c5b5457abe4dd286794abe45": {
     "views": []
    },
    "eb9c0e38695b4e1fbc13ff4ccd103d34": {
     "views": []
    },
    "eb9efb989cd54cbf91b6791039fdaf5d": {
     "views": []
    },
    "ebb2442e682a4ca1b14a905d228e0b59": {
     "views": []
    },
    "ebd53231dfc2416e9f20d400c5e4e8ed": {
     "views": []
    },
    "ebe84f6849294feb99981accd624096f": {
     "views": []
    },
    "ebfec958d4d0491aa393a653d80c72b5": {
     "views": []
    },
    "ec049b05f5ab4ded9052ca92b5f40237": {
     "views": []
    },
    "ec1c1ca017f44d93929df31dd73160c2": {
     "views": []
    },
    "ec23f1f3ed1c4511a07c17ceb3177854": {
     "views": []
    },
    "ec3dd1bf38704da5ba45031fe3f00e0a": {
     "views": []
    },
    "ec3fa1d6dc754254aae287a884c4677c": {
     "views": []
    },
    "ec4366b51f05475fb1fb2ccb087a3dd0": {
     "views": []
    },
    "ec50f82c960647919ec4bcc0ad0efde6": {
     "views": []
    },
    "eca7514b4ea448e4937970bd2cfcbf7e": {
     "views": []
    },
    "ecbc879cf6ee45cd9d87ce217f38f3f5": {
     "views": []
    },
    "ecc684c4f31f483fac946cd1375ca23b": {
     "views": []
    },
    "eccd5bc4b89643a8b99ab4bfe2ebacf0": {
     "views": []
    },
    "ecceeae2968740758726ba14a13f41e5": {
     "views": []
    },
    "eccf53a7f39d410ab56828b26d6ccca9": {
     "views": []
    },
    "ecd5a758e7b14ff5ad6e5abee193f8d2": {
     "views": []
    },
    "ecd7e944010b4332857a995c7cb51c86": {
     "views": []
    },
    "eceb940825bf49d39ce0c30aa715d8a7": {
     "views": []
    },
    "ed0deeceeb524cd0823a196414dc10a2": {
     "views": []
    },
    "ed115f4044624ba097834bd5aa5b3b52": {
     "views": []
    },
    "ed1985fa12614a3a86d149d157b6db9c": {
     "views": []
    },
    "ed1d5da9272844658a014d9dea195683": {
     "views": []
    },
    "ed1e919c4f684a328efc2374e5e68d71": {
     "views": []
    },
    "ed232d3b1a084777852b7bd305981ce8": {
     "views": []
    },
    "ed3895fd07d44b3e85c4aeda866b526f": {
     "views": []
    },
    "ed493d2b24834b6dae64edb7fd17b5c2": {
     "views": []
    },
    "ed4c11557b55407f8608db8755e9b99f": {
     "views": []
    },
    "ed55f9c2cad24d5b916ce1b5d33bc3ea": {
     "views": []
    },
    "ed592704929c47e58b9ffebd708a6328": {
     "views": []
    },
    "ed86076f0ef445189a733ff61a49b7a6": {
     "views": []
    },
    "eddc128f4b064505b987c208df581d96": {
     "views": []
    },
    "ede7e05088ec4200bdee1055f5f2d26e": {
     "views": []
    },
    "edfbde43285e4ac7894d260f93235750": {
     "views": []
    },
    "ee0166d68d0f4f718fab2529d6a84f1b": {
     "views": []
    },
    "ee0867afcc94433ebd4377fe9b6f00de": {
     "views": []
    },
    "ee1a902298164052ba9e68bd56d3a5dd": {
     "views": []
    },
    "ee259a3077c546abb5e8770d46d0fc11": {
     "views": []
    },
    "ee26e70b3d2846a7a8dc9e7c5a5596d4": {
     "views": []
    },
    "ee2813c0b6e24a03ab1a6b799ee176e6": {
     "views": []
    },
    "ee2ccc87517543028539f1abed27621e": {
     "views": []
    },
    "ee3d1186b6f0438a9a89cd321d39222a": {
     "views": []
    },
    "ee4b041394d34227b5f055d53660c207": {
     "views": []
    },
    "ee51ce6a55374449a94e68e91a375592": {
     "views": []
    },
    "ee7456f09177468da3a0518498206d9e": {
     "views": []
    },
    "ee74cc288c11414798d06a6a4dcdd051": {
     "views": []
    },
    "ee7d3b3d1dd44a0ca7fcd3e1cccd9e22": {
     "views": []
    },
    "ee83b4a59e9b46a48a89517d23155004": {
     "views": []
    },
    "ee881bf22547416983f780de96119619": {
     "views": []
    },
    "ee8c2a081c0945b589381b182c07fd3a": {
     "views": []
    },
    "eea95d57e1a04ce5be53a8ef2dd721b1": {
     "views": []
    },
    "eeace41373b14280a180c25f37657dea": {
     "views": []
    },
    "eeba13d1c7fd403db3e1077d9f985eba": {
     "views": []
    },
    "eeca0426a9ec4f8a9bb50ab72f4daeb5": {
     "views": []
    },
    "eef0c5021e344a97b88daf3d5c66a1ee": {
     "views": []
    },
    "eef18a81a6144d6b916435ae2ed7b369": {
     "views": []
    },
    "eef5d708e8cc4f9d9e5c3096da9e26be": {
     "views": []
    },
    "ef0e873a8e2e48379bd439760101a17e": {
     "views": []
    },
    "ef1db65bcac140bf907e3765c5acbf3a": {
     "views": []
    },
    "ef1ea855b5254feabf2cd8ed189d9d5e": {
     "views": []
    },
    "ef3ca449b3184754b7ea500602e8083a": {
     "views": []
    },
    "ef3f9995789c4f42bf01e00bf933401b": {
     "views": []
    },
    "ef426bd700f74674b977e3e74099ad98": {
     "views": []
    },
    "ef4789cf288b4c4fb9f9c3ed63d55783": {
     "views": []
    },
    "ef52fe9df66342309651982efa6cf511": {
     "views": []
    },
    "ef711c16a89e4b39896f73b518e26f3d": {
     "views": []
    },
    "ef7ca0ddddae41819d150d227152e043": {
     "views": []
    },
    "ef8fb5a5d6b44224848ed026191ffb4b": {
     "views": []
    },
    "efc31fbfed6644e487ea8e29fa7308e4": {
     "views": []
    },
    "efc57d6c9af44766a4a7be1e2e7b3284": {
     "views": []
    },
    "efd05b592b874c45a85376849640d1eb": {
     "views": []
    },
    "eff08b81405040a7b9f3fa7d5f43ba22": {
     "views": []
    },
    "eff9487d7e28488ca98641a2ccecb254": {
     "views": []
    },
    "effc60d4ea084292a1ed820560472343": {
     "views": []
    },
    "f009391186c5411c9ae3b1b43de23565": {
     "views": []
    },
    "f0167ffbe7ec4358ae5b2ad54b543c4e": {
     "views": []
    },
    "f0236cf6d1854677b0b700cb102e24d2": {
     "views": []
    },
    "f02b10c0f5c44d1da604da3c9e519ccf": {
     "views": []
    },
    "f03b7ea42ef9485488ad20c10af15635": {
     "views": []
    },
    "f041bfbbb0dc4a73900d821a58c37f05": {
     "views": []
    },
    "f05e6f6f0ec84506b8ecc14f1260fa6c": {
     "views": []
    },
    "f0601da03ba1404ba9b924c666e1c5aa": {
     "views": []
    },
    "f06bf739d29d4c849aadb28bf68af315": {
     "views": []
    },
    "f06c26e133c64e2db543869e217425c8": {
     "views": []
    },
    "f082b2cb44ae42889d5e78b363172f53": {
     "views": []
    },
    "f085568774294bd5aafbe30b44056519": {
     "views": []
    },
    "f0a25fa27075490f8135ad92f19085d1": {
     "views": []
    },
    "f0ac315863ab4809a4186013c7c6abab": {
     "views": []
    },
    "f0b454b3c7e44609a35ed38eadda0598": {
     "views": []
    },
    "f0dbe5b8619c420a88698002ff5fa1f3": {
     "views": []
    },
    "f0e4cb4bf5544f758c2ffd1eba0145bc": {
     "views": []
    },
    "f0e76b8b886f436c8e5b1fa4a1b63912": {
     "views": []
    },
    "f0efde79782a4dbb8493e9d2ecbf8f23": {
     "views": []
    },
    "f10294e65e694670b7bcdc4c8b7c462b": {
     "views": []
    },
    "f10b6594252549c9a296c3c7e0348ff1": {
     "views": []
    },
    "f1257922a9cb4888b47437e8d8dce85e": {
     "views": []
    },
    "f128efcb6c5a4c01911970e6123f4215": {
     "views": []
    },
    "f14053f624084cfca5b545c50d2f1cea": {
     "views": []
    },
    "f1427ed5afc14078b1c21a728883f246": {
     "views": []
    },
    "f14bf6c78c4540b1b793f56c0fea114f": {
     "views": []
    },
    "f15f06814a9e4f6ea702643cdf298c7a": {
     "views": []
    },
    "f1735dee977a490ca417f63b8eefa705": {
     "views": []
    },
    "f18969fae9af4b159ac188c6dec450bb": {
     "views": []
    },
    "f189bb5af6ea4c7f949238f68966eb8f": {
     "views": []
    },
    "f196930dfe094536b73d2f7d20e60ec8": {
     "views": []
    },
    "f197ad44ac1248cf894cb7d3cec36757": {
     "views": []
    },
    "f199516e9fd44edba8445a421e82ba26": {
     "views": []
    },
    "f1a2be31afe34f8b8132405a1c350fb4": {
     "views": []
    },
    "f1a35dd5c51d4d1c947bee6ac6c8f440": {
     "views": [
      {
       "cell": {
        "cell_type": "code",
        "execution_count": 35,
        "metadata": {
         "collapsed": false,
         "trusted": true
        },
        "outputs": [
         {
          "name": "stdout",
          "output_type": "stream",
          "text": "['Crime', 'Parking', 'Transit', 'Homelessness', 'Schools', 'Environment', 'Affordability', 'Development', 'Density', 'Politics', 'Gentrification']\n"
         }
        ],
        "source": "center = [37.76284413400416, -122.39490509033203]\nzoom = 12\nm = Map(default_tiles=TileLayer(opacity=1.0, url='https://tiles.wmflabs.org/bw-mapnik/{z}/{x}/{y}.png'), center=center, zoom=zoom)\ncreate_circles_for_topic(m, topics_data, 0)\ndisplay(m)\nbuttons = [Button(description=x) for x in TOPICS]\nfor index, button in enumerate(buttons):\n    button.on_click(lambda _: )\nprint TOPICS\nHBox(buttons)"
       },
       "cell_index": 6,
       "root": true
      }
     ]
    },
    "f1a8b5621fb6488ebf18123c3883b882": {
     "views": []
    },
    "f1b369da664243a49bee8fb432a31af1": {
     "views": []
    },
    "f1cfa1c14d184bc18d72d16ca3650835": {
     "views": []
    },
    "f1dcf8cb46c54db785966a5578911cf4": {
     "views": []
    },
    "f1f9081cc42a4ae8abcf90685c6de778": {
     "views": []
    },
    "f20301f498d44a9db1ee8658f2963338": {
     "views": []
    },
    "f209c8bd32c14c7c83ccdcaa6b1d438e": {
     "views": []
    },
    "f21466c378fd4eaf8971b6791ecd55f3": {
     "views": []
    },
    "f222bba0a2b344ffab829815d767b1f2": {
     "views": []
    },
    "f22e615bcdec4846996fc0d05a0e0957": {
     "views": []
    },
    "f2412d0ffde24fe582e2a47f0ab672bc": {
     "views": []
    },
    "f2633161b9294c0798d79d92a30e955d": {
     "views": []
    },
    "f267ef03999c4b79a0a9ec4330afb0e7": {
     "views": []
    },
    "f26ab15cdec145fdb9482b0e158f44e1": {
     "views": []
    },
    "f278d8f7bf204fb0b6f804fd9fae9f15": {
     "views": []
    },
    "f2bab1ac1c26489eb9217657cb7ed360": {
     "views": []
    },
    "f2cbe281d9924544831dfe8fd5880931": {
     "views": []
    },
    "f2ebf5b582be4d10b85d0a78d60d1aef": {
     "views": []
    },
    "f2ed7514b4a243aa8fbf20a7dfa481bd": {
     "views": []
    },
    "f306b802cb314a93a4d7701e5ff1b401": {
     "views": []
    },
    "f313ddfcc66d4e8d8a578b545771f40c": {
     "views": []
    },
    "f31ce34b6cd54d54bf11012f2bf29431": {
     "views": []
    },
    "f33494864e514a0592ab1995b3af8064": {
     "views": []
    },
    "f335a2d73a3d4ec48861924a233cf6b8": {
     "views": []
    },
    "f3532f1f43dc4b088dcc22e03a13eae3": {
     "views": []
    },
    "f36bdb82dde14485a77c8440f7697abd": {
     "views": []
    },
    "f375e8a900b34ceebd7b23d7d10ede6f": {
     "views": []
    },
    "f387c2d9fd7a4169adb1d40f7a2f1e5c": {
     "views": []
    },
    "f38890b801be4cd88ca90a72f4ed5f2b": {
     "views": []
    },
    "f38931bbeecd43c386aa8459c49cd944": {
     "views": []
    },
    "f38b1b319d2048d391bf2e1b5703242b": {
     "views": []
    },
    "f3974c64e1a94bee9d198f8bb2bc197f": {
     "views": []
    },
    "f39f881a76b44e319cc65e8c7bfd1c20": {
     "views": []
    },
    "f3b353f1836d477b9023968646b4702b": {
     "views": []
    },
    "f3d9c9c9e4ef4620b0d2f2592e3b5f82": {
     "views": []
    },
    "f3ddfb9806d64c2fbf500b0169381552": {
     "views": []
    },
    "f3e9e31474de4bdbb12d5921838d4702": {
     "views": []
    },
    "f3efb8abbd6e4e148919529fe5a115b3": {
     "views": []
    },
    "f3f1e6a336dd43ebb732645345adc43b": {
     "views": []
    },
    "f3fc21c1ec544cf9b14af4fa5a8e4df9": {
     "views": []
    },
    "f3ff651b03664982933edd3f2bd1a987": {
     "views": []
    },
    "f41aab8ea3ef4ce79ea1e2a0c0ab63a7": {
     "views": []
    },
    "f4201d0d75d84e8b9f589e9318806431": {
     "views": []
    },
    "f425ee634cc6401bb4462df16863030a": {
     "views": []
    },
    "f42633e50cb44fb7a9585107d9d0166a": {
     "views": []
    },
    "f42d8e1684364ed5bd827f1636f8d67b": {
     "views": []
    },
    "f43574cbeb8d4cb8a30bbec8b21ad4c9": {
     "views": []
    },
    "f43c7d46550e4c97905591fb0eb429d6": {
     "views": []
    },
    "f45a2ad8f38545ef8d2019acd5347738": {
     "views": []
    },
    "f469f34ae4274ee5b18b07ba810c9887": {
     "views": []
    },
    "f46b47823f3049718adaa5658e0bc8c7": {
     "views": []
    },
    "f46b857687dd4a6a8ccabe422384a535": {
     "views": []
    },
    "f475b30e9a574bf2a842f907605496bf": {
     "views": []
    },
    "f487badb98e34c9eaaa097192581fdda": {
     "views": []
    },
    "f4882defb9764266b5441eb014ff8a87": {
     "views": []
    },
    "f48bc894f0874a78ae5441b9e4d34a5a": {
     "views": []
    },
    "f4949c8e2b314db59241018d1ec8735b": {
     "views": []
    },
    "f4a2a438b0804ae78bad48f2f72324e8": {
     "views": []
    },
    "f4b1d1e51ffe42ccb369ff4e2b569b92": {
     "views": []
    },
    "f4d62cd08b304dbcbc38b84ace00c791": {
     "views": []
    },
    "f4de14115835473db030de4ba2f288fb": {
     "views": []
    },
    "f4f731ecf8014094990f2078f5eae87c": {
     "views": []
    },
    "f504df1c57994af299d0748e77477408": {
     "views": []
    },
    "f505913cd63a4a7c8c7023f386729855": {
     "views": []
    },
    "f505e28525fa4216bb50ee077f6324c0": {
     "views": []
    },
    "f5077a06b85942899b538d87b8124be4": {
     "views": []
    },
    "f50c3bdd0ae94767b05fec45b0c824d7": {
     "views": []
    },
    "f51152f238644efab1e9ee76f82f59fb": {
     "views": []
    },
    "f52d97c6280940b2859607a69f044fe9": {
     "views": []
    },
    "f535f1f24c774eb383301e91eb9c6d97": {
     "views": []
    },
    "f53bcedfa3934579b799bd9836a88f71": {
     "views": []
    },
    "f54234cae3ca4faa99d1aa638454cd92": {
     "views": []
    },
    "f54ad614bb664ea1b9cc9a28bc232998": {
     "views": []
    },
    "f55c65e2dad04e17a5b3bf5d06629b23": {
     "views": []
    },
    "f5610029263b4dc089188b977e7ff1cf": {
     "views": []
    },
    "f56ec22780e04e74bcde9f1f3df614d4": {
     "views": []
    },
    "f59db94ecbe24c8d92fdc9db67f4affc": {
     "views": []
    },
    "f5b1199df8284e2a81c4eff9203f89da": {
     "views": []
    },
    "f5f68b4ef51344d48c668c2daa9bcc9a": {
     "views": []
    },
    "f6058cffffcc4595ac58042ca267c7d2": {
     "views": []
    },
    "f635ba8f47774d8a8edcff25df362a74": {
     "views": []
    },
    "f64ba1e51cdb47d89b76b65feded13c3": {
     "views": []
    },
    "f65f0c1d064b4beda22c73531a96d29c": {
     "views": []
    },
    "f69a07ff3e074769af45f8cd093df4ca": {
     "views": []
    },
    "f6a230021e36446987c150ab80df0370": {
     "views": []
    },
    "f6bd43c60992410da083e60301c359bf": {
     "views": []
    },
    "f6e284050244486ab00b02cbd56ba075": {
     "views": []
    },
    "f6e47cdd782f41dc8095a811fd7a16f3": {
     "views": []
    },
    "f6ef3c49ae514e3cafbb18f9222dbae9": {
     "views": []
    },
    "f7195cd78b3a4657a0135ec45780b2dd": {
     "views": []
    },
    "f72a49890c614762bb3fcbf478cab6cb": {
     "views": []
    },
    "f743506b41b5427db37ab64a85c67395": {
     "views": []
    },
    "f76d5e589ede497fa14a3ac5f001a9dd": {
     "views": []
    },
    "f77c26b24c624838a6b22014ab61bf8c": {
     "views": []
    },
    "f77c70b86a0140d0bc4d4c2420c94f95": {
     "views": []
    },
    "f77f78a2ce08459ca1010ae32ce081ce": {
     "views": []
    },
    "f788f76f0bac4aafa681ddf648f8b07a": {
     "views": []
    },
    "f78aa5274c1948d49f6e5c405122cba3": {
     "views": []
    },
    "f78b4489a1e348158c291dc1031c7895": {
     "views": []
    },
    "f794223cb55347b9a2611f809be6aaae": {
     "views": []
    },
    "f7b180c44d454107bf7b3ee36e95951b": {
     "views": []
    },
    "f7c6c4b9a2c049d6b51588cd258e0cc9": {
     "views": []
    },
    "f7cd830eb1c142ac882d3838756808f4": {
     "views": []
    },
    "f7cdcc8071cd4223b5738890839f3ba7": {
     "views": []
    },
    "f7d47214fd5b45c3bb8091d12e06e265": {
     "views": []
    },
    "f81028707cba40e1b24a127372ffedb5": {
     "views": []
    },
    "f829a95093e642ebab7dd063dec183a9": {
     "views": []
    },
    "f8301deac28b494f9d7a85af216d183d": {
     "views": []
    },
    "f83f02af8811489bba54d16caf2b396d": {
     "views": []
    },
    "f84ab41078f942a0b80e2c916710fad4": {
     "views": []
    },
    "f860aa27e1ee440280c5f4b08e468d57": {
     "views": []
    },
    "f87c69f9b87b415eb1a75c017b511200": {
     "views": []
    },
    "f887a04ddc5941718becdf6d025fa947": {
     "views": []
    },
    "f899d8b4af6d4d149afbc5a390383fa0": {
     "views": []
    },
    "f89e0fb975b8440d9ac5de5140776d6f": {
     "views": []
    },
    "f89e6b11f6fa43c0b3c6aa3ebaa5f759": {
     "views": []
    },
    "f8a7e552430f41d099c190952cbee46d": {
     "views": []
    },
    "f8ab322f67d74e549ce2440cfd7e96c5": {
     "views": []
    },
    "f8b9531b1ce445c39ba3ff75beb66b5a": {
     "views": []
    },
    "f8ccf3d7268a4ae0be017d8113a943c5": {
     "views": []
    },
    "f8e363ac835749c382c726651bcdb25a": {
     "views": []
    },
    "f8ecd75f490b4b97b9b108d8d2ceb5c1": {
     "views": []
    },
    "f8f48d6350f34e3fa7c1d6d8d76b96ef": {
     "views": []
    },
    "f903799c26ae4eabb42aac0157182878": {
     "views": []
    },
    "f905aa33f37546178ad8e19922228baa": {
     "views": []
    },
    "f906ac24281648839f83506d332a50b7": {
     "views": []
    },
    "f90ef41bed724d70a5a9e608b45a2611": {
     "views": []
    },
    "f9196f1af2574651875b1669b930dc17": {
     "views": []
    },
    "f91c1ce179da45fc967e332d7407a6e4": {
     "views": []
    },
    "f91f28b33b9240ba9d4110a7f391fc0d": {
     "views": []
    },
    "f9215a780939489986a7423d954afa33": {
     "views": []
    },
    "f930ea40b9584b60af2e0aa7fc98dad8": {
     "views": []
    },
    "f931305c0aca49f9a95599e12895a0df": {
     "views": []
    },
    "f9316233e2b74e4aac48d250059dbcaf": {
     "views": []
    },
    "f943cde9a6fe4fdda6e5aa452621e548": {
     "views": []
    },
    "f95784457c35441ab4c0c405affce990": {
     "views": []
    },
    "f95ce6ba553b4775b0a4bba8f2367374": {
     "views": []
    },
    "f961a0ebadb64ad5ba7d52648a5421a2": {
     "views": []
    },
    "f973132bf0d5480f8c0ecbdc2250d9c6": {
     "views": []
    },
    "f97c9ef06c21490c920cf72bbe989a61": {
     "views": []
    },
    "f9957ef2c29d499198e5f2bb3c2cc086": {
     "views": []
    },
    "f9b28d183e9b47529275b78f4bfbdfd0": {
     "views": []
    },
    "f9b375d9c45c458f9b9e5de24a8efd80": {
     "views": []
    },
    "f9caf42cf64049eea926a177cb5a1e25": {
     "views": []
    },
    "f9dfc6b5c0d04078aff74148f3d29957": {
     "views": []
    },
    "f9ee68b5e0ae4b5190a6adc85ecde3bf": {
     "views": []
    },
    "f9f578d18d934d658e6af5f99df2031b": {
     "views": []
    },
    "fa10f259f2e84ef5b5bc246e93430a6b": {
     "views": []
    },
    "fa213ec5846c4fb39d93765d5133e408": {
     "views": []
    },
    "fa22fa2200dc45119db7130c35752d5e": {
     "views": []
    },
    "fa2cbadc71db44368cdd742219c78c5e": {
     "views": []
    },
    "fa3f093da6be401ca1586c6a159f2d26": {
     "views": []
    },
    "fa42a3fff1724df9b67cb05f460e352a": {
     "views": []
    },
    "fa5d71d7fadb4158a4f9670f51c7cd92": {
     "views": []
    },
    "fa74459a149946ca822a7d2b395d8737": {
     "views": []
    },
    "fa7cec717ef44495bc63bc802b10d201": {
     "views": []
    },
    "fa97252f777a4a84a6356bf3a9f2ec95": {
     "views": []
    },
    "faa638d28241411ba45a2de0c53e15d0": {
     "views": []
    },
    "fab260e83eca4b9f91f618b925c50b60": {
     "views": []
    },
    "fab7acd9f6ef474180fb6751b78d6206": {
     "views": []
    },
    "fac5e4ea4d3a41cf9df062723b801c26": {
     "views": []
    },
    "fad57821c8c64e75a47bfffdf9cc19b5": {
     "views": []
    },
    "fae5b15bc08d48d88cea1fef6d706e70": {
     "views": []
    },
    "faf0d7cad194461baf1bd2e496290ce1": {
     "views": []
    },
    "faf6676a0c8041df9fddc06cc96a40e9": {
     "views": []
    },
    "fafc0329604841ec817ce97d6844fe0c": {
     "views": []
    },
    "fb14c4b6be714cbf92b0c90a72fb9bed": {
     "views": []
    },
    "fb26cafa583f411696b08dd28a6ffb45": {
     "views": []
    },
    "fb355e31bccf4ffebce899ec1b85866c": {
     "views": []
    },
    "fb374e3e6f914e63af550234af1ed032": {
     "views": []
    },
    "fb44e28672764bc2995799b39f31e434": {
     "views": []
    },
    "fb69d230f31f43af9e31dea7a604f434": {
     "views": []
    },
    "fb71a586001a4fdbb8c2a5dfe8a23441": {
     "views": []
    },
    "fb720c51e01e4977b5db0872e132108d": {
     "views": []
    },
    "fb89d19a72f34a458c619f70b2d7de52": {
     "views": []
    },
    "fb8d29de246b40a0a3274e0da44dc52a": {
     "views": []
    },
    "fb9e44410a264e35a7d04d52305a0dff": {
     "views": []
    },
    "fba6d5e7b3404ceebd719993ce01bcaa": {
     "views": []
    },
    "fbb448143b6741b3ac2157cd2ca47b4b": {
     "views": []
    },
    "fc0f81d742f04ca4ba7c1643a43f8f53": {
     "views": []
    },
    "fc258230813c41199cb8494d8c3dbe57": {
     "views": []
    },
    "fc29923543064b0b83272d33c91c6297": {
     "views": []
    },
    "fc2e249e1d5b4efc8bd6cf457aecb52a": {
     "views": []
    },
    "fc4df98f37984ddd88d9a66c067d8825": {
     "views": []
    },
    "fc7104aad50141aaab5437cc9e1e1183": {
     "views": []
    },
    "fc920465335341bfa37ccfe3f1fd3748": {
     "views": []
    },
    "fca4647b5ade4824829750bfb0296e95": {
     "views": []
    },
    "fcb541516e6948eeb1d6f302410b70e5": {
     "views": []
    },
    "fcb99f6f5e7747dc8b23180e500ed8c1": {
     "views": []
    },
    "fcbf041e799e41b09dccfb02f621a96c": {
     "views": []
    },
    "fcc95edd7efa4ee7b3cde3ef2e58de09": {
     "views": []
    },
    "fcd613bfede24646a24f9ce095aad339": {
     "views": []
    },
    "fcf6210f18494f7897bfdcc2e17cb688": {
     "views": []
    },
    "fcfb4b7a19af40dfac8524645e23752e": {
     "views": []
    },
    "fd01d3113fc144b89b3e8fd73e75371f": {
     "views": []
    },
    "fd069f9284ca44c084576c1a3b43fb53": {
     "views": []
    },
    "fd10f5066b914486a1934e7445a8e7f7": {
     "views": []
    },
    "fd132a5616dc44508216f2ba88eb5e07": {
     "views": []
    },
    "fd19eaed6bbb4c4ca98728b03895abf2": {
     "views": []
    },
    "fd368079004247a79753fd2498e43dab": {
     "views": []
    },
    "fd3a78c331814ca5b2d6325f4cd686c3": {
     "views": []
    },
    "fd7a3211b609441fbaa16d8a466fbe56": {
     "views": []
    },
    "fd8990a8d9b04c8e8b132181989c9754": {
     "views": []
    },
    "fd8aac01a3af45b5bccf7a8af0ab50ec": {
     "views": []
    },
    "fda1fa96eeac4e7480a681c827ae31c0": {
     "views": []
    },
    "fdcafe8d907b45d190d867c667415d23": {
     "views": []
    },
    "fdcc3d1fc64341c2a24e6ef40ad3e0f2": {
     "views": []
    },
    "fdcc615b74d24662b6182228e9aa2c3e": {
     "views": []
    },
    "fdccbd89ad9c438d97c0b9b067226a79": {
     "views": []
    },
    "fde5cc23558a4f26a2b95416460ad4ae": {
     "views": []
    },
    "fe0af0a146e34e058d000988e4164c7c": {
     "views": []
    },
    "fe1e46d7e3dd4624a6ddb3b5780e97c7": {
     "views": []
    },
    "fe37ec6a3ed34619935a89c36ce39170": {
     "views": []
    },
    "fe4e3a345b8e4f52ad2ae0e41245f310": {
     "views": []
    },
    "fe5462e8a4d8400a9ce616a19911156b": {
     "views": []
    },
    "fe6bd3d0c9be431a95d87ef7d032da0d": {
     "views": []
    },
    "fe6c6503ce2b49c9b1226d6945aefd8f": {
     "views": []
    },
    "fe6d3269729647558be71fd497938af6": {
     "views": []
    },
    "fe75b739ee3044858085cdfd362be3fa": {
     "views": []
    },
    "fe80160348294ba8aec34eecc9b495c4": {
     "views": []
    },
    "fe8ef5bb4aba4d2f9f5e39ead2bff1ef": {
     "views": []
    },
    "fe9478996ef348cba6f1e73003b2daf3": {
     "views": []
    },
    "fede3230529e40288a46342a661062cb": {
     "views": []
    },
    "fef736aa48224487ab96a94ac9280d74": {
     "views": []
    },
    "fef8915c918a44e3803d434504c5002e": {
     "views": []
    },
    "fefc137c440548daa36d0a70cd885829": {
     "views": []
    },
    "ff06c951c70a44cb9956d74c04089a75": {
     "views": []
    },
    "ff11ec94bce14e349ab190da0d91b3b1": {
     "views": []
    },
    "ff13429132e54385bf9a15ca51dd3073": {
     "views": []
    },
    "ff26935211054fcfbf9918cdae4b6657": {
     "views": []
    },
    "ff2d538fa552469bad2ab486d75fbd19": {
     "views": []
    },
    "ff368277fa6c40a7b663a307e70e9431": {
     "views": []
    },
    "ff4a15ff52a0496d81e36daef360b25e": {
     "views": []
    },
    "ff4ce1828fd642af98168d2d9bfe2827": {
     "views": []
    },
    "ff5d5673255b4861a67478c54db7f929": {
     "views": []
    },
    "ff6715cf97db403283caca39df992295": {
     "views": []
    },
    "ff6782364f17490b8194649a18f9138b": {
     "views": []
    },
    "ff7c362fd8b942c19b350d8bd0529ac9": {
     "views": []
    },
    "ff89d418bbbb4cea86124799bd711b97": {
     "views": []
    },
    "ff90152b2dfb4fae978944912d29c436": {
     "views": []
    },
    "ff93aa542c3d44b4a83e9bc49b30b4c7": {
     "views": []
    },
    "ffb87d752b284925ae8921e7b8c8aa9d": {
     "views": []
    },
    "ffbd2b3c45a9438cabb47470e461ccff": {
     "views": []
    },
    "ffbf7207926c469699d1717e4f12b16e": {
     "views": []
    },
    "ffd1eb5d3e144d4ca4a23aa5a0afef17": {
     "views": []
    },
    "ffdde5c2fc3a414aad9a8d95e37be572": {
     "views": []
    },
    "ffe8775a4d4a434cb6f93cc8f212894a": {
     "views": []
    }
   },
   "version": "1.0.0"
  }
 },
 "nbformat": 4,
 "nbformat_minor": 0
}
