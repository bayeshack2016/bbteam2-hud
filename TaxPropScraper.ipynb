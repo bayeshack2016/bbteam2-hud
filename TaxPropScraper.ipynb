{
 "cells": [
  {
   "cell_type": "code",
   "execution_count": null,
   "metadata": {
    "collapsed": true
   },
   "outputs": [],
   "source": [
    "import urllib2, urllib, json"
   ]
  },
  {
   "cell_type": "code",
   "execution_count": null,
   "metadata": {
    "collapsed": false
   },
   "outputs": [],
   "source": [
    "def get_yr_built(address):\n",
    "    stuff_data = {\n",
    "        'f': 'json',\n",
    "        'searchText': address,\n",
    "        'contains': 'false',\n",
    "        'returnGeometry': 'true',\n",
    "        'layers': '15',\n",
    "        'searchFields': 'ADDRESSSIMPLE',\n",
    "        'sr': '102113',\n",
    "    }\n",
    "\n",
    "    info = urllib2.urlopen('http://50.17.237.182/arcgis/rest/services/PIM_v3_4/MapServer/find?' + urllib.urlencode(stuff_data))\n",
    "    loaded = json.load(info)\n",
    "\n",
    "    geometry = loaded['results'][0]['geometry']\n",
    "    \n",
    "    buffer_data = {\n",
    "        'f': 'json',\n",
    "        'unit': '9002',\n",
    "        'unionResults': 'true',\n",
    "        'geodesic': 'false',\n",
    "        'geometries': json.dumps({'geometryType': 'esriGeometryPolygon', 'geometries': [geometry]}),\n",
    "        'inSR': '102113',\n",
    "        'distances': '1,-0.95'\n",
    "    }\n",
    "\n",
    "    info = urllib2.urlopen('http://50.17.237.182/arcgis/rest/services/Utilities/Geometry/GeometryServer/buffer?' + urllib.urlencode(buffer_data))\n",
    "    buffer_loaded = json.load(info)\n",
    "    geometry = {'rings': buffer_loaded['geometries'][-1]['rings'], 'spatialReference': geometry['spatialReference']}\n",
    "\n",
    "    xvals = [x[0] for x in loaded['results'][0]['geometry']['rings'][0]]\n",
    "    yvals = [y[0] for y in loaded['results'][0]['geometry']['rings'][0]]\n",
    "    xmin = min(xvals)\n",
    "    xmax = max(xvals)\n",
    "    ymin = min(yvals)\n",
    "    ymax = max(yvals)\n",
    "    extent = {'xmin': xmin, 'xmax': xmax, 'ymin': ymin, 'ymax': ymax, 'spatialReference': {'latestWkid': 3857, 'wkid': 102110}}\n",
    "    \n",
    "    data = {\n",
    "        'f': 'json',\n",
    "        'tolerance': '0',\n",
    "        'mapExtent': json.dumps(extent),\n",
    "        'imageDisplay': '392,494,96',\n",
    "        'geometry': json.dumps(geometry),\n",
    "        'returnGeometry': False,\n",
    "        'geometryType': 'esriGeometryPolygon',\n",
    "        'sr': '102113',\n",
    "        'layers': 'all:0,1,2,3,4,5,6,7,8,9,10,11,12,13,14,15,17,18,19,20,21,22,23,24,25,26,27,28,29,30,31,32,33,34,35,36,37,38,39,40,41,42,43,45,46,47,48,49,50,51,52,61,62,63,64,66,67,68,69,70,71,72,73,74,75,76',\n",
    "    }\n",
    "    info = urllib2.urlopen('http://50.17.237.182/arcgis/rest/services/PIM_v3_4/MapServer/identify', urllib.urlencode(data))\n",
    "    result = json.load(info)\n",
    "    \n",
    "    stories, lotarea, bldgsqft, units, yrbuilt = 0,0,0,0,0\n",
    "    for res in result['results']:\n",
    "        if 'STORIES' in res['attributes'] and res['attributes']['STORIES'] not in ('', 'Null'):\n",
    "            n_stories = res['attributes']['STORIES']\n",
    "            if n_stories[-1] < '0' or n_stories[-1] > '9':\n",
    "                n_stories = n_stories[:-1]\n",
    "            if n_stories != '':\n",
    "                stories = int(n_stories)\n",
    "        if 'UNITS' in res['attributes'] and res['attributes']['UNITS'] not in (0, 'Null'):\n",
    "            units = int(res['attributes']['UNITS'])\n",
    "        if 'BLDGSQFT' in res['attributes'] and res['attributes']['BLDGSQFT'] != 'Null':\n",
    "            bldgsqft = float(res['attributes']['BLDGSQFT'])\n",
    "        if 'LOTAREA' in res['attributes'] and res['attributes']['LOTAREA'] != 'Null':\n",
    "            lotarea = float(res['attributes']['LOTAREA'])\n",
    "        if 'YRBUILT' in res['attributes'] and res['attributes']['YRBUILT'] != 'Null':\n",
    "            yrbuilt = int(res['attributes']['YRBUILT'])\n",
    "    return stories, units, bldgsqft, lotarea, yrbuilt"
   ]
  },
  {
   "cell_type": "code",
   "execution_count": null,
   "metadata": {
    "collapsed": false
   },
   "outputs": [],
   "source": [
    "import bz2\n",
    "with bz2.BZ2File('data/citylots.csv.bz2') as f:\n",
    "    file_content = f.readlines()\n",
    "len(file_content)"
   ]
  },
  {
   "cell_type": "code",
   "execution_count": null,
   "metadata": {
    "collapsed": false
   },
   "outputs": [],
   "source": [
    "import random\n",
    "content = random.sample(file_content, 1000)"
   ]
  },
  {
   "cell_type": "code",
   "execution_count": null,
   "metadata": {
    "collapsed": false
   },
   "outputs": [],
   "source": [
    "result = []\n",
    "for index, house in enumerate(content):\n",
    "    _,_,_,_,beg,end,street,st_type,_ = house.split(',')\n",
    "    if street == '':\n",
    "        continue\n",
    "\n",
    "    addr = '{} {} {}'.format(beg, street, st_type)\n",
    "    print '{}: {}...'.format(index, addr)\n",
    "\n",
    "    try:\n",
    "        built = get_yr_built(addr)\n",
    "        if built == (0,0,0,0,0):\n",
    "            continue\n",
    "    except Exception:\n",
    "        addr = '{} {} {}'.format(end, street, st_type)\n",
    "        print '{}: {}...'.format(index, addr)\n",
    "\n",
    "        try:\n",
    "            built = get_yr_built(addr)\n",
    "            if built == (0,0,0,0,0):\n",
    "                continue\n",
    "        except Exception:\n",
    "            continue\n",
    "        else:\n",
    "            print ' ==>', built\n",
    "            result.append((addr, built))\n",
    "    else:\n",
    "        print ' ==>', built\n",
    "        result.append((addr, built))"
   ]
  },
  {
   "cell_type": "code",
   "execution_count": null,
   "metadata": {
    "collapsed": false
   },
   "outputs": [],
   "source": [
    "import pickle"
   ]
  },
  {
   "cell_type": "code",
   "execution_count": null,
   "metadata": {
    "collapsed": true
   },
   "outputs": [],
   "source": [
    "pickle.dump(result, open('addresses.pkl', 'w'))"
   ]
  }
 ],
 "metadata": {
  "kernelspec": {
   "display_name": "Python 2",
   "language": "python",
   "name": "python2"
  },
  "language_info": {
   "codemirror_mode": {
    "name": "ipython",
    "version": 2
   },
   "file_extension": ".py",
   "mimetype": "text/x-python",
   "name": "python",
   "nbconvert_exporter": "python",
   "pygments_lexer": "ipython2",
   "version": "2.7.11"
  },
  "widgets": {
   "state": {},
   "version": "1.0.0"
  }
 },
 "nbformat": 4,
 "nbformat_minor": 0
}
